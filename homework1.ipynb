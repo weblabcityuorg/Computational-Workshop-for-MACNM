{
 "cells": [
  {
   "cell_type": "markdown",
   "metadata": {},
   "source": [
    "# Homework 1: Crawl  and analyze the post data on Tianya bbs"
   ]
  },
  {
   "cell_type": "markdown",
   "metadata": {},
   "source": [
    "## Assignment 1: Crawl the data \n",
    "\n",
    "- webpage: http://bbs.tianya.cn/list-free-1.shtml\n",
    "- Crawl the posts shown on Tianya webpage\n",
    "- Extract the title, author name, author URL, number of views, number of replies, date of the posts\n",
    "- save them in the csv format so that you can analysis them later."
   ]
  },
  {
   "cell_type": "markdown",
   "metadata": {},
   "source": [
    "## Assignment 2: Variable Transformation and Preprocessing\n",
    "\n",
    "In this part, you are intended to use the data crawled from TIANYA BBS to do followings:\n",
    "- Fill in all missing values by row with 'unknown'\n",
    "- Remove all duplicated rows\n",
    "- Drop all unused columns and rename the remained columns with a prefix 'selected_' \n",
    "- Do random sampling on the dataframe to reduce the number of rows\n",
    "- Choose one categorical column and transfer the elements into dummy variables\n",
    "- Make a two-way crosstab with any columns you want\n"
   ]
  },
  {
   "cell_type": "markdown",
   "metadata": {},
   "source": [
    "## Assignment 3: Data Visualization\n",
    "\n",
    "1. Draw the histograms of variables \"views\" and \"replies\" in the dataframe (You need to take the log and normalize the two columns)\n",
    "2. Draw the kde of variables \"views\" and \"replies\"\n",
    "3. Draw the line chart to show mean \"replies\" of items grouped by value intervals of \"views\" (4-quantiles, prompt: use qcut and groupby)\n",
    "4. Draw the bar chart to show mean \"replies\" of items grouped by value intervals of \"views\", too.\n",
    "5. Draw the pie chart to show mean \"replies\" of items grouped by value intervals of \"views\", too.\n",
    "6. Draw the hexbin of variables \"views\" and \"replies\" in the dataframe\n",
    "7. Draw the scatterplot of variables \"views\" and \"replies\" in the dataframe\n",
    "8. Draw the scatterplot matrix of variables \"views\", \"replies\", and \"minute\".(You need to create \"minute\" column from \"date\" column)"
   ]
  }
 ],
 "metadata": {
  "kernelspec": {
   "display_name": "Python 3",
   "language": "python",
   "name": "python3"
  },
  "language_info": {
   "codemirror_mode": {
    "name": "ipython",
    "version": 3
   },
   "file_extension": ".py",
   "mimetype": "text/x-python",
   "name": "python",
   "nbconvert_exporter": "python",
   "pygments_lexer": "ipython3",
   "version": "3.7.0"
  },
  "toc": {
   "base_numbering": 1,
   "nav_menu": {},
   "number_sections": false,
   "sideBar": true,
   "skip_h1_title": false,
   "title_cell": "Table of Contents",
   "title_sidebar": "Contents",
   "toc_cell": false,
   "toc_position": {},
   "toc_section_display": true,
   "toc_window_display": false
  },
  "varInspector": {
   "cols": {
    "lenName": 16,
    "lenType": 16,
    "lenVar": 40
   },
   "kernels_config": {
    "python": {
     "delete_cmd_postfix": "",
     "delete_cmd_prefix": "del ",
     "library": "var_list.py",
     "varRefreshCmd": "print(var_dic_list())"
    },
    "r": {
     "delete_cmd_postfix": ") ",
     "delete_cmd_prefix": "rm(",
     "library": "var_list.r",
     "varRefreshCmd": "cat(var_dic_list()) "
    }
   },
   "types_to_exclude": [
    "module",
    "function",
    "builtin_function_or_method",
    "instance",
    "_Feature"
   ],
   "window_display": false
  }
 },
 "nbformat": 4,
 "nbformat_minor": 2
}
