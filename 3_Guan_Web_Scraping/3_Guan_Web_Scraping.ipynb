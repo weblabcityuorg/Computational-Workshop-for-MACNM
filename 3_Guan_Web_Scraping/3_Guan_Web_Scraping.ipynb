{
 "cells": [
  {
   "cell_type": "markdown",
   "metadata": {
    "slideshow": {
     "slide_type": "slide"
    }
   },
   "source": [
    "### MACNM Computational Workshop No. 3 (Jan. 6 Morning) <br>Web Scraping<br> by Lu Guan\n"
   ]
  },
  {
   "cell_type": "markdown",
   "metadata": {
    "slideshow": {
     "slide_type": "slide"
    }
   },
   "source": [
    "### NOTES\n",
    "#### Three ways to obtain large-scale data on social media platforms\n",
    "- log-file from back-end (cooperating with company)\n",
    "- collecting data through application programming interfaces (APIs)\n",
    "- direct web scraping (HTML & Selenium web browser automation)\n",
    "\n",
    "Problems:\n",
    "- difficult to find cooperation opportunities\n",
    "- data ethics, data privacy (Facebook - Cambridge Analytica event )\n",
    "- anti-spider (道高一尺魔高一丈)"
   ]
  },
  {
   "cell_type": "markdown",
   "metadata": {
    "slideshow": {
     "slide_type": "slide"
    }
   },
   "source": [
    "#### Api vs scraping\n",
    "\n",
    "<img src=\"images/WeChat%20Screenshot_20181219134328.png\" width=\"60%\" style=\"float: left\">"
   ]
  },
  {
   "cell_type": "markdown",
   "metadata": {
    "slideshow": {
     "slide_type": "slide"
    }
   },
   "source": [
    "#### Via API\n",
    " Automatic method to search, read, send tweets<br/>\n",
    " Allows third-party applications to provide services<br/>\n",
    " Allows us to automatically scrape tweets easily<br/>\n",
    "\n",
    "#### Steps:\n",
    "- Get authentication token (log in and get token key)\n",
    "- Send HTTP request (submit data requests)\n",
    "- Parsing JSON data (save the responses in structured data tables) <br/>"
   ]
  },
  {
   "cell_type": "markdown",
   "metadata": {
    "slideshow": {
     "slide_type": "slide"
    }
   },
   "source": [
    "### OAuth: Open Authentication\n",
    "\n",
    "- for developers to gain API access\n",
    "- for Twitter to monitor and interact with third-party platform developers as needed<br/>\n",
    "<br/>\n",
    "\n",
    "- Why OAuth? <br/>\n",
    "Allow access tokens to be issued to third-party clients by an authorization server, with the approval of the resource owner. <br/>\n",
    "Similar to pin code for credit card."
   ]
  },
  {
   "cell_type": "markdown",
   "metadata": {
    "slideshow": {
     "slide_type": "slide"
    }
   },
   "source": [
    "<p>** Creating an Twitter Developer App**</p>\n",
    "\n",
    "Twitter Developer App:https://developer.twitter.com/en/apps\n",
    "\n",
    "- Step 1: apply the app<br/>\n",
    "<img src=\"images/api%20apply.png\" width=\"60%\" style=\"float: left\">"
   ]
  },
  {
   "cell_type": "markdown",
   "metadata": {
    "slideshow": {
     "slide_type": "slide"
    }
   },
   "source": [
    "- Step 2: filling the information requirement<br/>\n",
    "<img src=\"images/five%20steps%20in%20twitter%20developer%20app%20application.png\" width=\"40%\" style=\"float: left\"><br/>\n"
   ]
  },
  {
   "cell_type": "markdown",
   "metadata": {},
   "source": [
    "- Step 3: waiting for approval<br/>\n",
    "<img src=\"images/apiunderreview.png\" width=\"30%\" style=\"float: left\"><br/>"
   ]
  },
  {
   "cell_type": "markdown",
   "metadata": {
    "slideshow": {
     "slide_type": "slide"
    }
   },
   "source": [
    "- Application approved <br/>\n",
    "<img src=\"images/apiapp.png\" width=\"60%\" style=\"float: left\"><br/>\n"
   ]
  },
  {
   "cell_type": "markdown",
   "metadata": {
    "slideshow": {
     "slide_type": "slide"
    }
   },
   "source": [
    "#### CASE: Twitter API\n",
    "\n",
    "Three types of Twitter API\n",
    "- Twitter’s Search API<br/>\n",
    "Pulling Twitter’s data through a search (keywords, usernames, hashtags, locations, named places, etc.)<br/>\n",
    "For an individual user, the maximum number of tweets you can receive is the last 3,200 tweets.<br/>\n",
    "With a specific keyword, you can typically only retrieve the last 5,000 tweets per keyword.<br/>\n",
    "Request limits: 180 requests in 15 minutes for keyword search; 15 requests in 15 minutes for user profile.<br/>\n",
    "Please check the request limits here: https://developer.twitter.com/en/docs/basics/rate-limits <br/>\n",
    "Notes: No guarantee for a representative sample<br/>\n",
    "<br/>\n",
    "- Twitter’s Streaming API<br/>\n",
    "A push of data as tweets happen in near real-time <br/>\n",
    "Users register a set of criteria (keywords, usernames, locations, named places, etc.) As tweets match the criteria, they are pushed directly to the user.<br/>\n",
    "<br/>\n",
    "- Twitter’s Firehose<br/>\n",
    "Guarantee delivery of 100% of the tweets that match your criteria<br/>\n",
    "Handled by data providers: GNIP, DataSift, Crimson Hexagon, etc.<br/>\n",
    "It could be every expensive.<br/>"
   ]
  },
  {
   "cell_type": "markdown",
   "metadata": {
    "slideshow": {
     "slide_type": "slide"
    }
   },
   "source": [
    "#### Using Tweepy library to submit data requests\n",
    "\n",
    "- install tweepy (pip install tweepy) : http://docs.tweepy.org/en/v3.5.0/install.html\n",
    "- tweepy documentation: http://docs.tweepy.org/en/v3.5.0/"
   ]
  },
  {
   "cell_type": "markdown",
   "metadata": {
    "slideshow": {
     "slide_type": "slide"
    }
   },
   "source": [
    "### CODE"
   ]
  },
  {
   "cell_type": "markdown",
   "metadata": {},
   "source": [
    "#### 1. Log in OAuth tokens and secrets:"
   ]
  },
  {
   "cell_type": "code",
   "execution_count": 1,
   "metadata": {},
   "outputs": [],
   "source": [
    "import tweepy"
   ]
  },
  {
   "cell_type": "code",
   "execution_count": 2,
   "metadata": {},
   "outputs": [],
   "source": [
    "with open('API1.txt') as h:\n",
    "    line=h.readlines()[0]\n",
    "    lis=line.split()\n",
    "    consumer_key = lis[0]\n",
    "    consumer_secret = lis[1]\n",
    "    access_token = lis[2]\n",
    "    access_token_secret = lis[3]    "
   ]
  },
  {
   "cell_type": "code",
   "execution_count": 3,
   "metadata": {},
   "outputs": [],
   "source": [
    "auth = tweepy.OAuthHandler(consumer_key, consumer_secret)\n",
    "auth.set_access_token(access_token, access_token_secret)"
   ]
  },
  {
   "cell_type": "code",
   "execution_count": 4,
   "metadata": {},
   "outputs": [],
   "source": [
    "api = tweepy.API(auth)"
   ]
  },
  {
   "cell_type": "markdown",
   "metadata": {
    "slideshow": {
     "slide_type": "slide"
    }
   },
   "source": [
    "#### 2. Get user profile:"
   ]
  },
  {
   "cell_type": "code",
   "execution_count": 6,
   "metadata": {},
   "outputs": [
    {
     "name": "stdout",
     "output_type": "stream",
     "text": [
      "User's screen name is HillaryClinton\n",
      "User's location is New York, NY\n",
      "User has 23814817 followers.\n",
      "User has 784 followees\n",
      "User posted 10622 posts\n"
     ]
    }
   ],
   "source": [
    "##get user profile of realDonaldTrump and HillaryClinton\n",
    "user_name='@HillaryClinton'\n",
    "user=api.get_user(user_name)\n",
    "print (\"User's screen name is\", user.screen_name)\n",
    "print (\"User's location is\", user.location)\n",
    "print (\"User has\", user.followers_count, 'followers.')\n",
    "print (\"User has\", user.friends_count, 'followees')\n",
    "print (\"User posted\", user.statuses_count, 'posts')"
   ]
  },
  {
   "cell_type": "markdown",
   "metadata": {
    "slideshow": {
     "slide_type": "slide"
    }
   },
   "source": [
    "#### 3. Get tweets by keywords:"
   ]
  },
  {
   "cell_type": "code",
   "execution_count": 7,
   "metadata": {},
   "outputs": [],
   "source": [
    "#documentation: https://developer.twitter.com/en/docs/tweets/search/api-reference/get-search-tweets.html\n",
    "searchQuery = 'china' # Keyword\n",
    "new_tweets = api.search(q=searchQuery,count=100,\n",
    "                        result_type = \"recent\",\n",
    "                        lang = \"en\") "
   ]
  },
  {
   "cell_type": "code",
   "execution_count": 9,
   "metadata": {},
   "outputs": [
    {
     "name": "stdout",
     "output_type": "stream",
     "text": [
      "1080845847636643840 MWatty55 2019-01-03 15:18:25 RT @AP: BREAKING: Stock losses widen as Apple plunges after warning of iPhone sales slowdown in China; Dow sinks more than 500 points.\n",
      "1080845847271624709 S_A_R_A_N_17 2019-01-03 15:18:25 RT @RabiaBaluch: This is a Chinese officer beating a Muslim Uyghur for having a copy of the Quran in his house! Everyone send this out so t…\n",
      "1080845846801838081 do_minchen 2019-01-03 15:18:25 RT @MOFA_Taiwan: Forced unification is a folly. #Taiwan is a free &amp; democratic country where #HumanRights are protected. Only its 23 millio…\n",
      "1080845846017687552 abaehr4 2019-01-03 15:18:25 China lands a rover on the dark side of  the moon … and the mind wanders https://t.co/pmiqZs7Mb6\n",
      "1080845845996756993 defendernetwork 2019-01-03 15:18:25 RT @AP: BREAKING: Stock losses widen as Apple plunges after warning of iPhone sales slowdown in China; Dow sinks more than 500 points.\n",
      "1080845844570624000 Ar_ch_ie 2019-01-03 15:18:25 China isn't playing.\n",
      "Now the Chinese are building their own Space Station after Uncle Sam barred them doe International Space Station.\n",
      "1080845844323028992 scruffchick 2019-01-03 15:18:25 RT @realDonaldTrump: The United States Treasury has taken in MANY billions of dollars from the Tariffs we are charging China and other coun…\n",
      "1080845843543019520 BeHappyandCivil 2019-01-03 15:18:24 RT @washingtonpost: Dow drops 500 points as Apple, in rare move, cuts sales estimates in China, blaming Trump's trade war https://t.co/Kda2…\n",
      "1080845843069063169 Gartenberg 2019-01-03 15:18:24 @reckless it's time to learn to speak Mandarin? Or perhaps China might not actually be the root of this problem. Se… https://t.co/9XCZsjHdte\n",
      "1080845842980966402 RhiannonKWY 2019-01-03 15:18:24 RT @AP: BREAKING: Stock losses widen as Apple plunges after warning of iPhone sales slowdown in China; Dow sinks more than 500 points.\n",
      "1080845841785602049 GaryC23619095 2019-01-03 15:18:24 RT @BloombergAsia: Here's what to watch for in China this coming year — regardless of the trade war https://t.co/7OJ0fvpGbN\n",
      "1080845841420697602 jeffyboh 2019-01-03 15:18:24 @realDonaldTrump The importer pays the tariff, not China.\n",
      "1080845841378639872 BozoBrizo 2019-01-03 15:18:24 RT @Pink_About_it: Media laughed and made fun of Trump, when he said creating a space Force was necessary and revolutionary \n",
      "\n",
      "China just la…\n",
      "1080845841198395393 worldwide_csr 2019-01-03 15:18:24 China's high-speed rail network to surpass 30,000 km in 2019 https://t.co/Uh7LSkxLvQ\n",
      "1080845840879665157 Goodguy44mag1 2019-01-03 15:18:24 Why Chinese shoppers are straying from Apple products https://t.co/IXPxXiNqU9\n",
      "1080845840481046528 new153gold 2019-01-03 15:18:24 RT @realDonaldTrump: The United States Treasury has taken in MANY billions of dollars from the Tariffs we are charging China and other coun…\n",
      "1080845840309080071 KrushnanR 2019-01-03 15:18:24 #SpaceChina #raceforfirst #spaceexploration China says nanum rowdy than- in Tamil it means I'm a giant(actual meani… https://t.co/qnjAuQiV51\n",
      "1080845839088652291 jedrice1 2019-01-03 15:18:23 RT @realDonaldTrump: The United States Treasury has taken in MANY billions of dollars from the Tariffs we are charging China and other coun…\n",
      "1080845838849638407 riosnieto 2019-01-03 15:18:23 RT @CGTNOfficial: Video: #China's Chang'e-4 makes historic landing on moon's far side https://t.co/OckokVjnh8 https://t.co/x3YferTF1o\n",
      "1080845838115635200 AwbwFyf 2019-01-03 15:18:23 RT @WeTheBase: Trump sold RICE to CHINA. Let me say that again. .@realDonaldTrump SOLD RICE to CHINA. Dems can't manage to keep our Governm…\n",
      "1080845838019186688 JGBasile 2019-01-03 15:18:23 RT @EllemanIISS: @SecPompeo No country has converted a liquid-fuel SLV into a long-range missile. In fact, space launch activities have not…\n",
      "1080845837658288129 DaveGar1967 2019-01-03 15:18:23 RT @cvpayne: Huge misinformation being spewed on Apple warning even after the public hard from Tim Cook on one network. Cook put major shar…\n",
      "1080845837511651335 joetomsey 2019-01-03 15:18:23 @realDonaldTrump Do you really think China is paying the tariffs? Do you know how tariffs work? Please please pleas… https://t.co/wZ5L9QYFrE\n",
      "1080845837494824960 BaldwinRE 2019-01-03 15:18:23 RT @BaldwinRE: _\n",
      "Interesting twist on how Trump’s temperament is helping China continue its rise. ⁦@FT⁩  https://t.co/aOryCvRWPh\n",
      "1080845835032768513 JuliaDavisNews 2019-01-03 15:18:22 RT @AP: BREAKING: Stock losses widen as Apple plunges after warning of iPhone sales slowdown in China; Dow sinks more than 500 points.\n",
      "1080845834789572608 BattutaPolo 2019-01-03 15:18:22 RT @AP: BREAKING: Stock losses widen as Apple plunges after warning of iPhone sales slowdown in China; Dow sinks more than 500 points.\n",
      "1080845833740926976 enterthemandala 2019-01-03 15:18:22 Windhorse clan shares\n",
      "\n",
      "https://t.co/xa13PMzGm4 https://t.co/xa13PMzGm4\n",
      "1080845832998580224 Magnoliagirl94 2019-01-03 15:18:22 RT @realDonaldTrump: The United States Treasury has taken in MANY billions of dollars from the Tariffs we are charging China and other coun…\n",
      "1080845832595927041 CaynonJacob 2019-01-03 15:18:22 RT @ewarren: We need a lifetime ban on Members of Congress working as lobbyists to make sure they only serve the public. We need a ban on f…\n",
      "1080845831853563904 C_D_forever 2019-01-03 15:18:22 RT @nytimes: Breaking News: China said it landed a spacecraft on the far side of the moon https://t.co/wevac7tJIl\n",
      "1080845831421464576 iprhelpdeskin 2019-01-03 15:18:22 RT @AadhaarScrap: China Has Clearly Established Its #SpaceSuperiority By Landing A Craft On The Far Side Of The Moon. Launching A Relay #Sa…\n",
      "1080845829982826496 catsone1 2019-01-03 15:18:21 RT @realDonaldTrump: The United States Treasury has taken in MANY billions of dollars from the Tariffs we are charging China and other coun…\n",
      "1080845828992970753 soulcrush3r99 2019-01-03 15:18:21 RT @CGTNOfficial: #China's Chang'e-4 probe sends back world's first close shot of moon's far side after historic soft landing on uncharted…\n",
      "1080845828732932096 Alizafa17027298 2019-01-03 15:18:21 Admission are open in China for MBBS, Engineering!!\n",
      "Partial scholarship available for engineering ??\n",
      "FOR MORE INFOR… https://t.co/G76XFX3iWi\n",
      "1080845828716224514 jckato 2019-01-03 15:18:21 RT @realDonaldTrump: The United States Treasury has taken in MANY billions of dollars from the Tariffs we are charging China and other coun…\n",
      "1080845828426612736 EclecticHutch 2019-01-03 15:18:21 RT @AP: BREAKING: Stock losses widen as Apple plunges after warning of iPhone sales slowdown in China; Dow sinks more than 500 points.\n",
      "1080845828170878977 milloced 2019-01-03 15:18:21 RT @realDonaldTrump: The United States Treasury has taken in MANY billions of dollars from the Tariffs we are charging China and other coun…\n",
      "1080845827847979008 rXJV7bJP6vzJghq 2019-01-03 15:18:21 RT @hannahkauthor: Chinese censorship against democracy is out of control. Now, aiming to steal Taiwan. Russia and China have evil dictator…\n",
      "1080845826572894208 the_terrific_m 2019-01-03 15:18:20 RT @AP: BREAKING: Stock losses widen as Apple plunges after warning of iPhone sales slowdown in China; Dow sinks more than 500 points.\n",
      "1080845825662701568 A_Munroe786 2019-01-03 15:18:20 2019 in focus.\n",
      "\n",
      "China sends probe to dark side of moon. #MOONLanding #chinamoonlanding \n",
      "\n",
      "India sends bakhts to stop… https://t.co/w6DasHUD1D\n",
      "1080845825616470019 TeMerc 2019-01-03 15:18:20 RT @Lawrence: China has paid zero in tariffs.\n",
      "\n",
      "Only American consumers pay American tariffs. Tariffs are simply a sales tax. https://t.co/a…\n",
      "1080845825218011142 imaginecouncil 2019-01-03 15:18:20 RT @XHNews: Big breakthrough: China's Chang'e-4 probe soft-landed on the moon's uncharted side never visible from Earth, getting its first…\n",
      "1080845824274374656 TRUMPO_Clown 2019-01-03 15:18:20 @realDonaldTrump So the Great Wall of China wasn't effective, The Berlin Wall wasn't effective, fencing and walls a… https://t.co/c0WiixpIts\n",
      "1080845823980785664 71___ty 2019-01-03 15:18:20 RT @billboard: New NCT-associated boy band WayV set to debut in China https://t.co/ij15nadulx https://t.co/Qzro64xgbf\n",
      "1080845821472620544 starr_d 2019-01-03 15:18:19 RT @Lawrence: China has paid zero in tariffs.\n",
      "\n",
      "Only American consumers pay American tariffs. Tariffs are simply a sales tax. https://t.co/a…\n",
      "1080845821183225856 crashsandbar 2019-01-03 15:18:19 RT @realDonaldTrump: The United States Treasury has taken in MANY billions of dollars from the Tariffs we are charging China and other coun…\n",
      "1080845819971096579 renanmacedo3 2019-01-03 15:18:19 RT @realDonaldTrump: The United States Treasury has taken in MANY billions of dollars from the Tariffs we are charging China and other coun…\n",
      "1080845819383869440 GeorgePaschall 2019-01-03 15:18:19 @AKAOtherMick @Scotty_LP @realDonaldTrump Then perhaps he should command the economy as you seem to be proposing. T… https://t.co/X3jrCccCKh\n",
      "1080845818259742721 nunyurbiznis 2019-01-03 15:18:18 RT @AP: BREAKING: Stock losses widen as Apple plunges after warning of iPhone sales slowdown in China; Dow sinks more than 500 points.\n",
      "1080845817664032768 mjpatel2741969 2019-01-03 15:18:18 RT @realDonaldTrump: The United States Treasury has taken in MANY billions of dollars from the Tariffs we are charging China and other coun…\n",
      "1080845817559293955 Osnia 2019-01-03 15:18:18 RT @charliekirk11: China just landed on the far side of the moon\n",
      "\n",
      "They are our greatest adversary and have stolen our technology for decade…\n",
      "1080845817420935169 Johnny4by4 2019-01-03 15:18:18 RT @RabiaBaluch: This is a Chinese officer beating a Muslim Uyghur for having a copy of the Quran in his house! Everyone send this out so t…\n",
      "1080845815663472642 emilyrauhala 2019-01-03 15:18:18 Here's @gerryshih @DPAQreport and @TonyRomm on what the Apple slowdown tells us about China's economy. https://t.co/zgp2pZXxIW\n",
      "1080845815562817536 mrreactionary 2019-01-03 15:18:18 RT @Lawrence: China has paid zero in tariffs.\n",
      "\n",
      "Only American consumers pay American tariffs. Tariffs are simply a sales tax. https://t.co/a…\n",
      "1080845814812065794 ArzuMaliki 2019-01-03 15:18:18 RT @AP: BREAKING: Stock losses widen as Apple plunges after warning of iPhone sales slowdown in China; Dow sinks more than 500 points.\n",
      "1080845813872377858 BigDix642 2019-01-03 15:18:17 RT @sirDukeDevin: Can someone just show Trump a picture of the Great Wall of China and tell him it's Texas so he'll shut up?\n",
      "1080845813511790592 FashionSpire 2019-01-03 15:18:17 RT @BoF: What do you think of Cornerstone by Sun Yun's Autumn/Winter 2019 collection? Discover why the architect-turned-menswear designer h…\n",
      "1080845813386043393 ThePeoplesCube 2019-01-03 15:18:17 RT @realDonaldTrump: The United States Treasury has taken in MANY billions of dollars from the Tariffs we are charging China and other coun…\n",
      "1080845813322899457 rosebud7210 2019-01-03 15:18:17 RT @TheBubbleBubble: If Apple is getting slammed this hard due to China's slowdown...just imagine how much worse it will be when China's cr…\n",
      "1080845812370952192 BLFASTLUBE 2019-01-03 15:18:17 RT @realDonaldTrump: The United States Treasury has taken in MANY billions of dollars from the Tariffs we are charging China and other coun…\n",
      "1080845811733463040 McrathFreeman 2019-01-03 15:18:17 RT @charliekirk11: China just landed on the far side of the moon\n",
      "\n",
      "They are our greatest adversary and have stolen our technology for decade…\n",
      "1080845811720671232 Stephangolden1 2019-01-03 15:18:17 @realDonaldTrump All these people... thats not how it works, not how it works...?\n",
      "Ladies and gents, he said we have… https://t.co/Cyn8qEOtxP\n",
      "1080845810714193920 AnnieGranny8246 2019-01-03 15:18:17 RT @realDonaldTrump: The United States Treasury has taken in MANY billions of dollars from the Tariffs we are charging China and other coun…\n",
      "1080845809267232768 sweetnct__ 2019-01-03 15:18:16 RT @billboard: New NCT-associated boy band WayV set to debut in China https://t.co/ij15nadulx https://t.co/Qzro64xgbf\n",
      "1080845805223886848 ChanningWINK 2019-01-03 15:18:15 RT @AP: BREAKING: Stock losses widen as Apple plunges after warning of iPhone sales slowdown in China; Dow sinks more than 500 points.\n",
      "1080845803936206849 mshopemac 2019-01-03 15:18:15 RT @Lawrence: China has paid zero in tariffs.\n",
      "\n",
      "Only American consumers pay American tariffs. Tariffs are simply a sales tax. https://t.co/a…\n",
      "1080845803915300864 LucidPointeO365 2019-01-03 15:18:15 Microsoft in the News: \"Apple Warning of Weak Sales in China Sends US Stocks Sinking\" by THE ASSOCIATED PRESS via N… https://t.co/JrQQovlA5v\n",
      "1080845803554516993 karim_brito 2019-01-03 15:18:15 RT @realDonaldTrump: The United States Treasury has taken in MANY billions of dollars from the Tariffs we are charging China and other coun…\n",
      "1080845803047079936 nsbrumfield 2019-01-03 15:18:15 RT @realDonaldTrump: The United States Treasury has taken in MANY billions of dollars from the Tariffs we are charging China and other coun…\n",
      "1080845802224771073 FernandoQ13Fox 2019-01-03 15:18:15 RT @AP: BREAKING: Stock losses widen as Apple plunges after warning of iPhone sales slowdown in China; Dow sinks more than 500 points.\n",
      "1080845801948102657 PattyeLJ 2019-01-03 15:18:14 RT @AP: BREAKING: Stock losses widen as Apple plunges after warning of iPhone sales slowdown in China; Dow sinks more than 500 points.\n",
      "1080845798626201607 Dark2Light6 2019-01-03 15:18:14 RT @charliekirk11: China just landed on the far side of the moon\n",
      "\n",
      "They are our greatest adversary and have stolen our technology for decade…\n",
      "1080845797623808001 cap20122021 2019-01-03 15:18:13 RT @realDonaldTrump: The United States Treasury has taken in MANY billions of dollars from the Tariffs we are charging China and other coun…\n",
      "1080845797133029376 pstAsiatech 2019-01-03 15:18:13 Not there yet: \n",
      "\n",
      "Washington, for its part, should recognise as a priority that China is an essential economic partn… https://t.co/D2lWuhe4DS\n",
      "1080845796420009984 Mems35 2019-01-03 15:18:13 RT @CGTNOfficial: #China's Chang'e-4 probe sends back world's first close shot of moon's far side after historic soft landing on uncharted…\n",
      "1080845795891531776 DavidJo43155248 2019-01-03 15:18:13 RT @realDonaldTrump: The United States Treasury has taken in MANY billions of dollars from the Tariffs we are charging China and other coun…\n",
      "1080845795786657792 MindlessRobots 2019-01-03 15:18:13 @DividendMaster Apple has made serious missteps and there is big competition especially in China. \n",
      "All the password… https://t.co/IN1qZPjPDq\n",
      "1080845795627331585 JoanVinallCox 2019-01-03 15:18:13 RT @washingtonpost: Dow drops 500 points as Apple, in rare move, cuts sales estimates in China, blaming Trump's trade war https://t.co/Kda2…\n",
      "1080845795622940673 mixed_flavah 2019-01-03 15:18:13 If every person in China stood on a chair and jumped off at the same time...it would knock the earth off its axis!\n",
      "😂😂😂😂\n",
      "#funfacts #sotrue\n",
      "1080845795190923265 ybabblloo 2019-01-03 15:18:13 RT @DRUDGE_REPORT: A real roasting: Coffee startup set to overtake STARBUCKS in China... https://t.co/EcOiGP3S8y\n",
      "1080845795069448193 intl_connection 2019-01-03 15:18:13 @saltmarshworm Oh wow that's crazy, I had no idea... thanks for sharing that?? So then what about all the horror st… https://t.co/MEVH0tt7RF\n",
      "1080845795023310849 PO66132234 2019-01-03 15:18:13 RT @WeTheBase: Trump sold RICE to CHINA. Let me say that again. .@realDonaldTrump SOLD RICE to CHINA. Dems can't manage to keep our Governm…\n",
      "1080845793991499777 Mauricejohnlev4 2019-01-03 15:18:13 CHINA'S MISSION  TO  THE MOON  IT'S A  PITY  THEY  DID NOT USE THIS CORRUPT CONSERVATIVE GOVERNMENT   AS THE  CREW  PREFERABLE  ONE WAY TRIP\n",
      "1080845793269997568 TLTwitchHudson 2019-01-03 15:18:12 He's right because whenever something bad happens you see Kenney acting like a bull in a china shop angry but you s… https://t.co/49MxW3dfw5\n",
      "1080845792930349062 nycscottrose 2019-01-03 15:18:12 @realDonaldTrump \"Dow drops 500 points as Apple, in rare move, cuts sales estimates in China, blaming Trump's trade war\"\n",
      "1080845792376692737 AikenCountyDems 2019-01-03 15:18:12 RT @Lawrence: China has paid zero in tariffs.\n",
      "\n",
      "Only American consumers pay American tariffs. Tariffs are simply a sales tax. https://t.co/a…\n",
      "1080845791525249025 Lunarheritage 2019-01-03 15:18:12 RT @nbanthia: #China Moon mission lands Chang'e-4 spacecraft on the far side ! #ChangE4 #space #exploration #MOONLanding https://t.co/owQPr…\n",
      "1080845790963064832 AndySam4780 2019-01-03 15:18:12 RT @xianshinelovers: Xian meets his long lost twin bro at last day in Harbin 😂🐫\n",
      "cto @xianlimm igs \n",
      "#xianlim #xianlimm #china #holidayseason…\n",
      "1080845789377622016 dy158 2019-01-03 15:18:11 RT @AP: BREAKING: Stock losses widen as Apple plunges after warning of iPhone sales slowdown in China; Dow sinks more than 500 points.\n",
      "1080845789180526593 Kedrskie 2019-01-03 15:18:11 RT @CGTNOfficial: #China's Chang'e-4 probe sends back world's first close shot of moon's far side after historic soft landing on uncharted…\n",
      "1080845788849295361 amfit2 2019-01-03 15:18:11 RT @Lawrence: China has paid zero in tariffs.\n",
      "\n",
      "Only American consumers pay American tariffs. Tariffs are simply a sales tax. https://t.co/a…\n",
      "1080845788710948864 DavidKn48778173 2019-01-03 15:18:11 RT @realDonaldTrump: The United States Treasury has taken in MANY billions of dollars from the Tariffs we are charging China and other coun…\n"
     ]
    }
   ],
   "source": [
    "for tweet in new_tweets:\n",
    "    print (tweet.id, tweet.user.screen_name, tweet.created_at, tweet.text)"
   ]
  },
  {
   "cell_type": "markdown",
   "metadata": {
    "slideshow": {
     "slide_type": "slide"
    }
   },
   "source": [
    "#### 4. Save tweets into csv formats:\n",
    "- Problem 1: CSV format defaultly uses \",\" to separate columns (e.g., columnA, columnB, ). There might be comma in tweets too.\n",
    "- Problem 2: There might be line break(换行符) in the text we want to scrap. The line break will challenge the dataframe in csv formats."
   ]
  },
  {
   "cell_type": "markdown",
   "metadata": {},
   "source": [
    "<img src=\"images/tweet_test.png\" width=\"70%\" style=\"float: left\"><br/>"
   ]
  },
  {
   "cell_type": "code",
   "execution_count": 8,
   "metadata": {
    "slideshow": {
     "slide_type": "slide"
    }
   },
   "outputs": [],
   "source": [
    "import re\n",
    "with open('tweets_test.csv','a', encoding='utf-8') as f:\n",
    "    f.write('tid\\001user_screen_name\\001created_time\\001text'+'\\n')\n",
    "    for tweet in new_tweets:\n",
    "        f.write(str(tweet.id)+'\\001')\n",
    "        f.write(str(tweet.user.screen_name)+'\\001')\n",
    "        f.write(str(tweet.created_at)+'\\001')\n",
    "        text = re.sub('\\r','',str(tweet.text))\n",
    "        text = re.sub('\\n','',text)\n",
    "        f.write(text)\n",
    "        f.write('\\n')"
   ]
  },
  {
   "cell_type": "code",
   "execution_count": 30,
   "metadata": {
    "slideshow": {
     "slide_type": "slide"
    }
   },
   "outputs": [
    {
     "data": {
      "text/html": [
       "<div>\n",
       "<style scoped>\n",
       "    .dataframe tbody tr th:only-of-type {\n",
       "        vertical-align: middle;\n",
       "    }\n",
       "\n",
       "    .dataframe tbody tr th {\n",
       "        vertical-align: top;\n",
       "    }\n",
       "\n",
       "    .dataframe thead th {\n",
       "        text-align: right;\n",
       "    }\n",
       "</style>\n",
       "<table border=\"1\" class=\"dataframe\">\n",
       "  <thead>\n",
       "    <tr style=\"text-align: right;\">\n",
       "      <th></th>\n",
       "      <th>tid</th>\n",
       "      <th>user_screen_name</th>\n",
       "      <th>created_time</th>\n",
       "      <th>text</th>\n",
       "    </tr>\n",
       "  </thead>\n",
       "  <tbody>\n",
       "    <tr>\n",
       "      <th>0</th>\n",
       "      <td>1080323675293835265</td>\n",
       "      <td>lauhoho</td>\n",
       "      <td>2019-01-02 04:43:30</td>\n",
       "      <td>RT @hongkong_news: SCMP: University of Hong Ko...</td>\n",
       "    </tr>\n",
       "    <tr>\n",
       "      <th>1</th>\n",
       "      <td>1080321999619014662</td>\n",
       "      <td>BB2BHKG</td>\n",
       "      <td>2019-01-02 04:36:50</td>\n",
       "      <td>HKU students and staff want city’s leader remo...</td>\n",
       "    </tr>\n",
       "    <tr>\n",
       "      <th>2</th>\n",
       "      <td>1080321240911364097</td>\n",
       "      <td>johnqgoh</td>\n",
       "      <td>2019-01-02 04:33:49</td>\n",
       "      <td>RT @hongkong_news: SCMP: University of Hong Ko...</td>\n",
       "    </tr>\n",
       "    <tr>\n",
       "      <th>3</th>\n",
       "      <td>1080320551250345985</td>\n",
       "      <td>hongkong_news</td>\n",
       "      <td>2019-01-02 04:31:05</td>\n",
       "      <td>SCMP: University of Hong Kong students and sta...</td>\n",
       "    </tr>\n",
       "    <tr>\n",
       "      <th>4</th>\n",
       "      <td>1080300071684427776</td>\n",
       "      <td>jonrstanley</td>\n",
       "      <td>2019-01-02 03:09:42</td>\n",
       "      <td>RT @SCMPNews: HKU students and staff want city...</td>\n",
       "    </tr>\n",
       "  </tbody>\n",
       "</table>\n",
       "</div>"
      ],
      "text/plain": [
       "                   tid user_screen_name         created_time  \\\n",
       "0  1080323675293835265          lauhoho  2019-01-02 04:43:30   \n",
       "1  1080321999619014662          BB2BHKG  2019-01-02 04:36:50   \n",
       "2  1080321240911364097         johnqgoh  2019-01-02 04:33:49   \n",
       "3  1080320551250345985    hongkong_news  2019-01-02 04:31:05   \n",
       "4  1080300071684427776      jonrstanley  2019-01-02 03:09:42   \n",
       "\n",
       "                                                text  \n",
       "0  RT @hongkong_news: SCMP: University of Hong Ko...  \n",
       "1  HKU students and staff want city’s leader remo...  \n",
       "2  RT @hongkong_news: SCMP: University of Hong Ko...  \n",
       "3  SCMP: University of Hong Kong students and sta...  \n",
       "4  RT @SCMPNews: HKU students and staff want city...  "
      ]
     },
     "execution_count": 30,
     "metadata": {},
     "output_type": "execute_result"
    }
   ],
   "source": [
    "import pandas as pd\n",
    "df_tweets = pd.read_csv('tweets_test.csv', sep='\\001')\n",
    "df_tweets.head()"
   ]
  },
  {
   "cell_type": "markdown",
   "metadata": {
    "slideshow": {
     "slide_type": "slide"
    }
   },
   "source": [
    "#### In-class exercise 1:\n",
    "\n",
    "- Search the recent 100 tweets about \"China\" on twitter API\n",
    "- Extract and save their author, tweet id, tweet time, number of retweets, number of favorite, and text into csv format\n",
    "- Then calculate the mean value of number of retweets/favorite for these tweets"
   ]
  },
  {
   "cell_type": "markdown",
   "metadata": {
    "slideshow": {
     "slide_type": "slide"
    }
   },
   "source": [
    "### NOTES\n",
    "#### Via web scraping\n",
    "- HTML & CSS\n",
    "- Selenium web browser automation"
   ]
  },
  {
   "cell_type": "markdown",
   "metadata": {
    "slideshow": {
     "slide_type": "-"
    }
   },
   "source": [
    "#### Introduction to HTML (HyperText Markup Language)\n",
    "- HTML is a markup language for describing web documents (web pages).\n",
    "- w3schools: https://www.w3schools.com/html/default.asp"
   ]
  },
  {
   "cell_type": "markdown",
   "metadata": {
    "slideshow": {
     "slide_type": "slide"
    }
   },
   "source": [
    "#### HTML as a tree"
   ]
  },
  {
   "cell_type": "raw",
   "metadata": {
    "slideshow": {
     "slide_type": "-"
    }
   },
   "source": [
    "<html>\n",
    "  <head>\n",
    "    <style>...</style>\n",
    "  </head>\n",
    "  <body>\n",
    "    <h1>This is the head</h1>\n",
    "    <p>This is <a href=\"..\">a link</a></p>\n",
    "  </body>\n",
    "</html>"
   ]
  },
  {
   "cell_type": "markdown",
   "metadata": {},
   "source": [
    "<img src=\"images/html.png\" width=\"30%\" style=\"float: left\"><br/>\n"
   ]
  },
  {
   "cell_type": "markdown",
   "metadata": {
    "slideshow": {
     "slide_type": "slide"
    }
   },
   "source": [
    "### Code\n",
    "#### Hand-on 2: Your first web scrapper!\n",
    "- BeautifulSoup Library<br/>\n",
    "- webpage: http://pythonscraping.com/pages/page1.html\n"
   ]
  },
  {
   "cell_type": "code",
   "execution_count": 2,
   "metadata": {
    "slideshow": {
     "slide_type": "slide"
    }
   },
   "outputs": [
    {
     "data": {
      "text/plain": [
       "b'<html>\\n<head>\\n<title>A Useful Page</title>\\n</head>\\n<body>\\n<h1>An Interesting Title</h1>\\n<div>\\nLorem ipsum dolor sit amet, consectetur adipisicing elit, sed do eiusmod tempor incididunt ut labore et dolore magna aliqua. Ut enim ad minim veniam, quis nostrud exercitation ullamco laboris nisi ut aliquip ex ea commodo consequat. Duis aute irure dolor in reprehenderit in voluptate velit esse cillum dolore eu fugiat nulla pariatur. Excepteur sint occaecat cupidatat non proident, sunt in culpa qui officia deserunt mollit anim id est laborum.\\n</div>\\n</body>\\n</html>\\n'"
      ]
     },
     "execution_count": 2,
     "metadata": {},
     "output_type": "execute_result"
    }
   ],
   "source": [
    "from urllib.request import urlopen\n",
    "html=urlopen(\"http://pythonscraping.com/pages/page1.html\")\n",
    "html.read()"
   ]
  },
  {
   "cell_type": "code",
   "execution_count": 13,
   "metadata": {
    "slideshow": {
     "slide_type": "slide"
    }
   },
   "outputs": [
    {
     "name": "stdout",
     "output_type": "stream",
     "text": [
      "<h1>An Interesting Title</h1>\n",
      "<h1>An Interesting Title</h1>\n",
      "<div>\n",
      "Lorem ipsum dolor sit amet, consectetur adipisicing elit, sed do eiusmod tempor incididunt ut labore et dolore magna aliqua. Ut enim ad minim veniam, quis nostrud exercitation ullamco laboris nisi ut aliquip ex ea commodo consequat. Duis aute irure dolor in reprehenderit in voluptate velit esse cillum dolore eu fugiat nulla pariatur. Excepteur sint occaecat cupidatat non proident, sunt in culpa qui officia deserunt mollit anim id est laborum.\n",
      "</div>\n"
     ]
    }
   ],
   "source": [
    "from bs4 import BeautifulSoup\n",
    "html=urlopen(\"http://pythonscraping.com/pages/page1.html\")\n",
    "bsobj=BeautifulSoup(html.read(), 'html.parser')\n",
    "print (bsobj.html.body.h1)\n",
    "print (bsobj.body.h1)\n",
    "print (bsobj.html.body.div)"
   ]
  },
  {
   "cell_type": "markdown",
   "metadata": {
    "slideshow": {
     "slide_type": "slide"
    }
   },
   "source": [
    "### Notes"
   ]
  },
  {
   "cell_type": "markdown",
   "metadata": {},
   "source": [
    "### CSS and HTML\n",
    "\n",
    "- HTML has limited set of tags\n",
    "- Cascading Style Sheets (CSS) \n",
    " * Specify style (font, color, border, placement)\n",
    " * Based on structure, tags, HTML classses\n",
    "- HTML specifies structure, CSS layout"
   ]
  },
  {
   "cell_type": "markdown",
   "metadata": {
    "slideshow": {
     "slide_type": "slide"
    }
   },
   "source": [
    "### CSS Structure"
   ]
  },
  {
   "cell_type": "raw",
   "metadata": {},
   "source": [
    "<selector> {<attr>: <value>}\n",
    "e.g. \"span\" {\"class\":\"green\"}"
   ]
  },
  {
   "cell_type": "markdown",
   "metadata": {},
   "source": [
    "- Selectors select groups of nodes:\n",
    " * Tag name: p {..}\n",
    " * Class (share same attributes): .main, p.main {..}\n",
    " * ID (share same ID name): #story, p#story {..}\n"
   ]
  },
  {
   "cell_type": "markdown",
   "metadata": {
    "slideshow": {
     "slide_type": "slide"
    }
   },
   "source": [
    "###  Let's play a game!\n",
    "http://flukeout.github.io/"
   ]
  },
  {
   "cell_type": "markdown",
   "metadata": {
    "slideshow": {
     "slide_type": "slide"
    }
   },
   "source": [
    "### Hand-on 3: Advanced web scrapper!\n",
    "\n",
    "webpage: http://www.pythonscraping.com/pages/warandpeace.html\n",
    "\n",
    "Requirment: extract and print all text in green"
   ]
  },
  {
   "cell_type": "code",
   "execution_count": 15,
   "metadata": {},
   "outputs": [],
   "source": [
    "from urllib.request import urlopen\n",
    "from bs4 import BeautifulSoup\n",
    "html=urlopen(\"http://www.pythonscraping.com/pages/warandpeace.html\")\n",
    "bsobj=BeautifulSoup(html.read(),\"html.parser\")"
   ]
  },
  {
   "cell_type": "markdown",
   "metadata": {
    "slideshow": {
     "slide_type": "slide"
    }
   },
   "source": [
    "- bsobj.find(tagName,TagAttribute) returns the first tag with the attribute on the page\n",
    "- name.get_text() separate the content from the page"
   ]
  },
  {
   "cell_type": "code",
   "execution_count": 16,
   "metadata": {},
   "outputs": [
    {
     "name": "stdout",
     "output_type": "stream",
     "text": [
      "Anna\n",
      "Pavlovna Scherer\n"
     ]
    }
   ],
   "source": [
    "name=bsobj.find(\"span\",{\"class\":\"green\"})\n",
    "print (name.get_text())"
   ]
  },
  {
   "cell_type": "markdown",
   "metadata": {
    "slideshow": {
     "slide_type": "slide"
    }
   },
   "source": [
    "- bsobj.findAll(tagName,TagAttribute) returns a list of all the tags with the attribute on the page"
   ]
  },
  {
   "cell_type": "code",
   "execution_count": 17,
   "metadata": {},
   "outputs": [
    {
     "name": "stdout",
     "output_type": "stream",
     "text": [
      "Anna\n",
      "Pavlovna Scherer\n",
      "Empress Marya\n",
      "Fedorovna\n",
      "Prince Vasili Kuragin\n",
      "Anna Pavlovna\n",
      "St. Petersburg\n",
      "the prince\n",
      "Anna Pavlovna\n",
      "Anna Pavlovna\n",
      "the prince\n",
      "the prince\n",
      "the prince\n",
      "Prince Vasili\n",
      "Anna Pavlovna\n",
      "Anna Pavlovna\n",
      "the prince\n",
      "Wintzingerode\n",
      "King of Prussia\n",
      "le Vicomte de Mortemart\n",
      "Montmorencys\n",
      "Rohans\n",
      "Abbe Morio\n",
      "the Emperor\n",
      "the prince\n",
      "Prince Vasili\n",
      "Dowager Empress Marya Fedorovna\n",
      "the baron\n",
      "Anna Pavlovna\n",
      "the Empress\n",
      "the Empress\n",
      "Anna Pavlovna's\n",
      "Her Majesty\n",
      "Baron\n",
      "Funke\n",
      "The prince\n",
      "Anna\n",
      "Pavlovna\n",
      "the Empress\n",
      "The prince\n",
      "Anatole\n",
      "the prince\n",
      "The prince\n",
      "Anna\n",
      "Pavlovna\n",
      "Anna Pavlovna\n"
     ]
    }
   ],
   "source": [
    "nameList=bsobj.findAll(\"span\",{\"class\":\"green\"})\n",
    "for name in nameList:\n",
    "    print (name.get_text())"
   ]
  },
  {
   "cell_type": "markdown",
   "metadata": {
    "slideshow": {
     "slide_type": "slide"
    }
   },
   "source": [
    "### In-class exercise 2:\n",
    "\n",
    "For the html page at: http://www.pythonscraping.com/pages/page3.html<br/>\n",
    "Write a program which use methods in BeautifulSoup to extract and print all text in the first column (Item Title) and third column (Cost) in the table (header excluded), with format as follows:<br/>\n",
    "<img src=\"images/exercise1.png\" width=\"30%\" style=\"float: left\"><br/>"
   ]
  },
  {
   "cell_type": "markdown",
   "metadata": {
    "slideshow": {
     "slide_type": "slide"
    }
   },
   "source": [
    "### In-class exercise 3:\n",
    "\n",
    "- Scrap the recent posts shown on @realDonaldTrump profile page on Twitter (https://twitter.com/realDonaldTrump)\n",
    "- Extract the number of comments, number of retweets, number of favorites, and text of his posts\n",
    "- save them in the csv format that you can analyze them later."
   ]
  },
  {
   "cell_type": "markdown",
   "metadata": {
    "slideshow": {
     "slide_type": "slide"
    }
   },
   "source": [
    "<img src=\"images/horse.jpg\" width=\"25%\" style=\"float: left\"><br/>"
   ]
  },
  {
   "cell_type": "code",
   "execution_count": null,
   "metadata": {},
   "outputs": [],
   "source": []
  }
 ],
 "metadata": {
  "kernelspec": {
   "display_name": "Python 3",
   "language": "python",
   "name": "python3"
  },
  "language_info": {
   "codemirror_mode": {
    "name": "ipython",
    "version": 3
   },
   "file_extension": ".py",
   "mimetype": "text/x-python",
   "name": "python",
   "nbconvert_exporter": "python",
   "pygments_lexer": "ipython3",
   "version": "3.6.5"
  }
 },
 "nbformat": 4,
 "nbformat_minor": 2
}
