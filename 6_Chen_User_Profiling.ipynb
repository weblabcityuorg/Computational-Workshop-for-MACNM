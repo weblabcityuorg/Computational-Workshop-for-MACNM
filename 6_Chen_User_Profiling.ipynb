{
 "cells": [
  {
   "cell_type": "markdown",
   "metadata": {
    "slideshow": {
     "slide_type": "slide"
    }
   },
   "source": [
    "<h3 align='center'>MACNM Computational Workshop No. 6 (Jan. 12 Afternoon)<br>User Profiling<br>by Zhicong Chen</h3>"
   ]
  },
  {
   "cell_type": "markdown",
   "metadata": {},
   "source": [
    "### NOTES"
   ]
  },
  {
   "cell_type": "markdown",
   "metadata": {},
   "source": [
    "<img src=\"https://keymediasolutions.com/wp-content/uploads/2014/09/audience.png\" width=\"60%\" style=\"float: center\">\n"
   ]
  },
  {
   "cell_type": "markdown",
   "metadata": {},
   "source": [
    "<p>**0. Introduction:**</p>\n",
    "\n",
    "    What is User Profiling/User Tagging?\n",
    "        a. Audience Targeting (Computational Advertising)\n",
    "        b. Recommender System (Digital Marketing)\n",
    "        c. User Behavioral Analytics (Computational Social Science)\n",
    "        d. Preditiction (Machine Learning)\n",
    "        \n",
    "    Recommended Books (in Chinese)\n",
    "        a. Salganik, M. J. (2017). Bit by Bit: Social Research in the Digital Age. Princeton University Press.\n",
    "        b. 刘鹏. (2015). 计算广告: 互联网商业变现的市场与技术. 人民邮电出版社.\n",
    "        c. 项亮. (2012). 推荐系统实践. 人民邮电出版社. \n",
    "        \n",
    "<!--\n",
    "<img src=\"https://img13.360buyimg.com/n1/jfs/t29227/7/157336739/61515/7dd1266e/5be96440Ncb630658.jpg\" width=\"40%\" style=\"float: center\">\n",
    "<img src=\"https://images-cn.ssl-images-amazon.com/images/I/51HI9UvBIyL._SX397_BO1,204,203,200_.jpg\" width=\"40%\" style=\"float: center\">\n",
    "-->\n",
    "\n",
    "    Extract User Profiles (Feature Engineering)\n",
    "        a. Demographics\n",
    "        b. Exposure Behaviour\n",
    "            i. Statuses Count\n",
    "            ii. Number of Followers/Followees\n",
    "        c. Timing\n",
    "            i. Time of the Day (24 Hours)\n",
    "            ii. Time of the Week (Weekday/Weekend)\n",
    "        d. Locations\n",
    "        e. Semantic Features (Text Mining on Media Content)\n",
    "            i. Content Category\n",
    "            ii. Content Keywords\n",
    "\n",
    "    Predicting User Profiles\n",
    "        a. Linear Regression\n",
    "            i. Independent Variables\n",
    "            ii. Dependent Variables\n",
    "\n",
    "<img src=\"https://image.slidesharecdn.com/simplelinearregressionpelatihan-090829234643-phpapp02/95/simple-linier-regression-9-728.jpg?cb=1251589640\" width=\"60%\" style=\"float: center\">\n",
    "\n",
    "\n",
    "\n",
    "        b. Machine Learning\n",
    "        \n",
    "    The Framework of Machine Learning\n",
    "<img src=\"https://anniepyim.github.io/kaggle_images/Supervised_ML.png\" width=\"60%\" style=\"float: center\">\n"
   ]
  },
  {
   "cell_type": "markdown",
   "metadata": {},
   "source": [
    "<p>**1. Machine Learning:**</p>\n",
    "\n",
    "        a. Three Types of Machine Learning\n",
    "    \n",
    "<img src=\"https://moogsoftcom.wpengine.com/wp-content/uploads/2017/08/Regression-Class-Clustering-graph.png\" width=\"60%\" style=\"float: center\">\n",
    "\n",
    "        b. Supervised Learning\n",
    "            i. Classification (DV is categorical)\n",
    "            ii. Regression (DV is continuous)     \n",
    "        \n",
    "<!-- \n",
    "<img src=\"https://4.bp.blogspot.com/-3oxUNXBM7m4/Wldt7bwXcSI/AAAAAAAAAuo/ggcIz1ljPdg1c9x-uLCQVPmEI9ty_0YkACLcBGAs/s1600/What%2Bis%2Bthe%2BDifference%2BBetween%2BClassification%2Band%2BRegression.jpg\" width=\"60%\" style=\"float: left\">\n",
    "<img src=\"https://anniepyim.github.io/kaggle_images/Regression_vs_Classification.png\" width=\"60%\" style=\"float: left\">\n",
    "-->\n",
    "\n",
    "\n",
    "<img src=\"https://cdn-images-1.medium.com/max/1600/1*ASYpFfDh7XnreU-ygqXonw.png\" width=\"60%\" style=\"float: center\">\n",
    "\n",
    "\n",
    "\n",
    "        c. Unsupervised Learning\n",
    "            i. Clustering\n",
    "\n",
    "                Birds of a feather flock together\n",
    "\n",
    "<img src=\"https://upload.wikimedia.org/wikipedia/commons/thumb/c/c8/Cluster-2.svg/1920px-Cluster-2.svg.png\" width=\"60%\" style=\"float: center\">\n",
    "\n",
    "        d. Cross Validations\n",
    "\n",
    "            i. Split Training Set and Testing Set\n",
    "\n",
    "<img src=\"https://image.slidesharecdn.com/mlregression-splittingdatasets-170914113926/95/machine-learning-splitting-datasets-3-638.jpg?cb=1505389251\" width=\"60%\" style=\"float: center\">\n",
    "\n",
    "\n",
    "            ii. Cross Validations\n",
    "\n",
    "<img src=\"https://upload.wikimedia.org/wikipedia/commons/1/1c/K-fold_cross_validation_EN.jpg\" width=\"60%\" style=\"float: center\">"
   ]
  },
  {
   "cell_type": "markdown",
   "metadata": {},
   "source": [
    "<p>**2. Clustering:**</p>\n",
    "\n",
    "    a. Feature Engineering\n",
    "        i. Factor Analysis\n",
    "\n",
    "<img src=\"https://www.mailman.columbia.edu/sites/default/files/png/Krueger-figure.png\" width=\"60%\" style=\"float: center\">\n",
    "\n",
    "        ii. Principle Component Analysis\n",
    "\n",
    "\n",
    "<img src=\"https://prachimjoshi.files.wordpress.com/2015/07/pca_example.gif\" width=\"60%\" style=\"float: center\">"
   ]
  },
  {
   "cell_type": "markdown",
   "metadata": {},
   "source": [
    "    b. K-means Clustering (Centroid-based)\n",
    "        i. Example\n",
    "\n",
    "<img src=\"http://www.learnbymarketing.com/wp-content/uploads/2015/01/method-k-means-steps-example.png\" width=\"90%\" style=\"float: center\">\n",
    "\n",
    "    c. Hierarchical Clustering (Connectivity-based)\n",
    "\n",
    "<img src=\"https://www.researchgate.net/profile/Carsten_Walther/publication/273456906/figure/fig3/AS:294866065084419@1447312956501/Example-of-hierarchical-clustering-clusters-are-consecutively-merged-with-the-most.png\" width=\"80%\" style=\"float: center\">\n",
    "\n",
    "<img src=\"https://www.statisticshowto.datasciencecentral.com/wp-content/uploads/2016/11/clustergram.png\" width=\"80%\" style=\"float: center\">"
   ]
  },
  {
   "cell_type": "markdown",
   "metadata": {},
   "source": [
    "<p>**3. Classification:**</p>\n",
    "\n",
    "    a. Random Forests (Based on Decision Trees)\n",
    "    \n",
    "\n",
    "<img src=\"https://i.stack.imgur.com/l6r4F.jpg\" width=\"80%\" style=\"float: center\">\n",
    "\n",
    "    Let’s say we wanted to classify different species of iris flowers (Iris Setosa, Iris Versicolour, Iris Virginica) given 4 quantities: the width and length of the flower’s sepal (the leaves that used to make up the flower bud), as well as the width and length of the flower’s petals. What kinds of questions should we ask in order to construct a good decision tree?\n",
    "\n",
    "    Say we pick a particular variable, such as flower petal length, and a corresponding value of that particular variable, such as 2.45 cm to reduce the number of possible species that some particular iris could be. Now we can divide all the training data into two groups: data points for which flower petal length is smaller than or equal to 2.45 cm, and the set of all data points for which flower petal length is greater than 2.45 cm. By choosing more variables and values, we can divide the data into different categories, then find out what species each category corresponds to.\n",
    "\n",
    "    By varying the height (i.e. number of levels) of the decision tree, we can control the number of regions we split the data into. As always, trees that are too short can underfit, and trees that are too tall can overfit.\n",
    "\n",
    "\n",
    "\n",
    "<img src=\"https://ml.berkeley.edu/blog/assets/tutorials/5/iris-DT.png\" width=\"60%\" style=\"float: center\">"
   ]
  },
  {
   "cell_type": "markdown",
   "metadata": {},
   "source": [
    "### CODE"
   ]
  },
  {
   "cell_type": "code",
   "execution_count": 1,
   "metadata": {
    "ExecuteTime": {
     "end_time": "2019-01-12T03:38:34.775017Z",
     "start_time": "2019-01-12T03:38:33.900817Z"
    }
   },
   "outputs": [],
   "source": [
    "import pandas as pd\n",
    "import numpy as np\n",
    "import matplotlib.pyplot as plt"
   ]
  },
  {
   "cell_type": "markdown",
   "metadata": {},
   "source": [
    "# Feature Extraction\n",
    "\n",
    "    a. Demographics\n",
    "    b. Exposure Behaviour\n",
    "        i. Statuses Count\n",
    "        ii. Number of Followers/Followees\n",
    "    c. Timing\n",
    "        i. Time of the Day (24 Hours)\n",
    "        ii. Time of the Week (Weekday/Weekend)\n",
    "    d. Locations\n",
    "    e. Semantic Features (Exercise)\n",
    "        i. Content Category\n",
    "        ii. Content Keywords"
   ]
  },
  {
   "cell_type": "code",
   "execution_count": 2,
   "metadata": {
    "ExecuteTime": {
     "end_time": "2019-01-12T03:38:39.905920Z",
     "start_time": "2019-01-12T03:38:39.875797Z"
    }
   },
   "outputs": [
    {
     "name": "stdout",
     "output_type": "stream",
     "text": [
      "<class 'pandas.core.frame.DataFrame'>\n",
      "Int64Index: 1198 entries, 0 to 1197\n",
      "Data columns (total 14 columns):\n",
      "user_name                    1198 non-null int64\n",
      "user_statuses_count          1198 non-null int64\n",
      "user_followers_count         1198 non-null int64\n",
      "user_friends_count           1198 non-null int64\n",
      "user_verified                1198 non-null bool\n",
      "user_location                661 non-null object\n",
      "user_lang                    1198 non-null object\n",
      "user_created_at_timestamp    1198 non-null float64\n",
      "user_protected               1198 non-null bool\n",
      "user_description             839 non-null object\n",
      "user_gender                  284 non-null object\n",
      "user_country                 489 non-null object\n",
      "user_state                   291 non-null object\n",
      "user_city                    266 non-null object\n",
      "dtypes: bool(2), float64(1), int64(4), object(7)\n",
      "memory usage: 124.0+ KB\n"
     ]
    }
   ],
   "source": [
    "df = pd.read_csv('../data/user_profiles_ch_anony.csv')\n",
    "df = df.drop_duplicates()\n",
    "df = df.drop(['user_utc_offset', 'user_time_zone'], axis = 1)\n",
    "df.info()"
   ]
  },
  {
   "cell_type": "code",
   "execution_count": 3,
   "metadata": {
    "ExecuteTime": {
     "end_time": "2019-01-12T03:38:40.876701Z",
     "start_time": "2019-01-12T03:38:40.861483Z"
    },
    "scrolled": false
   },
   "outputs": [
    {
     "data": {
      "text/html": [
       "<div>\n",
       "<style scoped>\n",
       "    .dataframe tbody tr th:only-of-type {\n",
       "        vertical-align: middle;\n",
       "    }\n",
       "\n",
       "    .dataframe tbody tr th {\n",
       "        vertical-align: top;\n",
       "    }\n",
       "\n",
       "    .dataframe thead th {\n",
       "        text-align: right;\n",
       "    }\n",
       "</style>\n",
       "<table border=\"1\" class=\"dataframe\">\n",
       "  <thead>\n",
       "    <tr style=\"text-align: right;\">\n",
       "      <th></th>\n",
       "      <th>user_name</th>\n",
       "      <th>user_statuses_count</th>\n",
       "      <th>user_followers_count</th>\n",
       "      <th>user_friends_count</th>\n",
       "      <th>user_verified</th>\n",
       "      <th>user_protected</th>\n",
       "    </tr>\n",
       "  </thead>\n",
       "  <tbody>\n",
       "    <tr>\n",
       "      <th>0</th>\n",
       "      <td>0</td>\n",
       "      <td>10094</td>\n",
       "      <td>306</td>\n",
       "      <td>807</td>\n",
       "      <td>False</td>\n",
       "      <td>False</td>\n",
       "    </tr>\n",
       "    <tr>\n",
       "      <th>1</th>\n",
       "      <td>1</td>\n",
       "      <td>17</td>\n",
       "      <td>4</td>\n",
       "      <td>77</td>\n",
       "      <td>False</td>\n",
       "      <td>False</td>\n",
       "    </tr>\n",
       "    <tr>\n",
       "      <th>2</th>\n",
       "      <td>2</td>\n",
       "      <td>5201</td>\n",
       "      <td>780</td>\n",
       "      <td>511</td>\n",
       "      <td>False</td>\n",
       "      <td>False</td>\n",
       "    </tr>\n",
       "    <tr>\n",
       "      <th>3</th>\n",
       "      <td>3</td>\n",
       "      <td>15562</td>\n",
       "      <td>139</td>\n",
       "      <td>270</td>\n",
       "      <td>False</td>\n",
       "      <td>False</td>\n",
       "    </tr>\n",
       "    <tr>\n",
       "      <th>4</th>\n",
       "      <td>4</td>\n",
       "      <td>1122</td>\n",
       "      <td>2219</td>\n",
       "      <td>37</td>\n",
       "      <td>False</td>\n",
       "      <td>False</td>\n",
       "    </tr>\n",
       "  </tbody>\n",
       "</table>\n",
       "</div>"
      ],
      "text/plain": [
       "   user_name  user_statuses_count  user_followers_count  user_friends_count  \\\n",
       "0          0                10094                   306                 807   \n",
       "1          1                   17                     4                  77   \n",
       "2          2                 5201                   780                 511   \n",
       "3          3                15562                   139                 270   \n",
       "4          4                 1122                  2219                  37   \n",
       "\n",
       "   user_verified  user_protected  \n",
       "0          False           False  \n",
       "1          False           False  \n",
       "2          False           False  \n",
       "3          False           False  \n",
       "4          False           False  "
      ]
     },
     "execution_count": 3,
     "metadata": {},
     "output_type": "execute_result"
    }
   ],
   "source": [
    "numeric_features = df._get_numeric_data().columns.values.tolist()\n",
    "numeric_features.remove('user_created_at_timestamp')\n",
    "\n",
    "df_refined = df[numeric_features].dropna()\n",
    "df_refined.head()"
   ]
  },
  {
   "cell_type": "code",
   "execution_count": 4,
   "metadata": {
    "ExecuteTime": {
     "end_time": "2019-01-12T03:38:42.140949Z",
     "start_time": "2019-01-12T03:38:42.101755Z"
    }
   },
   "outputs": [
    {
     "data": {
      "text/html": [
       "<div>\n",
       "<style scoped>\n",
       "    .dataframe tbody tr th:only-of-type {\n",
       "        vertical-align: middle;\n",
       "    }\n",
       "\n",
       "    .dataframe tbody tr th {\n",
       "        vertical-align: top;\n",
       "    }\n",
       "\n",
       "    .dataframe thead th {\n",
       "        text-align: right;\n",
       "    }\n",
       "</style>\n",
       "<table border=\"1\" class=\"dataframe\">\n",
       "  <thead>\n",
       "    <tr style=\"text-align: right;\">\n",
       "      <th></th>\n",
       "      <th>user_name</th>\n",
       "      <th>user_statuses_count</th>\n",
       "      <th>user_followers_count</th>\n",
       "      <th>user_friends_count</th>\n",
       "      <th>user_verified</th>\n",
       "      <th>user_protected</th>\n",
       "      <th>user_gender_F</th>\n",
       "      <th>user_gender_M</th>\n",
       "      <th>user_lang_ar</th>\n",
       "      <th>user_lang_de</th>\n",
       "      <th>...</th>\n",
       "      <th>user_register_hour_14</th>\n",
       "      <th>user_register_hour_15</th>\n",
       "      <th>user_register_hour_16</th>\n",
       "      <th>user_register_hour_17</th>\n",
       "      <th>user_register_hour_18</th>\n",
       "      <th>user_register_hour_19</th>\n",
       "      <th>user_register_hour_20</th>\n",
       "      <th>user_register_hour_21</th>\n",
       "      <th>user_register_hour_22</th>\n",
       "      <th>user_register_hour_23</th>\n",
       "    </tr>\n",
       "  </thead>\n",
       "  <tbody>\n",
       "    <tr>\n",
       "      <th>0</th>\n",
       "      <td>0</td>\n",
       "      <td>10094</td>\n",
       "      <td>306</td>\n",
       "      <td>807</td>\n",
       "      <td>False</td>\n",
       "      <td>False</td>\n",
       "      <td>0</td>\n",
       "      <td>1</td>\n",
       "      <td>0</td>\n",
       "      <td>0</td>\n",
       "      <td>...</td>\n",
       "      <td>0</td>\n",
       "      <td>0</td>\n",
       "      <td>0</td>\n",
       "      <td>0</td>\n",
       "      <td>0</td>\n",
       "      <td>0</td>\n",
       "      <td>0</td>\n",
       "      <td>0</td>\n",
       "      <td>0</td>\n",
       "      <td>0</td>\n",
       "    </tr>\n",
       "    <tr>\n",
       "      <th>1</th>\n",
       "      <td>1</td>\n",
       "      <td>17</td>\n",
       "      <td>4</td>\n",
       "      <td>77</td>\n",
       "      <td>False</td>\n",
       "      <td>False</td>\n",
       "      <td>0</td>\n",
       "      <td>0</td>\n",
       "      <td>0</td>\n",
       "      <td>0</td>\n",
       "      <td>...</td>\n",
       "      <td>0</td>\n",
       "      <td>0</td>\n",
       "      <td>0</td>\n",
       "      <td>0</td>\n",
       "      <td>0</td>\n",
       "      <td>0</td>\n",
       "      <td>0</td>\n",
       "      <td>0</td>\n",
       "      <td>0</td>\n",
       "      <td>0</td>\n",
       "    </tr>\n",
       "    <tr>\n",
       "      <th>2</th>\n",
       "      <td>2</td>\n",
       "      <td>5201</td>\n",
       "      <td>780</td>\n",
       "      <td>511</td>\n",
       "      <td>False</td>\n",
       "      <td>False</td>\n",
       "      <td>0</td>\n",
       "      <td>0</td>\n",
       "      <td>0</td>\n",
       "      <td>0</td>\n",
       "      <td>...</td>\n",
       "      <td>0</td>\n",
       "      <td>0</td>\n",
       "      <td>0</td>\n",
       "      <td>0</td>\n",
       "      <td>0</td>\n",
       "      <td>0</td>\n",
       "      <td>1</td>\n",
       "      <td>0</td>\n",
       "      <td>0</td>\n",
       "      <td>0</td>\n",
       "    </tr>\n",
       "    <tr>\n",
       "      <th>3</th>\n",
       "      <td>3</td>\n",
       "      <td>15562</td>\n",
       "      <td>139</td>\n",
       "      <td>270</td>\n",
       "      <td>False</td>\n",
       "      <td>False</td>\n",
       "      <td>0</td>\n",
       "      <td>0</td>\n",
       "      <td>0</td>\n",
       "      <td>0</td>\n",
       "      <td>...</td>\n",
       "      <td>0</td>\n",
       "      <td>0</td>\n",
       "      <td>0</td>\n",
       "      <td>0</td>\n",
       "      <td>0</td>\n",
       "      <td>0</td>\n",
       "      <td>0</td>\n",
       "      <td>0</td>\n",
       "      <td>0</td>\n",
       "      <td>0</td>\n",
       "    </tr>\n",
       "    <tr>\n",
       "      <th>4</th>\n",
       "      <td>4</td>\n",
       "      <td>1122</td>\n",
       "      <td>2219</td>\n",
       "      <td>37</td>\n",
       "      <td>False</td>\n",
       "      <td>False</td>\n",
       "      <td>0</td>\n",
       "      <td>0</td>\n",
       "      <td>0</td>\n",
       "      <td>0</td>\n",
       "      <td>...</td>\n",
       "      <td>0</td>\n",
       "      <td>0</td>\n",
       "      <td>0</td>\n",
       "      <td>0</td>\n",
       "      <td>0</td>\n",
       "      <td>0</td>\n",
       "      <td>0</td>\n",
       "      <td>0</td>\n",
       "      <td>0</td>\n",
       "      <td>0</td>\n",
       "    </tr>\n",
       "  </tbody>\n",
       "</table>\n",
       "<p>5 rows × 219 columns</p>\n",
       "</div>"
      ],
      "text/plain": [
       "   user_name  user_statuses_count  user_followers_count  user_friends_count  \\\n",
       "0          0                10094                   306                 807   \n",
       "1          1                   17                     4                  77   \n",
       "2          2                 5201                   780                 511   \n",
       "3          3                15562                   139                 270   \n",
       "4          4                 1122                  2219                  37   \n",
       "\n",
       "   user_verified  user_protected  user_gender_F  user_gender_M  user_lang_ar  \\\n",
       "0          False           False              0              1             0   \n",
       "1          False           False              0              0             0   \n",
       "2          False           False              0              0             0   \n",
       "3          False           False              0              0             0   \n",
       "4          False           False              0              0             0   \n",
       "\n",
       "   user_lang_de          ...            user_register_hour_14  \\\n",
       "0             0          ...                                0   \n",
       "1             0          ...                                0   \n",
       "2             0          ...                                0   \n",
       "3             0          ...                                0   \n",
       "4             0          ...                                0   \n",
       "\n",
       "   user_register_hour_15  user_register_hour_16  user_register_hour_17  \\\n",
       "0                      0                      0                      0   \n",
       "1                      0                      0                      0   \n",
       "2                      0                      0                      0   \n",
       "3                      0                      0                      0   \n",
       "4                      0                      0                      0   \n",
       "\n",
       "   user_register_hour_18  user_register_hour_19  user_register_hour_20  \\\n",
       "0                      0                      0                      0   \n",
       "1                      0                      0                      0   \n",
       "2                      0                      0                      1   \n",
       "3                      0                      0                      0   \n",
       "4                      0                      0                      0   \n",
       "\n",
       "   user_register_hour_21  user_register_hour_22  user_register_hour_23  \n",
       "0                      0                      0                      0  \n",
       "1                      0                      0                      0  \n",
       "2                      0                      0                      0  \n",
       "3                      0                      0                      0  \n",
       "4                      0                      0                      0  \n",
       "\n",
       "[5 rows x 219 columns]"
      ]
     },
     "execution_count": 4,
     "metadata": {},
     "output_type": "execute_result"
    }
   ],
   "source": [
    "import datetime\n",
    "\n",
    "# adding timing features\n",
    "df['user_register_year'] = df['user_created_at_timestamp'].apply(lambda x: datetime.datetime.fromtimestamp(x).year)\n",
    "df['user_register_day'] = df['user_created_at_timestamp'].apply(lambda x: datetime.datetime.fromtimestamp(x).weekday())\n",
    "df['user_register_hour'] = df['user_created_at_timestamp'].apply(lambda x: datetime.datetime.fromtimestamp(x).hour)\n",
    "\n",
    "categorical_features = ['user_gender',\n",
    "                     'user_lang', \\\n",
    "                     'user_country', \\\n",
    "                     'user_state', \\\n",
    "                     'user_city', \\\n",
    "                     'user_register_year', \\\n",
    "                     'user_register_day', \\\n",
    "                     'user_register_hour']\n",
    "\n",
    "for feature in categorical_features:\n",
    "    df_refined = pd.concat([df_refined, pd.get_dummies(df[feature], prefix = feature)], axis=1) \n",
    "    \n",
    "df_refined.head()"
   ]
  },
  {
   "cell_type": "code",
   "execution_count": null,
   "metadata": {
    "ExecuteTime": {
     "end_time": "2019-01-11T16:31:00.033393Z",
     "start_time": "2019-01-11T16:31:00.028852Z"
    }
   },
   "outputs": [],
   "source": []
  },
  {
   "cell_type": "code",
   "execution_count": null,
   "metadata": {
    "ExecuteTime": {
     "end_time": "2019-01-11T16:31:00.033393Z",
     "start_time": "2019-01-11T16:31:00.028852Z"
    }
   },
   "outputs": [],
   "source": []
  },
  {
   "cell_type": "code",
   "execution_count": null,
   "metadata": {},
   "outputs": [],
   "source": []
  },
  {
   "cell_type": "markdown",
   "metadata": {},
   "source": [
    "# Exercise 1\n",
    "\n",
    "    a. read user_profiles_en_anony.csv\n",
    "    b. specify two types of features: numercial and categorical\n",
    "    c. dummy coding categorical features\n",
    "    d. get refined dataframe for machine learning"
   ]
  },
  {
   "cell_type": "code",
   "execution_count": 12,
   "metadata": {
    "ExecuteTime": {
     "end_time": "2019-01-12T03:41:21.917546Z",
     "start_time": "2019-01-12T03:41:21.885794Z"
    }
   },
   "outputs": [
    {
     "name": "stdout",
     "output_type": "stream",
     "text": [
      "<class 'pandas.core.frame.DataFrame'>\n",
      "Int64Index: 3317 entries, 0 to 3316\n",
      "Data columns (total 14 columns):\n",
      "user_name                    3317 non-null int64\n",
      "user_statuses_count          3317 non-null int64\n",
      "user_followers_count         3317 non-null int64\n",
      "user_friends_count           3317 non-null int64\n",
      "user_verified                3317 non-null bool\n",
      "user_location                2397 non-null object\n",
      "user_lang                    3317 non-null object\n",
      "user_created_at_timestamp    3317 non-null float64\n",
      "user_protected               3317 non-null bool\n",
      "user_description             2651 non-null object\n",
      "user_gender                  1489 non-null object\n",
      "user_country                 2278 non-null object\n",
      "user_state                   1701 non-null object\n",
      "user_city                    1539 non-null object\n",
      "dtypes: bool(2), float64(1), int64(4), object(7)\n",
      "memory usage: 343.4+ KB\n"
     ]
    }
   ],
   "source": [
    "# read user_profiles_en_anony.csv\n",
    "import pandas as pd\n",
    "df = pd.read_csv('../data/user_profiles_en_anony.csv')\n",
    "df = df.drop_duplicates()\n",
    "df = df.drop(['user_utc_offset', 'user_time_zone'], axis = 1)\n",
    "df.info()"
   ]
  },
  {
   "cell_type": "code",
   "execution_count": 13,
   "metadata": {
    "ExecuteTime": {
     "end_time": "2019-01-12T03:41:22.500516Z",
     "start_time": "2019-01-12T03:41:22.493669Z"
    }
   },
   "outputs": [],
   "source": [
    "# specify numerical features\n",
    "numeric_features = df._get_numeric_data().columns.values.tolist()\n",
    "numeric_features.remove('user_created_at_timestamp')\n",
    "df_refined = df[numeric_features].dropna()"
   ]
  },
  {
   "cell_type": "code",
   "execution_count": 14,
   "metadata": {
    "ExecuteTime": {
     "end_time": "2019-01-12T03:41:22.940132Z",
     "start_time": "2019-01-12T03:41:22.923599Z"
    }
   },
   "outputs": [],
   "source": [
    "# adding timing features\n",
    "import datetime\n",
    "df['user_register_year'] = df['user_created_at_timestamp'].apply(lambda x: datetime.datetime.fromtimestamp(x).year)\n",
    "df['user_register_day'] = df['user_created_at_timestamp'].apply(lambda x: datetime.datetime.fromtimestamp(x).weekday())\n",
    "df['user_register_hour'] = df['user_created_at_timestamp'].apply(lambda x: datetime.datetime.fromtimestamp(x).hour)"
   ]
  },
  {
   "cell_type": "code",
   "execution_count": 15,
   "metadata": {
    "ExecuteTime": {
     "end_time": "2019-01-12T03:41:23.387439Z",
     "start_time": "2019-01-12T03:41:23.340638Z"
    }
   },
   "outputs": [
    {
     "data": {
      "text/html": [
       "<div>\n",
       "<style scoped>\n",
       "    .dataframe tbody tr th:only-of-type {\n",
       "        vertical-align: middle;\n",
       "    }\n",
       "\n",
       "    .dataframe tbody tr th {\n",
       "        vertical-align: top;\n",
       "    }\n",
       "\n",
       "    .dataframe thead th {\n",
       "        text-align: right;\n",
       "    }\n",
       "</style>\n",
       "<table border=\"1\" class=\"dataframe\">\n",
       "  <thead>\n",
       "    <tr style=\"text-align: right;\">\n",
       "      <th></th>\n",
       "      <th>user_name</th>\n",
       "      <th>user_statuses_count</th>\n",
       "      <th>user_followers_count</th>\n",
       "      <th>user_friends_count</th>\n",
       "      <th>user_verified</th>\n",
       "      <th>user_protected</th>\n",
       "      <th>user_gender_F</th>\n",
       "      <th>user_gender_M</th>\n",
       "      <th>user_lang_ar</th>\n",
       "      <th>user_lang_bn</th>\n",
       "      <th>...</th>\n",
       "      <th>user_register_hour_14</th>\n",
       "      <th>user_register_hour_15</th>\n",
       "      <th>user_register_hour_16</th>\n",
       "      <th>user_register_hour_17</th>\n",
       "      <th>user_register_hour_18</th>\n",
       "      <th>user_register_hour_19</th>\n",
       "      <th>user_register_hour_20</th>\n",
       "      <th>user_register_hour_21</th>\n",
       "      <th>user_register_hour_22</th>\n",
       "      <th>user_register_hour_23</th>\n",
       "    </tr>\n",
       "  </thead>\n",
       "  <tbody>\n",
       "    <tr>\n",
       "      <th>0</th>\n",
       "      <td>1385</td>\n",
       "      <td>2037</td>\n",
       "      <td>126</td>\n",
       "      <td>130</td>\n",
       "      <td>False</td>\n",
       "      <td>False</td>\n",
       "      <td>0</td>\n",
       "      <td>1</td>\n",
       "      <td>0</td>\n",
       "      <td>0</td>\n",
       "      <td>...</td>\n",
       "      <td>0</td>\n",
       "      <td>0</td>\n",
       "      <td>1</td>\n",
       "      <td>0</td>\n",
       "      <td>0</td>\n",
       "      <td>0</td>\n",
       "      <td>0</td>\n",
       "      <td>0</td>\n",
       "      <td>0</td>\n",
       "      <td>0</td>\n",
       "    </tr>\n",
       "    <tr>\n",
       "      <th>1</th>\n",
       "      <td>1386</td>\n",
       "      <td>59032</td>\n",
       "      <td>1768</td>\n",
       "      <td>2235</td>\n",
       "      <td>False</td>\n",
       "      <td>False</td>\n",
       "      <td>0</td>\n",
       "      <td>1</td>\n",
       "      <td>0</td>\n",
       "      <td>0</td>\n",
       "      <td>...</td>\n",
       "      <td>0</td>\n",
       "      <td>0</td>\n",
       "      <td>0</td>\n",
       "      <td>0</td>\n",
       "      <td>0</td>\n",
       "      <td>0</td>\n",
       "      <td>0</td>\n",
       "      <td>0</td>\n",
       "      <td>0</td>\n",
       "      <td>0</td>\n",
       "    </tr>\n",
       "    <tr>\n",
       "      <th>2</th>\n",
       "      <td>1386</td>\n",
       "      <td>59032</td>\n",
       "      <td>1768</td>\n",
       "      <td>2235</td>\n",
       "      <td>False</td>\n",
       "      <td>False</td>\n",
       "      <td>0</td>\n",
       "      <td>1</td>\n",
       "      <td>0</td>\n",
       "      <td>0</td>\n",
       "      <td>...</td>\n",
       "      <td>0</td>\n",
       "      <td>0</td>\n",
       "      <td>0</td>\n",
       "      <td>0</td>\n",
       "      <td>0</td>\n",
       "      <td>0</td>\n",
       "      <td>0</td>\n",
       "      <td>0</td>\n",
       "      <td>0</td>\n",
       "      <td>0</td>\n",
       "    </tr>\n",
       "    <tr>\n",
       "      <th>3</th>\n",
       "      <td>1387</td>\n",
       "      <td>915</td>\n",
       "      <td>53</td>\n",
       "      <td>54</td>\n",
       "      <td>False</td>\n",
       "      <td>False</td>\n",
       "      <td>0</td>\n",
       "      <td>0</td>\n",
       "      <td>0</td>\n",
       "      <td>0</td>\n",
       "      <td>...</td>\n",
       "      <td>0</td>\n",
       "      <td>0</td>\n",
       "      <td>0</td>\n",
       "      <td>0</td>\n",
       "      <td>0</td>\n",
       "      <td>0</td>\n",
       "      <td>0</td>\n",
       "      <td>0</td>\n",
       "      <td>0</td>\n",
       "      <td>0</td>\n",
       "    </tr>\n",
       "    <tr>\n",
       "      <th>4</th>\n",
       "      <td>1388</td>\n",
       "      <td>270</td>\n",
       "      <td>14</td>\n",
       "      <td>57</td>\n",
       "      <td>False</td>\n",
       "      <td>False</td>\n",
       "      <td>0</td>\n",
       "      <td>0</td>\n",
       "      <td>0</td>\n",
       "      <td>0</td>\n",
       "      <td>...</td>\n",
       "      <td>0</td>\n",
       "      <td>0</td>\n",
       "      <td>0</td>\n",
       "      <td>0</td>\n",
       "      <td>0</td>\n",
       "      <td>0</td>\n",
       "      <td>0</td>\n",
       "      <td>0</td>\n",
       "      <td>0</td>\n",
       "      <td>0</td>\n",
       "    </tr>\n",
       "  </tbody>\n",
       "</table>\n",
       "<p>5 rows × 698 columns</p>\n",
       "</div>"
      ],
      "text/plain": [
       "   user_name  user_statuses_count  user_followers_count  user_friends_count  \\\n",
       "0       1385                 2037                   126                 130   \n",
       "1       1386                59032                  1768                2235   \n",
       "2       1386                59032                  1768                2235   \n",
       "3       1387                  915                    53                  54   \n",
       "4       1388                  270                    14                  57   \n",
       "\n",
       "   user_verified  user_protected  user_gender_F  user_gender_M  user_lang_ar  \\\n",
       "0          False           False              0              1             0   \n",
       "1          False           False              0              1             0   \n",
       "2          False           False              0              1             0   \n",
       "3          False           False              0              0             0   \n",
       "4          False           False              0              0             0   \n",
       "\n",
       "   user_lang_bn          ...            user_register_hour_14  \\\n",
       "0             0          ...                                0   \n",
       "1             0          ...                                0   \n",
       "2             0          ...                                0   \n",
       "3             0          ...                                0   \n",
       "4             0          ...                                0   \n",
       "\n",
       "   user_register_hour_15  user_register_hour_16  user_register_hour_17  \\\n",
       "0                      0                      1                      0   \n",
       "1                      0                      0                      0   \n",
       "2                      0                      0                      0   \n",
       "3                      0                      0                      0   \n",
       "4                      0                      0                      0   \n",
       "\n",
       "   user_register_hour_18  user_register_hour_19  user_register_hour_20  \\\n",
       "0                      0                      0                      0   \n",
       "1                      0                      0                      0   \n",
       "2                      0                      0                      0   \n",
       "3                      0                      0                      0   \n",
       "4                      0                      0                      0   \n",
       "\n",
       "   user_register_hour_21  user_register_hour_22  user_register_hour_23  \n",
       "0                      0                      0                      0  \n",
       "1                      0                      0                      0  \n",
       "2                      0                      0                      0  \n",
       "3                      0                      0                      0  \n",
       "4                      0                      0                      0  \n",
       "\n",
       "[5 rows x 698 columns]"
      ]
     },
     "execution_count": 15,
     "metadata": {},
     "output_type": "execute_result"
    }
   ],
   "source": [
    "# specify categorical features\n",
    "categorical_features = ['user_gender',\n",
    "                     'user_lang', \\\n",
    "                     'user_country', \\\n",
    "                     'user_state', \\\n",
    "                     'user_city', \\\n",
    "                     'user_register_year', \\\n",
    "                     'user_register_day', \\\n",
    "                     'user_register_hour']\n",
    "\n",
    "for feature in categorical_features:\n",
    "    df_refined = pd.concat([df_refined, pd.get_dummies(df[feature], prefix = feature)], axis=1) \n",
    "    \n",
    "# df_refined = df_refined.drop(categorical_features, axis = 1)\n",
    "df_refined.head()"
   ]
  },
  {
   "cell_type": "markdown",
   "metadata": {},
   "source": [
    "# Clustering\n",
    "\n",
    "## Feature Enigeering\n",
    "\n",
    "    a. Factor Analysis\n",
    "    b. Principle Component Analysis"
   ]
  },
  {
   "cell_type": "code",
   "execution_count": 16,
   "metadata": {
    "ExecuteTime": {
     "end_time": "2019-01-12T03:41:24.620539Z",
     "start_time": "2019-01-12T03:41:24.198037Z"
    }
   },
   "outputs": [
    {
     "data": {
      "text/html": [
       "<div>\n",
       "<style scoped>\n",
       "    .dataframe tbody tr th:only-of-type {\n",
       "        vertical-align: middle;\n",
       "    }\n",
       "\n",
       "    .dataframe tbody tr th {\n",
       "        vertical-align: top;\n",
       "    }\n",
       "\n",
       "    .dataframe thead th {\n",
       "        text-align: right;\n",
       "    }\n",
       "</style>\n",
       "<table border=\"1\" class=\"dataframe\">\n",
       "  <thead>\n",
       "    <tr style=\"text-align: right;\">\n",
       "      <th></th>\n",
       "      <th>factor 1</th>\n",
       "      <th>factor 2</th>\n",
       "    </tr>\n",
       "  </thead>\n",
       "  <tbody>\n",
       "    <tr>\n",
       "      <th>0</th>\n",
       "      <td>-0.033205</td>\n",
       "      <td>-0.271601</td>\n",
       "    </tr>\n",
       "    <tr>\n",
       "      <th>1</th>\n",
       "      <td>-0.029456</td>\n",
       "      <td>0.091904</td>\n",
       "    </tr>\n",
       "    <tr>\n",
       "      <th>2</th>\n",
       "      <td>-0.029456</td>\n",
       "      <td>0.091904</td>\n",
       "    </tr>\n",
       "    <tr>\n",
       "      <th>3</th>\n",
       "      <td>-0.033371</td>\n",
       "      <td>-0.278753</td>\n",
       "    </tr>\n",
       "    <tr>\n",
       "      <th>4</th>\n",
       "      <td>-0.033460</td>\n",
       "      <td>-0.282865</td>\n",
       "    </tr>\n",
       "    <tr>\n",
       "      <th>5</th>\n",
       "      <td>-0.028087</td>\n",
       "      <td>-0.030153</td>\n",
       "    </tr>\n",
       "    <tr>\n",
       "      <th>6</th>\n",
       "      <td>-0.030801</td>\n",
       "      <td>-0.280261</td>\n",
       "    </tr>\n",
       "    <tr>\n",
       "      <th>7</th>\n",
       "      <td>-0.032616</td>\n",
       "      <td>-0.202862</td>\n",
       "    </tr>\n",
       "    <tr>\n",
       "      <th>8</th>\n",
       "      <td>-0.009440</td>\n",
       "      <td>1.189646</td>\n",
       "    </tr>\n",
       "    <tr>\n",
       "      <th>9</th>\n",
       "      <td>-0.015068</td>\n",
       "      <td>-0.205523</td>\n",
       "    </tr>\n",
       "  </tbody>\n",
       "</table>\n",
       "</div>"
      ],
      "text/plain": [
       "   factor 1  factor 2\n",
       "0 -0.033205 -0.271601\n",
       "1 -0.029456  0.091904\n",
       "2 -0.029456  0.091904\n",
       "3 -0.033371 -0.278753\n",
       "4 -0.033460 -0.282865\n",
       "5 -0.028087 -0.030153\n",
       "6 -0.030801 -0.280261\n",
       "7 -0.032616 -0.202862\n",
       "8 -0.009440  1.189646\n",
       "9 -0.015068 -0.205523"
      ]
     },
     "execution_count": 16,
     "metadata": {},
     "output_type": "execute_result"
    }
   ],
   "source": [
    "from sklearn.decomposition import FactorAnalysis\n",
    "fa = FactorAnalysis(n_components = 2)\n",
    "factors = fa.fit_transform(df_refined)\n",
    "factordf = pd.DataFrame(data = factors, columns = ['factor 1', 'factor 2'])\n",
    "factordf.head(10)"
   ]
  },
  {
   "cell_type": "code",
   "execution_count": 17,
   "metadata": {
    "ExecuteTime": {
     "end_time": "2019-01-12T03:41:24.904732Z",
     "start_time": "2019-01-12T03:41:24.649073Z"
    }
   },
   "outputs": [
    {
     "data": {
      "text/html": [
       "<div>\n",
       "<style scoped>\n",
       "    .dataframe tbody tr th:only-of-type {\n",
       "        vertical-align: middle;\n",
       "    }\n",
       "\n",
       "    .dataframe tbody tr th {\n",
       "        vertical-align: top;\n",
       "    }\n",
       "\n",
       "    .dataframe thead th {\n",
       "        text-align: right;\n",
       "    }\n",
       "</style>\n",
       "<table border=\"1\" class=\"dataframe\">\n",
       "  <thead>\n",
       "    <tr style=\"text-align: right;\">\n",
       "      <th></th>\n",
       "      <th>principal component 1</th>\n",
       "      <th>principal component 2</th>\n",
       "    </tr>\n",
       "  </thead>\n",
       "  <tbody>\n",
       "    <tr>\n",
       "      <th>0</th>\n",
       "      <td>-15352.816532</td>\n",
       "      <td>-42532.998592</td>\n",
       "    </tr>\n",
       "    <tr>\n",
       "      <th>1</th>\n",
       "      <td>-12648.298289</td>\n",
       "      <td>14439.780044</td>\n",
       "    </tr>\n",
       "    <tr>\n",
       "      <th>2</th>\n",
       "      <td>-12648.298289</td>\n",
       "      <td>14439.780044</td>\n",
       "    </tr>\n",
       "    <tr>\n",
       "      <th>3</th>\n",
       "      <td>-15446.747236</td>\n",
       "      <td>-43654.151829</td>\n",
       "    </tr>\n",
       "    <tr>\n",
       "      <th>4</th>\n",
       "      <td>-15497.751726</td>\n",
       "      <td>-44298.251100</td>\n",
       "    </tr>\n",
       "    <tr>\n",
       "      <th>5</th>\n",
       "      <td>-12404.827948</td>\n",
       "      <td>-4708.225419</td>\n",
       "    </tr>\n",
       "    <tr>\n",
       "      <th>6</th>\n",
       "      <td>-14323.973518</td>\n",
       "      <td>-43892.608538</td>\n",
       "    </tr>\n",
       "    <tr>\n",
       "      <th>7</th>\n",
       "      <td>-14892.981929</td>\n",
       "      <td>-31744.055111</td>\n",
       "    </tr>\n",
       "    <tr>\n",
       "      <th>8</th>\n",
       "      <td>-672.722231</td>\n",
       "      <td>186405.698427</td>\n",
       "    </tr>\n",
       "    <tr>\n",
       "      <th>9</th>\n",
       "      <td>-7206.601270</td>\n",
       "      <td>-32193.296823</td>\n",
       "    </tr>\n",
       "  </tbody>\n",
       "</table>\n",
       "</div>"
      ],
      "text/plain": [
       "   principal component 1  principal component 2\n",
       "0          -15352.816532          -42532.998592\n",
       "1          -12648.298289           14439.780044\n",
       "2          -12648.298289           14439.780044\n",
       "3          -15446.747236          -43654.151829\n",
       "4          -15497.751726          -44298.251100\n",
       "5          -12404.827948           -4708.225419\n",
       "6          -14323.973518          -43892.608538\n",
       "7          -14892.981929          -31744.055111\n",
       "8            -672.722231          186405.698427\n",
       "9           -7206.601270          -32193.296823"
      ]
     },
     "execution_count": 17,
     "metadata": {},
     "output_type": "execute_result"
    }
   ],
   "source": [
    "from sklearn.decomposition import PCA\n",
    "pca = PCA(n_components = 2)\n",
    "principalComponents = pca.fit_transform(df_refined)\n",
    "principaldf = pd.DataFrame(data = principalComponents, columns = ['principal component 1', 'principal component 2'])\n",
    "principaldf.head(10)"
   ]
  },
  {
   "cell_type": "markdown",
   "metadata": {},
   "source": [
    "## K-means Clustering (Centroid-based)\n",
    "    a. Assignment step: Assign each observation to the cluster whose mean has the least distance.\n",
    "    b. Update step: Calculate the new means to be the centroids of the observations in the new clusters.\n",
    "    c. The algorithm will converge when the assignments no longer change."
   ]
  },
  {
   "cell_type": "code",
   "execution_count": 18,
   "metadata": {
    "ExecuteTime": {
     "end_time": "2019-01-12T03:41:26.873083Z",
     "start_time": "2019-01-12T03:41:26.590675Z"
    }
   },
   "outputs": [
    {
     "data": {
      "text/plain": [
       "<matplotlib.collections.PathCollection at 0x103c71278>"
      ]
     },
     "execution_count": 18,
     "metadata": {},
     "output_type": "execute_result"
    },
    {
     "data": {
      "image/png": "[encoded data removed]",
      "text/plain": [
       "<Figure size 432x288 with 1 Axes>"
      ]
     },
     "metadata": {
      "needs_background": "light"
     },
     "output_type": "display_data"
    }
   ],
   "source": [
    "from sklearn.preprocessing import StandardScaler\n",
    "X = StandardScaler().fit_transform(factordf)\n",
    "\n",
    "from sklearn.cluster import KMeans\n",
    "kmeans = KMeans(n_clusters = 3, random_state = 0).fit(X)\n",
    "\n",
    "y_kmeans = kmeans.predict(X)\n",
    "principalarray = X\n",
    "plt.scatter(principalarray[:, 0], principalarray[:, 1], c = y_kmeans, s=20, cmap='viridis')\n",
    "\n",
    "centers = kmeans.cluster_centers_\n",
    "plt.scatter(centers[:, 0], centers[:, 1], c='black', s=20, alpha=0.5)"
   ]
  },
  {
   "cell_type": "code",
   "execution_count": 19,
   "metadata": {
    "ExecuteTime": {
     "end_time": "2019-01-12T03:41:28.173368Z",
     "start_time": "2019-01-12T03:41:27.886452Z"
    }
   },
   "outputs": [
    {
     "data": {
      "text/plain": [
       "<matplotlib.collections.PathCollection at 0x1159d2828>"
      ]
     },
     "execution_count": 19,
     "metadata": {},
     "output_type": "execute_result"
    },
    {
     "data": {
      "image/png": "[encoded data removed]",
      "text/plain": [
       "<Figure size 432x288 with 1 Axes>"
      ]
     },
     "metadata": {
      "needs_background": "light"
     },
     "output_type": "display_data"
    }
   ],
   "source": [
    "from sklearn.preprocessing import StandardScaler\n",
    "X = StandardScaler().fit_transform(principaldf)\n",
    "\n",
    "from sklearn.cluster import KMeans\n",
    "kmeans = KMeans(n_clusters = 3, random_state = 0).fit(X)\n",
    "\n",
    "y_kmeans = kmeans.predict(X)\n",
    "principalarray = X\n",
    "plt.scatter(principalarray[:, 0], principalarray[:, 1], c = y_kmeans, s=20, cmap='viridis')\n",
    "\n",
    "centers = kmeans.cluster_centers_\n",
    "plt.scatter(centers[:, 0], centers[:, 1], c='black', s=20, alpha=0.5)"
   ]
  },
  {
   "cell_type": "markdown",
   "metadata": {},
   "source": [
    "## Hierarchical Clustering (Connectivity-based)\n",
    "    \n",
    "Parameters:\n",
    "\n",
    "    a. Two types of strategies\n",
    "        Agglomerative: bottom-up\n",
    "        Divisive: top-down\n",
    "    b. Distance metrics\n",
    "        Euclidean/Manhattan/Maximum etc.\n",
    "    c. Linkage criteria\n",
    "        Centroid/Mean/Maximum etc."
   ]
  },
  {
   "cell_type": "code",
   "execution_count": 20,
   "metadata": {
    "ExecuteTime": {
     "end_time": "2019-01-12T03:41:43.003730Z",
     "start_time": "2019-01-12T03:41:42.581091Z"
    }
   },
   "outputs": [
    {
     "name": "stderr",
     "output_type": "stream",
     "text": [
      "/Users/zhicongchen/anaconda3/lib/python3.7/site-packages/sklearn/preprocessing/data.py:625: DataConversionWarning: Data with input dtype bool, uint8, int64 were all converted to float64 by StandardScaler.\n",
      "  return self.partial_fit(X, y)\n",
      "/Users/zhicongchen/anaconda3/lib/python3.7/site-packages/sklearn/base.py:462: DataConversionWarning: Data with input dtype bool, uint8, int64 were all converted to float64 by StandardScaler.\n",
      "  return self.fit(X, **fit_params).transform(X)\n"
     ]
    }
   ],
   "source": [
    "from sklearn.preprocessing import StandardScaler\n",
    "X = StandardScaler().fit_transform(df_refined)"
   ]
  },
  {
   "cell_type": "code",
   "execution_count": 25,
   "metadata": {
    "ExecuteTime": {
     "end_time": "2019-01-12T03:42:53.456519Z",
     "start_time": "2019-01-12T03:42:49.606156Z"
    }
   },
   "outputs": [],
   "source": [
    "import scipy.cluster.hierarchy as sch\n",
    "\n",
    "d = sch.distance.pdist(X, metric='cosine') # vector of (100 choose 2) pairwise distances\n",
    "\n",
    "# metric : str or function, optional\n",
    "# The distance metric to use. The distance function can\n",
    "# be 'braycurtis', 'canberra', 'chebyshev', 'cityblock',\n",
    "# 'correlation', 'cosine', 'dice', 'euclidean', 'hamming',\n",
    "# 'jaccard', 'kulsinski', 'mahalanobis', 'matching',\n",
    "# 'minkowski', 'rogerstanimoto', 'russellrao', 'seuclidean',\n",
    "# 'sokalmichener', 'sokalsneath', 'sqeuclidean', 'yule'.\n",
    "\n",
    "L = sch.linkage(d, method='complete') # d is a distance matrix\n",
    "\n",
    "# 'single', 'complete', 'average', 'weighted', 'centroid', 'median', 'ward'"
   ]
  },
  {
   "cell_type": "code",
   "execution_count": 26,
   "metadata": {
    "ExecuteTime": {
     "end_time": "2019-01-12T03:43:23.030882Z",
     "start_time": "2019-01-12T03:42:53.458749Z"
    }
   },
   "outputs": [
    {
     "data": {
      "image/png": "[encoded data removed]",
      "text/plain": [
       "<Figure size 7200x1440 with 1 Axes>"
      ]
     },
     "metadata": {
      "needs_background": "light"
     },
     "output_type": "display_data"
    }
   ],
   "source": [
    "def llf(llid):\n",
    "    return df.index[llid]\n",
    "\n",
    "# plot dendrogram\n",
    "\n",
    "fig = plt.figure(figsize=(100,20))\n",
    "cutoff = 0.5 * max(L[:,2])\n",
    "\n",
    "Z = sch.dendrogram(L, orientation = 'top', color_threshold = cutoff, leaf_font_size = 6, leaf_label_func = llf)\n",
    "\n",
    "plt.savefig('./hierarchical_clustering.png', dpi = 200)"
   ]
  },
  {
   "cell_type": "markdown",
   "metadata": {},
   "source": [
    "# Exercise 2\n",
    "\n",
    "    a. reduce the number of features to two\n",
    "        i. factor analysis\n",
    "        ii. priciple component analysis\n",
    "    b. use standardscaler to standardize the numerical features\n",
    "    c. do clustering on the two-column numerical features\n",
    "        i. k-means clustering\n",
    "        ii. hierarchical clustering"
   ]
  },
  {
   "cell_type": "code",
   "execution_count": null,
   "metadata": {},
   "outputs": [],
   "source": []
  },
  {
   "cell_type": "code",
   "execution_count": null,
   "metadata": {},
   "outputs": [],
   "source": []
  },
  {
   "cell_type": "code",
   "execution_count": null,
   "metadata": {},
   "outputs": [],
   "source": []
  },
  {
   "cell_type": "markdown",
   "metadata": {},
   "source": [
    "# Classification\n",
    "\n",
    "## Predicting User Gender"
   ]
  },
  {
   "cell_type": "code",
   "execution_count": 27,
   "metadata": {
    "ExecuteTime": {
     "end_time": "2019-01-12T03:43:57.054812Z",
     "start_time": "2019-01-12T03:43:23.032703Z"
    }
   },
   "outputs": [
    {
     "name": "stderr",
     "output_type": "stream",
     "text": [
      "/Users/zhicongchen/anaconda3/lib/python3.7/site-packages/sklearn/model_selection/_split.py:2053: FutureWarning: You should specify a value for 'cv' instead of relying on the default value. The default value will change from 3 to 5 in version 0.22.\n",
      "  warnings.warn(CV_WARNING, FutureWarning)\n"
     ]
    },
    {
     "name": "stdout",
     "output_type": "stream",
     "text": [
      "Index(['user_name', 'user_statuses_count', 'user_followers_count',\n",
      "       'user_friends_count', 'user_verified', 'user_protected', 'user_lang_ar',\n",
      "       'user_lang_bn', 'user_lang_ca', 'user_lang_cs',\n",
      "       ...\n",
      "       'user_register_hour_14', 'user_register_hour_15',\n",
      "       'user_register_hour_16', 'user_register_hour_17',\n",
      "       'user_register_hour_18', 'user_register_hour_19',\n",
      "       'user_register_hour_20', 'user_register_hour_21',\n",
      "       'user_register_hour_22', 'user_register_hour_23'],\n",
      "      dtype='object', length=696)\n",
      "0.6413700470114171\n",
      "{'max_depth': 25, 'n_estimators': 800}\n",
      "RandomForestClassifier(bootstrap=True, class_weight=None, criterion='gini',\n",
      "            max_depth=25, max_features='sqrt', max_leaf_nodes=None,\n",
      "            min_impurity_decrease=0.0, min_impurity_split=None,\n",
      "            min_samples_leaf=1, min_samples_split=2,\n",
      "            min_weight_fraction_leaf=0.0, n_estimators=800, n_jobs=None,\n",
      "            oob_score=False, random_state=None, verbose=0,\n",
      "            warm_start=False)\n"
     ]
    }
   ],
   "source": [
    "gender_features = [c for c in df_refined.columns if 'user_gender_' in c]\n",
    "\n",
    "df_classification = pd.concat([df_refined.drop(gender_features, axis = 1), \\\n",
    "                               df['user_gender']], axis = 1).dropna()\n",
    "\n",
    "X = df_classification.drop('user_gender', axis = 1)\n",
    "y = df_classification['user_gender']\n",
    "\n",
    "# split training sets and testing sets\n",
    "from sklearn.model_selection import train_test_split\n",
    "X_train, X_test, y_train, y_test = train_test_split(X, y, test_size=0.2, random_state=42)\n",
    "\n",
    "# choose a classifier\n",
    "from sklearn.ensemble import RandomForestClassifier\n",
    "RFC = RandomForestClassifier(max_features = \"sqrt\")\n",
    "\n",
    "from sklearn.model_selection import GridSearchCV\n",
    "parameters = {\"max_depth\":[5, 8, 25], \"n_estimators\":[800, 1200]}\n",
    "clf = GridSearchCV(RFC, parameters)\n",
    "clf.fit(X, y)\n",
    "\n",
    "print(X.columns)\n",
    "print(clf.best_score_)\n",
    "print(clf.best_params_)\n",
    "print(clf.best_estimator_)"
   ]
  },
  {
   "cell_type": "code",
   "execution_count": null,
   "metadata": {},
   "outputs": [],
   "source": []
  },
  {
   "cell_type": "markdown",
   "metadata": {},
   "source": [
    "# Exercise 3\n",
    "\n",
    "    a. user random forests to\n",
    "        i. predict user gender\n",
    "        ii. predict user country\n",
    "        iii. predict user statuses count\n",
    "    *b. add user topics into features\n",
    "    *c. add user description into features"
   ]
  },
  {
   "cell_type": "markdown",
   "metadata": {},
   "source": [
    "## Predicting User Country"
   ]
  },
  {
   "cell_type": "code",
   "execution_count": 28,
   "metadata": {
    "ExecuteTime": {
     "end_time": "2019-01-12T03:45:11.582547Z",
     "start_time": "2019-01-12T03:43:57.056855Z"
    }
   },
   "outputs": [
    {
     "name": "stderr",
     "output_type": "stream",
     "text": [
      "/Users/zhicongchen/anaconda3/lib/python3.7/site-packages/sklearn/model_selection/_split.py:2053: FutureWarning: You should specify a value for 'cv' instead of relying on the default value. The default value will change from 3 to 5 in version 0.22.\n",
      "  warnings.warn(CV_WARNING, FutureWarning)\n",
      "/Users/zhicongchen/anaconda3/lib/python3.7/site-packages/sklearn/model_selection/_split.py:652: Warning: The least populated class in y has only 1 members, which is too few. The minimum number of members in any class cannot be less than n_splits=3.\n",
      "  % (min_groups, self.n_splits)), Warning)\n",
      "/Users/zhicongchen/anaconda3/lib/python3.7/site-packages/sklearn/model_selection/_search.py:841: DeprecationWarning: The default of the `iid` parameter will change from True to False in version 0.22 and will be removed in 0.24. This will change numeric results when test-set sizes are unequal.\n",
      "  DeprecationWarning)\n"
     ]
    },
    {
     "name": "stdout",
     "output_type": "stream",
     "text": [
      "Index(['user_name', 'user_statuses_count', 'user_followers_count',\n",
      "       'user_friends_count', 'user_verified', 'user_protected',\n",
      "       'user_gender_F', 'user_gender_M', 'user_lang_ar', 'user_lang_bn',\n",
      "       'user_lang_ca', 'user_lang_cs', 'user_lang_de', 'user_lang_el',\n",
      "       'user_lang_en', 'user_lang_en-GB', 'user_lang_en-gb', 'user_lang_es',\n",
      "       'user_lang_fa', 'user_lang_fi', 'user_lang_fr', 'user_lang_id',\n",
      "       'user_lang_it', 'user_lang_ja', 'user_lang_ko', 'user_lang_nl',\n",
      "       'user_lang_pt', 'user_lang_ru', 'user_lang_sv', 'user_lang_th',\n",
      "       'user_lang_tr', 'user_lang_vi', 'user_lang_zh-CN', 'user_lang_zh-HK',\n",
      "       'user_lang_zh-Hans', 'user_lang_zh-TW', 'user_lang_zh-cn',\n",
      "       'user_lang_zh-tw', 'user_register_year_2006', 'user_register_year_2007',\n",
      "       'user_register_year_2008', 'user_register_year_2009',\n",
      "       'user_register_year_2010', 'user_register_year_2011',\n",
      "       'user_register_year_2012', 'user_register_year_2013',\n",
      "       'user_register_year_2014', 'user_register_year_2015',\n",
      "       'user_register_year_2016', 'user_register_year_2017',\n",
      "       'user_register_year_2018', 'user_register_day_0', 'user_register_day_1',\n",
      "       'user_register_day_2', 'user_register_day_3', 'user_register_day_4',\n",
      "       'user_register_day_5', 'user_register_day_6', 'user_register_hour_0',\n",
      "       'user_register_hour_1', 'user_register_hour_2', 'user_register_hour_3',\n",
      "       'user_register_hour_4', 'user_register_hour_5', 'user_register_hour_6',\n",
      "       'user_register_hour_7', 'user_register_hour_8', 'user_register_hour_9',\n",
      "       'user_register_hour_10', 'user_register_hour_11',\n",
      "       'user_register_hour_12', 'user_register_hour_13',\n",
      "       'user_register_hour_14', 'user_register_hour_15',\n",
      "       'user_register_hour_16', 'user_register_hour_17',\n",
      "       'user_register_hour_18', 'user_register_hour_19',\n",
      "       'user_register_hour_20', 'user_register_hour_21',\n",
      "       'user_register_hour_22', 'user_register_hour_23'],\n",
      "      dtype='object')\n",
      "0.3520632133450395\n",
      "{'max_depth': 25, 'n_estimators': 1200}\n",
      "RandomForestClassifier(bootstrap=True, class_weight=None, criterion='gini',\n",
      "            max_depth=25, max_features='sqrt', max_leaf_nodes=None,\n",
      "            min_impurity_decrease=0.0, min_impurity_split=None,\n",
      "            min_samples_leaf=1, min_samples_split=2,\n",
      "            min_weight_fraction_leaf=0.0, n_estimators=1200, n_jobs=None,\n",
      "            oob_score=False, random_state=None, verbose=0,\n",
      "            warm_start=False)\n"
     ]
    }
   ],
   "source": [
    "gender_features = [c for c in df_refined.columns if 'user_country_' in c or 'user_state_' in c or 'user_city_' in c]\n",
    "\n",
    "df_classification = pd.concat([df_refined.drop(gender_features, axis = 1), \\\n",
    "                               df['user_country']], axis = 1).dropna()\n",
    "\n",
    "X = df_classification.drop('user_country', axis = 1)\n",
    "y = df_classification['user_country']\n",
    "\n",
    "# split training sets and testing sets\n",
    "from sklearn.model_selection import train_test_split\n",
    "X_train, X_test, y_train, y_test = train_test_split(X, y, test_size=0.2, random_state=42)\n",
    "\n",
    "# choose a classifier\n",
    "from sklearn.ensemble import RandomForestClassifier\n",
    "RFC = RandomForestClassifier(max_features = \"sqrt\")\n",
    "\n",
    "from sklearn.model_selection import GridSearchCV\n",
    "parameters = {\"max_depth\":[5, 8, 25], \"n_estimators\":[800, 1200]}\n",
    "clf = GridSearchCV(RFC, parameters)\n",
    "clf.fit(X, y)\n",
    "\n",
    "print(X.columns)\n",
    "print(clf.best_score_)\n",
    "print(clf.best_params_)\n",
    "print(clf.best_estimator_)"
   ]
  },
  {
   "cell_type": "markdown",
   "metadata": {},
   "source": [
    "## Predicting User Statuses Count"
   ]
  },
  {
   "cell_type": "code",
   "execution_count": 29,
   "metadata": {
    "ExecuteTime": {
     "end_time": "2019-01-12T03:46:14.419697Z",
     "start_time": "2019-01-12T03:45:11.584593Z"
    }
   },
   "outputs": [
    {
     "name": "stderr",
     "output_type": "stream",
     "text": [
      "/Users/zhicongchen/anaconda3/lib/python3.7/site-packages/sklearn/model_selection/_split.py:2053: FutureWarning: You should specify a value for 'cv' instead of relying on the default value. The default value will change from 3 to 5 in version 0.22.\n",
      "  warnings.warn(CV_WARNING, FutureWarning)\n"
     ]
    },
    {
     "name": "stdout",
     "output_type": "stream",
     "text": [
      "Index(['user_name', 'user_followers_count', 'user_friends_count',\n",
      "       'user_verified', 'user_protected', 'ar', 'bn', 'ca', 'cs', 'de',\n",
      "       ...\n",
      "       'Washington, D.C.', 'Wellington', 'Worcester', 'Yaounde', 'Yerevan',\n",
      "       'Yogyakarta', 'York', 'Zagreb', 'Zaragoza', 'Zürich'],\n",
      "      dtype='object', length=653)\n",
      "0.049374762586871256\n",
      "{'max_depth': 25, 'n_estimators': 800}\n",
      "RandomForestRegressor(bootstrap=True, criterion='mse', max_depth=25,\n",
      "           max_features='sqrt', max_leaf_nodes=None,\n",
      "           min_impurity_decrease=0.0, min_impurity_split=None,\n",
      "           min_samples_leaf=1, min_samples_split=2,\n",
      "           min_weight_fraction_leaf=0.0, n_estimators=800, n_jobs=None,\n",
      "           oob_score=False, random_state=None, verbose=0, warm_start=False)\n"
     ]
    }
   ],
   "source": [
    "df_refined = df[numeric_features].dropna()\n",
    "categorical_features = ['user_lang', \\\n",
    "                        'user_gender', \\\n",
    "                     'user_country', \\\n",
    "                     'user_state', \\\n",
    "                     'user_city']\n",
    "\n",
    "for feature in categorical_features:\n",
    "    df_refined = pd.concat([df_refined, pd.get_dummies(df[feature], columns=False)], axis=1) \n",
    "\n",
    "X = df_refined.drop('user_statuses_count', axis = 1)\n",
    "y = df_refined['user_statuses_count']\n",
    "\n",
    "# split training sets and testing sets\n",
    "from sklearn.model_selection import train_test_split\n",
    "X_train, X_test, y_train, y_test = train_test_split(X, y, test_size=0.2, random_state=42)\n",
    "\n",
    "# choose a classifier\n",
    "from sklearn.ensemble import RandomForestRegressor\n",
    "RFR = RandomForestRegressor(max_features = \"sqrt\")\n",
    "\n",
    "from sklearn.model_selection import GridSearchCV\n",
    "parameters = {\"max_depth\":[5, 8, 25], \"n_estimators\":[800, 1200]}\n",
    "clf = GridSearchCV(RFR, parameters)\n",
    "clf.fit(X, y)\n",
    "\n",
    "print(X.columns)\n",
    "print(clf.best_score_)\n",
    "print(clf.best_params_)\n",
    "print(clf.best_estimator_)"
   ]
  },
  {
   "cell_type": "code",
   "execution_count": 30,
   "metadata": {
    "ExecuteTime": {
     "end_time": "2019-01-12T03:46:14.766523Z",
     "start_time": "2019-01-12T03:46:14.421671Z"
    }
   },
   "outputs": [
    {
     "data": {
      "text/html": [
       "<div>\n",
       "<style scoped>\n",
       "    .dataframe tbody tr th:only-of-type {\n",
       "        vertical-align: middle;\n",
       "    }\n",
       "\n",
       "    .dataframe tbody tr th {\n",
       "        vertical-align: top;\n",
       "    }\n",
       "\n",
       "    .dataframe thead th {\n",
       "        text-align: right;\n",
       "    }\n",
       "</style>\n",
       "<table border=\"1\" class=\"dataframe\">\n",
       "  <thead>\n",
       "    <tr style=\"text-align: right;\">\n",
       "      <th></th>\n",
       "      <th>user_name</th>\n",
       "      <th>user_statuses_count</th>\n",
       "      <th>user_followers_count</th>\n",
       "      <th>user_friends_count</th>\n",
       "      <th>user_verified</th>\n",
       "      <th>user_protected</th>\n",
       "      <th>ar</th>\n",
       "      <th>bn</th>\n",
       "      <th>ca</th>\n",
       "      <th>cs</th>\n",
       "      <th>...</th>\n",
       "      <th>topic0</th>\n",
       "      <th>topic1</th>\n",
       "      <th>topic2</th>\n",
       "      <th>topic3</th>\n",
       "      <th>topic4</th>\n",
       "      <th>topic5</th>\n",
       "      <th>topic6</th>\n",
       "      <th>topic7</th>\n",
       "      <th>topic8</th>\n",
       "      <th>topic9</th>\n",
       "    </tr>\n",
       "  </thead>\n",
       "  <tbody>\n",
       "    <tr>\n",
       "      <th>0</th>\n",
       "      <td>1385</td>\n",
       "      <td>2037</td>\n",
       "      <td>126</td>\n",
       "      <td>130</td>\n",
       "      <td>False</td>\n",
       "      <td>False</td>\n",
       "      <td>0</td>\n",
       "      <td>0</td>\n",
       "      <td>0</td>\n",
       "      <td>0</td>\n",
       "      <td>...</td>\n",
       "      <td>0.032087</td>\n",
       "      <td>0.568993</td>\n",
       "      <td>0.032087</td>\n",
       "      <td>0.032087</td>\n",
       "      <td>0.032087</td>\n",
       "      <td>0.174312</td>\n",
       "      <td>0.032087</td>\n",
       "      <td>0.032087</td>\n",
       "      <td>0.032088</td>\n",
       "      <td>0.032087</td>\n",
       "    </tr>\n",
       "    <tr>\n",
       "      <th>1</th>\n",
       "      <td>1386</td>\n",
       "      <td>59032</td>\n",
       "      <td>1768</td>\n",
       "      <td>2235</td>\n",
       "      <td>False</td>\n",
       "      <td>False</td>\n",
       "      <td>0</td>\n",
       "      <td>0</td>\n",
       "      <td>0</td>\n",
       "      <td>0</td>\n",
       "      <td>...</td>\n",
       "      <td>0.028252</td>\n",
       "      <td>0.745728</td>\n",
       "      <td>0.028252</td>\n",
       "      <td>0.028252</td>\n",
       "      <td>0.028253</td>\n",
       "      <td>0.028252</td>\n",
       "      <td>0.028252</td>\n",
       "      <td>0.028252</td>\n",
       "      <td>0.028253</td>\n",
       "      <td>0.028252</td>\n",
       "    </tr>\n",
       "    <tr>\n",
       "      <th>2</th>\n",
       "      <td>1386</td>\n",
       "      <td>59032</td>\n",
       "      <td>1768</td>\n",
       "      <td>2235</td>\n",
       "      <td>False</td>\n",
       "      <td>False</td>\n",
       "      <td>0</td>\n",
       "      <td>0</td>\n",
       "      <td>0</td>\n",
       "      <td>0</td>\n",
       "      <td>...</td>\n",
       "      <td>0.028252</td>\n",
       "      <td>0.745728</td>\n",
       "      <td>0.028252</td>\n",
       "      <td>0.028252</td>\n",
       "      <td>0.028253</td>\n",
       "      <td>0.028252</td>\n",
       "      <td>0.028252</td>\n",
       "      <td>0.028252</td>\n",
       "      <td>0.028253</td>\n",
       "      <td>0.028252</td>\n",
       "    </tr>\n",
       "    <tr>\n",
       "      <th>3</th>\n",
       "      <td>1387</td>\n",
       "      <td>915</td>\n",
       "      <td>53</td>\n",
       "      <td>54</td>\n",
       "      <td>False</td>\n",
       "      <td>False</td>\n",
       "      <td>0</td>\n",
       "      <td>0</td>\n",
       "      <td>0</td>\n",
       "      <td>0</td>\n",
       "      <td>...</td>\n",
       "      <td>0.024163</td>\n",
       "      <td>0.024170</td>\n",
       "      <td>0.024163</td>\n",
       "      <td>0.024163</td>\n",
       "      <td>0.782525</td>\n",
       "      <td>0.024163</td>\n",
       "      <td>0.024163</td>\n",
       "      <td>0.024163</td>\n",
       "      <td>0.024165</td>\n",
       "      <td>0.024163</td>\n",
       "    </tr>\n",
       "    <tr>\n",
       "      <th>4</th>\n",
       "      <td>1388</td>\n",
       "      <td>270</td>\n",
       "      <td>14</td>\n",
       "      <td>57</td>\n",
       "      <td>False</td>\n",
       "      <td>False</td>\n",
       "      <td>0</td>\n",
       "      <td>0</td>\n",
       "      <td>0</td>\n",
       "      <td>0</td>\n",
       "      <td>...</td>\n",
       "      <td>0.031802</td>\n",
       "      <td>0.713776</td>\n",
       "      <td>0.031802</td>\n",
       "      <td>0.031802</td>\n",
       "      <td>0.031802</td>\n",
       "      <td>0.031802</td>\n",
       "      <td>0.031802</td>\n",
       "      <td>0.031802</td>\n",
       "      <td>0.031810</td>\n",
       "      <td>0.031802</td>\n",
       "    </tr>\n",
       "  </tbody>\n",
       "</table>\n",
       "<p>5 rows × 665 columns</p>\n",
       "</div>"
      ],
      "text/plain": [
       "   user_name  user_statuses_count  user_followers_count  user_friends_count  \\\n",
       "0       1385                 2037                   126                 130   \n",
       "1       1386                59032                  1768                2235   \n",
       "2       1386                59032                  1768                2235   \n",
       "3       1387                  915                    53                  54   \n",
       "4       1388                  270                    14                  57   \n",
       "\n",
       "   user_verified  user_protected  ar  bn  ca  cs    ...       topic0  \\\n",
       "0          False           False   0   0   0   0    ...     0.032087   \n",
       "1          False           False   0   0   0   0    ...     0.028252   \n",
       "2          False           False   0   0   0   0    ...     0.028252   \n",
       "3          False           False   0   0   0   0    ...     0.024163   \n",
       "4          False           False   0   0   0   0    ...     0.031802   \n",
       "\n",
       "     topic1    topic2    topic3    topic4    topic5    topic6    topic7  \\\n",
       "0  0.568993  0.032087  0.032087  0.032087  0.174312  0.032087  0.032087   \n",
       "1  0.745728  0.028252  0.028252  0.028253  0.028252  0.028252  0.028252   \n",
       "2  0.745728  0.028252  0.028252  0.028253  0.028252  0.028252  0.028252   \n",
       "3  0.024170  0.024163  0.024163  0.782525  0.024163  0.024163  0.024163   \n",
       "4  0.713776  0.031802  0.031802  0.031802  0.031802  0.031802  0.031802   \n",
       "\n",
       "     topic8    topic9  \n",
       "0  0.032088  0.032087  \n",
       "1  0.028253  0.028252  \n",
       "2  0.028253  0.028252  \n",
       "3  0.024165  0.024163  \n",
       "4  0.031810  0.031802  \n",
       "\n",
       "[5 rows x 665 columns]"
      ]
     },
     "execution_count": 30,
     "metadata": {},
     "output_type": "execute_result"
    }
   ],
   "source": [
    "# add user topics\n",
    "\n",
    "user_to_topic = pd.read_excel('../data/topic model result/user_to_topic.xlsx')\n",
    "user_to_topic.head()\n",
    "\n",
    "df_refined = df_refined.merge(user_to_topic, left_on = 'user_name', right_on = 'author_anonymous', how = 'left')\n",
    "df_refined.head()"
   ]
  },
  {
   "cell_type": "code",
   "execution_count": 31,
   "metadata": {
    "ExecuteTime": {
     "end_time": "2019-01-12T03:46:14.775107Z",
     "start_time": "2019-01-12T03:46:14.768952Z"
    },
    "scrolled": true
   },
   "outputs": [
    {
     "data": {
      "text/plain": [
       "0    Hongkonger. Ham Operator. Gamer. Runner. Hiker...\n",
       "1    Merry prankster of the Hong Kong media scene, ...\n",
       "2    Merry prankster of the Hong Kong media scene, ...\n",
       "3    FTL Group (Technologies) Limited is a Micro Fo...\n",
       "4    counselling, family, depression, treatment, ps...\n",
       "Name: user_description, dtype: object"
      ]
     },
     "execution_count": 31,
     "metadata": {},
     "output_type": "execute_result"
    }
   ],
   "source": [
    "# add user description\n",
    "\n",
    "df['user_description'].head()"
   ]
  },
  {
   "cell_type": "code",
   "execution_count": null,
   "metadata": {},
   "outputs": [],
   "source": []
  },
  {
   "cell_type": "code",
   "execution_count": null,
   "metadata": {},
   "outputs": [],
   "source": []
  }
 ],
 "metadata": {
  "kernelspec": {
   "display_name": "Python 3",
   "language": "python",
   "name": "python3"
  },
  "language_info": {
   "codemirror_mode": {
    "name": "ipython",
    "version": 3
   },
   "file_extension": ".py",
   "mimetype": "text/x-python",
   "name": "python",
   "nbconvert_exporter": "python",
   "pygments_lexer": "ipython3",
   "version": "3.7.1"
  },
  "toc": {
   "base_numbering": 1,
   "nav_menu": {},
   "number_sections": false,
   "sideBar": true,
   "skip_h1_title": false,
   "title_cell": "Table of Contents",
   "title_sidebar": "Contents",
   "toc_cell": false,
   "toc_position": {
    "height": "442.135px",
    "left": "991.997px",
    "top": "109.722px",
    "width": "262.865px"
   },
   "toc_section_display": true,
   "toc_window_display": true
  },
  "varInspector": {
   "cols": {
    "lenName": 16,
    "lenType": 16,
    "lenVar": 40
   },
   "kernels_config": {
    "python": {
     "delete_cmd_postfix": "",
     "delete_cmd_prefix": "del ",
     "library": "var_list.py",
     "varRefreshCmd": "print(var_dic_list())"
    },
    "r": {
     "delete_cmd_postfix": ") ",
     "delete_cmd_prefix": "rm(",
     "library": "var_list.r",
     "varRefreshCmd": "cat(var_dic_list()) "
    }
   },
   "types_to_exclude": [
    "module",
    "function",
    "builtin_function_or_method",
    "instance",
    "_Feature"
   ],
   "window_display": false
  }
 },
 "nbformat": 4,
 "nbformat_minor": 2
}
