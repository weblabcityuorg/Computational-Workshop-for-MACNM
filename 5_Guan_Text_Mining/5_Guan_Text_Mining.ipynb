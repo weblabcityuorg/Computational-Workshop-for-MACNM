{
 "cells": [
  {
   "cell_type": "markdown",
   "metadata": {},
   "source": [
    "## MACNM Computational Workshop No. 5 (Jan. 12 Morning) <br>Text Mining<br> by Lu Guan"
   ]
  },
  {
   "cell_type": "markdown",
   "metadata": {},
   "source": [
    "## NOTES\n",
    " 1. What kind of problems can text mining solve?\n",
    " 2. What kind of text mining approaches we need to learn?\n",
    " 3. Conduct the basic text mining techniques today!"
   ]
  },
  {
   "cell_type": "markdown",
   "metadata": {},
   "source": [
    "## Why do we want to conduct text mining?\n",
    "- Topic Modeling (automatically discovering topics within the documents)<br/>\n",
    "<img src=\"images/IntroToLDA.png\" width=\"60%\" style=\"float: left\"> <br/>"
   ]
  },
  {
   "cell_type": "markdown",
   "metadata": {},
   "source": [
    "- Classification: extracting text features for further assignment (e.g., Junk email identification)<br/>\n",
    "<img src=\"images/email classification.jpg\" width=\"60%\" style=\"float: left\"> <br/>"
   ]
  },
  {
   "cell_type": "markdown",
   "metadata": {},
   "source": [
    "- Sentiment analysis: extracting subjective information and helping understand the social sentiment of the brand, product or service<br/>\n",
    "<img src=\"images/sentiment_example.png\" width=\"60%\" style=\"float: left\"> <br/>\n"
   ]
  },
  {
   "cell_type": "markdown",
   "metadata": {},
   "source": [
    "### Text mining techniques\n",
    "- Word extraction \n",
    " * tokenization: Chopping up a character sequence into pieces\n",
    " * dropping stop words: Excluding extremely common and semantically nonselective words (and, are, as, at, be, for, from…)\n",
    " * normalization: Creating synonym dictionary so that match occurs despite the superficial differences (e.g., USA = America)\n",
    " * stemming: chopping off the ends of words according to some rules to remove the derivational affixes (e.g., cats ->cat)\n",
    " * lemmatization: using a dictionary to match a word with its base (e.g., does ->do)\n",
    " * Word tagging: Marking up a word, based on both its definition, as well as its context, often requiring context-specific dictionaries. (e.g., apple [noun])\n",
    "- Bag of words\n",
    " * Unigram, Bigram, Ngram: contiguous sequence of n items from a given sample of text or speech\n",
    " * Term frequency: Represent text as numerical feature vectors\n",
    "- Feature transformation\n",
    " * f_classif：Compute the ANOVA F-value for the provided sample\n",
    " * χ2 calculates whether the occurrence of the term and occurrence of the category are independent.\n",
    " * TFIDF, short for term frequency–inverse document frequency, is the product of two statistics, term frequency and inverse document frequency.\n",
    "- Topic Modeling Algorithm\n",
    " * Latent Dirichlet Allocation (LDA), Latent semantic analysis (LSA), Non-negative matrix factorization (NMF),etc.\n",
    "- Classification Modeling Algorithm\n",
    " * Linear Classifiers (Logistic Regression, Naive Bayes Classifier), Support Vector Machines, Decision Trees, Random Forest, Nearest Neighbor, etc.\n",
    "- Deep learning word embedding: vector representations of a particular word by capturing context of the word in the document.\n",
    " * word2vec, GloVe, etc."
   ]
  },
  {
   "cell_type": "markdown",
   "metadata": {},
   "source": [
    "#### 1. Word Extraction\n",
    "- Tokenization\n",
    "- Dropping stop words\n",
    "- Normalization\n",
    "- Stemming/lemmatization\n",
    "- Words Tagging"
   ]
  },
  {
   "cell_type": "markdown",
   "metadata": {
    "slideshow": {
     "slide_type": "slide"
    }
   },
   "source": [
    "#### 1.1 Tokenization\n",
    "Chopping up a character sequence into pieces, called tokens.\n",
    "\n",
    "- Input: Seattle is a coastal seaport city.<br/> \n",
    "- Output: Seattle/ is/ a/ costal/ seaport/ city   \n",
    "<br/> \n",
    "<br/> \n",
    "- Input: 走在風中今天陽光突然好溫柔,天的溫柔地的溫柔像你抱著我<br/> \n",
    "- Output: 走/在/風中/今天/陽光/突然/好/溫柔/,/天/的/溫柔/地/的/溫柔/像/你/抱/著/我"
   ]
  },
  {
   "cell_type": "markdown",
   "metadata": {
    "slideshow": {
     "slide_type": "slide"
    }
   },
   "source": [
    "#### 1.2. Dropping stop words (停用词)\n",
    "Excluding extremely common and\n",
    "semantically nonselective words (stop words).\n",
    "\n",
    "- and, are, as, at, be, for, from…"
   ]
  },
  {
   "cell_type": "markdown",
   "metadata": {
    "slideshow": {
     "slide_type": "slide"
    }
   },
   "source": [
    "#### 1.3. Normalization\n",
    "Creating synonym dictionary so that match occurs despite the superficial differences.\n",
    "\n",
    "- USA=U.S.A.=America"
   ]
  },
  {
   "cell_type": "markdown",
   "metadata": {
    "slideshow": {
     "slide_type": "slide"
    }
   },
   "source": [
    "#### 1.4. Stemming and Lemmatization\n",
    "- Reducing related forms of a word to a base form.\n",
    "- Stemming: chopping off the ends of words according to some rules to remove the derivational affixes.<br/>\n",
    "<img src=\"images/stemming.png\" width=\"60%\" style=\"float: left\"> <br/>\n",
    "\n",
    "\n",
    "\n",
    "\n"
   ]
  },
  {
   "cell_type": "markdown",
   "metadata": {},
   "source": [
    "- Lemmatization: using a dictionary to match a word with its base (lemma)<br/>\n",
    " * does ->do \n",
    " * women -> woman\n",
    " * went -> go\n"
   ]
  },
  {
   "cell_type": "markdown",
   "metadata": {},
   "source": [
    "#### 1.5. Words Tagging\n",
    "Marking up a word, based on both its definition, as well as its context, often requiring context-specific dictionaries.<br>\n",
    "\n",
    "- part-of-speech (POS) <br>\n",
    "  http://www.ling.upenn.edu/courses/Fall_2003/ling001/penn_treebank_pos.html<br/>\n",
    "<img src=\"images/POS.png\" width=\"60%\" style=\"float: left\"> \n",
    "<br/>\n",
    "\n"
   ]
  },
  {
   "cell_type": "markdown",
   "metadata": {},
   "source": [
    "- Named Entity Tagging<br>\n",
    "<img src=\"images/entitytagging.png\" width=\"60%\" style=\"float: left\"> <br/>\n"
   ]
  },
  {
   "cell_type": "markdown",
   "metadata": {},
   "source": [
    "\n",
    "- Sentimental Tagging<br>\n",
    "<img src=\"images/sentiment.png\" width=\"60%\" style=\"float: left\"> <br/>"
   ]
  },
  {
   "cell_type": "markdown",
   "metadata": {},
   "source": [
    "### 2. Bag-of-words model (BOW)\n",
    "A document is represented as the bag of its words. The order of words within the bag is free.\n",
    "\n",
    "#### 2.1 Document Term Frequency\n",
    "- Represent text as numerical feature vectors<br>\n",
    "<img src=\"images/bagofwords.jpeg\" width=\"60%\" style=\"float: left\"> \n"
   ]
  },
  {
   "cell_type": "markdown",
   "metadata": {},
   "source": [
    "#### 2.2 Ngram\n",
    "- contiguous sequence of n items from a given sample of text or speech\n",
    "<img src=\"images/ngram.png\" width=\"60%\" style=\"float: left\"> "
   ]
  },
  {
   "cell_type": "markdown",
   "metadata": {},
   "source": [
    "### 3.Feature Selection and transformation\n",
    "\n",
    "- 3.1 f_classif <br>\n",
    " * Compute the ANOVA F-value for the provided sample\n",
    "- 3.2 χ2 <br> \n",
    " * calculates whether the occurrence of the term and occurrence of the category are independent.\n",
    "- 3.3 TFIDF  <br>\n",
    " * short for term frequency–inverse document frequency, is the product of two statistics, term frequency and inverse document frequency.<br>\n",
    " <img src=\"images/tfidf.png\" width=\"60%\" style=\"float: left\"> "
   ]
  },
  {
   "cell_type": "markdown",
   "metadata": {},
   "source": [
    "### Text mining techniques\n",
    "- Word extraction \n",
    " * tokenization: Chopping up a character sequence into pieces\n",
    " * dropping stop words: Excluding extremely common and semantically nonselective words (and, are, as, at, be, for, from…)\n",
    " * normalization: Creating synonym dictionary so that match occurs despite the superficial differences (e.g., USA = America)\n",
    " * stemming: chopping off the ends of words according to some rules to remove the derivational affixes (e.g., cats ->cat)\n",
    " * lemmatization: using a dictionary to match a word with its base (e.g., does ->do)\n",
    " * Word tagging: Marking up a word, based on both its definition, as well as its context, often requiring context-specific dictionaries. (e.g., apple [noun])\n",
    "- Bag of words\n",
    " * Unigram, Bigram, Ngram: contiguous sequence of n items from a given sample of text or speech\n",
    " * Term frequency: Represent text as numerical feature vectors\n",
    "- Feature transformation\n",
    " * 3.1 f_classif：Compute the ANOVA F-value for the provided sample\n",
    " * 3.2 χ2 calculates whether the occurrence of the term and occurrence of the category are independent.\n",
    " * 3.3 TFIDF, short for term frequency–inverse document frequency, is the product of two statistics, term frequency and inverse document frequency.\n",
    "- Topic Modeling Algorithm\n",
    " * Latent Dirichlet Allocation (LDA), Latent semantic analysis (LSA), Non-negative matrix factorization (NMF),etc.\n",
    "- Classification Modeling Algorithm\n",
    " * Linear Classifiers (Logistic Regression, Naive Bayes Classifier), Support Vector Machines, Decision Trees, Random Forest, Nearest Neighbor, etc.\n",
    "- Deep learning word embedding: vector representations of a particular word by capturing context of the word in the document.\n",
    " * Neural Network: word2vec, GloVe, etc."
   ]
  },
  {
   "cell_type": "markdown",
   "metadata": {},
   "source": [
    "# Map of text mining tasks (文本分析的几种套路)"
   ]
  },
  {
   "cell_type": "markdown",
   "metadata": {},
   "source": [
    "### Flow chart for topic modeling \n",
    "<img src=\"images/topic_modeling_flow_chart.png\" width=\"60%\" style=\"float: left\"> <br/>"
   ]
  },
  {
   "cell_type": "markdown",
   "metadata": {},
   "source": [
    "### Flow chart for text classification \n",
    "photo from https://mp.weixin.qq.com/s/yNOfoOvCOb9Vj4CnVIiifQ\n",
    "<img src=\"images/text_classification_flow_chart.jpg\" width=\"70%\" style=\"float: left\"> <br/>"
   ]
  },
  {
   "cell_type": "markdown",
   "metadata": {},
   "source": [
    "### Flow chart for sentiment analysis\n",
    "photo from https://www.researchgate.net/figure/Flowchart-of-the-Proposed-Twitter-Sentiment-Analysis-System_fig1_273635463 <br/>\n",
    "<img src=\"images/sentiment_flow_chart.png\" width=\"60%\" style=\"float: left\"> <br/>"
   ]
  },
  {
   "cell_type": "markdown",
   "metadata": {},
   "source": [
    "# Hands-on today\n",
    "- Word extraction (chopping the words, dropping stop words, normalization, stemming, etc.)\n",
    "- Bag of words + TF-IDF\n",
    "- Topic Modeling"
   ]
  },
  {
   "cell_type": "markdown",
   "metadata": {},
   "source": [
    "## Code\n",
    "### 1.1 English word extraction"
   ]
  },
  {
   "cell_type": "markdown",
   "metadata": {},
   "source": [
    "###  Library to install: nltk (pip install nltk)\n",
    "\n",
    "https://www.nltk.org/install.html<br/>\n",
    "<img src=\"images/nltk.png\" width=\"40%\" style=\"float: left\"> <br/>\n"
   ]
  },
  {
   "cell_type": "code",
   "execution_count": 1,
   "metadata": {},
   "outputs": [
    {
     "name": "stdout",
     "output_type": "stream",
     "text": [
      "showing info https://raw.githubusercontent.com/nltk/nltk_data/gh-pages/index.xml\n"
     ]
    },
    {
     "data": {
      "text/plain": [
       "True"
      ]
     },
     "execution_count": 1,
     "metadata": {},
     "output_type": "execute_result"
    }
   ],
   "source": [
    "import nltk\n",
    "nltk.download()"
   ]
  },
  {
   "cell_type": "code",
   "execution_count": 181,
   "metadata": {},
   "outputs": [],
   "source": [
    "import string\n",
    "import re\n",
    "from nltk.stem.wordnet import WordNetLemmatizer\n",
    "from nltk.corpus import stopwords\n",
    "from nltk.corpus import brown\n",
    "brown_tagged_sents=brown.tagged_sents(categories=None)\n",
    "unigram_tagger=nltk.UnigramTagger(brown_tagged_sents)\n",
    "wnl = nltk.WordNetLemmatizer()\n",
    "porter=nltk.PorterStemmer()\n",
    "stopwords = nltk.corpus.stopwords.words('english')"
   ]
  },
  {
   "cell_type": "code",
   "execution_count": 186,
   "metadata": {},
   "outputs": [
    {
     "data": {
      "text/plain": [
       "['RT',\n",
       " '@ReutersAfrica:',\n",
       " '#UN,',\n",
       " '#WorldBank',\n",
       " 'to',\n",
       " 'launch',\n",
       " 'refugee',\n",
       " 'and',\n",
       " 'reconstruction',\n",
       " 'bonds',\n",
       " '#migrantcrisis',\n",
       " 'http://t.co/h7QwzbOJDb',\n",
       " 'http://t.co/KJGRtQgW6M']"
      ]
     },
     "execution_count": 186,
     "metadata": {},
     "output_type": "execute_result"
    }
   ],
   "source": [
    "# Chopping up a character sequence into pieces\n",
    "s=\"RT @ReutersAfrica: #UN, #WorldBank to launch refugee and reconstruction bonds #migrantcrisis http://t.co/h7QwzbOJDb http://t.co/KJGRtQgW6M\"\n",
    "s=s.split()\n",
    "s"
   ]
  },
  {
   "cell_type": "code",
   "execution_count": 187,
   "metadata": {},
   "outputs": [
    {
     "data": {
      "text/plain": [
       "['#UN,',\n",
       " '#WorldBank',\n",
       " 'to',\n",
       " 'launch',\n",
       " 'refugee',\n",
       " 'and',\n",
       " 'reconstruction',\n",
       " 'bonds',\n",
       " '#migrantcrisis']"
      ]
     },
     "execution_count": 187,
     "metadata": {},
     "output_type": "execute_result"
    }
   ],
   "source": [
    "# filtering words, excluding RT, @, and URLs.\n",
    "s=[token for token in s if token!=\"RT\" and not token.startswith(\"@\") and not token.startswith(\"http\")]\n",
    "s"
   ]
  },
  {
   "cell_type": "code",
   "execution_count": 5,
   "metadata": {},
   "outputs": [
    {
     "name": "stdout",
     "output_type": "stream",
     "text": [
      "un\n",
      "worldbank\n",
      "to\n",
      "launch\n",
      "refugee\n",
      "and\n",
      "reconstruction\n",
      "bonds\n",
      "migrantcrisis\n"
     ]
    }
   ],
   "source": [
    "##lowercase and drop punctuations\n",
    "for token in s:\n",
    "    token=token.translate(str.maketrans(\"\", \"\", string.punctuation)).lower()\n",
    "    print (token)"
   ]
  },
  {
   "cell_type": "code",
   "execution_count": 6,
   "metadata": {},
   "outputs": [
    {
     "name": "stdout",
     "output_type": "stream",
     "text": [
      "un\n",
      "worldbank\n",
      "to\n",
      "launch\n",
      "refuge\n",
      "and\n",
      "reconstruct\n",
      "bond\n",
      "migrantcrisi\n"
     ]
    }
   ],
   "source": [
    "##stemming\n",
    "for token in s:\n",
    "    token=token.translate(str.maketrans(\"\", \"\", string.punctuation)).lower()\n",
    "    token=porter.stem(token)\n",
    "    print (token)"
   ]
  },
  {
   "cell_type": "code",
   "execution_count": 7,
   "metadata": {},
   "outputs": [
    {
     "name": "stdout",
     "output_type": "stream",
     "text": [
      "un\n",
      "worldbank\n",
      "to\n",
      "launch\n",
      "refugee\n",
      "and\n",
      "reconstruction\n",
      "bond\n",
      "migrantcrisis\n"
     ]
    }
   ],
   "source": [
    "##Lemmatization\n",
    "for token in s:\n",
    "    token=token.translate(str.maketrans(\"\", \"\", string.punctuation)).lower()\n",
    "    token=wnl.lemmatize(token,\"n\")\n",
    "    token=wnl.lemmatize(token,\"v\")\n",
    "    print (token)"
   ]
  },
  {
   "cell_type": "code",
   "execution_count": 189,
   "metadata": {},
   "outputs": [
    {
     "name": "stdout",
     "output_type": "stream",
     "text": [
      "un NN-HL\n",
      "worldbank None\n",
      "to TO\n",
      "launch VB\n",
      "refugee NN\n",
      "and CC\n",
      "reconstruction NN\n",
      "bond NN\n",
      "migrantcrisis None\n"
     ]
    }
   ],
   "source": [
    "##POS-tagging\n",
    "for token in s:\n",
    "    token=token.translate(str.maketrans(\"\", \"\", string.punctuation)).lower()\n",
    "    token=wnl.lemmatize(token,\"n\")\n",
    "    token=wnl.lemmatize(token,\"v\")\n",
    "    tag=unigram_tagger.tag([token])\n",
    "    t=tag[0][1]\n",
    "    print (token,t)"
   ]
  },
  {
   "cell_type": "code",
   "execution_count": 9,
   "metadata": {},
   "outputs": [
    {
     "name": "stdout",
     "output_type": "stream",
     "text": [
      "un NN-HL 0\n",
      "worldbank None 0\n",
      "to TO 1\n",
      "launch VB 0\n",
      "refugee NN 0\n",
      "and CC 1\n",
      "reconstruction NN 0\n",
      "bond NN 0\n",
      "migrantcrisis None 0\n"
     ]
    }
   ],
   "source": [
    "##Find Stop Words\n",
    "for token in s:\n",
    "    token=token.translate(str.maketrans(\"\", \"\", string.punctuation)).lower()\n",
    "    token=wnl.lemmatize(token,\"n\")\n",
    "    token=wnl.lemmatize(token,\"v\")\n",
    "    tag=unigram_tagger.tag([token])\n",
    "    t=tag[0][1]\n",
    "    if token in stopwords:\n",
    "        stop=1\n",
    "    else:\n",
    "        stop=0\n",
    "    print (token,t,stop)"
   ]
  },
  {
   "cell_type": "markdown",
   "metadata": {},
   "source": [
    "<p>** In-class exercise 1**</p>\n",
    "- read the dataset tweet_en_no_retw.xlsx\n",
    "- tokenize, lowercase, drop punctuations, and lemmatize the text."
   ]
  },
  {
   "cell_type": "code",
   "execution_count": 180,
   "metadata": {},
   "outputs": [],
   "source": [
    "import pandas as pd"
   ]
  },
  {
   "cell_type": "code",
   "execution_count": 190,
   "metadata": {},
   "outputs": [
    {
     "data": {
      "text/html": [
       "<div>\n",
       "<style scoped>\n",
       "    .dataframe tbody tr th:only-of-type {\n",
       "        vertical-align: middle;\n",
       "    }\n",
       "\n",
       "    .dataframe tbody tr th {\n",
       "        vertical-align: top;\n",
       "    }\n",
       "\n",
       "    .dataframe thead th {\n",
       "        text-align: right;\n",
       "    }\n",
       "</style>\n",
       "<table border=\"1\" class=\"dataframe\">\n",
       "  <thead>\n",
       "    <tr style=\"text-align: right;\">\n",
       "      <th></th>\n",
       "      <th>GUID</th>\n",
       "      <th>Date (HKT)</th>\n",
       "      <th>URL</th>\n",
       "      <th>Contents</th>\n",
       "      <th>Country</th>\n",
       "      <th>State/Region</th>\n",
       "      <th>City/Urban Area</th>\n",
       "      <th>Category</th>\n",
       "      <th>Emotion</th>\n",
       "      <th>Source</th>\n",
       "      <th>Gender</th>\n",
       "      <th>Posts</th>\n",
       "      <th>Followers</th>\n",
       "      <th>Following</th>\n",
       "      <th>Post Type</th>\n",
       "      <th>author_anonymous</th>\n",
       "      <th>if_ret</th>\n",
       "    </tr>\n",
       "  </thead>\n",
       "  <tbody>\n",
       "    <tr>\n",
       "      <th>0</th>\n",
       "      <td>201504835877605408</td>\n",
       "      <td>2012-05-13 10:51:11</td>\n",
       "      <td>http://twitter.com/MisterBearBear/status/20150...</td>\n",
       "      <td>I'm at City University of Hong Kong 香港城市大學 (Ko...</td>\n",
       "      <td>Hong Kong S.A.R.</td>\n",
       "      <td>Kowloon City</td>\n",
       "      <td>Hong Kong</td>\n",
       "      <td>Neutral</td>\n",
       "      <td>Neutral</td>\n",
       "      <td>Twitter</td>\n",
       "      <td>M</td>\n",
       "      <td>NaN</td>\n",
       "      <td>NaN</td>\n",
       "      <td>NaN</td>\n",
       "      <td>Tweet</td>\n",
       "      <td>1385</td>\n",
       "      <td>0</td>\n",
       "    </tr>\n",
       "    <tr>\n",
       "      <th>1</th>\n",
       "      <td>9805916782202880</td>\n",
       "      <td>2010-12-01 11:08:07</td>\n",
       "      <td>http://twitter.com/jeromyu/status/980591678220...</td>\n",
       "      <td>I'm at City University of Hong Kong 香港城市大學 (81...</td>\n",
       "      <td>Hong Kong S.A.R.</td>\n",
       "      <td>NaN</td>\n",
       "      <td>NaN</td>\n",
       "      <td>Neutral</td>\n",
       "      <td>Neutral</td>\n",
       "      <td>Twitter</td>\n",
       "      <td>M</td>\n",
       "      <td>NaN</td>\n",
       "      <td>NaN</td>\n",
       "      <td>NaN</td>\n",
       "      <td>Tweet</td>\n",
       "      <td>1386</td>\n",
       "      <td>0</td>\n",
       "    </tr>\n",
       "    <tr>\n",
       "      <th>2</th>\n",
       "      <td>435352986026786816</td>\n",
       "      <td>2014-02-17 18:00:14</td>\n",
       "      <td>http://twitter.com/FDTLIRL/status/435352986026...</td>\n",
       "      <td>City University of Hong Kong makes major enter...</td>\n",
       "      <td>Ireland</td>\n",
       "      <td>Dublin</td>\n",
       "      <td>Dublin</td>\n",
       "      <td>Neutral</td>\n",
       "      <td>Neutral</td>\n",
       "      <td>Twitter</td>\n",
       "      <td>NaN</td>\n",
       "      <td>437.0</td>\n",
       "      <td>28.0</td>\n",
       "      <td>40.0</td>\n",
       "      <td>Tweet</td>\n",
       "      <td>1387</td>\n",
       "      <td>0</td>\n",
       "    </tr>\n",
       "    <tr>\n",
       "      <th>3</th>\n",
       "      <td>579954355085803520</td>\n",
       "      <td>2015-03-23 18:34:27</td>\n",
       "      <td>http://twitter.com/PPSSHK/status/5799543550858...</td>\n",
       "      <td>feeling exhausted at City University of Hong K...</td>\n",
       "      <td>Hong Kong S.A.R.</td>\n",
       "      <td>Kowloon City</td>\n",
       "      <td>Hong Kong</td>\n",
       "      <td>Neutral</td>\n",
       "      <td>Neutral</td>\n",
       "      <td>Twitter</td>\n",
       "      <td>NaN</td>\n",
       "      <td>139.0</td>\n",
       "      <td>11.0</td>\n",
       "      <td>56.0</td>\n",
       "      <td>Tweet</td>\n",
       "      <td>1388</td>\n",
       "      <td>0</td>\n",
       "    </tr>\n",
       "    <tr>\n",
       "      <th>4</th>\n",
       "      <td>136762160100548608</td>\n",
       "      <td>2011-11-16 19:06:54</td>\n",
       "      <td>http://twitter.com/noreenwelch/status/13676216...</td>\n",
       "      <td>Mr Mugabe made the comments as he attended his...</td>\n",
       "      <td>New Zealand</td>\n",
       "      <td>NaN</td>\n",
       "      <td>NaN</td>\n",
       "      <td>Neutral</td>\n",
       "      <td>Unclassified</td>\n",
       "      <td>Twitter</td>\n",
       "      <td>F</td>\n",
       "      <td>NaN</td>\n",
       "      <td>NaN</td>\n",
       "      <td>NaN</td>\n",
       "      <td>Tweet</td>\n",
       "      <td>1389</td>\n",
       "      <td>0</td>\n",
       "    </tr>\n",
       "  </tbody>\n",
       "</table>\n",
       "</div>"
      ],
      "text/plain": [
       "                 GUID          Date (HKT)  \\\n",
       "0  201504835877605408 2012-05-13 10:51:11   \n",
       "1    9805916782202880 2010-12-01 11:08:07   \n",
       "2  435352986026786816 2014-02-17 18:00:14   \n",
       "3  579954355085803520 2015-03-23 18:34:27   \n",
       "4  136762160100548608 2011-11-16 19:06:54   \n",
       "\n",
       "                                                 URL  \\\n",
       "0  http://twitter.com/MisterBearBear/status/20150...   \n",
       "1  http://twitter.com/jeromyu/status/980591678220...   \n",
       "2  http://twitter.com/FDTLIRL/status/435352986026...   \n",
       "3  http://twitter.com/PPSSHK/status/5799543550858...   \n",
       "4  http://twitter.com/noreenwelch/status/13676216...   \n",
       "\n",
       "                                            Contents           Country  \\\n",
       "0  I'm at City University of Hong Kong 香港城市大學 (Ko...  Hong Kong S.A.R.   \n",
       "1  I'm at City University of Hong Kong 香港城市大學 (81...  Hong Kong S.A.R.   \n",
       "2  City University of Hong Kong makes major enter...           Ireland   \n",
       "3  feeling exhausted at City University of Hong K...  Hong Kong S.A.R.   \n",
       "4  Mr Mugabe made the comments as he attended his...       New Zealand   \n",
       "\n",
       "   State/Region City/Urban Area Category       Emotion   Source Gender  Posts  \\\n",
       "0  Kowloon City       Hong Kong  Neutral       Neutral  Twitter      M    NaN   \n",
       "1           NaN             NaN  Neutral       Neutral  Twitter      M    NaN   \n",
       "2        Dublin          Dublin  Neutral       Neutral  Twitter    NaN  437.0   \n",
       "3  Kowloon City       Hong Kong  Neutral       Neutral  Twitter    NaN  139.0   \n",
       "4           NaN             NaN  Neutral  Unclassified  Twitter      F    NaN   \n",
       "\n",
       "   Followers  Following Post Type  author_anonymous  if_ret  \n",
       "0        NaN        NaN     Tweet              1385       0  \n",
       "1        NaN        NaN     Tweet              1386       0  \n",
       "2       28.0       40.0     Tweet              1387       0  \n",
       "3       11.0       56.0     Tweet              1388       0  \n",
       "4        NaN        NaN     Tweet              1389       0  "
      ]
     },
     "execution_count": 190,
     "metadata": {},
     "output_type": "execute_result"
    }
   ],
   "source": [
    "##read tweet_en_no_retw.xlsx\n",
    "tweet_en=\n",
    "tweet_en.head()"
   ]
  },
  {
   "cell_type": "code",
   "execution_count": 193,
   "metadata": {},
   "outputs": [
    {
     "data": {
      "text/plain": [
       "'Derek Leong (right), who plays for City University of Hong Kong, helped Perak win gold at SUKMA 2018. https://t.co/VNJwCCHgT0'"
      ]
     },
     "execution_count": 193,
     "metadata": {},
     "output_type": "execute_result"
    }
   ],
   "source": [
    "##take a look at the fifth Contents\n",
    "tweet_en['Contents'].iloc[5]"
   ]
  },
  {
   "cell_type": "code",
   "execution_count": 195,
   "metadata": {},
   "outputs": [],
   "source": [
    "import string\n",
    "def text_cleaning(content):\n",
    "    word_list=str(content).split()\n",
    "    word_list=[token for token in word_list if token !=\"RT\" and not token.startswith(\"＠\") and not token.startswith(\"http\") and not token.startswith(\"https\") and not token in(stopwords)]\n",
    "    new_tokens=[]\n",
    "    for token in word_list:\n",
    "        ##lowercase the token and drop punctuation\n",
    "        token=\n",
    "        token=wnl.lemmatize(token,\"n\")\n",
    "        token=wnl.lemmatize(token,\"v\")\n",
    "        token = re.sub(\"[^A-Za-z0-9]\", \"\", token)\n",
    "        new_tokens.append(token)\n",
    "    processed_text = \" \".join(new_tokens)\n",
    "    return processed_text"
   ]
  },
  {
   "cell_type": "code",
   "execution_count": 202,
   "metadata": {},
   "outputs": [],
   "source": [
    "tweet_en['pro_Contents']=tweet_en['Contents'].apply(text_cleaning)"
   ]
  },
  {
   "cell_type": "code",
   "execution_count": 17,
   "metadata": {},
   "outputs": [
    {
     "data": {
      "text/plain": [
       "0    im at city university of hong kong  kowloon to...\n",
       "1    im at city university of hong kong  81 tat che...\n",
       "2    city university of hong kong make major enterp...\n",
       "3        feel exhaust at city university of hong kong \n",
       "4    mr mugabe make the comment a he attend his dau...\n",
       "Name: pro_Contents, dtype: object"
      ]
     },
     "execution_count": 17,
     "metadata": {},
     "output_type": "execute_result"
    }
   ],
   "source": [
    "tweet_en['pro_Contents'].head()"
   ]
  },
  {
   "cell_type": "code",
   "execution_count": 197,
   "metadata": {},
   "outputs": [
    {
     "data": {
      "text/plain": [
       "'derek leong right play city university hong kong help perak win gold sukma 2018'"
      ]
     },
     "execution_count": 197,
     "metadata": {},
     "output_type": "execute_result"
    }
   ],
   "source": [
    "##take a look at the fifth processed Contents\n"
   ]
  },
  {
   "cell_type": "markdown",
   "metadata": {},
   "source": [
    "<p>**1.2 Chinese word extraction **</p>\n",
    "- jieba (pip install jieba) https://pypi.org/project/jieba/ \n",
    "- PKUSeg, https://github.com/lancopku/pkuseg-python\n",
    "- THULAC, http://thulac.thunlp.org/"
   ]
  },
  {
   "cell_type": "code",
   "execution_count": 39,
   "metadata": {},
   "outputs": [],
   "source": [
    "import jieba"
   ]
  },
  {
   "cell_type": "code",
   "execution_count": 184,
   "metadata": {},
   "outputs": [
    {
     "data": {
      "text/plain": [
       "'走 在 風中 今天 陽光 突然 好 溫柔 , 天 的 溫柔 地 的 溫柔 像 你 抱 著 我'"
      ]
     },
     "execution_count": 184,
     "metadata": {},
     "output_type": "execute_result"
    }
   ],
   "source": [
    "##tokenizing the word\n",
    "text = '走在風中今天陽光突然好溫柔,天的溫柔地的溫柔像你抱著我'  \n",
    "cut_obj =jieba.cut(text) \n",
    "sentence=\" \".join(cut_obj)\n",
    "sentence"
   ]
  },
  {
   "cell_type": "code",
   "execution_count": 41,
   "metadata": {},
   "outputs": [
    {
     "name": "stdout",
     "output_type": "stream",
     "text": [
      "走\n",
      "在\n",
      "風中\n",
      "今天\n",
      "陽光\n",
      "突然\n",
      "好\n",
      "溫柔\n",
      "\n",
      "天\n",
      "的\n",
      "溫柔\n",
      "地\n",
      "的\n",
      "溫柔\n",
      "像\n",
      "你\n",
      "抱\n",
      "著\n",
      "我\n"
     ]
    }
   ],
   "source": [
    "##drop punctuations\n",
    "from string import punctuation\n",
    "all_punc='，。、【 】 “”：；（）《》‘’{}？！⑦()、%^>℃：.”“^-——=&#@￥!\"#$%&\\'()*+,-./:;<=>?@[\\\\]^_`{|}~'\n",
    "for token in token_list:\n",
    "    token=token.translate(str.maketrans(\"\", \"\", all_punc))\n",
    "    print (token)"
   ]
  },
  {
   "cell_type": "code",
   "execution_count": 7,
   "metadata": {},
   "outputs": [
    {
     "name": "stderr",
     "output_type": "stream",
     "text": [
      "Building prefix dict from the default dictionary ...\n",
      "Loading model from cache C:\\Users\\lguan3\\AppData\\Local\\Temp\\jieba.cache\n",
      "Loading model cost 0.767 seconds.\n",
      "Prefix dict has been built succesfully.\n"
     ]
    },
    {
     "name": "stdout",
     "output_type": "stream",
     "text": [
      "走 v\n",
      "在 p\n",
      "風 n\n",
      "中 f\n",
      "今天 t\n",
      "陽光 nr\n",
      "突然 ad\n",
      "好 a\n",
      "溫柔 a\n",
      ", x\n",
      "天 q\n",
      "的 uj\n",
      "溫柔 a\n",
      "地 uv\n",
      "的 uj\n",
      "溫柔 a\n",
      "像 v\n",
      "你 r\n",
      "抱著 v\n",
      "我 r\n"
     ]
    }
   ],
   "source": [
    "##POS-tagging\n",
    "#documentation: https://blog.csdn.net/suibianshen2012/article/details/53487157\n",
    "import jieba.posseg\n",
    "text = '走在風中今天陽光突然好溫柔,天的溫柔地的溫柔像你抱著我' \n",
    "seg=jieba.posseg.cut(text)\n",
    "for j in seg:\n",
    "    print (j.word,j.flag)"
   ]
  },
  {
   "cell_type": "markdown",
   "metadata": {},
   "source": [
    "<p>** In-class exercise 2**</p>\n",
    "- read the dataset tweet_ch_no_retw.xlsx\n",
    "- clean the \"RT\", @handle (e.g.,@yuexinmutian), and urls. \n",
    "- remove punctuations.\n",
    "- tokenize the Chinese word and connect words with space."
   ]
  },
  {
   "cell_type": "code",
   "execution_count": 43,
   "metadata": {},
   "outputs": [
    {
     "data": {
      "text/html": [
       "<div>\n",
       "<style scoped>\n",
       "    .dataframe tbody tr th:only-of-type {\n",
       "        vertical-align: middle;\n",
       "    }\n",
       "\n",
       "    .dataframe tbody tr th {\n",
       "        vertical-align: top;\n",
       "    }\n",
       "\n",
       "    .dataframe thead th {\n",
       "        text-align: right;\n",
       "    }\n",
       "</style>\n",
       "<table border=\"1\" class=\"dataframe\">\n",
       "  <thead>\n",
       "    <tr style=\"text-align: right;\">\n",
       "      <th></th>\n",
       "      <th>GUID</th>\n",
       "      <th>Date (HKT)</th>\n",
       "      <th>URL</th>\n",
       "      <th>Contents</th>\n",
       "      <th>Country</th>\n",
       "      <th>State/Region</th>\n",
       "      <th>City/Urban Area</th>\n",
       "      <th>Category</th>\n",
       "      <th>Emotion</th>\n",
       "      <th>Source</th>\n",
       "      <th>Gender</th>\n",
       "      <th>Posts</th>\n",
       "      <th>Followers</th>\n",
       "      <th>Following</th>\n",
       "      <th>Post Type</th>\n",
       "      <th>author_anonymous</th>\n",
       "      <th>if_ret</th>\n",
       "    </tr>\n",
       "  </thead>\n",
       "  <tbody>\n",
       "    <tr>\n",
       "      <th>4</th>\n",
       "      <td>323828809482784768</td>\n",
       "      <td>2013-04-16 00:02:59</td>\n",
       "      <td>http://twitter.com/voaweishi/status/3238288094...</td>\n",
       "      <td>香港市民支援爱国民主运动联合会和香港城市大学合办的第二届六四临时纪念馆，星期一在城大校园内开...</td>\n",
       "      <td>United States of America</td>\n",
       "      <td>District of Columbia</td>\n",
       "      <td>Washington, D.C.</td>\n",
       "      <td>Neutral</td>\n",
       "      <td>Unclassified</td>\n",
       "      <td>Twitter</td>\n",
       "      <td>NaN</td>\n",
       "      <td>385.0</td>\n",
       "      <td>211.0</td>\n",
       "      <td>61.0</td>\n",
       "      <td>Tweet</td>\n",
       "      <td>4</td>\n",
       "      <td>0</td>\n",
       "    </tr>\n",
       "    <tr>\n",
       "      <th>7</th>\n",
       "      <td>652543999119630336</td>\n",
       "      <td>2015-10-10 01:59:47</td>\n",
       "      <td>http://twitter.com/TheNewsChina2/status/652543...</td>\n",
       "      <td>BBC 中文网 视频讨论：从“占中”一周年看香港民主路 BBC 中文网 讨论会嘉宾：学民思潮...</td>\n",
       "      <td>NaN</td>\n",
       "      <td>NaN</td>\n",
       "      <td>NaN</td>\n",
       "      <td>Neutral</td>\n",
       "      <td>Unclassified</td>\n",
       "      <td>Twitter</td>\n",
       "      <td>NaN</td>\n",
       "      <td>84609.0</td>\n",
       "      <td>3190.0</td>\n",
       "      <td>1184.0</td>\n",
       "      <td>Tweet</td>\n",
       "      <td>7</td>\n",
       "      <td>0</td>\n",
       "    </tr>\n",
       "    <tr>\n",
       "      <th>8</th>\n",
       "      <td>337392479538139072</td>\n",
       "      <td>2013-05-23 10:20:10</td>\n",
       "      <td>http://twitter.com/wangjinbo/status/3373924795...</td>\n",
       "      <td>邀请函：独立中文笔会颁奖礼暨文学研讨会 http://t.co/Tquh725Toz 独立中...</td>\n",
       "      <td>NaN</td>\n",
       "      <td>NaN</td>\n",
       "      <td>NaN</td>\n",
       "      <td>Neutral</td>\n",
       "      <td>Unclassified</td>\n",
       "      <td>Twitter</td>\n",
       "      <td>NaN</td>\n",
       "      <td>13210.0</td>\n",
       "      <td>18828.0</td>\n",
       "      <td>403.0</td>\n",
       "      <td>Tweet</td>\n",
       "      <td>8</td>\n",
       "      <td>0</td>\n",
       "    </tr>\n",
       "    <tr>\n",
       "      <th>9</th>\n",
       "      <td>1068570626665804032</td>\n",
       "      <td>2018-12-01 02:21:05</td>\n",
       "      <td>http://twitter.com/Rick0v0/status/106857062666...</td>\n",
       "      <td>City University of Hong Kong 香港城市大學 香港城市大学 htt...</td>\n",
       "      <td>Hong Kong S.A.R.</td>\n",
       "      <td>Kowloon City</td>\n",
       "      <td>Hong Kong</td>\n",
       "      <td>Neutral</td>\n",
       "      <td>Unclassified</td>\n",
       "      <td>Twitter</td>\n",
       "      <td>NaN</td>\n",
       "      <td>93.0</td>\n",
       "      <td>5.0</td>\n",
       "      <td>87.0</td>\n",
       "      <td>Tweet</td>\n",
       "      <td>9</td>\n",
       "      <td>0</td>\n",
       "    </tr>\n",
       "    <tr>\n",
       "      <th>15</th>\n",
       "      <td>361383540182626304</td>\n",
       "      <td>2013-07-28 15:12:04</td>\n",
       "      <td>http://twitter.com/hu_jia/status/3613835401826...</td>\n",
       "      <td>有道义担当的四所大学：香港大学、中文大学、浸会大学以及城市大学。RT@queeten 港四所...</td>\n",
       "      <td>China</td>\n",
       "      <td>Beijing</td>\n",
       "      <td>NaN</td>\n",
       "      <td>Neutral</td>\n",
       "      <td>Unclassified</td>\n",
       "      <td>Twitter</td>\n",
       "      <td>NaN</td>\n",
       "      <td>9874.0</td>\n",
       "      <td>34065.0</td>\n",
       "      <td>1024.0</td>\n",
       "      <td>Tweet</td>\n",
       "      <td>15</td>\n",
       "      <td>0</td>\n",
       "    </tr>\n",
       "  </tbody>\n",
       "</table>\n",
       "</div>"
      ],
      "text/plain": [
       "                   GUID          Date (HKT)  \\\n",
       "4    323828809482784768 2013-04-16 00:02:59   \n",
       "7    652543999119630336 2015-10-10 01:59:47   \n",
       "8    337392479538139072 2013-05-23 10:20:10   \n",
       "9   1068570626665804032 2018-12-01 02:21:05   \n",
       "15   361383540182626304 2013-07-28 15:12:04   \n",
       "\n",
       "                                                  URL  \\\n",
       "4   http://twitter.com/voaweishi/status/3238288094...   \n",
       "7   http://twitter.com/TheNewsChina2/status/652543...   \n",
       "8   http://twitter.com/wangjinbo/status/3373924795...   \n",
       "9   http://twitter.com/Rick0v0/status/106857062666...   \n",
       "15  http://twitter.com/hu_jia/status/3613835401826...   \n",
       "\n",
       "                                             Contents  \\\n",
       "4   香港市民支援爱国民主运动联合会和香港城市大学合办的第二届六四临时纪念馆，星期一在城大校园内开...   \n",
       "7   BBC 中文网 视频讨论：从“占中”一周年看香港民主路 BBC 中文网 讨论会嘉宾：学民思潮...   \n",
       "8   邀请函：独立中文笔会颁奖礼暨文学研讨会 http://t.co/Tquh725Toz 独立中...   \n",
       "9   City University of Hong Kong 香港城市大學 香港城市大学 htt...   \n",
       "15  有道义担当的四所大学：香港大学、中文大学、浸会大学以及城市大学。RT@queeten 港四所...   \n",
       "\n",
       "                     Country          State/Region   City/Urban Area Category  \\\n",
       "4   United States of America  District of Columbia  Washington, D.C.  Neutral   \n",
       "7                        NaN                   NaN               NaN  Neutral   \n",
       "8                        NaN                   NaN               NaN  Neutral   \n",
       "9           Hong Kong S.A.R.          Kowloon City         Hong Kong  Neutral   \n",
       "15                     China               Beijing               NaN  Neutral   \n",
       "\n",
       "         Emotion   Source Gender    Posts  Followers  Following Post Type  \\\n",
       "4   Unclassified  Twitter    NaN    385.0      211.0       61.0     Tweet   \n",
       "7   Unclassified  Twitter    NaN  84609.0     3190.0     1184.0     Tweet   \n",
       "8   Unclassified  Twitter    NaN  13210.0    18828.0      403.0     Tweet   \n",
       "9   Unclassified  Twitter    NaN     93.0        5.0       87.0     Tweet   \n",
       "15  Unclassified  Twitter    NaN   9874.0    34065.0     1024.0     Tweet   \n",
       "\n",
       "    author_anonymous  if_ret  \n",
       "4                  4       0  \n",
       "7                  7       0  \n",
       "8                  8       0  \n",
       "9                  9       0  \n",
       "15                15       0  "
      ]
     },
     "execution_count": 43,
     "metadata": {},
     "output_type": "execute_result"
    }
   ],
   "source": [
    "## read the data tweet_ch_no_retw.xlsx\n",
    "tweet_ch=\n",
    "tweet_ch.head()"
   ]
  },
  {
   "cell_type": "code",
   "execution_count": 107,
   "metadata": {},
   "outputs": [
    {
     "data": {
      "text/plain": [
       "'前香港城市大学讲座教授刘汉城在汉藏会议演讲-<大清一统志>、<大明一统志>里的地图画的很清楚，中国领土里没有西藏。无论大清会典也好明史也好，都很清楚表现出，中国从来没能力在西藏抽税，从来没能力在西... https://t.co/VW1OK3LK04 via @lvv2com'"
      ]
     },
     "execution_count": 107,
     "metadata": {},
     "output_type": "execute_result"
    }
   ],
   "source": [
    "## taka a look at the content of index 332\n"
   ]
  },
  {
   "cell_type": "code",
   "execution_count": 50,
   "metadata": {},
   "outputs": [],
   "source": [
    "import re\n",
    "def clean_chinese_word(contents):\n",
    "    s=str(contents).split()\n",
    "    sentence_list=[token for token in s if token !=\"RT\" and not token.startswith(\"＠\") and not token.startswith(\"@\") and not token.startswith(\"http\") and not token.startswith(\"https\") and not token in(stopwords)]\n",
    "    text=' '.join(sentence_list)\n",
    "    ## use jieba to tokenize the text\n",
    "    seg=\n",
    "    new_word_list=[]\n",
    "    for j in seg:\n",
    "        if j.flag!='x':\n",
    "            new_word_list.append(j.word)\n",
    "    sentence=\" \".join(new_word_list)\n",
    "    return sentence"
   ]
  },
  {
   "cell_type": "code",
   "execution_count": 51,
   "metadata": {},
   "outputs": [
    {
     "data": {
      "text/plain": [
       "'前 香港城市大学 讲座 教授 刘 汉城 在 汉藏 会议 演讲 大清 一统 志 大明 一统 志 里 的 地 图画 的 很 清楚 中国 领土 里 没有 西藏 无论 大清 会典 也好 明史 也好 都 很 清楚 表现 出 中国 从来 没 能力 在 西藏 抽税 从来 没 能力 在 西 ... via'"
      ]
     },
     "execution_count": 51,
     "metadata": {},
     "output_type": "execute_result"
    }
   ],
   "source": [
    "clean_chinese_word(tweet_ch['Contents'].iloc[332])"
   ]
  },
  {
   "cell_type": "code",
   "execution_count": 201,
   "metadata": {},
   "outputs": [],
   "source": [
    "tweet_ch['pro_Contents']=tweet_ch['Contents'].apply(clean_chinese_word)"
   ]
  },
  {
   "cell_type": "code",
   "execution_count": 10,
   "metadata": {
    "scrolled": true
   },
   "outputs": [
    {
     "data": {
      "text/plain": [
       "4     香港市民 支援 爱国 民主运动 联合会 和 香港城市大学 合办 的 第二届 六四 临时 纪念...\n",
       "7     BBC 中文网 视频 讨论 从 占 中 一周年 看 香港 民主 路 BBC 中文网 讨论会 ...\n",
       "8     邀请函 独立 中文 笔会 颁奖礼 暨 文学 研讨会 独立 中文 笔会 将 於 5 月 25 ...\n",
       "9          City University of Hong Kong 香港 城市 大學 香港城市大学\n",
       "15    有 道义 担当 的 四所 大学 香港大学 中文 大学 浸会 大学 以及 城市 大学 RT q...\n",
       "Name: pro_Contents, dtype: object"
      ]
     },
     "execution_count": 10,
     "metadata": {},
     "output_type": "execute_result"
    }
   ],
   "source": [
    "tweet_ch['pro_Contents'].head()"
   ]
  },
  {
   "cell_type": "markdown",
   "metadata": {},
   "source": [
    "### Notes"
   ]
  },
  {
   "cell_type": "markdown",
   "metadata": {},
   "source": [
    "### 2. Bag-of-words model (BOW)\n",
    "Represent text as numerical feature vectors<br>\n",
    "- We create a vocabulary of unique tokens—for example, words—from the entire set of documents.<br>\n",
    "- We construct a feature vector from each document that contains the counts of how often each word occurs in the particular document.<br>\n",
    "- Since the unique words in each document represent only a small subset of all the words in the bag-of-words vocabulary, the feature vectors will consist of mostly zeros, which is why we call them sparse<br>\n",
    "<img src=\"images/bagofwords.jpeg\" width=\"60%\" style=\"float: left\"> "
   ]
  },
  {
   "cell_type": "markdown",
   "metadata": {},
   "source": [
    "### 3.Feature Selection and transformation \n",
    "- Finding terms that best represent texts in each category<br>\n",
    "<p>**solution 1:**</p>\n",
    "- Picking up the most discriminant terms in each category.<br>\n",
    "- f_classif：Compute the ANOVA F-value for the provided sample\n",
    "- χ2 calculates whether the occurrence of the term and occurrence of the category are independent.<br>\n",
    "<p>**solution 2:**</p>\n",
    "- TFIDF, short for term frequency–inverse document frequency, is the product of two statistics, term frequency and inverse document frequency.<br>\n",
    "<img src=\"images/tfidf.png\" width=\"60%\" style=\"float: left\"> \n"
   ]
  },
  {
   "cell_type": "markdown",
   "metadata": {},
   "source": [
    "### Code"
   ]
  },
  {
   "cell_type": "code",
   "execution_count": 25,
   "metadata": {},
   "outputs": [
    {
     "name": "stdout",
     "output_type": "stream",
     "text": [
      "['aaa', 'bbb', 'ccc']\n"
     ]
    }
   ],
   "source": [
    "from sklearn import feature_extraction\n",
    "from sklearn.feature_extraction.text import CountVectorizer \n",
    "from sklearn.feature_extraction.text import TfidfTransformer  \n",
    "\n",
    "corpus = ['aaa ccc aaa aaa', \n",
    "          'aaa aaa', \n",
    "          'aaa aaa aaa', \n",
    "          'aaa aaa aaa aaa',\n",
    "          'aaa bbb aaa bbb aaa',\n",
    "          'ccc aaa aaa ccc aaa'\n",
    "         ]\n",
    "vectorizer = CountVectorizer() \n",
    "X = vectorizer.fit_transform(corpus)\n",
    "\n",
    "# Get the vocabulary in vectorizer   \n",
    "word = vectorizer.get_feature_names()  \n",
    "print(word)"
   ]
  },
  {
   "cell_type": "code",
   "execution_count": 52,
   "metadata": {},
   "outputs": [
    {
     "name": "stdout",
     "output_type": "stream",
     "text": [
      "[[3 0 1]\n",
      " [2 0 0]\n",
      " [3 0 0]\n",
      " [4 0 0]\n",
      " [3 2 0]\n",
      " [3 0 2]]\n"
     ]
    }
   ],
   "source": [
    "# obtian the term frequency matrix\n",
    "print (X.toarray())"
   ]
  },
  {
   "cell_type": "code",
   "execution_count": 53,
   "metadata": {},
   "outputs": [
    {
     "name": "stdout",
     "output_type": "stream",
     "text": [
      "[[0.85151335 0.         0.52433293]\n",
      " [1.         0.         0.        ]\n",
      " [1.         0.         0.        ]\n",
      " [1.         0.         0.        ]\n",
      " [0.55422893 0.83236428 0.        ]\n",
      " [0.63035731 0.         0.77630514]]\n"
     ]
    }
   ],
   "source": [
    "transformer = TfidfTransformer()\n",
    "tfidf = transformer.fit_transform(X)\n",
    "print(tfidf.toarray())"
   ]
  },
  {
   "cell_type": "markdown",
   "metadata": {},
   "source": [
    "#### In-class exercise 3\n",
    "- construct the word vector for Chinese processed tweets. \n",
    "- Get the top 10 words according to term frequency\n",
    "- Use TF-IDF to process the term frequency vector."
   ]
  },
  {
   "cell_type": "code",
   "execution_count": 204,
   "metadata": {},
   "outputs": [
    {
     "data": {
      "text/plain": [
       "6770"
      ]
     },
     "execution_count": 204,
     "metadata": {},
     "output_type": "execute_result"
    }
   ],
   "source": [
    "##combine two datasets together\n",
    "tweet_total=\n",
    "len(tweet_total)"
   ]
  },
  {
   "cell_type": "code",
   "execution_count": 205,
   "metadata": {},
   "outputs": [
    {
     "name": "stdout",
     "output_type": "stream",
     "text": [
      "[('龟苓膏', 12356), ('龟板', 12355), ('齐鲁', 12354), ('齐韵宇', 12353), ('鼓掌', 12352), ('鼓吹', 12351), ('鼓励', 12350), ('鼓动', 12349), ('默契', 12348), ('黑色', 12347), ('黑珍珠', 12346), ('黑暗', 12345), ('黑布', 12344), ('黑客', 12343), ('黑奴', 12342), ('黎明前', 12341), ('黄色', 12340), ('黄文俊', 12339), ('黄成荣', 12338), ('黄子悦', 12337), ('麻省理工学院', 12336), ('麻省理工', 12335), ('麦镜', 12334), ('鹤立鸡群', 12333), ('鸠山由纪夫', 12332), ('鸠山', 12331), ('鲜血', 12330), ('鲍朴', 12329), ('鲁港', 12328), ('鱼蛋', 12327), ('高麗', 12326), ('高速', 12325), ('高达斌', 12324), ('高达', 12323), ('高调', 12322), ('高自联', 12321), ('高考', 12320), ('高级顾问', 12319), ('高级', 12318), ('高等教育', 12317), ('高等学府', 12316), ('高热量', 12315), ('高水平', 12314), ('高校', 12313), ('高标准', 12312), ('高敬文', 12311), ('高效', 12310), ('高招', 12309), ('高度', 12308), ('高层', 12307), ('高喊', 12306), ('高分子', 12305), ('高分', 12304), ('高估', 12303), ('高价', 12302), ('高中毕业', 12301), ('高中同学', 12300), ('高中', 12299), ('骸骨', 12298), ('骨骸', 12297), ('骗子', 12296), ('骗取', 12295), ('验水', 12294), ('驻港', 12293), ('驻法', 12292), ('驱动', 12291), ('马英九', 12290), ('马聚', 12289), ('马来西亚', 12288), ('马斐森', 12287), ('马家辉', 12286), ('马克', 12285), ('香港立法会', 12284), ('香港科技大学', 12283), ('香港理工大学', 12282), ('香港特区政府', 12281), ('香港特区', 12280), ('香港特别行政区', 12279), ('香港浸会大学', 12278), ('香港政府', 12277), ('香港廉政公署', 12276), ('香港市民', 12275), ('香港媒体', 12274), ('香港大学', 12273), ('香港基本法', 12272), ('香港城市大学', 12271), ('香港城', 12270), ('香港回归', 12269), ('香港凤凰卫视', 12268), ('香港中文大学', 12267), ('香港中文', 12266), ('香港', 12265), ('香江', 12264), ('首间', 12263), ('首都经贸大学', 12262), ('首都', 12261), ('首次', 12260), ('首批', 12259), ('首席', 12258), ('首届', 12257), ('首发', 12256), ('首位', 12255), ('首任', 12254), ('首个', 12253), ('饱腹', 12252), ('饮用水', 12251), ('饭碗', 12250), ('饭后', 12249), ('餐厅', 12248), ('食堂', 12247), ('风评', 12246), ('风波', 12245), ('风格', 12244), ('风暴', 12243), ('风尚', 12242), ('风声鹤唳', 12241), ('颜面', 12240), ('题目', 12239), ('频频', 12238), ('频遭', 12237), ('频道', 12236), ('频繁', 12235), ('领袖', 12234), ('领导人', 12233), ('领导', 12232), ('领奖', 12231), ('领域', 12230), ('领土', 12229), ('领军', 12228), ('领事部', 12227), ('颅骨', 12226), ('预计', 12225), ('预测', 12224), ('预期', 12223), ('预告', 12222), ('颁授', 12221), ('颁奖礼', 12220), ('颁奖典礼', 12219), ('颁奖会', 12218), ('颁奖', 12217), ('颁发', 12216), ('顾明', 12215), ('顾敏康', 12214), ('顺民', 12213), ('顺序', 12212), ('项目', 12211), ('顶棚', 12210), ('页面', 12209), ('音乐盒', 12208), ('音乐', 12207), ('韩籍', 12206), ('韩国', 12205), ('韓国', 12204), ('革命家', 12203), ('革命', 12202), ('面额', 12201), ('面貌', 12200), ('面谈', 12199), ('面试', 12198), ('面积', 12197), ('面对面', 12196), ('面对', 12195), ('面向', 12194), ('面临', 12193), ('非西方', 12192), ('非营利', 12191), ('非常重视', 12190), ('非常明显', 12189), ('非常', 12188), ('非典', 12187), ('非党员', 12186), ('非但', 12185), ('青年', 12184), ('青岛', 12183), ('青少年', 12182), ('青姐', 12181), ('露出', 12180), ('震撼', 12179), ('震惊', 12178), ('震压', 12177), ('需谨慎', 12176), ('需要', 12175), ('雾霾', 12174), ('雷鼎鸣', 12173), ('雷洋', 12172), ('雪松', 12171), ('雨水', 12170), ('雨伞', 12169), ('集锦', 12168), ('集团', 12167), ('集会', 12166), ('雅安', 12165), ('雄居', 12164), ('难题', 12163), ('难道', 12162), ('难进', 12161), ('难今', 12160), ('隐藏', 12159), ('隐私', 12158), ('随笔', 12157), ('随着', 12156), ('随时', 12155), ('随手', 12154), ('随便', 12153), ('陷阱', 12152), ('陶醉', 12151), ('陶瓷', 12150), ('除去', 12149), ('除了', 12148), ('院长', 12147), ('院系', 12146), ('院校', 12145), ('院士', 12144), ('陕西省', 12143), ('限制', 12142), ('降职', 12141), ('陈述', 12140), ('陈立', 12139), ('陈浩天', 12138), ('陈树庆', 12137), ('陈方', 12136), ('陈岳霖', 12135), ('陈学然', 12134), ('陈启宗', 12133), ('陈博士', 12132), ('陈健民', 12131), ('陈佐坚', 12130), ('陈云', 12129), ('附近', 12128), ('附带', 12127), ('阻止', 12126), ('阻拦', 12125), ('阶段', 12124), ('阵营', 12123), ('阳明', 12122), ('阳光', 12121), ('防窃听', 12120), ('防止', 12119), ('防伪', 12118), ('队伍', 12117), ('阅读', 12116), ('闹剧', 12115), ('闹事', 12114), ('间谍', 12113), ('闲逛', 12112), ('闯中', 12111), ('问题', 12110), ('问答', 12109), ('问卷', 12108), ('问到', 12107), ('闭幕', 12106), ('门票', 12105), ('门口', 12104), ('開館', 12103), ('開幕', 12102), ('长远规划', 12101), ('长跑', 12100), ('长江', 12099), ('长期', 12098), ('长寿', 12097), ('镜湖', 12096), ('镇压', 12095), ('键盘', 12094), ('锦标赛', 12093), ('错误', 12092), ('锁定', 12091), ('链接', 12090), ('银行', 12089), ('铭感', 12088), ('铜锣湾', 12087), ('铁站', 12086), ('铁牛', 12085), ('钻石', 12084), ('钻井', 12083), ('钱钢', 12082), ('钟鑫', 12081), ('钟情', 12080), ('钓鱼岛', 12079), ('针对', 12078), ('金钟', 12077), ('金融机构', 12076), ('金融', 12075), ('金沙', 12074), ('金属外壳', 12073), ('金尧', 12072), ('金卷', 12071), ('量化', 12070), ('野鸡大学', 12069), ('重金', 12068), ('重量级', 12067), ('重逢', 12066), ('重视', 12065), ('重要途径', 12064), ('重要', 12063), ('重获', 12062), ('重罚', 12061), ('重组', 12060), ('重演', 12059), ('重油', 12058), ('重样', 12057), ('重新', 12056), ('重担', 12055), ('重开', 12054), ('重庆', 12053), ('重大事件', 12052), ('重大', 12051), ('重启', 12050), ('重判', 12049), ('重创', 12048), ('里面', 12047), ('释放', 12046), ('采集', 12045), ('采购', 12044), ('采访', 12043), ('采用', 12042), ('采煤', 12041), ('采取', 12040), ('酬劳', 12039), ('酒吧', 12038), ('酒乡', 12037), ('配图', 12036), ('配合', 12035), ('鄭宇碩', 12034), ('鄢秀', 12033), ('郭黎玉', 12032), ('郭致伟', 12031), ('郭泉', 12030), ('郭位', 12029), ('部门', 12028), ('部署', 12027), ('部到', 12026), ('部分', 12025), ('郝柏村', 12024), ('郑重', 12023), ('郑治祖', 12022), ('郑汉良', 12021), ('郑文龙', 12020), ('郑小红', 12019), ('郑宇硕星', 12018), ('郑宇硕', 12017), ('郑宇', 12016), ('郑培凯', 12015), ('郑国', 12014), ('郑利明', 12013), ('郁闷', 12012), ('邹思聪', 12011), ('邵逸夫', 12010), ('邵志飞', 12009), ('邮件', 12008), ('那里', 12007), ('那年', 12006), ('那位', 12005), ('那人', 12004), ('那些', 12003), ('那么', 12002), ('那个', 12001), ('邢利宇', 12000), ('邝治', 11999), ('邓聿文', 11998), ('邓景辉', 11997), ('邓家', 11996), ('邓为', 11995), ('邂逅', 11994), ('邀请函', 11993), ('邀请', 11992), ('遴选', 11991), ('遭遇', 11990), ('遭袭', 11989), ('遭殃', 11988), ('遭拒', 11987), ('遭前', 11986), ('遣返', 11985), ('遗物', 11984), ('遗憾', 11983), ('遗产', 11982), ('遗书', 11981), ('道路', 11980), ('道歉', 11979), ('道义', 11978), ('過來', 11977), ('遇阻', 11976), ('遇袭', 11975), ('遇到', 11974), ('逼真', 11973), ('逼死', 11972), ('逢甲大学', 11971), ('造成', 11970), ('速递', 11969), ('速度', 11968), ('逝于', 11967), ('逝世', 11966), ('通過', 11965), ('通过', 11964), ('通行证', 11963), ('通行', 11962), ('通知书', 11961), ('通用', 11960), ('通常', 11959), ('通学', 11958), ('途经', 11957), ('逐渐', 11956), ('逐步', 11955), ('透露', 11954), ('透过', 11953), ('透明', 11952), ('选过', 11951), ('选读', 11950), ('选民', 11949), ('选择', 11948), ('选出', 11947), ('选举', 11946), ('逆袭', 11945), ('适应', 11944), ('送院', 11943), ('退选', 11942), ('退货', 11941), ('退学', 11940), ('退出', 11939), ('退休', 11938), ('追求', 11937), ('迪拜', 11936), ('迟早', 11935), ('连署', 11934), ('连续', 11933), ('连线', 11932), ('连日', 11931), ('连接', 11930), ('违法行为', 11929), ('违反', 11928), ('远处', 11927), ('进食', 11926), ('进门', 11925), ('进行', 11924), ('进步', 11923), ('进度', 11922), ('进展', 11921), ('进场', 11920), ('进取', 11919), ('进去', 11918), ('进入', 11917), ('进修学校', 11916), ('进修', 11915), ('进京', 11914), ('进一步', 11913), ('这里', 11912), ('这种', 11911), ('这次', 11910), ('这样', 11909), ('这时候', 11908), ('这场', 11907), ('这位', 11906), ('这些', 11905), ('这么', 11904), ('这个', 11903), ('还有', 11902), ('还是', 11901), ('返美', 11900), ('返回', 11899), ('近距离', 11898), ('近期', 11897), ('近日', 11896), ('近年来', 11895), ('近年', 11894), ('近城大', 11893), ('近万名', 11892), ('运输', 11891), ('运行', 11890), ('运筹学', 11889), ('运动', 11888), ('运作', 11887), ('迈进', 11886), ('迈出', 11885), ('过程', 11884), ('过渡态', 11883), ('过渡', 11882), ('过来', 11881), ('过度', 11880), ('过去', 11879), ('过半', 11878), ('过前', 11877), ('过关', 11876), ('过从甚密', 11875), ('迅速', 11874), ('达赖喇嘛', 11873), ('达标', 11872), ('达成', 11871), ('达到', 11870), ('边缘', 11869), ('辩论赛', 11868), ('辩论', 11867), ('辞职', 11866), ('辖下', 11865), ('输送', 11864), ('辐射线', 11863), ('辐射', 11862), ('辅导', 11861), ('辅仁大学', 11860), ('较高', 11859), ('较差', 11858), ('较佳', 11857), ('较为', 11856), ('载体', 11855), ('轻伤', 11854), ('软禁', 11853), ('软硬件', 11852), ('软体', 11851), ('软件', 11850), ('转载', 11849), ('转贴', 11848), ('转脸', 11847), ('转播', 11846), ('转型', 11845), ('转告', 11844), ('转变', 11843), ('转入', 11842), ('转为', 11841), ('轉自', 11840), ('身边', 11839), ('身着', 11838), ('身处', 11837), ('身后', 11836), ('身份证', 11835), ('身份', 11834), ('身亡', 11833), ('身为', 11832), ('踏足', 11831), ('踏入', 11830), ('跻身', 11829), ('跳楼自杀', 11828), ('跳楼', 11827), ('路透社', 11826), ('路透', 11825), ('路线', 11824), ('路程', 11823), ('跨境', 11822), ('跟随', 11821), ('跌出', 11820), ('跃升', 11819), ('趾甲', 11818), ('足赛', 11817), ('足够', 11816), ('足以', 11815), ('趋势', 11814), ('越来越少', 11813), ('越来越', 11812), ('越发', 11811), ('超过', 11810), ('超越', 11809), ('超级大国', 11808), ('超标', 11807), ('超市', 11806), ('超出', 11805), ('起码', 11804), ('起点', 11803), ('起来', 11802), ('起因', 11801), ('起到', 11800), ('赶出', 11799), ('赵紫阳', 11798), ('赵建华', 11797), ('赴美', 11796), ('走进', 11795), ('走路', 11794), ('走向', 11793), ('走势', 11792), ('走出', 11791), ('走上', 11790), ('赤色', 11789), ('赤化', 11788), ('赢得', 11787), ('赞成', 11786), ('赛车队', 11785), ('赐教', 11784), ('资讯', 11783), ('资源网', 11782), ('资源', 11781), ('资深', 11780), ('资本主义', 11779), ('资本', 11778), ('资料', 11777), ('资历', 11776), ('资助', 11775), ('资优', 11774), ('贿赂', 11773), ('贿款', 11772), ('贺蓓', 11771), ('费用', 11770), ('贸易战', 11769), ('贸易大学', 11768), ('贸易', 11767), ('购置', 11766), ('购物', 11765), ('购房', 11764), ('购入', 11763), ('购买', 11762), ('贫富差距', 11761), ('贪污', 11760), ('贪尽', 11759), ('质疑', 11758), ('质化', 11757), ('货币', 11756), ('责任感', 11755), ('责任', 11754), ('财经', 11753), ('财政部', 11752), ('贡献', 11751), ('负责', 11750), ('貓貓', 11749), ('貌似', 11748), ('豪宅', 11747), ('豆瓣', 11746), ('谴城', 11745), ('谭桂', 11744), ('谭嘉琪', 11743), ('谢谢', 11742), ('谈谈', 11741), ('谈判', 11740), ('谈不上', 11739), ('调研', 11738), ('调查结果', 11737), ('调查报告', 11736), ('调查', 11735), ('调整', 11734), ('调停', 11733), ('课程', 11732), ('课室', 11731), ('课堂', 11730), ('课后', 11729), ('课业', 11728), ('读者', 11727), ('读博', 11726), ('读书', 11725), ('诺贝尔和平奖', 11724), ('诸位', 11723), ('请问', 11722), ('请教', 11721), ('请出', 11720), ('说明会', 11719), ('误报', 11718), ('语言学', 11717), ('语言', 11716), ('详细分析', 11715), ('该楼', 11714), ('该校', 11713), ('该条', 11712), ('该报', 11711), ('话题', 11710), ('诚意', 11709), ('诚信', 11708), ('诗人', 11707), ('试题', 11706), ('试试', 11705), ('试图', 11704), ('译协', 11703), ('词语', 11702), ('诊所', 11701), ('诉求', 11700), ('评论部', 11699), ('评论家', 11698), ('评论员', 11697), ('评论', 11696), ('评比', 11695), ('评委', 11694), ('评估', 11693), ('评价', 11692), ('评为', 11691), ('评中', 11690), ('证物', 11689), ('证明', 11688), ('证实', 11687), ('访问期间', 11686), ('访问学者', 11685), ('访问', 11684), ('访谈', 11683), ('访英', 11682), ('访京', 11681), ('设计', 11680), ('设置', 11679), ('设立', 11678), ('设在', 11677), ('设为', 11676), ('论述', 11675), ('论文', 11674), ('论坛', 11673), ('许波', 11672), ('许多支', 11671), ('许多', 11670), ('讲课', 11669), ('讲解', 11668), ('讲授', 11667), ('讲座', 11666), ('讲师', 11665), ('讲堂', 11664), ('记者会', 11663), ('记者', 11662), ('记得', 11661), ('记录', 11660), ('议题', 11659), ('议论', 11658), ('议案', 11657), ('议员', 11656), ('训练', 11655), ('讨论会', 11654), ('讨论', 11653), ('认错', 11652), ('认识', 11651), ('认证', 11650), ('认抬', 11649), ('认同度', 11648), ('认同', 11647), ('认为', 11646), ('计算机系统', 11645), ('计算机系', 11644), ('计算机科学', 11643), ('计算机专业', 11642), ('计算机', 11641), ('计算', 11640), ('计划', 11639), ('警署', 11638), ('警方', 11637), ('警察', 11636), ('警官', 11635), ('警员', 11634), ('誓词', 11633), ('誓不两立', 11632), ('詳細', 11631), ('記念館', 11630), ('記得', 11629), ('言论自由', 11628), ('言论', 11627), ('言行', 11626), ('触发', 11625), ('解雇', 11624), ('解释', 11623), ('解读', 11622), ('解说', 11621), ('解析', 11620), ('解决', 11619), ('角色', 11618), ('角度', 11617), ('觉醒', 11616), ('觉得', 11615), ('视频', 11614), ('视野', 11613), ('视角', 11612), ('视若无睹', 11611), ('视窗', 11610), ('规定', 11609), ('规划', 11608), ('观点', 11607), ('观察', 11606), ('观众', 11605), ('见面', 11604), ('见过世面', 11603), ('见证', 11602), ('见报率', 11601), ('见报', 11600), ('要求', 11599), ('要件', 11598), ('要义', 11597), ('西藏', 11596), ('西班牙', 11595), ('西湖区', 11594), ('西洋', 11593), ('西方', 11592), ('西北工业大学', 11591), ('西北大学', 11590), ('裙底', 11589), ('装置', 11588), ('裁定', 11587), ('裁判', 11586), ('袭击', 11585), ('被禁', 11584), ('被捕', 11583), ('被判', 11582), ('袋子', 11581), ('表达', 11580), ('表示', 11579), ('表现', 11578), ('表明', 11577), ('表态', 11576), ('表决', 11575), ('补贴', 11574), ('补课', 11573), ('衡水', 11572), ('衙前', 11571), ('街道', 11570), ('街市', 11569), ('街头', 11568), ('行贿罪', 11567), ('行文', 11566), ('行政院', 11565), ('行政长官', 11564), ('行政', 11563), ('行径', 11562), ('行动计划', 11561), ('行动', 11560), ('行列', 11559), ('行人', 11558), ('行为习惯', 11557), ('行为', 11556), ('血腥', 11555), ('血液病', 11554), ('蛋丸', 11553), ('虽然', 11552), ('虚荣心', 11551), ('虚拟', 11550), ('虚报', 11549), ('虚假', 11548), ('虐待', 11547), ('藏文', 11546), ('藏区', 11545), ('薪火相传', 11544), ('薛泉', 11543), ('蔡耀昌', 11542), ('蔓延', 11541), ('蓬勃', 11540), ('蓝皮书', 11539), ('蒙特利尔', 11538), ('董事长', 11537), ('葡萄酒', 11536), ('著名', 11535), ('著作', 11534), ('落户', 11533), ('落成典礼', 11532), ('落成', 11531), ('落实', 11530), ('落后', 11529), ('营销', 11528), ('营救', 11527), ('菌数', 11526), ('获胜', 11525), ('获得', 11524), ('获奖者', 11523), ('莫之许', 11522), ('药物', 11521), ('荣誉', 11520), ('荣膺', 11519), ('荣幸', 11518), ('草皮', 11517), ('草书', 11516), ('茶道', 11515), ('茶友', 11514), ('茶人', 11513), ('范彭', 11512), ('范围', 11511), ('苹果日报', 11510), ('苹果', 11509), ('英雄主义', 11508), ('英雄', 11507), ('英格兰', 11506), ('英文', 11505), ('英国伦敦大学', 11504), ('英国伦敦', 11503), ('英国', 11502), ('若干', 11501), ('若以', 11500), ('苏联', 11499), ('苏州大学', 11498), ('花絮', 11497), ('花式', 11496), ('花园', 11495), ('节能', 11494), ('节目', 11493), ('艺术家', 11492), ('艺术', 11491), ('艺廊', 11490), ('良心', 11489), ('良好', 11488), ('船只', 11487), ('航空', 11486), ('舞台', 11485), ('舆论', 11484), ('致辞', 11483), ('致病', 11482), ('致意', 11481), ('致函', 11480), ('致信', 11479), ('致使', 11478), ('至少', 11477), ('至今已有', 11476), ('至今', 11475), ('自身', 11474), ('自资', 11473), ('自称', 11472), ('自由港', 11471), ('自由派', 11470), ('自由人', 11469), ('自由', 11468), ('自治', 11467), ('自杀', 11466), ('自拍', 11465), ('自我检讨', 11464), ('自我感觉', 11463), ('自我介绍', 11462), ('自我', 11461), ('自己', 11460), ('自取其辱', 11459), ('自动', 11458), ('臉書', 11457), ('腾讯网', 11456), ('腾讯', 11455), ('腐败', 11454), ('脸书', 11453), ('脉冲', 11452), ('能源', 11451), ('能够', 11450), ('能否', 11449), ('能力', 11448), ('胡风', 11447), ('胡耀邦', 11446), ('胡法光', 11445), ('胡孟青', 11444), ('胡国兴', 11443), ('背负', 11442), ('背景', 11441), ('背后', 11440), ('胃痛', 11439), ('肯定', 11438), ('股评家', 11437), ('股份', 11436), ('股东', 11435), ('肉票', 11434), ('肉眼', 11433), ('肇祸', 11432), ('聲援', 11431), ('聪明', 11430), ('聚聚', 11429), ('聚焦', 11428), ('聚居', 11427), ('聘用', 11426), ('联谊会', 11425), ('联署', 11424), ('联络处', 11423), ('联络', 11422), ('联组', 11421), ('联系人', 11420), ('联社', 11419), ('联盟', 11418), ('联手', 11417), ('联席会议', 11416), ('联名', 11415), ('联合报', 11414), ('联合国人权委员会', 11413), ('联合国', 11412), ('联合会', 11411), ('联合', 11410), ('联办', 11409), ('联会', 11408), ('职场', 11407), ('职员', 11406), ('职位', 11405), ('职业', 11404), ('聆讯', 11403), ('耻辱', 11402), ('耶鲁大学', 11401), ('耶鲁', 11400), ('耗电量', 11399), ('耗用', 11398), ('而已', 11397), ('而且', 11396), ('考验', 11395), ('考试', 11394), ('考虑一下', 11393), ('考虑', 11392), ('考生', 11391), ('考察', 11390), ('考场', 11389), ('考取', 11388), ('考入', 11387), ('老肖', 11386), ('老板', 11385), ('老朋友', 11384), ('老师', 11383), ('老外', 11382), ('老同学', 11381), ('老公', 11380), ('翻译成', 11379), ('翻译学', 11378), ('翻译', 11377), ('翻墙', 11376), ('翻出', 11375), ('翁启惠', 11374), ('群里', 11373), ('群益会', 11372), ('群发', 11371), ('群体', 11370), ('羞恥', 11369), ('美籍', 11368), ('美朝', 11367), ('美学', 11366), ('美妙', 11365), ('美好', 11364), ('美国纽约', 11363), ('美国普林斯顿大学', 11362), ('美国斯坦福大学', 11361), ('美国国防部', 11360), ('美国加州大学', 11359), ('美国之音', 11358), ('美国', 11357), ('美元', 11356), ('美中关系', 11355), ('羊绒', 11354), ('羊子', 11353), ('置业', 11352), ('罢课', 11351), ('罢免', 11350), ('罗湖口岸', 11349), ('罗湖', 11348), ('罕见', 11347), ('罕有', 11346), ('网购', 11345), ('网络媒体', 11344), ('网络', 11343), ('网站', 11342), ('网瘾', 11341), ('网易', 11340), ('网友', 11339), ('网刊', 11338), ('网上', 11337), ('缺陷', 11336), ('缺考', 11335), ('缺席', 11334), ('缺乏', 11333), ('缩小', 11332), ('编造谎言', 11331), ('编辑', 11330), ('编者注', 11329), ('编导', 11328), ('编委会', 11327), ('绿营', 11326), ('绿灯', 11325), ('绿化', 11324), ('综述', 11323), ('综合', 11322), ('维稳', 11321), ('维权网', 11320), ('维权', 11319), ('维持', 11318), ('维护', 11317), ('维基百科', 11316), ('绮雯', 11315), ('续跌', 11314), ('续租', 11313), ('继而', 11312), ('继续', 11311), ('继承', 11310), ('统计', 11309), ('统筹', 11308), ('统招', 11307), ('统一', 11306), ('绝对', 11305), ('给予', 11304), ('绘制', 11303), ('结论', 11302), ('结果', 11301), ('结构', 11300), ('结束', 11299), ('结婚', 11298), ('结伴', 11297), ('经验', 11296), ('经理', 11295), ('经济趋势', 11294), ('经济系', 11293), ('经济日报', 11292), ('经济委员会', 11291), ('经济', 11290), ('经民', 11289), ('经常', 11288), ('经历', 11287), ('经余杰', 11286), ('细菌', 11285), ('细胞', 11284), ('组织', 11283), ('组成', 11282), ('组图', 11281), ('组团', 11280), ('纽约时报', 11279), ('纽约', 11278), ('纸张', 11277), ('纸币', 11276), ('纷纷', 11275), ('纵览', 11274), ('纳米', 11273), ('纲领', 11272), ('纯属', 11271), ('纪硕鸣', 11270), ('纪念馆', 11269), ('纪念奖', 11268), ('纪念', 11267), ('纪录片', 11266), ('纪录', 11265), ('纪元', 11264), ('约翰逊', 11263), ('红领巾', 11262), ('红酒', 11261), ('红血球', 11260), ('红色', 11259), ('红底白字', 11258), ('红太阳', 11257), ('纠纷', 11256), ('纠正', 11255), ('繁华', 11254), ('維基', 11253), ('累死', 11252), ('紫荆花', 11251), ('紧急', 11250), ('索取', 11249), ('紀念館', 11248), ('系统工程', 11247), ('系统', 11246), ('系学', 11245), ('系列丛书', 11244), ('系列', 11243), ('系内', 11242), ('系主任', 11241), ('系主', 11240), ('精选', 11239), ('精辟', 11238), ('精英', 11237), ('精神领袖', 11236), ('精神', 11235), ('粮仓', 11234), ('粪便', 11233), ('粤语', 11232), ('粤語', 11231), ('粤普之争', 11230), ('粤东', 11229), ('粉尘', 11228), ('米饭', 11227), ('米粉', 11226), ('篮球场', 11225), ('管理系统', 11224), ('管理系', 11223), ('管理', 11222), ('管教', 11221), ('管制', 11220), ('算法', 11219), ('算是', 11218), ('简英', 11217), ('简繁', 11216), ('简称', 11215), ('简悦', 11214), ('简历', 11213), ('简单', 11212), ('签署', 11211), ('签约', 11210), ('签字仪式', 11209), ('筹得', 11208), ('筹备会议', 11207), ('策略', 11206), ('策展', 11205), ('策动', 11204), ('策划', 11203), ('答案', 11202), ('等候', 11201), ('第四届', 11200), ('第四家', 11199), ('第四名', 11198), ('第四', 11197), ('第十届', 11196), ('第十', 11195), ('第六届', 11194), ('第五届', 11193), ('第二批', 11192), ('第二年', 11191), ('第二届', 11190), ('第二宗', 11189), ('第二季度', 11188), ('第二季', 11187), ('第二天', 11186), ('第二名', 11185), ('第二', 11184), ('第三届', 11183), ('第三季', 11182), ('第七届', 11181), ('第七', 11180), ('第一次', 11179), ('第一座', 11178), ('第一季度', 11177), ('第一场', 11176), ('第一', 11175), ('符合', 11174), ('笛子', 11173), ('笔试', 11172), ('笔译', 11171), ('笔者', 11170), ('笔会', 11169), ('章程', 11168), ('竟然', 11167), ('竟是', 11166), ('竞选', 11165), ('竞标', 11164), ('竞争', 11163), ('站外', 11162), ('立法会', 11161), ('立场', 11160), ('立即', 11159), ('窦文宇', 11158), ('突袭', 11157), ('突破点', 11156), ('突破', 11155), ('突然', 11154), ('突塌', 11153), ('突出', 11152), ('穿透', 11151), ('空间', 11150), ('空气清新', 11149), ('空气', 11148), ('究其原因', 11147), ('穆加贝', 11146), ('税收', 11145), ('稍后', 11144), ('程翔', 11143), ('程梦章', 11142), ('程某', 11141), ('程度', 11140), ('程序', 11139), ('程介明', 11138), ('稀奇', 11137), ('移走', 11136), ('移民', 11135), ('移动', 11134), ('移交', 11133), ('称程', 11132), ('称号', 11131), ('称作', 11130), ('积累', 11129), ('积极', 11128), ('秦京', 11127), ('租房', 11126), ('秘密', 11125), ('秘书长', 11124), ('科院', 11123), ('科研', 11122), ('科普', 11121), ('科技', 11120), ('科学系', 11119), ('科学界', 11118), ('科学技术', 11117), ('科学家', 11116), ('科学', 11115), ('科大', 11114), ('秋后算帐', 11113), ('秉持', 11112), ('私营', 11111), ('私立', 11110), ('私人', 11109), ('离职', 11108), ('离开', 11107), ('离奇', 11106), ('离世', 11105), ('福利', 11104), ('禁足', 11103), ('禁止', 11102), ('禁忌', 11101), ('禁区', 11100), ('祸害', 11099), ('票站', 11098), ('票数', 11097), ('神韵', 11096), ('神速', 11095), ('神州', 11094), ('祝贺', 11093), ('祝福', 11092), ('祖上', 11091), ('社运人士', 11090), ('社运', 11089), ('社工', 11088), ('社会转型', 11087), ('社会秩序', 11086), ('社会科学院', 11085), ('社会科学', 11084), ('社会治安', 11083), ('社会主义', 11082), ('社会', 11081), ('社交', 11080), ('礼拜', 11079), ('礼宾', 11078), ('示威', 11077), ('磁力', 11076), ('碧桂园', 11075), ('确保', 11074), ('硬件', 11073), ('硕士生', 11072), ('硕士班', 11071), ('硕士', 11070), ('破空', 11069), ('破折号', 11068), ('破坏', 11067), ('砖块', 11066), ('研讨会', 11065), ('研究院', 11064), ('研究组', 11063), ('研究生', 11062), ('研究所', 11061), ('研究员', 11060), ('研究会', 11059), ('研究', 11058), ('研发', 11057), ('石涛', 11056), ('石油', 11055), ('石屎', 11054), ('石化', 11053), ('短短', 11052), ('短片', 11051), ('短平快', 11050), ('知道', 11049), ('知识分子', 11048), ('知识', 11047), ('知罪', 11046), ('知名', 11045), ('矛盾', 11044), ('瞩目', 11043), ('着眼', 11042), ('着数', 11041), ('眼中钉', 11040), ('眼中', 11039), ('真谛', 11038), ('真相', 11037), ('真的', 11036), ('真正', 11035), ('真普', 11034), ('真是', 11033), ('真心', 11032), ('看错', 11031), ('看重', 11030), ('看禁', 11029), ('看看', 11028), ('看法', 11027), ('看来', 11026), ('看好', 11025), ('看到', 11024), ('看不到', 11023), ('省市', 11022), ('省委常委', 11021), ('相遇', 11020), ('相片', 11019), ('相比', 11018), ('相提并论', 11017), ('相当于', 11016), ('相当', 11015), ('相对', 11014), ('相反', 11013), ('相关', 11012), ('相信', 11011), ('直连', 11010), ('直言', 11009), ('直播', 11008), ('直幡', 11007), ('盲道', 11006), ('目的', 11005), ('目标', 11004), ('目前', 11003), ('盛行', 11002), ('盛大', 11001), ('盖瑞特', 11000), ('监察', 10999), ('盎然', 10998), ('的说', 10997), ('的话', 10996), ('的确', 10995), ('百间', 10994), ('百科', 10993), ('百强', 10992), ('百年', 10991), ('百万', 10990), ('白皮书', 10989), ('白夏', 10988), ('癌症', 10987), ('痴人说梦', 10986), ('症结', 10985), ('疯狂', 10984), ('疫情', 10983), ('疑扮', 10982), ('疑因', 10981), ('疑向', 10980), ('疑为', 10979), ('疆土', 10978), ('留言', 10977), ('留港', 10976), ('留校', 10975), ('留得青山在', 10974), ('留学', 10973), ('留在', 10972), ('留书', 10971), ('画展', 10970), ('男生', 10969), ('男张', 10968), ('男厕', 10967), ('电邮', 10966), ('电路板', 10965), ('电话', 10964), ('电视片', 10963), ('电视台', 10962), ('电视', 10961), ('电脑', 10960), ('电磁波', 10959), ('电源', 10958), ('电池', 10957), ('电梯', 10956), ('电影节', 10955), ('电影', 10954), ('电子信息', 10953), ('电子产品', 10952), ('电子', 10951), ('电商', 10950), ('电台', 10949), ('申请者', 10948), ('申请人', 10947), ('申请书', 10946), ('申请', 10945), ('申报', 10944), ('甲流', 10943), ('甲型', 10942), ('由于', 10941), ('用途', 10940), ('用词', 10939), ('用户', 10938), ('用心', 10937), ('用处', 10936), ('用人', 10935), ('用于', 10934), ('生赴', 10933), ('生疑', 10932), ('生物', 10931), ('生活', 10930), ('生日', 10929), ('生指', 10928), ('生戴', 10927), ('生意', 10926), ('生态', 10925), ('生平', 10924), ('生存', 10923), ('生因', 10922), ('生化', 10921), ('生于', 10920), ('甚至', 10919), ('甘心', 10918), ('瓶装水', 10917), ('理论', 10916), ('理解', 10915), ('理科', 10914), ('理由', 10913), ('理想', 10912), ('理工学院', 10911), ('理工大学', 10910), ('理工', 10909), ('理事长', 10908), ('理事', 10907), ('玻璃心', 10906), ('现金', 10905), ('现身', 10904), ('现象', 10903), ('现行政策', 10902), ('现实情况', 10901), ('现实', 10900), ('现场', 10899), ('现在', 10898), ('现任', 10897), ('现代', 10896), ('环球网', 10895), ('环球时报', 10894), ('环球', 10893), ('环境', 10892), ('环保', 10891), ('玩耍', 10890), ('王莉霞', 10889), ('王磊', 10888), ('王滬寧', 10887), ('王楠', 10886), ('王怡', 10885), ('王小钰', 10884), ('王子', 10883), ('王喜', 10882), ('王伯辉', 10881), ('猫宁', 10880), ('猪肉', 10879), ('猖獗', 10878), ('狱中', 10877), ('狮子山', 10876), ('独裁', 10875), ('独立', 10874), ('独特', 10873), ('狠批', 10872), ('犹豫', 10871), ('状况', 10870), ('状元', 10869), ('犯罪', 10868), ('牺牲', 10867), ('特首', 10866), ('特色美食', 10865), ('特色', 10864), ('特约记者', 10863), ('特约', 10862), ('特派员', 10861), ('特殊', 10860), ('特曼', 10859), ('特地', 10858), ('特区政府', 10857), ('特区', 10856), ('特别节目', 10855), ('特别', 10854), ('特刊', 10853), ('特任', 10852), ('物资', 10851), ('物质', 10850), ('物理系', 10849), ('物理学家', 10848), ('物理', 10847), ('物价', 10846), ('物业', 10845), ('牧师', 10844), ('牛肉丸', 10843), ('牛肉', 10842), ('牛津大学', 10841), ('牙齿', 10840), ('牌子', 10839), ('版本', 10838), ('父母', 10837), ('父权', 10836), ('父亲', 10835), ('爱国', 10834), ('爬梳', 10833), ('爆粗', 10832), ('爆炸式', 10831), ('爆炸', 10830), ('爆是', 10829), ('爆在', 10828), ('爆发', 10827), ('爆出', 10826), ('爆为', 10825), ('燕麦', 10824), ('燕山', 10823), ('燕子', 10822), ('燃煤', 10821), ('燃烧', 10820), ('燃点', 10819), ('熊旭', 10818), ('照片', 10817), ('照明', 10816), ('照型', 10815), ('煤比', 10814), ('煎蛋', 10813), ('然而', 10812), ('然后', 10811), ('焦虑', 10810), ('焦点', 10809), ('焚烧', 10808), ('热门', 10807), ('热线', 10806), ('热烈祝贺', 10805), ('热点新闻', 10804), ('热成', 10803), ('烧味饭', 10802), ('烤肠', 10801), ('点评', 10800), ('点击', 10799), ('炮轰', 10798), ('炒作', 10797), ('灾区', 10796), ('灯来', 10795), ('火苗', 10794), ('火热', 10793), ('火力发电', 10792), ('灌水', 10791), ('濒临', 10790), ('激烈', 10789), ('激情', 10788), ('激吻', 10787), ('激励', 10786), ('激动', 10785), ('澳门大学', 10784), ('澳门', 10783), ('澳洲籍', 10782), ('澳洲', 10781), ('澳大利亚', 10780), ('澎湃', 10779), ('澄清', 10778), ('潮苑', 10777), ('潮流', 10776), ('潜力', 10775), ('潘熙和', 10774), ('潘熙', 10773), ('漫长', 10772), ('漫画作品', 10771), ('漫画', 10770), ('演译', 10769), ('演讲', 10768), ('演艺', 10767), ('漂亮', 10766), ('满脸', 10765), ('满清', 10764), ('满意', 10763), ('滞留', 10762), ('滕彪', 10761), ('源头', 10760), ('湿泥', 10759), ('湾仔', 10758), ('湖南省', 10757), ('湖北省', 10756), ('湖北', 10755), ('游行', 10754), ('游泳', 10753), ('游客', 10752), ('渲染', 10751), ('港生告', 10750), ('港生', 10749), ('港版', 10748), ('港澳地区', 10747), ('港澳台', 10746), ('港澳', 10745), ('港支', 10744), ('港式', 10743), ('港府', 10742), ('港币', 10741), ('港女', 10740), ('港大', 10739), ('港城', 10738), ('港地', 10737), ('港台', 10736), ('港办', 10735), ('港元', 10734), ('港人', 10733), ('港九', 10732), ('温暖', 10731), ('温州', 10730), ('温尚', 10729), ('温和派', 10728), ('温和', 10727), ('温云', 10726), ('渗透', 10725), ('清逸', 10724), ('清華', 10723), ('清算', 10722), ('清洁', 10721), ('清水', 10720), ('清楚', 10719), ('清朝', 10718), ('清晨', 10717), ('清场', 10716), ('清华大学', 10715), ('清华', 10714), ('添枝加叶', 10713), ('添枝', 10712), ('混蛋', 10711), ('深造', 10710), ('深水', 10709), ('深夜', 10708), ('深圳市', 10707), ('深圳', 10706), ('深化', 10705), ('深入', 10704), ('涛声', 10703), ('涉嫌', 10702), ('涉及', 10701), ('涉事', 10700), ('消费者', 10699), ('消耗品', 10698), ('消耗', 10697), ('消息', 10696), ('消失', 10695), ('涂层', 10694), ('浸信', 10693), ('浸会', 10692), ('海龟', 10691), ('海韵', 10690), ('海浪', 10689), ('海洋公园', 10688), ('海洋', 10687), ('海权', 10686), ('海报', 10685), ('海外版', 10684), ('海外', 10683), ('海南', 10682), ('海关人员', 10681), ('浪费', 10680), ('浪漫', 10679), ('浦项', 10678), ('浙江大学', 10677), ('浓度', 10676), ('济南', 10675), ('测量师', 10674), ('流通', 10673), ('流血', 10672), ('流感', 10671), ('流失', 10670), ('流动', 10669), ('派出所', 10668), ('派出', 10667), ('洽谈', 10666), ('活跃', 10665), ('活摘', 10664), ('活动', 10663), ('津巴布韦', 10662), ('洛家洞', 10661), ('洗手盆', 10660), ('泳池', 10659), ('泰晤士报', 10658), ('泰晤士', 10657), ('泰则', 10656), ('注目', 10655), ('注明', 10654), ('注意', 10653), ('注册', 10652), ('泥土', 10651), ('波澜不惊', 10650), ('波城', 10649), ('泛民', 10648), ('泛华', 10647), ('法院', 10646), ('法轮功', 10645), ('法治', 10644), ('法律系', 10643), ('法律界', 10642), ('法律', 10641), ('法庭', 10640), ('法官', 10639), ('法学院', 10638), ('法学硕士', 10637), ('法国', 10636), ('法人代表', 10635), ('法人', 10634), ('治疗', 10633), ('治理', 10632), ('治港', 10631), ('治安状况', 10630), ('治争', 10629), ('油电', 10628), ('沸沸扬扬', 10627), ('沮丧', 10626), ('沦陷', 10625), ('没见', 10624), ('没有响应', 10623), ('没有', 10622), ('没想到', 10621), ('没听说过', 10620), ('没出息', 10619), ('沟通', 10618), ('沙田', 10617), ('沙士', 10616), ('沙嘴', 10615), ('沙叶', 10614), ('沒有', 10613), ('沉重', 10612), ('沉淀', 10611), ('沈菲', 10610), ('沈祖尧', 10609), ('沈浩', 10608), ('沈伟男', 10607), ('沃尔', 10606), ('汲取', 10605), ('汤普森', 10604), ('污水净化', 10603), ('污染', 10602), ('江苏省', 10601), ('江焕波', 10600), ('江宜樺', 10599), ('江宜桦', 10598), ('江天', 10597), ('汉阳', 10596), ('汉语', 10595), ('汉藏', 10594), ('汉族', 10593), ('汉学家', 10592), ('汉城', 10591), ('汇率', 10590), ('永久', 10589), ('水龙头', 10588), ('水面', 10587), ('水铅', 10586), ('水灾', 10585), ('水池', 10584), ('水域', 10583), ('水净化', 10582), ('氯碱', 10581), ('氛围', 10580), ('气质', 10579), ('民间组织', 10578), ('民间团体', 10577), ('民间', 10576), ('民运', 10575), ('民调', 10574), ('民派', 10573), ('民族党', 10572), ('民族', 10571), ('民政', 10570), ('民意', 10569), ('民众', 10568), ('民主运动', 10567), ('民主自由', 10566), ('民主派', 10565), ('民主改革', 10564), ('民主人士', 10563), ('民主', 10562), ('毕业证', 10561), ('毕业生', 10560), ('毕业', 10559), ('比较', 10558), ('比率', 10557), ('比数', 10556), ('比对', 10555), ('比如', 10554), ('比女', 10553), ('比例', 10552), ('比亚斯', 10551), ('比一比', 10550), ('每次', 10549), ('每张', 10548), ('每年', 10547), ('每幅', 10546), ('每天', 10545), ('每个', 10544), ('母亲', 10543), ('毋须', 10542), ('殒命', 10541), ('死难者', 10540), ('死者', 10539), ('死伤', 10538), ('死亡', 10537), ('武警部队', 10536), ('武警', 10535), ('武者', 10534), ('武汉市', 10533), ('武汉大学', 10532), ('武术', 10531), ('步行', 10530), ('步入', 10529), ('此项', 10528), ('此次', 10527), ('此时', 10526), ('此外', 10525), ('此处', 10524), ('此刻', 10523), ('此事', 10522), ('正面', 10521), ('正确', 10520), ('正气', 10519), ('正本清源', 10518), ('正是', 10517), ('正式', 10516), ('正好', 10515), ('正在', 10514), ('正义', 10513), ('欧美', 10512), ('欧洲', 10511), ('欧文', 10510), ('欧尔', 10509), ('欢迎', 10508), ('欢聚', 10507), ('欠缺', 10506), ('横额', 10505), ('横行', 10504), ('横幅', 10503), ('模式', 10502), ('槟城', 10501), ('榜首', 10500), ('概念', 10499), ('楼梯', 10498), ('楼宇', 10497), ('植被', 10496), ('森林', 10495), ('棍棒教育', 10494), ('检视', 10493), ('检获', 10492), ('检测', 10491), ('检查', 10490), ('梦想', 10489), ('梅奥', 10488), ('梁耀忠', 10487), ('梁美芬', 10486), ('梁粉', 10485), ('梁振英', 10484), ('梁国', 10483), ('梁今', 10482), ('桥镇', 10481), ('档案库', 10480), ('桑杰嘉', 10479), ('桌子', 10478), ('案例', 10477), ('桂冠', 10476), ('格雷姆', 10475), ('根本', 10474), ('根据', 10473), ('核能', 10472), ('核电', 10471), ('核心', 10470), ('核四厂', 10469), ('核四', 10468), ('样本', 10467), ('校际', 10466), ('校长', 10465), ('校董', 10464), ('校方', 10463), ('校庆', 10462), ('校委会', 10461), ('校外', 10460), ('校园内', 10459), ('校园', 10458), ('校名', 10457), ('校友会', 10456), ('校友', 10455), ('校内', 10454), ('树仁', 10453), ('栋梁', 10452), ('标题', 10451), ('标语', 10450), ('标签', 10449), ('查缉', 10448), ('某国', 10447), ('枱面', 10446), ('枫林晚', 10445), ('果断', 10444), ('林郑', 10443), ('林群声', 10442), ('林汉华', 10441), ('林民杰', 10440), ('林昭', 10439), ('林忌', 10438), ('林微博', 10437), ('林建华', 10436), ('林峰', 10435), ('林宛莹', 10434), ('林培瑞', 10433), ('林予婷', 10432), ('林乐', 10431), ('林业网', 10430), ('极端主义', 10429), ('极权', 10428), ('极易', 10427), ('极少', 10426), ('板书', 10425), ('東北', 10424), ('東京', 10423), ('杰青', 10422), ('杯酒释兵权', 10421), ('杭州市', 10420), ('杭州', 10419), ('来访', 10418), ('来讲', 10417), ('来自', 10416), ('来看', 10415), ('来源', 10414), ('来历', 10413), ('来到', 10412), ('来争', 10411), ('条幅', 10410), ('束流', 10409), ('杜琪峰', 10408), ('杜斌', 10407), ('材料', 10406), ('李金铨', 10405), ('李金芳', 10404), ('李述汤', 10403), ('李美', 10402), ('李焯龙', 10401), ('李焯芬', 10400), ('李柱铭', 10399), ('李文', 10398), ('李捷', 10397), ('李成', 10396), ('李峰', 10395), ('李国章', 10394), ('李卓', 10393), ('李克强', 10392), ('李光耀', 10391), ('权益', 10390), ('权力', 10389), ('权利', 10388), ('杂志', 10387), ('机构', 10386), ('机器人学', 10385), ('机器人', 10384), ('机制', 10383), ('机会', 10382), ('朱虞夫', 10381), ('朱经武', 10380), ('朱纯', 10379), ('朱涛', 10378), ('朱国斌', 10377), ('本部', 10376), ('本身', 10375), ('本能', 10374), ('本科生', 10373), ('本科', 10372), ('本港', 10371), ('本次', 10370), ('本来', 10369), ('本月', 10368), ('本文', 10367), ('本报记者', 10366), ('本报讯', 10365), ('本报', 10364), ('本性', 10363), ('本届', 10362), ('本地', 10361), ('本土', 10360), ('本周', 10359), ('本名', 10358), ('本人', 10357), ('未经', 10356), ('未知', 10355), ('未来', 10354), ('未有', 10353), ('期间', 10352), ('期望', 10351), ('服务', 10350), ('朋友', 10349), ('有限公司', 10348), ('有限', 10347), ('有趣', 10346), ('有点', 10345), ('有没有', 10344), ('有毒气体', 10343), ('有期徒刑', 10342), ('有望', 10341), ('有所增加', 10340), ('有所', 10339), ('有意', 10338), ('有志', 10337), ('有幸', 10336), ('有家', 10335), ('有助于', 10334), ('有助', 10333), ('有别于', 10332), ('有关', 10331), ('有何', 10330), ('有什', 10329), ('有人', 10328), ('有些', 10327), ('有个', 10326), ('月薪', 10325), ('月租', 10324), ('月娥', 10323), ('月台', 10322), ('月入', 10321), ('最高', 10320), ('最近', 10319), ('最脏', 10318), ('最新进展', 10317), ('最新', 10316), ('最快', 10315), ('最强', 10314), ('最差', 10313), ('最少', 10312), ('最小', 10311), ('最大', 10310), ('最多', 10309), ('最后', 10308), ('最佳', 10307), ('最不开心', 10306), ('曾贤生', 10305), ('曾贤', 10304), ('曾经', 10303), ('曾渊沧', 10302), ('曾渊', 10301), ('更糟', 10300), ('更多', 10299), ('更加', 10298), ('更为严重', 10297), ('更为', 10296), ('曲艺', 10295), ('曝没', 10294), ('曝光', 10293), ('暴力', 10292), ('暨研', 10291), ('暨中法', 10290), ('暗藏', 10289), ('暑期', 10288), ('暂时', 10287), ('景东', 10286), ('普遍认为', 10285), ('普通话', 10284), ('普通', 10283), ('普选', 10282), ('普世', 10281), ('晨光', 10280), ('晚餐', 10279), ('晚宴', 10278), ('晚上', 10277), ('晒出', 10276), ('時間', 10275), ('显示', 10274), ('显眼', 10273), ('是因为', 10272), ('是否', 10271), ('是从', 10270), ('是不是', 10269), ('昨晨', 10268), ('昨晚', 10267), ('昨日', 10266), ('昨天', 10265), ('星洲', 10264), ('星期日', 10263), ('星期天', 10262), ('星期六', 10261), ('星期五', 10260), ('星期二', 10259), ('星期三', 10258), ('星期一', 10257), ('星期', 10256), ('星岛日报', 10255), ('星岛', 10254), ('昔日', 10253), ('易主', 10252), ('昏倒', 10251), ('明镜', 10250), ('明证', 10249), ('明确', 10248), ('明白', 10247), ('明火', 10246), ('明星', 10245), ('明明', 10244), ('明日', 10243), ('明报', 10242), ('明年', 10241), ('明天', 10240), ('明史', 10239), ('明信片', 10238), ('昆曲', 10237), ('旺角', 10236), ('时间', 10235), ('时许', 10234), ('时煜', 10233), ('时务', 10232), ('时分', 10231), ('时候', 10230), ('时会', 10229), ('时代', 10228), ('时事评论', 10227), ('时事', 10226), ('早餐', 10225), ('早期', 10224), ('早报网', 10223), ('早报', 10222), ('早已', 10221), ('早就', 10220), ('早在', 10219), ('早前', 10218), ('早于', 10217), ('早上好', 10216), ('旨在', 10215), ('旧学', 10214), ('旧习', 10213), ('日间', 10212), ('日趋严重', 10211), ('日讯', 10210), ('日益', 10209), ('日电', 10208), ('日来', 10207), ('日本', 10206), ('日后', 10205), ('日前', 10204), ('日内瓦', 10203), ('既成事实', 10202), ('无论', 10201), ('无耻', 10200), ('无线电视', 10199), ('无知', 10198), ('无法', 10197), ('无效', 10196), ('无授', 10195), ('无从', 10194), ('旗帜鲜明', 10193), ('旗下', 10192), ('旅游', 10191), ('施政报告', 10190), ('方面', 10189), ('方言', 10188), ('方法', 10187), ('方案', 10186), ('方式', 10185), ('方向', 10184), ('方便管理', 10183), ('方便', 10182), ('新颖', 10181), ('新闻节目', 10180), ('新闻自由', 10179), ('新闻网', 10178), ('新闻系', 10177), ('新闻报道', 10176), ('新闻', 10175), ('新词语', 10174), ('新聞社', 10173), ('新聞', 10172), ('新知', 10171), ('新疆', 10170), ('新生力量', 10169), ('新生', 10168), ('新浪网', 10167), ('新浪', 10166), ('新报', 10165), ('新学年', 10164), ('新增', 10163), ('新型', 10162), ('新台币', 10161), ('新华网', 10160), ('新华社', 10159), ('新区', 10158), ('新加坡国立大学', 10157), ('新加坡', 10156), ('新剧', 10155), ('新作', 10154), ('新低', 10153), ('新一期', 10152), ('新一届', 10151), ('斯诺', 10150), ('斯蒂芬', 10149), ('斯德顿', 10148), ('斯坦福大学', 10147), ('斯坦福', 10146), ('斥资', 10145), ('料到', 10144), ('斗争', 10143), ('文龙', 10142), ('文革', 10141), ('文集', 10140), ('文说', 10139), ('文章', 10138), ('文科', 10137), ('文物', 10136), ('文汇报', 10135), ('文教', 10134), ('文敏', 10133), ('文学', 10132), ('文字', 10131), ('文匯網', 10130), ('文化交流', 10129), ('文化', 10128), ('文凭', 10127), ('文件', 10126), ('整理', 10125), ('整副', 10124), ('整体', 10123), ('整个', 10122), ('数量', 10121), ('数码', 10120), ('数数', 10119), ('数据分析', 10118), ('数据', 10117), ('数学系', 10116), ('数字', 10115), ('数天', 10114), ('数十万', 10113), ('敬请', 10112), ('敬文', 10111), ('散发出', 10110), ('敢于', 10109), ('教院', 10108), ('教课', 10107), ('教育部', 10106), ('教育者', 10105), ('教育界', 10104), ('教育局', 10103), ('教育', 10102), ('教研', 10101), ('教材', 10100), ('教授', 10099), ('教师', 10098), ('教室', 10097), ('教学楼', 10096), ('教学', 10095), ('教委', 10094), ('教坏', 10093), ('教唆', 10092), ('教员', 10091), ('教会', 10090), ('教书', 10089), ('救治', 10088), ('敏感', 10087), ('效率', 10086), ('效应', 10085), ('故事', 10084), ('政见', 10083), ('政策', 10082), ('政界人士', 10081), ('政界', 10080), ('政治系', 10079), ('政治理念', 10078), ('政治学', 10077), ('政治', 10076), ('政教', 10075), ('政改', 10074), ('政府', 10073), ('政制', 10072), ('放进', 10071), ('放肆', 10070), ('放映', 10069), ('放弃', 10068), ('放在', 10067), ('放入', 10066), ('放任', 10065), ('攻读', 10064), ('攻略', 10063), ('攻势', 10062), ('攻击', 10061), ('攻下', 10060), ('改革', 10059), ('改选', 10058), ('改用', 10057), ('改成', 10056), ('改善', 10055), ('改变', 10054), ('改以', 10053), ('收集', 10052), ('收获', 10051), ('收看', 10050), ('收录', 10049), ('收大陸', 10048), ('收场', 10047), ('收到', 10046), ('收不到', 10045), ('支部', 10044), ('支撑', 10043), ('支援', 10042), ('支持者', 10041), ('支持', 10040), ('支付宝', 10039), ('操纵', 10038), ('操场', 10037), ('撰文', 10036), ('播放器', 10035), ('播放', 10034), ('撤换', 10033), ('撤回', 10032), ('撕去', 10031), ('撒谎', 10030), ('撑到', 10029), ('摩擦', 10028), ('摘要', 10027), ('摘得', 10026), ('摘录', 10025), ('摄于', 10024), ('携手', 10023), ('搞笑', 10022), ('搞乱', 10021), ('搜索', 10020), ('搜狐', 10019), ('援藏', 10018), ('援助', 10017), ('援交', 10016), ('揭露', 10015), ('揭晓', 10014), ('揭开', 10013), ('揭幕仪式', 10012), ('揭幕', 10011), ('揭发', 10010), ('握手', 10009), ('提高', 10008), ('提问', 10007), ('提炼', 10006), ('提名', 10005), ('提取', 10004), ('提及', 10003), ('提升', 10002), ('提前', 10001), ('提到', 10000), ('提出', 9999), ('提供', 9998), ('掺杂', 9997), ('措施', 9996), ('推进', 9995), ('推荐', 9994), ('推特', 9993), ('推广', 9992), ('推友', 9991), ('推动', 9990), ('推出', 9989), ('推介会', 9988), ('推介', 9987), ('推上', 9986), ('控诉', 9985), ('控告', 9984), ('控制', 9983), ('接触', 9982), ('接获', 9981), ('接着', 9980), ('接用', 9979), ('接掌', 9978), ('接受', 9977), ('接到', 9976), ('接任', 9975), ('探讨', 9974), ('探索', 9973), ('排队', 9972), ('排行榜', 9971), ('排行', 9970), ('排水', 9969), ('排名第', 9968), ('排名', 9967), ('掌握', 9966), ('授课', 9965), ('授权', 9964), ('授予', 9963), ('掀骂', 9962), ('掀起', 9961), ('据说', 9960), ('据悉', 9959), ('据介绍', 9958), ('捧场', 9957), ('换言之', 9956), ('损失', 9955), ('捕捉到', 9954), ('捕捉', 9953), ('捐赠', 9952), ('捐献', 9951), ('捐款', 9950), ('捐出', 9949), ('捐予', 9948), ('挥之不去', 9947), ('挑战', 9946), ('按照', 9945), ('指陈', 9944), ('指有家', 9943), ('指数', 9942), ('指定', 9941), ('指出', 9940), ('指与', 9939), ('挂出', 9938), ('挂上', 9937), ('持续', 9936), ('拿到', 9935), ('拿出', 9934), ('拿不出', 9933), ('拿下', 9932), ('拼命', 9931), ('拦截', 9930), ('拥有', 9929), ('拟留', 9928), ('拜谢', 9927), ('拜访', 9926), ('拜托', 9925), ('拜会', 9924), ('招聘', 9923), ('招生', 9922), ('招收', 9921), ('招录', 9920), ('招式', 9919), ('拘捕', 9918), ('拖延', 9917), ('拓展', 9916), ('拒绝', 9915), ('拍片', 9914), ('拍摄', 9913), ('拆除', 9912), ('担当', 9911), ('担任', 9910), ('抽税', 9909), ('抹黑', 9908), ('披露', 9907), ('报道', 9906), ('报考', 9905), ('报纸', 9904), ('报章', 9903), ('报社', 9902), ('报导', 9901), ('报告会', 9900), ('报告', 9899), ('报名', 9898), ('报假', 9897), ('护理', 9896), ('护照', 9895), ('抢占', 9894), ('抗议者', 9893), ('抗议声', 9892), ('抗议', 9891), ('抗命', 9890), ('抗争', 9889), ('投身', 9888), ('投资', 9887), ('投诉', 9886), ('投票率', 9885), ('投票', 9884), ('投机取巧', 9883), ('投入使用', 9882), ('抓捕', 9881), ('抓住', 9880), ('抑制', 9879), ('抄袭', 9878), ('技術院', 9877), ('技術', 9876), ('技术', 9875), ('承重', 9874), ('承诺', 9873), ('承认', 9872), ('找到', 9871), ('批评家', 9870), ('批评', 9869), ('批斗', 9868), ('批在', 9867), ('扶青', 9866), ('扮演', 9865), ('扬州', 9864), ('扩大', 9863), ('执行官', 9862), ('执法', 9861), ('执业', 9860), ('扣查', 9859), ('扔掉', 9858), ('打骂', 9857), ('打造', 9856), ('打算', 9855), ('打电话', 9854), ('打火机', 9853), ('打死', 9852), ('打招呼', 9851), ('打压', 9850), ('打印', 9849), ('打击', 9848), ('才华', 9847), ('手段', 9846), ('手机游戏', 9845), ('手机', 9844), ('所谓', 9843), ('所绘', 9842), ('所知', 9841), ('所有', 9840), ('所害', 9839), ('所在', 9838), ('所作', 9837), ('所以', 9836), ('房间内', 9835), ('房屋', 9834), ('房子', 9833), ('房出租', 9832), ('戴耀廷', 9831), ('截至', 9830), ('截图', 9829), ('战系', 9828), ('战略', 9827), ('战局', 9826), ('战争', 9825), ('或者说', 9824), ('或者', 9823), ('或是', 9822), ('我省', 9821), ('我市', 9820), ('我們', 9819), ('我会', 9818), ('我们', 9817), ('我一', 9816), ('成都', 9815), ('成败', 9814), ('成绩单', 9813), ('成绩', 9812), ('成立', 9811), ('成果', 9810), ('成本', 9809), ('成效', 9808), ('成均', 9807), ('成员', 9806), ('成名', 9805), ('成功率', 9804), ('成功', 9803), ('成分', 9802), ('成份', 9801), ('成人', 9800), ('成为', 9799), ('慷慨解囊', 9798), ('慢慢', 9797), ('慈善', 9796), ('愿到', 9795), ('感谢', 9794), ('感言', 9793), ('感觉', 9792), ('感慨万千', 9791), ('感情', 9790), ('感奋', 9789), ('感受', 9788), ('意见', 9787), ('意愿', 9786), ('意大利', 9785), ('意外', 9784), ('意在', 9783), ('意图', 9782), ('意味着', 9781), ('意向', 9780), ('意义', 9779), ('愈演愈烈', 9778), ('想起', 9777), ('想象', 9776), ('想要', 9775), ('想到', 9774), ('想像', 9773), ('惊讶', 9772), ('惊呼', 9771), ('惊呆', 9770), ('情绪', 9769), ('情报工作', 9768), ('情感', 9767), ('悲歌', 9766), ('悬殊', 9765), ('悬挂', 9764), ('您好', 9763), ('悄然', 9762), ('恶性', 9761), ('恩爱', 9760), ('恒隆', 9759), ('恒生', 9758), ('恐慌', 9757), ('恐外', 9756), ('恐吓', 9755), ('恐中', 9754), ('总辞', 9753), ('总裁', 9752), ('总能', 9751), ('总编', 9750), ('总统府', 9749), ('总统', 9748), ('总监', 9747), ('总理', 9746), ('总是', 9745), ('总得', 9744), ('总序', 9743), ('总会', 9742), ('怪客', 9741), ('怪兽', 9740), ('怪不得', 9739), ('性骚扰', 9738), ('性质', 9737), ('急不及待', 9736), ('思齐', 9735), ('思维', 9734), ('思潮', 9733), ('思想', 9732), ('怎样', 9731), ('怎么', 9730), ('态度', 9729), ('怀疑', 9728), ('念头', 9727), ('快速', 9726), ('快讯', 9725), ('快乐', 9724), ('忧虑', 9723), ('忧戚', 9722), ('忠诚度', 9721), ('忠心', 9720), ('志愿', 9719), ('忍不住', 9718), ('必须', 9717), ('必要', 9716), ('必然', 9715), ('必将', 9714), ('心理学家', 9713), ('心理学', 9712), ('心理医生', 9711), ('心理', 9710), ('心情', 9709), ('心态', 9708), ('心声', 9707), ('心件', 9706), ('徽章', 9705), ('德國', 9704), ('德国人', 9703), ('德国', 9702), ('德华', 9701), ('微软', 9700), ('微型', 9699), ('微博', 9698), ('微信', 9697), ('循理', 9696), ('循环', 9695), ('從來', 9694), ('得知', 9693), ('得主', 9692), ('律师', 9691), ('很快', 9690), ('很少', 9689), ('很好', 9688), ('很大', 9687), ('很多', 9686), ('征文', 9685), ('征得', 9684), ('往往', 9683), ('彻查', 9682), ('影院', 9681), ('影片', 9680), ('影响力', 9679), ('影响', 9678), ('彭训文', 9677), ('彩印', 9676), ('彤均', 9675), ('彤之子', 9674), ('形式', 9673), ('形容', 9672), ('录得', 9671), ('录取', 9670), ('当然', 9669), ('当时', 9668), ('当日', 9667), ('当年', 9666), ('当局', 9665), ('当天', 9664), ('当地', 9663), ('当前', 9662), ('当代艺术', 9661), ('当代', 9660), ('当事人', 9659), ('当中', 9658), ('强调', 9657), ('强行', 9656), ('强硬', 9655), ('强烈反响', 9654), ('强强', 9653), ('强国', 9652), ('强化', 9651), ('强势', 9650), ('强力', 9649), ('张隆溪', 9648), ('张贴', 9647), ('张茆', 9646), ('张耀良', 9645), ('张泽瑛', 9644), ('张永攀', 9643), ('张楚勇', 9642), ('张梓', 9641), ('张杰', 9640), ('张昕', 9639), ('张慧', 9638), ('张志安', 9637), ('张德熙', 9636), ('张巍', 9635), ('张学良', 9634), ('张修', 9633), ('张信刚', 9632), ('张仁良', 9631), ('引述', 9630), ('引进', 9629), ('引起', 9628), ('引用', 9627), ('引发', 9626), ('引入', 9625), ('弃权', 9624), ('异议人士', 9623), ('异议', 9622), ('异见', 9621), ('异常', 9620), ('开馆', 9619), ('开课', 9618), ('开班', 9617), ('开放日', 9616), ('开放', 9615), ('开心', 9614), ('开幕辞', 9613), ('开幕式', 9612), ('开幕', 9611), ('开展调研', 9610), ('开展', 9609), ('开学日', 9608), ('开学', 9607), ('开始', 9606), ('开发者', 9605), ('开发', 9604), ('开及', 9603), ('开办', 9602), ('开会', 9601), ('建设', 9600), ('建议', 9599), ('建行', 9598), ('建筑物', 9597), ('建筑', 9596), ('建立', 9595), ('建校', 9594), ('建成', 9593), ('建制', 9592), ('建元', 9591), ('延续', 9590), ('延伸', 9589), ('延世大学', 9588), ('廉署', 9587), ('廉政公署', 9586), ('康殷', 9585), ('座谈会', 9584), ('座谈', 9583), ('座位', 9582), ('废纸', 9581), ('废票', 9580), ('底线', 9579), ('应邀参加', 9578), ('应邀', 9577), ('应该', 9576), ('应聘', 9575), ('应用程序', 9574), ('应用', 9573), ('应当', 9572), ('序幕', 9571), ('床位', 9570), ('庆贺', 9569), ('庆祝', 9568), ('广阔', 9567), ('广西师范大学', 9566), ('广泛', 9565), ('广播电视', 9564), ('广播', 9563), ('广州中山大学', 9562), ('广州', 9561), ('广场', 9560), ('广东话', 9559), ('幸福', 9558), ('幸好', 9557), ('并非', 9556), ('并重', 9555), ('并于', 9554), ('并且', 9553), ('并不一定', 9552), ('年间', 9551), ('年轻人', 9550), ('年轻一代', 9549), ('年轻', 9548), ('年级', 9547), ('年秋', 9546), ('年来', 9545), ('年度报告', 9544), ('年度', 9543), ('年后', 9542), ('年前', 9541), ('年初', 9540), ('年代', 9539), ('平时', 9538), ('平方米', 9537), ('平均', 9536), ('平台', 9535), ('干预', 9534), ('干嘛', 9533), ('干净', 9532), ('幕后', 9531), ('常见', 9530), ('常态', 9529), ('常务', 9528), ('帮忙', 9527), ('帮助', 9526), ('席次', 9525), ('席宁', 9524), ('席位', 9523), ('带领', 9522), ('带仿', 9521), ('帝国', 9520), ('希望', 9519), ('师生', 9518), ('师兄', 9517), ('市民', 9516), ('市场', 9515), ('币种', 9514), ('币圈', 9513), ('巴黎', 9512), ('巴士', 9511), ('已经', 9510), ('已知', 9509), ('已有', 9508), ('已于', 9507), ('差误', 9506), ('差点', 9505), ('巩固', 9504), ('巨幅', 9503), ('巨型', 9502), ('巧用', 9501), ('左边', 9500), ('左翼', 9499), ('左派', 9498), ('左报', 9497), ('左右', 9496), ('工程系', 9495), ('工程师', 9494), ('工程学', 9493), ('工程', 9492), ('工科大学', 9491), ('工業', 9490), ('工商管理学', 9489), ('工友', 9488), ('工厂', 9487), ('工具', 9486), ('工作坊', 9485), ('工作人员', 9484), ('工作', 9483), ('工会', 9482), ('巡演', 9481), ('州立大学', 9480), ('川港', 9479), ('川普', 9478), ('嵌入', 9477), ('崔琦', 9476), ('崔天凯', 9475), ('崇实', 9474), ('崇义', 9473), ('峰会', 9472), ('岳晓东', 9471), ('岭南大学', 9470), ('山顶', 9469), ('山村', 9468), ('山东', 9467), ('屠杀', 9466), ('属意', 9465), ('属于', 9464), ('展览馆', 9463), ('展览', 9462), ('展示', 9461), ('展望', 9460), ('展开', 9459), ('展出', 9458), ('展位', 9457), ('屋顶', 9456), ('届满', 9455), ('居首', 9454), ('居然', 9453), ('居民', 9452), ('层次', 9451), ('屁股', 9450), ('局面', 9449), ('尽管', 9448), ('尽快', 9447), ('尹世昌', 9446), ('尴尬', 9445), ('就读于', 9444), ('就读', 9443), ('就要', 9442), ('就此', 9441), ('就是', 9440), ('就业', 9439), ('尤其', 9438), ('尚需', 9437), ('尚未', 9436), ('尚可', 9435), ('尖锐', 9434), ('尖沙咀', 9433), ('少数民族', 9432), ('少数几个', 9431), ('少年', 9430), ('少女', 9429), ('小道', 9428), ('小组', 9427), ('小童', 9426), ('小朋友', 9425), ('小时', 9424), ('小心', 9423), ('小平', 9422), ('小小', 9421), ('小学', 9420), ('小姐', 9419), ('小圈子', 9418), ('小便宜', 9417), ('小伙伴', 9416), ('小事', 9415), ('尊重', 9414), ('尊敬', 9413), ('尊严', 9412), ('将来', 9411), ('封锁', 9410), ('封杀', 9409), ('封存', 9408), ('导致', 9407), ('导师', 9406), ('寻求', 9405), ('对骂', 9404), ('对阵', 9403), ('对话', 9402), ('对泛', 9401), ('对比', 9400), ('对此', 9399), ('对方', 9398), ('对抗', 9397), ('对外开放', 9396), ('对外', 9395), ('对决', 9394), ('对付', 9393), ('对于', 9392), ('寒蝉', 9391), ('寒冬', 9390), ('富雅', 9389), ('富足', 9388), ('富于', 9387), ('密歇根', 9386), ('密度', 9385), ('寄生', 9384), ('寄出', 9383), ('宿舍', 9382), ('容错过', 9381), ('容易', 9380), ('家长', 9379), ('家里', 9378), ('家族', 9377), ('家庭', 9376), ('家住', 9375), ('家人', 9374), ('宴请', 9373), ('宪章', 9372), ('室外', 9371), ('室友', 9370), ('室内', 9369), ('宣讲会', 9368), ('宣讲', 9367), ('宣誓', 9366), ('宣言', 9365), ('宣称', 9364), ('宣示', 9363), ('宣独', 9362), ('宣扬', 9361), ('宣布', 9360), ('宣传', 9359), ('客观', 9358), ('客戶', 9357), ('客座教授', 9356), ('客人', 9355), ('审美', 9354), ('审查', 9353), ('实验室', 9352), ('实验', 9351), ('实际意义', 9350), ('实际上', 9349), ('实质', 9348), ('实用', 9347), ('实现理想', 9346), ('实现', 9345), ('实属', 9344), ('实在', 9343), ('实力', 9342), ('实体', 9341), ('实习生', 9340), ('实习', 9339), ('定居', 9338), ('官网', 9337), ('官方网站', 9336), ('官方', 9335), ('官媒', 9334), ('官商勾结', 9333), ('官员', 9332), ('官司', 9331), ('官僚', 9330), ('完整', 9329), ('完成', 9328), ('完全', 9327), ('完会', 9326), ('安生', 9325), ('安排', 9324), ('安平', 9323), ('安全阀', 9322), ('安全', 9321), ('安保', 9320), ('守法', 9319), ('守望相助', 9318), ('守则', 9317), ('它们', 9316), ('宁远县', 9315), ('宁愿', 9314), ('宁乡', 9313), ('宁为玉碎', 9312), ('學術', 9311), ('學樓', 9310), ('孩子', 9309), ('学霸', 9308), ('学院', 9307), ('学部', 9306), ('学运领袖', 9305), ('学运', 9304), ('学费', 9303), ('学联', 9302), ('学者', 9301), ('学系', 9300), ('学科', 9299), ('学界', 9298), ('学生会', 9297), ('学生', 9296), ('学渣', 9295), ('学测', 9294), ('学民', 9293), ('学校', 9292), ('学术论文', 9291), ('学术研究', 9290), ('学术界', 9289), ('学术报告', 9288), ('学术年会', 9287), ('学术交流', 9286), ('学术', 9285), ('学报', 9284), ('学弟', 9283), ('学年', 9282), ('学士', 9281), ('学员', 9280), ('学历证书', 9279), ('学历', 9278), ('学会', 9277), ('学习者', 9276), ('学习', 9275), ('学业', 9274), ('孤岛', 9273), ('季节', 9272), ('孙志刚', 9271), ('孙小卫', 9270), ('孙伟', 9269), ('存放', 9268), ('存在', 9267), ('字句', 9266), ('子虚乌有', 9265), ('子女', 9264), ('媒称', 9263), ('媒体', 9262), ('娱乐场', 9261), ('娇气', 9260), ('威慑', 9259), ('威华', 9258), ('威力', 9257), ('委托', 9256), ('委屈', 9255), ('委员会', 9254), ('委员', 9253), ('妹妹', 9252), ('如此', 9251), ('如果', 9250), ('如期', 9249), ('如何', 9248), ('如今', 9247), ('如下', 9246), ('好學', 9245), ('好奇', 9244), ('好多', 9243), ('好友', 9242), ('她们', 9241), ('女神像', 9240), ('女生', 9239), ('女权主义者', 9238), ('女权', 9237), ('女性', 9236), ('女工', 9235), ('女儿', 9234), ('奥运会', 9233), ('奥运', 9232), ('奥特曼', 9231), ('奥巴马', 9230), ('奠基仪式', 9229), ('奠基', 9228), ('奖学金', 9227), ('奏章', 9226), ('奏效', 9225), ('奎德', 9224), ('奉召', 9223), ('夺冠', 9222), ('夹带', 9221), ('夸张', 9220), ('头筹', 9219), ('头目', 9218), ('头盔', 9217), ('头疼', 9216), ('失败', 9215), ('失控', 9214), ('失传', 9213), ('失业', 9212), ('夫人', 9211), ('太阳', 9210), ('太酷', 9209), ('太空', 9208), ('太牛', 9207), ('太平', 9206), ('太子', 9205), ('天雨', 9204), ('天花板', 9203), ('天花', 9202), ('天琦', 9201), ('天然', 9200), ('天津', 9199), ('天朝', 9198), ('天安门', 9197), ('天安', 9196), ('天天向上', 9195), ('天堂', 9194), ('天台', 9193), ('天主教徒', 9192), ('天下', 9191), ('大齐', 9190), ('大马', 9189), ('大陆', 9188), ('大阪', 9187), ('大都市', 9186), ('大部分', 9185), ('大道', 9184), ('大财团', 9183), ('大规模', 9182), ('大约', 9181), ('大票', 9180), ('大生', 9179), ('大理石', 9178), ('大王', 9177), ('大熊猫', 9176), ('大潮', 9175), ('大湾', 9174), ('大清', 9173), ('大河', 9172), ('大概', 9171), ('大本营', 9170), ('大明', 9169), ('大批', 9168), ('大快朵颐', 9167), ('大幅度', 9166), ('大幅', 9165), ('大小', 9164), ('大家', 9163), ('大學教', 9162), ('大學', 9161), ('大学生', 9160), ('大学毕业', 9159), ('大学校长', 9158), ('大学校园', 9157), ('大学教授', 9156), ('大学排名', 9155), ('大学人文', 9154), ('大学', 9153), ('大奖', 9152), ('大多', 9151), ('大声', 9150), ('大埔', 9149), ('大城', 9148), ('大型', 9147), ('大国', 9146), ('大围', 9145), ('大四', 9144), ('大厦', 9143), ('大半个', 9142), ('大公报', 9141), ('大便', 9140), ('大使', 9139), ('大会堂', 9138), ('大会', 9137), ('大二', 9136), ('大为', 9135), ('大专院校', 9134), ('大三', 9133), ('多谢', 9132), ('多维', 9131), ('多番', 9130), ('多次', 9129), ('多方面', 9128), ('多数', 9127), ('多所', 9126), ('多年', 9125), ('多少', 9124), ('多家', 9123), ('多媒体', 9122), ('多姿多采', 9121), ('多姿多彩', 9120), ('多士', 9119), ('多名', 9118), ('多元化', 9117), ('多元', 9116), ('多位', 9115), ('多个', 9114), ('外界', 9113), ('外汇储备', 9112), ('外显', 9111), ('外文系', 9110), ('外戚', 9109), ('外宣', 9108), ('外媒', 9107), ('外国人', 9106), ('外国', 9105), ('外务', 9104), ('外传', 9103), ('夏明', 9102), ('夏小华', 9101), ('夏威夷大学', 9100), ('复馆', 9099), ('复读', 9098), ('复苏', 9097), ('复核', 9096), ('复杂', 9095), ('复旦大学', 9094), ('复旦', 9093), ('复原', 9092), ('备忘录', 9091), ('备受', 9090), ('处理', 9089), ('处处', 9088), ('处境', 9087), ('处分', 9086), ('声音', 9085), ('声称', 9084), ('声明', 9083), ('声援', 9082), ('士别', 9081), ('墨尔本大学', 9080), ('增长', 9079), ('增添光彩', 9078), ('增强', 9077), ('增加', 9076), ('墙上', 9075), ('填报', 9074), ('填写', 9073), ('塌陷', 9072), ('塌落', 9071), ('塌下', 9070), ('堪布', 9069), ('堆积如山', 9068), ('基金会', 9067), ('基金', 9066), ('基础', 9065), ('基本法', 9064), ('基本', 9063), ('基于', 9062), ('培训', 9061), ('培育', 9060), ('培养', 9059), ('城市', 9058), ('城大', 9057), ('垄断', 9056), ('坠落', 9055), ('坠楼', 9054), ('坠亡', 9053), ('坚韧', 9052), ('坚持', 9051), ('坐牢', 9050), ('坍塌', 9049), ('场馆', 9048), ('场地', 9047), ('场内外', 9046), ('地面', 9045), ('地铁站', 9044), ('地铁', 9043), ('地级市', 9042), ('地理位置', 9041), ('地理', 9040), ('地球化学', 9039), ('地点', 9038), ('地段', 9037), ('地方', 9036), ('地域', 9035), ('地址', 9034), ('地区', 9033), ('地化', 9032), ('地位', 9031), ('地下活动', 9030), ('地下党', 9029), ('在线', 9028), ('在校', 9027), ('在内', 9026), ('在京举行', 9025), ('在于', 9024), ('在世', 9023), ('圣多马', 9022), ('圣公会', 9021), ('土狗', 9020), ('圈里', 9019), ('圈选', 9018), ('圈养', 9017), ('圈儿', 9016), ('圆满成功', 9015), ('圆寂', 9014), ('图骗领', 9013), ('图画', 9012), ('图片', 9011), ('图书馆', 9010), ('国际舆论', 9009), ('国际标准', 9008), ('国际性', 9007), ('国际广播电台', 9006), ('国际化', 9005), ('国际', 9004), ('国籍', 9003), ('国立大学', 9002), ('国立', 9001), ('国术', 9000), ('国家法官学院', 8999), ('国家', 8998), ('国力', 8997), ('国内外', 8996), ('国内', 8995), ('国体', 8994), ('围观', 8993), ('围着', 8992), ('围墙', 8991), ('困惑', 8990), ('困境', 8989), ('团队', 8988), ('团结', 8987), ('团体', 8986), ('因素', 8985), ('因着', 8984), ('因此', 8983), ('因为', 8982), ('回顾', 8981), ('回避', 8980), ('回话', 8979), ('回答', 8978), ('回来', 8977), ('回归', 8976), ('回应', 8975), ('回家', 8974), ('回大陆', 8973), ('回复', 8972), ('回国', 8971), ('回升', 8970), ('回到', 8969), ('回乡证', 8968), ('四页', 8967), ('四论', 8966), ('四种', 8965), ('四樓', 8964), ('四楼', 8963), ('四所', 8962), ('四成', 8961), ('四川省', 8960), ('四川大学', 8959), ('四川', 8958), ('四天', 8957), ('四地', 8956), ('四后', 8955), ('四千', 8954), ('四五', 8953), ('四个', 8952), ('囚禁', 8951), ('器官', 8950), ('嘉年华', 8949), ('嘉宾', 8948), ('喜遇', 8947), ('喜欢', 8946), ('善长', 8945), ('善款', 8944), ('商量', 8943), ('商讨', 8942), ('商学院', 8941), ('商场', 8940), ('商业', 8939), ('唯有', 8938), ('唯一', 8937), ('唤醒', 8936), ('唤起民众', 8935), ('唐宋', 8934), ('哭过么', 8933), ('哪里', 8932), ('哪位', 8931), ('哪个', 8930), ('哥伦比亚大学', 8929), ('响应', 8928), ('哈尔滨工业大学', 8927), ('哈哈哈', 8926), ('哈哈', 8925), ('哈佛大学', 8924), ('品玩', 8923), ('品牌', 8922), ('品学兼优', 8921), ('哀荣', 8920), ('哀愁', 8919), ('咨询会', 8918), ('咨询', 8917), ('咖啡', 8916), ('咏梅', 8915), ('和树仁', 8914), ('和平', 8913), ('咋样', 8912), ('命运', 8911), ('命令', 8910), ('呼吁', 8909), ('呵呵', 8908), ('周锋', 8907), ('周边', 8906), ('周翔', 8905), ('周末', 8904), ('周日', 8903), ('周慧敏', 8902), ('周强', 8901), ('周年', 8900), ('周四', 8899), ('周六', 8898), ('周先生', 8897), ('周五', 8896), ('周二', 8895), ('周三', 8894), ('周一', 8893), ('员工', 8892), ('告诫', 8891), ('告诉', 8890), ('呆滞', 8889), ('吹牛', 8888), ('吹捧', 8887), ('吸引力', 8886), ('吸入', 8885), ('启程', 8884), ('启用', 8883), ('启发', 8882), ('启动', 8881), ('听说', 8880), ('听取', 8879), ('听到', 8878), ('含量', 8877), ('含菌量', 8876), ('否认', 8875), ('否则', 8874), ('否决', 8873), ('吕秉权', 8872), ('吕坚', 8871), ('吓倒', 8870), ('向往', 8869), ('向前', 8868), ('向下', 8867), ('向上', 8866), ('吐露', 8865), ('后者', 8864), ('后续', 8863), ('后继无力', 8862), ('后果', 8861), ('后来', 8860), ('后备', 8859), ('后勤', 8858), ('名额', 8857), ('名誉', 8856), ('名校', 8855), ('名字', 8854), ('名列', 8853), ('名人', 8852), ('名义', 8851), ('名为', 8850), ('同行', 8849), ('同类', 8848), ('同窗好友', 8847), ('同济大学', 8846), ('同时', 8845), ('同意', 8844), ('同届', 8843), ('同学会', 8842), ('同学', 8841), ('同台', 8840), ('合租', 8839), ('合法性', 8838), ('合法', 8837), ('合影', 8836), ('合办', 8835), ('合作开发', 8834), ('合作', 8833), ('合一', 8832), ('各项', 8831), ('各阶层', 8830), ('各自', 8829), ('各类', 8828), ('各种', 8827), ('各界', 8826), ('各派', 8825), ('各方', 8824), ('各地', 8823), ('各位', 8822), ('各个', 8821), ('吃饭', 8820), ('吃力', 8819), ('司法程序', 8818), ('司法', 8817), ('号本台', 8816), ('叶蓝', 8815), ('叶璐', 8814), ('叶妙妍', 8813), ('叶兵', 8812), ('右边', 8811), ('右立', 8810), ('史景迁', 8809), ('史料', 8808), ('史实', 8807), ('台铃', 8806), ('台资', 8805), ('台生', 8804), ('台灣', 8803), ('台湾当局', 8802), ('台湾大学', 8801), ('台湾地区', 8800), ('台湾人', 8799), ('台湾', 8798), ('台港澳', 8797), ('台港', 8796), ('台当局', 8795), ('台北医学', 8794), ('台北', 8793), ('台中', 8792), ('可行', 8791), ('可获', 8790), ('可能', 8789), ('可疑', 8788), ('可爱', 8787), ('可愛', 8786), ('可惜', 8785), ('可喜可贺', 8784), ('可以', 8783), ('召集人', 8782), ('召开', 8781), ('叫做', 8780), ('只限', 8779), ('只见', 8778), ('只要', 8777), ('只能', 8776), ('只有', 8775), ('只是', 8774), ('只得', 8773), ('另外', 8772), ('古城', 8771), ('古代', 8770), ('口音', 8769), ('口罩', 8768), ('口号', 8767), ('变革', 8766), ('变成', 8765), ('变性人', 8764), ('变得', 8763), ('变化', 8762), ('受钱', 8761), ('受访者', 8760), ('受洗', 8759), ('受控', 8758), ('受害人', 8757), ('受到', 8756), ('受伤', 8755), ('取得', 8754), ('取巧', 8753), ('取代', 8752), ('发问', 8751), ('发酵', 8750), ('发起人', 8749), ('发起', 8748), ('发话', 8747), ('发言人', 8746), ('发言', 8745), ('发表文章', 8744), ('发表', 8743), ('发行', 8742), ('发病', 8741), ('发电', 8740), ('发生器', 8739), ('发生冲突', 8738), ('发生', 8737), ('发现', 8736), ('发泄', 8735), ('发来', 8734), ('发明', 8733), ('发挥特长', 8732), ('发布会', 8731), ('发布', 8730), ('发展趋势', 8729), ('发展势头', 8728), ('发展', 8727), ('发射', 8726), ('发声明', 8725), ('发声', 8724), ('发动机', 8723), ('发动', 8722), ('发到', 8721), ('发出', 8720), ('发传单', 8719), ('反而', 8718), ('反正', 8717), ('反映', 8716), ('反恐', 8715), ('反弹', 8714), ('反对派', 8713), ('反对', 8712), ('反右', 8711), ('反占', 8710), ('双重标准', 8709), ('双语', 8708), ('双流', 8707), ('双方', 8706), ('双年展', 8705), ('双动', 8704), ('友人', 8703), ('及时', 8702), ('及其', 8701), ('参选人', 8700), ('参选', 8699), ('参访团', 8698), ('参观', 8697), ('参政', 8696), ('参加者', 8695), ('参加', 8694), ('参与度', 8693), ('参与', 8692), ('去年', 8691), ('厦门大学', 8690), ('厦门', 8689), ('厦大', 8688), ('原订', 8687), ('原理', 8686), ('原油', 8685), ('原来', 8684), ('原文', 8683), ('原因', 8682), ('原则', 8681), ('厕所', 8680), ('压迫', 8679), ('压缩', 8678), ('压力', 8677), ('历来', 8676), ('历史文献', 8675), ('历史学者', 8674), ('历史学', 8673), ('历史', 8672), ('厂长', 8671), ('即是', 8670), ('即时', 8669), ('即将', 8668), ('即可', 8667), ('即使', 8666), ('危险', 8665), ('危机', 8664), ('印飞', 8663), ('卫视', 8662), ('卫生', 8661), ('卧龙', 8660), ('卢宠茂', 8659), ('卡尔斯鲁厄', 8658), ('占领', 8657), ('博客', 8656), ('博士生', 8655), ('博士班', 8654), ('博士学位', 8653), ('博士后', 8652), ('博士', 8651), ('博主', 8650), ('南都讯', 8649), ('南通', 8648), ('南海', 8647), ('南洋', 8646), ('南极', 8645), ('南早', 8644), ('南方', 8643), ('南太', 8642), ('南区', 8641), ('卖书', 8640), ('单仁平', 8639), ('卓燕', 8638), ('协调', 8637), ('协议', 8636), ('协理', 8635), ('协同', 8634), ('协办', 8633), ('协会会长', 8632), ('协会会员', 8631), ('协会', 8630), ('华语', 8629), ('华盛顿', 8628), ('华尔街日报', 8627), ('华侨', 8626), ('华人', 8625), ('华中科技大学', 8624), ('华东理工大学', 8623), ('华东政法', 8622), ('半年', 8621), ('半小时', 8620), ('升级', 8619), ('千龙网', 8618), ('千日', 8617), ('千平方米', 8616), ('千多', 8615), ('千分之一', 8614), ('千分之', 8613), ('千万支', 8612), ('十门', 8611), ('十月', 8610), ('十年', 8609), ('十大', 8608), ('十周年', 8607), ('十分', 8606), ('十九', 8605), ('医院', 8604), ('医疗', 8603), ('医学院', 8602), ('医学系', 8601), ('区议会', 8600), ('区块', 8599), ('北风', 8598), ('北邮', 8597), ('北大清华', 8596), ('北大', 8595), ('北京邮电大学', 8594), ('北京大学', 8593), ('北京', 8592), ('化验室', 8591), ('化验', 8590), ('化解', 8589), ('化工', 8588), ('化学系', 8587), ('匈牙利', 8586), ('包括', 8585), ('包尾', 8584), ('勇气', 8583), ('勇敢', 8582), ('勇于', 8581), ('努力', 8580), ('助阵', 8579), ('助理', 8578), ('助教', 8577), ('助推', 8576), ('助力', 8575), ('动荡', 8574), ('动用', 8573), ('动物', 8572), ('动漫', 8571), ('动机', 8570), ('动态', 8569), ('动嘴', 8568), ('动员', 8567), ('动力', 8566), ('动作', 8565), ('加班', 8564), ('加油', 8563), ('加料', 8562), ('加拿大多伦多大学', 8561), ('加拿大', 8560), ('加快', 8559), ('加强营', 8558), ('加强', 8557), ('加州理工学院', 8556), ('加州大学', 8555), ('加州', 8554), ('加大', 8553), ('加剧', 8552), ('加入', 8551), ('加上', 8550), ('功能', 8549), ('功夫', 8548), ('办理', 8547), ('办法', 8546), ('办公室', 8545), ('办事处', 8544), ('力阻', 8543), ('剽窃', 8542), ('副省长', 8541), ('副校长', 8540), ('副教授', 8539), ('副作用', 8538), ('副会长', 8537), ('剩下', 8536), ('剧团', 8535), ('剥削', 8534), ('前首相', 8533), ('前面', 8532), ('前言', 8531), ('前来', 8530), ('前景', 8529), ('前所未有', 8528), ('前往', 8527), ('前夕', 8526), ('前去', 8525), ('前十名', 8524), ('前三位', 8523), ('制造', 8522), ('制成', 8521), ('制度', 8520), ('制宪', 8519), ('制定', 8518), ('制作', 8517), ('到访', 8516), ('到底', 8515), ('到场', 8514), ('到位', 8513), ('别处', 8512), ('别人', 8511), ('利益均沾', 8510), ('利益', 8509), ('利用', 8508), ('删除', 8507), ('初步', 8506), ('初次', 8505), ('创造', 8504), ('创校', 8503), ('创新', 8502), ('创意', 8501), ('创办人', 8500), ('创作', 8499), ('创会', 8498), ('创业精神', 8497), ('创业', 8496), ('刚才', 8495), ('刚刚', 8494), ('刘锐绍', 8493), ('刘晓波', 8492), ('刘明康', 8491), ('刘屏', 8490), ('刘乃强', 8489), ('刊登', 8488), ('刊文', 8487), ('切断', 8486), ('分钟', 8485), ('分离', 8484), ('分满', 8483), ('分歧', 8482), ('分校', 8481), ('分析', 8480), ('分数线', 8479), ('分指数', 8478), ('分店', 8477), ('分居', 8476), ('分子', 8475), ('分多钟', 8474), ('分化', 8473), ('分别', 8472), ('分列', 8471), ('分会', 8470), ('分享', 8469), ('分为', 8468), ('出闸', 8467), ('出门', 8466), ('出租', 8465), ('出生', 8464), ('出现', 8463), ('出版社', 8462), ('出来', 8461), ('出有', 8460), ('出息', 8459), ('出席会议', 8458), ('出席', 8457), ('出处', 8456), ('出动', 8455), ('出力', 8454), ('出刊', 8453), ('出入境', 8452), ('凸现', 8451), ('凸显', 8450), ('凭借', 8449), ('凤翔', 8448), ('凤凰网', 8447), ('几近', 8446), ('几乎', 8445), ('几个', 8444), ('凑合', 8443), ('减少', 8442), ('减低', 8441), ('凍柜', 8440), ('凌晨', 8439), ('凌厉', 8438), ('准确性', 8437), ('准备', 8436), ('冷藏柜', 8435), ('决心', 8434), ('决定', 8433), ('冲突', 8432), ('冲劲', 8431), ('冲击', 8430), ('冰箱', 8429), ('冰天雪地', 8428), ('写给', 8427), ('写票', 8426), ('写信给', 8425), ('写作者', 8424), ('写作', 8423), ('冒起', 8422), ('再次', 8421), ('再有', 8420), ('冉云飞', 8419), ('内部', 8418), ('内现', 8417), ('内幕', 8416), ('内容', 8415), ('内地', 8414), ('内内', 8413), ('兽医学', 8412), ('兽医', 8411), ('兼顾', 8410), ('兼职', 8409), ('养老', 8408), ('典籍', 8407), ('典礼', 8406), ('典型', 8405), ('具有', 8404), ('具体', 8403), ('其次', 8402), ('其实', 8401), ('其后', 8400), ('其余', 8399), ('其他', 8398), ('其中', 8397), ('关键词', 8396), ('关键时刻', 8395), ('关键在于', 8394), ('关系户', 8393), ('关系', 8392), ('关税区', 8391), ('关注', 8390), ('关员', 8389), ('关口', 8388), ('关切', 8387), ('关于', 8386), ('关了', 8385), ('共青团中央', 8384), ('共青团', 8383), ('共识', 8382), ('共聚', 8381), ('共百人', 8380), ('共有', 8379), ('共建', 8378), ('共同体', 8377), ('共同', 8376), ('共匪', 8375), ('共产党', 8374), ('共产主义', 8373), ('六点半', 8372), ('六成', 8371), ('六年制', 8370), ('六天', 8369), ('六四', 8368), ('六合彩', 8367), ('六十名', 8366), ('六个月', 8365), ('公里', 8364), ('公然', 8363), ('公民权利', 8362), ('公民', 8361), ('公款', 8360), ('公投', 8359), ('公开化', 8358), ('公开信', 8357), ('公开', 8356), ('公平', 8355), ('公帑', 8354), ('公布', 8353), ('公婷', 8352), ('公园', 8351), ('公司', 8350), ('公务员', 8349), ('公共财产', 8348), ('公共行政', 8347), ('公共政策', 8346), ('公共安全', 8345), ('公共', 8344), ('公信力', 8343), ('公众', 8342), ('八点', 8341), ('八成', 8340), ('八家', 8339), ('八八', 8338), ('八九', 8337), ('全额', 8336), ('全面', 8335), ('全裸', 8334), ('全球', 8333), ('全港', 8332), ('全民投票', 8331), ('全民', 8330), ('全書', 8329), ('全家', 8328), ('全国政协', 8327), ('全国人大常委会', 8326), ('全国人大', 8325), ('全国', 8324), ('全体', 8323), ('全个', 8322), ('入院', 8321), ('入选者', 8320), ('入读', 8319), ('入职', 8318), ('入禀', 8317), ('入狱', 8316), ('入境处', 8315), ('入境', 8314), ('入侵', 8313), ('党课', 8312), ('党支部', 8311), ('党委书记', 8310), ('党委', 8309), ('党员', 8308), ('党务', 8307), ('免费', 8306), ('光荣', 8305), ('光盘', 8304), ('光照', 8303), ('光明正大', 8302), ('先生', 8301), ('先是', 8300), ('先后', 8299), ('充电', 8298), ('充公', 8297), ('兄弟', 8296), ('元智', 8295), ('允许', 8294), ('儿童', 8293), ('像是', 8292), ('傻眼', 8291), ('傷心', 8290), ('催泪弹', 8289), ('偷拍', 8288), ('偷偷摸摸', 8287), ('健民', 8286), ('停电', 8285), ('停摆', 8284), ('做生意', 8283), ('做法', 8282), ('做成', 8281), ('做客', 8280), ('做出', 8279), ('偏低', 8278), ('假期', 8277), ('假新闻', 8276), ('假学历', 8275), ('倾斜', 8274), ('倾向', 8273), ('值得注意', 8272), ('值得一提的是', 8271), ('倪震', 8270), ('借此机会', 8269), ('借宿', 8268), ('借势', 8267), ('候选人', 8266), ('倒塌', 8265), ('俱乐部', 8264), ('俯瞰', 8263), ('修身', 8262), ('修读', 8261), ('修正主义', 8260), ('信箱', 8259), ('信报', 8258), ('信息员', 8257), ('信息', 8256), ('信心', 8255), ('信奉', 8254), ('信号', 8253), ('信函', 8252), ('保障制度', 8251), ('保证', 8250), ('保留', 8249), ('保持', 8248), ('保护', 8247), ('保安', 8246), ('保守', 8245), ('保健', 8244), ('俄罗斯科学院', 8243), ('促进', 8242), ('促请', 8241), ('便溺', 8240), ('侵蚀', 8239), ('侵犯', 8238), ('侵华', 8237), ('侵会', 8236), ('侯少奎', 8235), ('侦测', 8234), ('依靠', 8233), ('依霖', 8232), ('依照', 8231), ('依然', 8230), ('依次', 8229), ('供应', 8228), ('例子', 8227), ('來晚', 8226), ('使馆', 8225), ('使用', 8224), ('使得', 8223), ('佳话', 8222), ('佳士', 8221), ('佳佳', 8220), ('佩服', 8219), ('佩戴', 8218), ('佣金', 8217), ('你们', 8216), ('你个', 8215), ('作者', 8214), ('作祟', 8213), ('作用', 8212), ('作成', 8211), ('作息', 8210), ('作家', 8209), ('作品', 8208), ('作及', 8207), ('作出', 8206), ('作为', 8205), ('作业', 8204), ('余地', 8203), ('何频', 8202), ('何舟', 8201), ('何种', 8200), ('何清涟', 8199), ('何俊仁', 8198), ('何人', 8197), ('何亮亮', 8196), ('何为', 8195), ('体系', 8194), ('体现', 8193), ('体制', 8192), ('体内', 8191), ('住房补贴', 8190), ('住宿', 8189), ('低调', 8188), ('低劣', 8187), ('位置', 8186), ('位掌', 8185), ('位列', 8184), ('位会员', 8183), ('位于', 8182), ('但是', 8181), ('估计', 8180), ('估值', 8179), ('伯克利大学', 8178), ('伦敦', 8177), ('伤人', 8176), ('传闻', 8175), ('传递', 8174), ('传真', 8173), ('传播', 8172), ('传媒业', 8171), ('传媒', 8170), ('传出', 8169), ('传入', 8168), ('伟大', 8167), ('会面', 8166), ('会长', 8165), ('会议展览', 8164), ('会议厅', 8163), ('会议', 8162), ('会计学院', 8161), ('会计', 8160), ('会见', 8159), ('会堂', 8158), ('会员', 8157), ('会告', 8156), ('会典', 8155), ('伙伴关系', 8154), ('伙伴', 8153), ('优良', 8152), ('优缺点', 8151), ('优秀', 8150), ('优异', 8149), ('众多', 8148), ('休斯顿', 8147), ('休斯敦大学', 8146), ('休士顿', 8145), ('伊斯兰', 8144), ('伊力哈木', 8143), ('企业家', 8142), ('企业', 8141), ('仿造', 8140), ('份量', 8139), ('任职', 8138), ('任期', 8137), ('任教', 8136), ('任何', 8135), ('价格便宜', 8134), ('价值', 8133), ('仰慕', 8132), ('仪礼', 8131), ('仪式', 8130), ('以至', 8129), ('以示', 8128), ('以来', 8127), ('以往', 8126), ('以后', 8125), ('以及', 8124), ('以前', 8123), ('以假乱真', 8122), ('以为', 8121), ('以下', 8120), ('令人惊叹', 8119), ('令人厌恶', 8118), ('代读', 8117), ('代表性', 8116), ('代表团', 8115), ('代表', 8114), ('代父', 8113), ('他们', 8112), ('他人', 8111), ('从而', 8110), ('从来不', 8109), ('从来', 8108), ('从事', 8107), ('仍然', 8106), ('介绍', 8105), ('今月', 8104), ('今晚报', 8103), ('今明两天', 8102), ('今日', 8101), ('今年初', 8100), ('今年', 8099), ('今天下午', 8098), ('今天上午', 8097), ('今天', 8096), ('今后', 8095), ('仁翁', 8094), ('什么', 8093), ('亿元', 8092), ('亿万富豪', 8091), ('人选', 8090), ('人行道', 8089), ('人能', 8088), ('人群', 8087), ('人物', 8086), ('人民网', 8085), ('人民日报', 8084), ('人民币', 8083), ('人民大会堂', 8082), ('人民', 8081), ('人权', 8080), ('人数', 8079), ('人才', 8078), ('人工智能', 8077), ('人家', 8076), ('人大', 8075), ('人士', 8074), ('人品', 8073), ('人命', 8072), ('人员', 8071), ('人口', 8070), ('人力', 8069), ('人入', 8068), ('人像', 8067), ('人体', 8066), ('人伤', 8065), ('人会', 8064), ('人们', 8063), ('亲身', 8062), ('亲中', 8061), ('京都大学', 8060), ('产生', 8059), ('产品类别', 8058), ('产出', 8057), ('产业', 8056), ('亦不例外', 8055), ('交流', 8054), ('交易', 8053), ('交换', 8052), ('交往', 8051), ('交代', 8050), ('亚视', 8049), ('亚洲电视', 8048), ('亚洲', 8047), ('亚历山大', 8046), ('五毛', 8045), ('五校', 8044), ('五时', 8043), ('五年', 8042), ('五层', 8041), ('五家', 8040), ('五十周年', 8039), ('五区', 8038), ('五个', 8037), ('互联网', 8036), ('互动', 8035), ('云集', 8034), ('云南', 8033), ('二维码', 8032), ('二百', 8031), ('二本', 8030), ('二层', 8029), ('二十四', 8028), ('二十周年', 8027), ('二十五年', 8026), ('二十九', 8025), ('二十', 8024), ('二代', 8023), ('二三', 8022), ('事故', 8021), ('事情', 8020), ('事实上', 8019), ('事实', 8018), ('事后', 8017), ('事发', 8016), ('事务局', 8015), ('事务', 8014), ('事件真相', 8013), ('事件', 8012), ('事业', 8011), ('事与愿违', 8010), ('争霸', 8009), ('争议', 8008), ('争拗', 8007), ('争执', 8006), ('争取', 8005), ('了解', 8004), ('了以', 8003), ('乱世', 8002), ('买金', 8001), ('买回来', 8000), ('书院', 7999), ('书记', 7998), ('书社', 7997), ('书法展', 7996), ('书法作品', 7995), ('书店', 7994), ('书展', 7993), ('书写', 7992), ('书信', 7991), ('习近平', 7990), ('习惯', 7989), ('习作', 7988), ('也就是说', 7987), ('也好', 7986), ('九龙塘', 7985), ('九龙城', 7984), ('九龙', 7983), ('九点半', 7982), ('乔龙', 7981), ('乔纳森', 7980), ('乐观', 7979), ('乌龙', 7978), ('乌克兰', 7977), ('之际', 7976), ('之间', 7975), ('之我见', 7974), ('之外', 7973), ('之后', 7972), ('之前', 7971), ('之一', 7970), ('义演', 7969), ('义工', 7968), ('义务', 7967), ('举证', 7966), ('举行', 7965), ('举报', 7964), ('举动', 7963), ('举办', 7962), ('主题', 7961), ('主讲', 7960), ('主要', 7959), ('主编', 7958), ('主管', 7957), ('主权国家', 7956), ('主旨', 7955), ('主播', 7954), ('主持人', 7953), ('主持', 7952), ('主席', 7951), ('主导', 7950), ('主因', 7949), ('主办方', 7948), ('主办', 7947), ('主任', 7946), ('为题', 7945), ('为难', 7944), ('为此', 7943), ('为期', 7942), ('为何', 7941), ('为什么', 7940), ('为了', 7939), ('为主', 7938), ('丹阳', 7937), ('临时', 7936), ('临床', 7935), ('丰泽', 7934), ('中评社', 7933), ('中葡', 7932), ('中美', 7931), ('中立', 7930), ('中科院', 7929), ('中研院', 7928), ('中环', 7927), ('中港', 7926), ('中正', 7925), ('中新网', 7924), ('中新社', 7923), ('中文网', 7922), ('中文系', 7921), ('中文', 7920), ('中招', 7919), ('中心', 7918), ('中山大学', 7917), ('中小学生', 7916), ('中学生', 7915), ('中学', 7914), ('中子', 7913), ('中央财经', 7912), ('中央研究院', 7911), ('中央政府', 7910), ('中央军委', 7909), ('中央', 7908), ('中大', 7907), ('中在', 7906), ('中土', 7905), ('中国香港', 7904), ('中国籍', 7903), ('中国科学院', 7902), ('中国法学会', 7901), ('中国政府', 7900), ('中国式', 7899), ('中国工程院', 7898), ('中国大学', 7897), ('中国地质大学', 7896), ('中国台湾', 7895), ('中国化', 7894), ('中国共产党', 7893), ('中国人民大学', 7892), ('中国中央政府', 7891), ('中国', 7890), ('中原大学', 7889), ('中华人民', 7888), ('中华', 7887), ('中午', 7886), ('中共', 7885), ('中产', 7884), ('中二', 7883), ('中三', 7882), ('个别', 7881), ('个儿', 7880), ('个体差异', 7879), ('个人资料', 7878), ('个人档案', 7877), ('个人感觉', 7876), ('个人', 7875), ('严酷', 7874), ('严肃处理', 7873), ('严肃', 7872), ('严正', 7871), ('严打', 7870), ('严峻形势', 7869), ('严厉', 7868), ('两间', 7867), ('两部', 7866), ('两篇', 7865), ('两男一女', 7864), ('两次', 7863), ('两极分化', 7862), ('两所', 7861), ('两年', 7860), ('两岸三地', 7859), ('两岸', 7858), ('两地', 7857), ('两国', 7856), ('两名', 7855), ('两位', 7854), ('两会', 7853), ('两个', 7852), ('两三年', 7851), ('两三个', 7850), ('丢尽', 7849), ('东西', 7848), ('东方网', 7847), ('东南大学', 7846), ('东京大学', 7845), ('东京', 7844), ('东亚', 7843), ('业内', 7842), ('世纪', 7841), ('世界', 7840), ('世代', 7839), ('专题讲座', 7838), ('专题报告', 7837), ('专题', 7836), ('专门', 7835), ('专长', 7834), ('专访', 7833), ('专注', 7832), ('专家', 7831), ('专业', 7830), ('与否', 7829), ('与会代表', 7828), ('不错', 7827), ('不过', 7826), ('不足', 7825), ('不诚实', 7824), ('不许', 7823), ('不要脸', 7822), ('不要', 7821), ('不能', 7820), ('不胜负荷', 7819), ('不算', 7818), ('不端', 7817), ('不知', 7816), ('不用', 7815), ('不满情绪', 7814), ('不满', 7813), ('不止', 7812), ('不是', 7811), ('不明', 7810), ('不断扩大', 7809), ('不断', 7808), ('不敢', 7807), ('不报', 7806), ('不想', 7805), ('不怕没柴烧', 7804), ('不当', 7803), ('不幸', 7802), ('不少', 7801), ('不容许', 7800), ('不定', 7799), ('不好', 7798), ('不够', 7797), ('不堪重负', 7796), ('不同', 7795), ('不可或缺', 7794), ('不可告人', 7793), ('不可', 7792), ('不到', 7791), ('不再', 7790), ('不光', 7789), ('不但', 7788), ('不会', 7787), ('不仅', 7786), ('不了', 7785), ('不为瓦全', 7784), ('下雨', 7783), ('下跌', 7782), ('下届', 7781), ('下周一', 7780), ('下古', 7779), ('下去', 7778), ('下午', 7777), ('下习', 7776), ('下一代', 7775), ('上课时', 7774), ('上课', 7773), ('上访', 7772), ('上盖', 7771), ('上海财经大学', 7770), ('上海市', 7769), ('上海交通大学', 7768), ('上海', 7767), ('上榜', 7766), ('上推', 7765), ('上学', 7764), ('上头', 7763), ('上周五', 7762), ('上周', 7761), ('上午', 7760), ('上前', 7759), ('上任', 7758), ('三藩市', 7757), ('三百', 7756), ('三流', 7755), ('三次', 7754), ('三方', 7753), ('三批', 7752), ('三成', 7751), ('三子', 7750), ('三天', 7749), ('三名', 7748), ('三千六百', 7747), ('三十周年', 7746), ('三位', 7745), ('三个', 7744), ('万港元', 7743), ('万条', 7742), ('万多人次', 7741), ('万元', 7740), ('万人次', 7739), ('万个', 7738), ('七里', 7737), ('七月', 7736), ('七年', 7735), ('七一', 7734), ('丁学良', 7733), ('一鸿', 7732), ('一项', 7731), ('一门', 7730), ('一部分', 7729), ('一边', 7728), ('一车', 7727), ('一路', 7726), ('一起', 7725), ('一角', 7724), ('一行', 7723), ('一般', 7722), ('一群', 7721), ('一统', 7720), ('一组', 7719), ('一站', 7718), ('一种', 7717), ('一直', 7716), ('一班', 7715), ('一点', 7714), ('一清早', 7713), ('一流', 7712), ('一段时间', 7711), ('一款', 7710), ('一次', 7709), ('一样', 7708), ('一栋', 7707), ('一本', 7706), ('一月', 7705), ('一时', 7704), ('一旁', 7703), ('一整天', 7702), ('一支', 7701), ('一批', 7700), ('一所', 7699), ('一意孤行', 7698), ('一张', 7697), ('一座', 7696), ('一度', 7695), ('一年', 7694), ('一幢', 7693), ('一幅', 7692), ('一层', 7691), ('一封', 7690), ('一对', 7689), ('一家', 7688), ('一定', 7687), ('一头雾水', 7686), ('一天', 7685), ('一大步', 7684), ('一夜', 7683), ('一处', 7682), ('一堆', 7681), ('一场', 7680), ('一国两制', 7679), ('一品', 7678), ('一周年', 7677), ('一周', 7676), ('一名', 7675), ('一同', 7674), ('一句', 7673), ('一千吨', 7672), ('一切', 7671), ('一刀切', 7670), ('一元', 7669), ('一位', 7668), ('一任', 7667), ('一些', 7666), ('一事', 7665), ('一个月', 7664), ('一个多月', 7663), ('一个', 7662), ('一下', 7661), ('一上台', 7660), ('zzqjrbxj1a', 7659), ('zyribrxxp3', 7658), ('zyp010', 7657), ('zullen', 7656), ('zulfiqar', 7655), ('zoo', 7654), ('zone', 7653), ('zondag', 7652), ('zombie', 7651), ('zite', 7650), ('zincion', 7649), ('zinc', 7648), ('zimski', 7647), ('zimbabwean', 7646), ('zimbabwe', 7645), ('zijn', 7644), ('zhus', 7643), ('zhuoni', 7642), ('zhoufengsuo', 7641), ('zhou', 7640), ('zhongshan', 7639), ('zhong', 7638), ('zhilin', 7637), ('zhenzhen', 7636), ('zhao', 7635), ('zhang', 7634), ('zeng', 7633), ('zealand', 7632), ('zaharaesque', 7631), ('zagrebu', 7630), ('za', 7629), ('yz9uulfulj', 7628), ('yyanc', 7627), ('ywz', 7626), ('yuukiera', 7625), ('yushek', 7624), ('yurionice', 7623), ('yup', 7622), ('yunte', 7621), ('yunfei', 7620), ('yun', 7619), ('yummyummyumm', 7618), ('yummy', 7617), ('yukamiyake', 7616), ('yuk', 7615), ('yuimagori', 7614), ('yuet', 7613), ('yuen', 7612), ('yue', 7611), ('yuchengco', 7610), ('yuan', 7609), ('ypec', 7608), ('youtube', 7607), ('youth', 7606), ('yourt', 7605), ('youre', 7604), ('your', 7603), ('youngmediaartists', 7602), ('young', 7601), ('youll', 7600), ('youcantsitwithus', 7599), ('you', 7598), ('york', 7597), ('yoonse81', 7596), ('yoga', 7595), ('ymdhis', 7594), ('yip', 7593), ('yinwong', 7592), ('yinghua', 7591), ('ying', 7590), ('yinbehappybegcs', 7589), ('yin', 7588), ('yim', 7587), ('ygu', 7586), ('yew', 7585), ('yeung', 7584), ('yet', 7583), ('yesterday', 7582), ('yester', 7581), ('yes', 7580), ('yep', 7579), ('yellowcat', 7578), ('yellow', 7577), ('years', 7576), ('year', 7575), ('yeahnoworries', 7574), ('yeah', 7573), ('ye', 7572), ('ydang', 7571), ('yay', 7570), ('yaukachan', 7569), ('yat', 7568), ('yarnlike', 7567), ('yao', 7566), ('yanto', 7565), ('yangzhou', 7564), ('yang', 7563), ('yancity', 7562), ('yan', 7561), ('yammer', 7560), ('yamanashi', 7559), ('yamadaofficial', 7558), ('yale', 7557), ('yah', 7556), ('yagi', 7555), ('ya', 7554), ('xxrbswys5c', 7553), ('xxkriscbxx', 7552), ('xx', 7551), ('xuxiwriter', 7550), ('xue', 7549), ('xuan', 7548), ('xu', 7547), ('xsvb9jaxsb', 7546), ('xrd', 7545), ('xmu', 7544), ('xjloh', 7543), ('xiv', 7542), ('xiu', 7541), ('xinwenxiaojie', 7540), ('xingfuhuli', 7539), ('xin', 7538), ('xijinping', 7537), ('xii', 7536), ('xidian', 7535), ('xiaoyubaobao', 7534), ('xiaoyu', 7533), ('xiaoling', 7532), ('xiaohua', 7531), ('xiaodong', 7530), ('xiang', 7529), ('xia', 7528), ('xi', 7527), ('xddd', 7526), ('xd', 7525), ('xavierleroy', 7524), ('xavier', 7523), ('x70', 7522), ('wynn', 7521), ('wwwunijobscomau', 7520), ('wwwtwittercom', 7519), ('wwwsitewatchercn', 7518), ('wwwgooglyfishhk', 7517), ('www', 7516), ('wwjobs', 7515), ('wwfhong', 7514), ('ww', 7513), ('wvqqwi6mdi', 7512), ('wur', 7511), ('wudc', 7510), ('wud', 7509), ('wthe', 7508), ('wtfwtfwtfwtfwtf', 7507), ('wsv2018', 7506), ('wsv', 7505), ('wrong', 7504), ('writingjobposting', 7503), ('writingenglish', 7502), ('writersnews', 7501), ('writerinresidence', 7500), ('writerin', 7499), ('writer', 7498), ('write', 7497), ('wright', 7496), ('wricewriters', 7495), ('wrap', 7494), ('wpcscholarship', 7493), ('wowo', 7492), ('wowengnome2012gnomeasia', 7491), ('wow', 7490), ('wouldnt', 7489), ('would', 7488), ('worry', 7487), ('worldwide', 7486), ('worldsfirst', 7485), ('worlds', 7484), ('worldrenowned', 7483), ('worldnews', 7482), ('worldgovsummit', 7481), ('worldclass', 7480), ('worldacclaimed', 7479), ('world', 7478), ('workshopping', 7477), ('workshop', 7476), ('workplace', 7475), ('workingyum', 7474), ('working', 7473), ('workersscreening', 7472), ('workers', 7471), ('worker', 7470), ('workability', 7469), ('work', 7468), ('wordpressdotcom', 7467), ('word', 7466), ('woorden', 7465), ('woohoo', 7464), ('wontliveforever', 7463), ('wongken', 7462), ('wong', 7461), ('wonderfully', 7460), ('wonderfulengr', 7459), ('wonderful', 7458), ('wonder', 7457), ('woman', 7456), ('woethoocodie', 7455), ('wo', 7454), ('wnn7', 7453), ('wn', 7452), ('wmhk', 7451), ('wlvuni', 7450), ('wkcda', 7449), ('wizardsaints', 7448), ('wiwr9ypgi', 7447), ('witness', 7446), ('without', 7445), ('within', 7444), ('withdraw', 7443), ('with', 7442), ('wissink', 7441), ('wishmeluck', 7440), ('wish', 7439), ('wisconsin', 7438), ('wirelessweek', 7437), ('wireless', 7436), ('wire', 7435), ('winter', 7434), ('winsyleung', 7433), ('winson', 7432), ('winner', 7431), ('wing', 7430), ('wine', 7429), ('window', 7428), ('wind', 7427), ('win', 7426), ('willingness', 7425), ('willian', 7424), ('william', 7423), ('willem', 7422), ('will', 7421), ('wilhelm', 7420), ('wiley', 7419), ('wild', 7418), ('wikipedia', 7417), ('wikiapa', 7416), ('wiki', 7415), ('wifi', 7414), ('wife', 7413), ('wiener', 7412), ('widespread', 7411), ('wideranging', 7410), ('widener', 7409), ('widen', 7408), ('wide', 7407), ('wid', 7406), ('wi', 7405), ('why', 7404), ('whose', 7403), ('wholesaler', 7402), ('whole', 7401), ('who', 7400), ('white', 7399), ('whistle', 7398), ('whilst', 7397), ('while', 7396), ('whil', 7395), ('which', 7394), ('whether', 7393), ('wheres', 7392), ('where', 7391), ('when', 7390), ('wheelchair', 7389), ('wheel', 7388), ('whats', 7387), ('whatif007', 7386), ('whatgetsmehot', 7385), ('what', 7384), ('whale', 7383), ('wfc', 7382), ('wew', 7381), ('weve', 7380), ('wet', 7379), ('westkowloon', 7378), ('western', 7377), ('west', 7376), ('were', 7375), ('wenyunchao', 7374), ('wenyin', 7373), ('wenwei', 7372), ('wen', 7371), ('wellsfargo', 7370), ('well', 7369), ('welfareethics', 7368), ('welfare', 7367), ('welder', 7366), ('welcome', 7365), ('weiwei', 7364), ('weirdo', 7363), ('weikzas', 7362), ('weikza', 7361), ('weijieismullet', 7360), ('wei', 7359), ('weekly', 7358), ('weekend', 7357), ('week', 7356), ('weeeeeeeeeeeeeee', 7355), ('wee', 7354), ('wednesday', 7353), ('wednesda', 7352), ('wedn', 7351), ('wed', 7350), ('website', 7349), ('webpage', 7348), ('web', 7347), ('weave', 7346), ('weather', 7345), ('wearable', 7344), ('wear', 7343), ('weaponizedword1', 7342), ('wealth', 7341), ('weaken', 7340), ('we', 7339), ('wcc', 7338), ('way', 7337), ('watson', 7336), ('waterlooint', 7335), ('waterloo', 7334), ('water', 7333), ('watcher', 7332), ('watch', 7331), ('waste', 7330), ('washington', 7329), ('wash', 7328), ('warwick', 7327), ('warship', 7326), ('warn', 7325), ('warmly', 7324), ('warm', 7323), ('waran', 7322), ('war', 7321), ('wantwantdaily', 7320), ('want', 7319), ('wanochoy', 7318), ('wanna', 7317), ('wangstar20161', 7316), ('wang', 7315), ('wandsdanielle', 7314), ('waltdisney', 7313), ('wallacenoll', 7312), ('wall', 7311), ('walker', 7310), ('walk', 7309), ('wake', 7308), ('wait', 7307), ('waimy', 7306), ('wai', 7305), ('wah', 7304), ('wagner', 7303), ('wage', 7302), ('waffle', 7301), ('wa', 7300), ('vuwcjs2014', 7299), ('vuejs', 7298), ('vue', 7297), ('vsmm2014', 7296), ('vs', 7295), ('vreese', 7294), ('vr', 7293), ('vpwbhr9vbi', 7292), ('vpsison', 7291), ('vpn', 7290), ('vp', 7289), ('vow', 7288), ('vote', 7287), ('vortrag', 7286), ('voor', 7285), ('von', 7284), ('volunteer', 7283), ('volume', 7282), ('volleyball', 7281), ('vol', 7280), ('voila', 7279), ('voice', 7278), ('vofnpaper', 7277), ('vocation', 7276), ('voanews', 7275), ('voaio', 7274), ('voaie', 7273), ('voa', 7272), ('vn', 7271), ('vm', 7270), ('vliegtuig', 7269), ('vle', 7268), ('vivo', 7267), ('vitamin', 7266), ('vital', 7265), ('visuals', 7264), ('visualization', 7263), ('visualisation', 7262), ('visual', 7261), ('vismoot', 7260), ('visitor', 7259), ('visitlots', 7258), ('visit', 7257), ('vision', 7256), ('vishwa', 7255), ('visa', 7254), ('virus', 7253), ('virtualwalking', 7252), ('virtualbank', 7251), ('virtual', 7250), ('viral', 7249), ('vip', 7248), ('violence', 7247), ('violate', 7246), ('vintage', 7245), ('vine', 7244), ('vimal', 7243), ('village', 7242), ('vijay', 7241), ('viewhk', 7240), ('view', 7239), ('vietnams', 7238), ('vietnam', 7237), ('vienna', 7236), ('viene', 7235), ('videohttpstcocianpgctmjyoutube', 7234), ('videogame', 7233), ('video', 7232), ('victory', 7231), ('victoria', 7230), ('victor', 7229), ('victimology', 7228), ('victim', 7227), ('vicky', 7226), ('vicinity', 7225), ('vicerector', 7224), ('vicepresident', 7223), ('vicechancellor', 7222), ('vice', 7221), ('vibezz', 7220), ('via', 7219), ('vi', 7218), ('vht', 7217), ('vetschool', 7216), ('veterinarymedicine', 7215), ('veterinary', 7214), ('vet', 7213), ('very', 7212), ('vertigo', 7211), ('vertex', 7210), ('version', 7209), ('versin', 7208), ('versatile', 7207), ('veronicacrossa', 7206), ('veritasever', 7205), ('verdana', 7204), ('venue', 7203), ('venture', 7202), ('vent', 7201), ('vendor', 7200), ('vellaisamy', 7199), ('veljko', 7198), ('vein', 7197), ('vehicle', 7196), ('vegetation', 7195), ('vegeta', 7194), ('veget', 7193), ('vega', 7192), ('vector', 7191), ('ve', 7190), ('vdi', 7189), ('vdeo', 7188), ('vc', 7187), ('vbalance03', 7186), ('varsity', 7185), ('various', 7184), ('variant', 7183), ('vantis', 7182), ('vanjones68', 7181), ('vanguardgroup', 7180), ('vanaf', 7179), ('van', 7178), ('valuedpartner', 7177), ('value', 7176), ('valuable', 7175), ('validate', 7174), ('valdosta', 7173), ('vacay', 7172), ('vacation', 7171), ('vacancy', 7170), ('va', 7169), ('v9llzmfxw9', 7168), ('v2', 7167), ('uzxpq3exhs', 7166), ('ux', 7165), ('uwcseaeast', 7164), ('uwbusiness', 7163), ('uwaterlooasia', 7162), ('uwaterlooarts', 7161), ('uwaterloo', 7160), ('uvic', 7159), ('uvaamsterdam', 7158), ('uudbilawmanus', 7157), ('utmiec', 7156), ('utm', 7155), ('utchattanooga', 7154), ('utcaee', 7153), ('utc22', 7152), ('utar', 7151), ('utama', 7150), ('ut', 7149), ('ustc', 7148), ('usnavy', 7147), ('usfhk', 7146), ('usfda', 7145), ('usfca', 7144), ('user', 7143), ('useless', 7142), ('use', 7141), ('usc', 7140), ('usbased', 7139), ('usbas', 7138), ('usb', 7137), ('usambuk', 7136), ('usa', 7135), ('us500000', 7134), ('us21003200per', 7133), ('us', 7132), ('urhk', 7131), ('urgent', 7130), ('urge', 7129), ('ure', 7128), ('urbanplanning', 7127), ('urbanism', 7126), ('urban', 7125), ('ur', 7124), ('upsidedown', 7123), ('upside', 7122), ('upload', 7121), ('uplift', 7120), ('upicom', 7119), ('upgrade', 7118), ('update', 7117), ('upcoming', 7116), ('up', 7115), ('uowd', 7114), ('uow', 7113), ('uosmediacity', 7112), ('uoncpi', 7111), ('unsplash', 7110), ('unrest', 7109), ('unpopular', 7108), ('unpadnia', 7107), ('unpadinfo', 7106), ('unlike', 7105), ('unleash', 7104), ('unl', 7103), ('unknown', 7102), ('uniw', 7101), ('univsavoie', 7100), ('univisor', 7099), ('univerty', 7098), ('universityto', 7097), ('universitys', 7096), ('universityleeds', 7095), ('universityjoined', 7094), ('universityisrael', 7093), ('universityhong', 7092), ('university', 7091), ('universitesi', 7090), ('universite', 7089), ('universit', 7088), ('universi', 7087), ('univers', 7086), ('univeristy', 7085), ('univ', 7084), ('unity3d', 7083), ('unite', 7082), ('unison', 7081), ('unirule', 7080), ('uniqueness', 7079), ('unique', 7078), ('union', 7077), ('uniofyork', 7076), ('uniofadelaide', 7075), ('uninewcastle', 7074), ('unileidens', 7073), ('unikind', 7072), ('unieuropearoma', 7071), ('unidir', 7070), ('uni', 7069), ('unfortunately', 7068), ('unf', 7067), ('unexpected', 7066), ('unece', 7065), ('underway', 7064), ('underwater', 7063), ('undertake', 7062), ('understandable', 7061), ('understand', 7060), ('underpostgraduate', 7059), ('underline', 7058), ('underground', 7057), ('undergraduate', 7056), ('under', 7055), ('und', 7054), ('unconventional', 7053), ('uncle', 7052), ('uncertain', 7051), ('uncategorized', 7050), ('un', 7049), ('umv', 7048), ('umm', 7047), ('umhk', 7046), ('umd', 7045), ('umbrellarevolution', 7044), ('umbrellamovement', 7043), ('umassamherst', 7042), ('ultimatum', 7041), ('ukmeded', 7040), ('ukmcity', 7039), ('uk', 7038), ('uichrs', 7037), ('uhuru', 7036), ('uhk', 7035), ('uhb4dlo7yc', 7034), ('ugm', 7033), ('ug', 7032), ('ufaw', 7031), ('ud', 7030), ('uczelniach', 7029), ('ucpsarnet', 7028), ('uconns', 7027), ('ucommune', 7026), ('uclaresidentiallife', 7025), ('ucl', 7024), ('ucf', 7023), ('ucc', 7022), ('ubuntu', 7021), ('ubiquitous', 7020), ('uarkansas', 7019), ('uaereps', 7018), ('uac', 7017), ('u8kxn5l6nv', 7016), ('u3', 7015), ('tzuheng', 7014), ('tyrararary', 7013), ('tyranny', 7012), ('typhoon', 7011), ('type2diabetes', 7010), ('type', 7009), ('ty', 7008), ('two', 7007), ('twitterqna', 7006), ('twitter', 7005), ('twisq', 7004), ('twheat', 7003), ('twgmarks', 7002), ('twestivalhk', 7001), ('twenty', 7000), ('tweetcount', 6999), ('tweet', 6998), ('tw974', 6997), ('tvbs', 6996), ('tvb', 6995), ('tutorial', 6994), ('tutor', 6993), ('turtle', 6992), ('turne', 6991), ('turn', 6990), ('turkey', 6989), ('tunnel', 6988), ('tunn', 6987), ('tungxdd', 6986), ('tung', 6985), ('tune', 6984), ('tuition', 6983), ('tuesday', 6982), ('tues', 6981), ('tue', 6980), ('tudiant', 6979), ('tu', 6978), ('ttw', 6977), ('tt', 6976), ('tsui', 6975), ('tsugiko', 6974), ('tsinghua', 6973), ('tsetungin', 6972), ('tse', 6971), ('tsang', 6970), ('tryst', 6969), ('try', 6968), ('truth', 6967), ('trust', 6966), ('trumps', 6965), ('trump', 6964), ('truly', 6963), ('true', 6962), ('trs', 6961), ('trojan', 6960), ('troeung', 6959), ('triple', 6958), ('triphk', 6957), ('trip', 6956), ('trinitians', 6955), ('trigonometry', 6954), ('tricialing', 6953), ('tribute', 6952), ('trial', 6951), ('triad', 6950), ('trent', 6949), ('trend', 6948), ('tremendous', 6947), ('tree', 6946), ('treaty', 6945), ('treatment', 6944), ('treat', 6943), ('treasure', 6942), ('traverse', 6941), ('traveltuesday', 6940), ('travelmyanmar', 6939), ('travel', 6938), ('transport', 6937), ('transparency', 6936), ('transnational', 6935), ('transmission', 6934), ('translational', 6933), ('translation', 6932), ('transition', 6931), ('transit', 6930), ('transient', 6929), ('transglobal', 6928), ('transformation', 6927), ('transformable', 6926), ('transform', 6925), ('transfer', 6924), ('transcription', 6923), ('transcript', 6922), ('trainer', 6921), ('trainee', 6920), ('train', 6919), ('trailer', 6918), ('traffic', 6917), ('traditional', 6916), ('tradition', 6915), ('traders', 6914), ('trademark', 6913), ('trade', 6912), ('track', 6911), ('tpg', 6910), ('tpetruno', 6909), ('toy', 6908), ('toxic', 6907), ('town', 6906), ('tower', 6905), ('towards', 6904), ('toward', 6903), ('tournament', 6902), ('tourist', 6901), ('tourism', 6900), ('tour', 6899), ('toughen', 6898), ('totally', 6897), ('toronto', 6896), ('torch', 6895), ('topup', 6894), ('topnews', 6893), ('topicstracks', 6892), ('topick', 6891), ('topic', 6890), ('topheavy', 6889), ('topdown', 6888), ('top100', 6887), ('top', 6886), ('tool', 6885), ('took', 6884), ('too', 6883), ('tonight', 6882), ('tong', 6881), ('tomtsekungsui', 6880), ('tomorrow', 6879), ('tom', 6878), ('tolerance', 6877), ('tokyo', 6876), ('tokaichallenger', 6875), ('toits', 6874), ('toilets', 6873), ('toilet', 6872), ('together', 6871), ('todays', 6870), ('todayonlinear', 6869), ('todayilearned', 6868), ('today', 6867), ('tobias', 6866), ('to', 6865), ('tngwallet', 6864), ('tn', 6863), ('tmyemily', 6862), ('tmus', 6861), ('tljr', 6860), ('tl', 6859), ('title', 6858), ('tisunifair', 6857), ('tismacao', 6856), ('tisdag', 6855), ('tiredl', 6854), ('tire', 6853), ('tip', 6852), ('tiny', 6851), ('tinnitus', 6850), ('ting', 6849), ('tina', 6848), ('timh01', 6847), ('timetoperform', 6846), ('timesunion', 6845), ('timesquareza', 6844), ('timely', 6843), ('time', 6842), ('tim', 6841), ('tilo', 6840), ('tilburgueng', 6839), ('tilburgresearch', 6838), ('tilburglawnews', 6837), ('tilburg', 6836), ('til', 6835), ('tight', 6834), ('tien', 6833), ('tie', 6832), ('tidy', 6831), ('ticket', 6830), ('tibet', 6829), ('tiasnews', 6828), ('tianjin', 6827), ('tiananmenmassacre', 6826), ('tian', 6825), ('tia', 6824), ('ti', 6823), ('thz', 6822), ('thyself', 6821), ('thx', 6820), ('thvn', 6819), ('thursdaythoughts', 6818), ('thursday', 6817), ('thur', 6816), ('thunderstorm', 6815), ('thttpstcobt6kf38s3l', 6814), ('thru', 6813), ('throughout', 6812), ('through', 6811), ('throat', 6810), ('thrill', 6809), ('three', 6808), ('threat', 6807), ('thread', 6806), ('thousand', 6805), ('thought', 6804), ('though', 6803), ('thompson', 6802), ('thomas', 6801), ('tho', 6800), ('thisway', 6799), ('thisiscool', 6798), ('thisisallan', 6797), ('this', 6796), ('third', 6795), ('think', 6794), ('thing', 6793), ('theyre', 6792), ('theycantkillusall', 6791), ('they', 6790), ('thetakeaway', 6789), ('thestandard', 6788), ('thesis', 6787), ('these', 6786), ('thersa', 6785), ('theroofsofparis', 6784), ('thermogels', 6783), ('theremusyu', 6782), ('therealtruther', 6781), ('there', 6780), ('therapy', 6779), ('therapist', 6778), ('theory', 6777), ('theoretical', 6776), ('theology', 6775), ('then', 6774), ('theme', 6773), ('them162491km', 6772), ('them', 6771), ('thekainsosa', 6770), ('their', 6769), ('theiotcloud', 6768), ('thein', 6767), ('thedailystat', 6766), ('thecloudnetwork', 6765), ('theatre', 6764), ('theantikool', 6763), ('the', 6762), ('thats', 6761), ('that', 6760), ('thankful', 6759), ('thank', 6758), ('tham', 6757), ('thailand', 6756), ('thaicambodian', 6755), ('thaaaanks', 6754), ('tha', 6753), ('th', 6752), ('tfidm', 6751), ('tfi', 6750), ('tfdevsummit', 6749), ('tfb', 6748), ('texting', 6747), ('textbook', 6746), ('text', 6745), ('texas', 6744), ('teu', 6743), ('testimonial', 6742), ('test', 6741), ('tesol', 6740), ('territory', 6739), ('terrify', 6738), ('terrific', 6737), ('terrible', 6736), ('terminate', 6735), ('term', 6734), ('tercengang', 6733), ('terbaru', 6732), ('terams', 6731), ('tenuretrack', 6730), ('tentatively', 6729), ('tension', 6728), ('tengbiao', 6727), ('tender', 6726), ('ten', 6725), ('tempt', 6724), ('temporary', 6723), ('temporality', 6722), ('telnet', 6721), ('tell', 6720), ('telecom', 6719), ('tel', 6718), ('teknik', 6717), ('teflist', 6716), ('teen', 6715), ('tedxcityuniversityhongkong', 6714), ('tedx', 6713), ('ted', 6712), ('techosverdes', 6711), ('technology', 6710), ('technologies', 6709), ('technological', 6708), ('technician', 6707), ('technical', 6706), ('technews', 6705), ('techcomp', 6704), ('techathon', 6703), ('tech', 6702), ('tec', 6701), ('teams', 6700), ('teammate', 6699), ('teamfollowback', 6698), ('team', 6697), ('teachingposition', 6696), ('teaching', 6695), ('teacher', 6694), ('teach', 6693), ('tea', 6692), ('te', 6691), ('tdonline', 6690), ('tcj6pp59gn', 6689), ('tbt', 6688), ('tbrexkffjs', 6687), ('tbh', 6686), ('taylor', 6685), ('taxi', 6684), ('tax', 6683), ('tau', 6682), ('tatka', 6681), ('tat', 6680), ('taste', 6679), ('task', 6678), ('tariff', 6677), ('targetdrug', 6676), ('target', 6675), ('tapdance', 6674), ('tap', 6673), ('taoyan', 6672), ('tao', 6671), ('tank', 6670), ('tangs', 6669), ('tan', 6668), ('tame', 6667), ('tamara', 6666), ('tam', 6665), ('tally', 6664), ('tallinn', 6663), ('talkstretch', 6662), ('talkacademic', 6661), ('talk', 6660), ('talimiakhbar', 6659), ('talentzfy', 6658), ('talented', 6657), ('talentcity', 6656), ('talent', 6655), ('takich', 6654), ('take', 6653), ('tak', 6652), ('taiwanoccupy', 6651), ('taiwan', 6650), ('tais', 6649), ('tai', 6648), ('taheri', 6647), ('tag', 6646), ('taetea', 6645), ('tactic', 6644), ('tackle', 6643), ('table', 6642), ('taba', 6641), ('ta', 6640), ('t02', 6639), ('szilagyi', 6638), ('szeto', 6637), ('sze', 6636), ('systemwired', 6635), ('system', 6634), ('symposium', 6633), ('symphony', 6632), ('symonds', 6631), ('symmetry', 6630), ('symetaresearch', 6629), ('symeta', 6628), ('symbi', 6627), ('syed', 6626), ('sydney', 6625), ('sybilbaker', 6624), ('sybil', 6623), ('syarifrelawan', 6622), ('sy', 6621), ('sword', 6620), ('switzerland', 6619), ('switch', 6618), ('swindle', 6617), ('swim', 6616), ('swhk', 6615), ('sweet', 6614), ('swedish', 6613), ('sweater', 6612), ('swarm', 6611), ('swag', 6610), ('svm', 6609), ('sveuilitu', 6608), ('sva', 6607), ('suzhou', 6606), ('sustainableseafood2017', 6605), ('sustainable', 6604), ('sustainabilitycityu', 6603), ('sustainability', 6602), ('sussexcoastplum', 6601), ('suspicious', 6600), ('surya', 6599), ('survive', 6598), ('surveyor', 6597), ('survey', 6596), ('surprised', 6595), ('surprise', 6594), ('surlyurbanist', 6593), ('surface', 6592), ('surf', 6591), ('sure', 6590), ('sur', 6589), ('supreetkay', 6588), ('suppression', 6587), ('suppose', 6586), ('supporter', 6585), ('support', 6584), ('suppor', 6583), ('suppo', 6582), ('supplz', 6581), ('supplychain', 6580), ('supply', 6579), ('supplier', 6578), ('supplementary', 6577), ('supervisor', 6576), ('supervision', 6575), ('supersunny', 6574), ('superrich', 6573), ('supermom', 6572), ('supercomputing', 6571), ('superb', 6570), ('super', 6569), ('suoyou', 6568), ('suntec', 6567), ('sunset', 6566), ('sungmoon', 6565), ('sungkyunkwan', 6564), ('sungchil', 6563), ('sune', 6562), ('sunday', 6561), ('sun', 6560), ('summit', 6559), ('summercourse', 6558), ('summer', 6557), ('summary', 6556), ('sultry', 6555), ('sullivan', 6554), ('sukrungruang', 6553), ('sukma', 6552), ('suicide', 6551), ('suggest', 6550), ('sugary', 6549), ('sugar', 6548), ('suffer', 6547), ('suet', 6546), ('suesux', 6545), ('suengineering', 6544), ('suck', 6543), ('suchawin', 6542), ('such', 6541), ('succession', 6540), ('successfully', 6539), ('successful', 6538), ('success', 6537), ('subtitle', 6536), ('substantiationtrack', 6535), ('subsidy', 6534), ('subscription', 6533), ('subscriber', 6532), ('subscribe', 6531), ('submit', 6530), ('submission', 6529), ('subject', 6528), ('subdivide', 6527), ('subdirectors', 6526), ('subdegree', 6525), ('su', 6524), ('style', 6523), ('stuvvz', 6522), ('stupid', 6521), ('stun', 6520), ('stuff', 6519), ('studyinhk', 6518), ('studyabroad11', 6517), ('studyabroad', 6516), ('study', 6515), ('studio', 6514), ('studie', 6513), ('studenttostaff', 6512), ('studentstrike', 6511), ('studentshipsdepartment', 6510), ('studentship', 6509), ('students', 6508), ('studentparty', 6507), ('studentlife', 6506), ('studentedited', 6505), ('studentcentric', 6504), ('student', 6503), ('studen', 6502), ('studeer', 6501), ('stude', 6500), ('stu', 6499), ('stsrt', 6498), ('struggle', 6497), ('structure', 6496), ('structural', 6495), ('stronger', 6494), ('strong', 6493), ('strive', 6492), ('string', 6491), ('striker', 6490), ('strike', 6489), ('stretch', 6488), ('strength', 6487), ('street', 6486), ('stream', 6485), ('strathclyde', 6484), ('strategy', 6483), ('strategic', 6482), ('stowsentry', 6481), ('storystream', 6480), ('story', 6479), ('storm', 6478), ('store', 6477), ('storage', 6476), ('stopvaxxedlies', 6475), ('stop', 6474), ('stomach', 6473), ('stockaction', 6472), ('stock', 6471), ('stnd', 6470), ('stirling', 6469), ('stipendiju', 6468), ('stipend', 6467), ('stint', 6466), ('still', 6465), ('stigmapost', 6464), ('stigmabase', 6463), ('stiegler', 6462), ('stick', 6461), ('stewart', 6460), ('steven', 6459), ('stephen', 6458), ('stephan', 6457), ('step', 6456), ('stemcells', 6455), ('stem', 6454), ('stella', 6453), ('steinberg', 6452), ('stefano', 6451), ('steemit', 6450), ('steal', 6449), ('stay', 6448), ('status', 6447), ('statue', 6446), ('statistical', 6445), ('statistic', 6444), ('station', 6443), ('statement', 6442), ('statefunded', 6441), ('state', 6440), ('starve', 6439), ('startup', 6438), ('start', 6437), ('starstruck', 6436), ('starr', 6435), ('starmoviessecretscreening', 6434), ('starling', 6433), ('starbucks', 6432), ('star', 6431), ('stanford', 6430), ('standby', 6429), ('standard', 6428), ('stand', 6427), ('stance', 6426), ('stamplerlmao', 6425), ('stall', 6424), ('stale', 6423), ('stage', 6422), ('staffsuni', 6421), ('staffspartners', 6420), ('staffrooftop', 6419), ('staff', 6418), ('stadium', 6417), ('stack', 6416), ('stable', 6415), ('stab', 6414), ('sta', 6413), ('st', 6412), ('ssi', 6411), ('ssh', 6410), ('squadgoals', 6409), ('sq', 6408), ('spyspy', 6407), ('springflower', 6406), ('spring', 6405), ('spoun', 6404), ('spotlight', 6403), ('spot', 6402), ('sport', 6401), ('spoonshamecityu', 6400), ('sponsor', 6399), ('spokesman', 6398), ('spiritual', 6397), ('spirit', 6396), ('spire', 6395), ('spintronics', 6394), ('spintronic', 6393), ('spinoff', 6392), ('spie', 6391), ('spglobalratings', 6390), ('spglobal', 6389), ('spendwhat', 6388), ('spend', 6387), ('spencer', 6386), ('spemdwhat', 6385), ('speedtest', 6384), ('speed', 6383), ('speechless', 6382), ('speech', 6381), ('spectrumomyeah', 6380), ('spectrometer', 6379), ('spectacula', 6378), ('specimen', 6377), ('specify', 6376), ('specific', 6375), ('specialist', 6374), ('special', 6373), ('speci', 6372), ('speaks', 6371), ('speaker', 6370), ('speak', 6369), ('spe', 6368), ('spaucf', 6367), ('spat', 6366), ('spartanswill', 6365), ('spanish', 6364), ('span', 6363), ('spam', 6362), ('spain', 6361), ('spaghetti', 6360), ('spaces', 6359), ('space', 6358), ('sp', 6357), ('soyer', 6356), ('soybean', 6355), ('soy', 6354), ('souvenir', 6353), ('southeast', 6352), ('south', 6351), ('source', 6350), ('sour', 6349), ('sound', 6348), ('sosad', 6347), ('sort', 6346), ('sore', 6345), ('sopranoque', 6344), ('sophie', 6343), ('sophia', 6342), ('soooo', 6341), ('sooo', 6340), ('soon', 6339), ('sonic', 6338), ('song', 6337), ('son', 6336), ('somewhere', 6335), ('something', 6334), ('someone', 6333), ('someday', 6332), ('somebody', 6331), ('some', 6330), ('solve', 6329), ('solution', 6328), ('solut', 6327), ('solo', 6326), ('solli1u', 6325), ('solar', 6324), ('soil', 6323), ('software', 6322), ('softrobot', 6321), ('soft', 6320), ('sock', 6319), ('society', 6318), ('socialwordofmouth', 6317), ('socialoutcastabroad', 6316), ('socialization', 6315), ('social', 6314), ('soaringintribulation', 6313), ('so', 6312), ('snowden', 6311), ('snow', 6310), ('snap', 6309), ('smwhkanalytics', 6308), ('smwhk', 6307), ('smulawschool', 6306), ('smog', 6305), ('smithinternational', 6304), ('smithinchina', 6303), ('smithbusiness', 6302), ('smith', 6301), ('smiledavis', 6300), ('smh', 6299), ('smes', 6298), ('smear', 6297), ('smc', 6296), ('smartphone', 6295), ('smarterplanet', 6294), ('smartcity', 6293), ('smartcities', 6292), ('smart', 6291), ('smaller', 6290), ('smallbiz', 6289), ('small', 6288), ('smale', 6287), ('sm', 6286), ('slupresident', 6285), ('sluofficial', 6284), ('sluabroadmba', 6283), ('slow', 6282), ('slop', 6281), ('slogan', 6280), ('slice', 6279), ('sleepy', 6278), ('sleep', 6277), ('slat', 6276), ('slagen', 6275), ('slackhq', 6274), ('skystairscityuhkac3', 6273), ('skysong', 6272), ('skyscraper', 6271), ('skype', 6270), ('skygarden', 6269), ('sky', 6268), ('skrg', 6267), ('skool', 6266), ('skin', 6265), ('skilling', 6264), ('skill', 6263), ('sketch', 6262), ('skepticalraptor', 6261), ('skepticalnurse', 6260), ('skeleton', 6259), ('sj', 6258), ('size', 6257), ('sixyear', 6256), ('six', 6255), ('siumai', 6254), ('sitewatcher', 6253), ('site', 6252), ('sit', 6251), ('sisu', 6250), ('sister', 6249), ('sirrr', 6248), ('sir', 6247), ('sinous', 6246), ('sinml', 6245), ('sinica', 6244), ('single', 6243), ('singapores', 6242), ('singaporean', 6241), ('singapore', 6240), ('sing', 6239), ('sindh', 6238), ('since', 6237), ('sinaloa', 6236), ('sina', 6235), ('simulation', 6234), ('simulacin', 6233), ('simpsons', 6232), ('simply', 6231), ('similar', 6230), ('sim', 6229), ('silverprices', 6228), ('silver', 6227), ('siliconebased', 6226), ('silhouette', 6225), ('silent', 6224), ('siguemeytesigo', 6223), ('significant', 6222), ('signal', 6221), ('sign', 6220), ('sigma', 6219), ('siggraphasia2017', 6218), ('siggraph', 6217), ('sigchi', 6216), ('sig', 6215), ('sify', 6214), ('side', 6213), ('sick', 6212), ('sibling', 6211), ('sia', 6210), ('shyamer', 6209), ('shutter', 6208), ('shut', 6207), ('shu', 6206), ('shower', 6205), ('showcased', 6204), ('showcase', 6203), ('show', 6202), ('shoutout', 6201), ('shortlist', 6200), ('shortcut', 6199), ('shortage', 6198), ('short', 6197), ('shopper', 6196), ('shop', 6195), ('shoot', 6194), ('shock', 6193), ('sho', 6192), ('shjin', 6191), ('shive', 6190), ('shitty', 6189), ('shit', 6188), ('shirt', 6187), ('shirley', 6186), ('ship', 6185), ('shing', 6184), ('shine', 6183), ('shifts', 6182), ('shewhovotes', 6181), ('shes', 6180), ('shenzhen', 6179), ('shenzhe', 6178), ('shen', 6177), ('shell', 6176), ('shelfie', 6175), ('sheffield', 6174), ('sheet', 6173), ('sheer', 6172), ('shed', 6171), ('shea', 6170), ('she', 6169), ('shaw', 6168), ('shaunking', 6167), ('shatin', 6166), ('sharp', 6165), ('sharon', 6164), ('shark8964', 6163), ('sharethis', 6162), ('share', 6161), ('shape', 6160), ('shaofeed', 6159), ('shanxi', 6158), ('shangwang', 6157), ('shanghai', 6156), ('shandong', 6155), ('shan', 6154), ('shake', 6153), ('sha', 6152), ('sfu', 6151), ('sfsp', 6150), ('sfn15', 6149), ('sfl', 6148), ('seydel', 6147), ('sexyahhso', 6146), ('sexual', 6145), ('sex', 6144), ('several', 6143), ('seven', 6142), ('setup', 6141), ('settlement', 6140), ('settle', 6139), ('setting', 6138), ('setback', 6137), ('set', 6136), ('session', 6135), ('service', 6134), ('serveless', 6133), ('serve', 6132), ('seriously', 6131), ('serious', 6130), ('series', 6129), ('serdotch', 6128), ('serbia', 6127), ('ser', 6126), ('september', 6125), ('sept', 6124), ('separation', 6123), ('sep', 6122), ('seoul', 6121), ('seo', 6120), ('sentinelm', 6119), ('sentimentrader', 6118), ('senseplus', 6117), ('sense', 6116), ('sens', 6115), ('senior', 6114), ('seng', 6113), ('send', 6112), ('senayyalcin1', 6111), ('senate', 6110), ('semioutdoor', 6109), ('seminar', 6108), ('seminal', 6107), ('seminaire', 6106), ('semiconductor', 6105), ('semester', 6104), ('semestar', 6103), ('sem', 6102), ('sell', 6101), ('selfish', 6100), ('selfie', 6099), ('selffinancing', 6098), ('selfcleaning', 6097), ('self', 6096), ('select', 6095), ('seidel', 6094), ('seholtaishk', 6093), ('seem', 6092), ('seek', 6091), ('seedfund', 6090), ('seed', 6089), ('see', 6088), ('securityconfab', 6087), ('security', 6086), ('sector', 6085), ('secretary', 6084), ('secret', 6083), ('secondlanguage', 6082), ('secondary', 6081), ('second', 6080), ('seccityulondon', 6079), ('seattle', 6078), ('seat', 6077), ('search', 6076), ('searccityu', 6075), ('searc', 6074), ('sean', 6073), ('seamlessly', 6072), ('seaglass34', 6071), ('sea', 6070), ('se', 6069), ('sdsu', 6068), ('sculpture', 6067), ('scriptwriter', 6066), ('scrippsiij', 6065), ('screen', 6064), ('scrap', 6063), ('scotsman', 6062), ('scotland', 6061), ('scope', 6060), ('scoopit', 6059), ('scnext', 6058), ('scmps', 6057), ('scmpnews', 6056), ('scmp', 6055), ('scmannualshow', 6054), ('scm', 6053), ('scitechglobal', 6052), ('scientist', 6051), ('scientishttpstcosh8cdpqv0j', 6050), ('scientific', 6049), ('sciencespolitical', 6048), ('sciencespo', 6047), ('scienceguy5', 6046), ('science', 6045), ('schoolofcreativemedia', 6044), ('schoollife', 6043), ('schooldesign', 6042), ('school', 6041), ('scholastica', 6040), ('scholarshipsfellowships', 6039), ('scholarship', 6038), ('scholar', 6037), ('schneider', 6036), ('schilab', 6035), ('scherzer', 6034), ('scheme', 6033), ('scheetje', 6032), ('schedule', 6031), ('sch', 6030), ('scene', 6029), ('scatter', 6028), ('scarf', 6027), ('scapegoat', 6026), ('scandal', 6025), ('scan', 6024), ('sc', 6023), ('sbgai', 6022), ('sba', 6021), ('sayfun', 6020), ('say', 6019), ('saw', 6018), ('savecityumfa', 6017), ('save', 6016), ('savannah', 6015), ('saudi', 6014), ('saturday', 6013), ('sasolsolarchallenge', 6012), ('sasol', 6011), ('sashimi', 6010), ('sascha', 6009), ('sascares', 6008), ('sars', 6007), ('sardinianconnection', 6006), ('sardinia', 6005), ('sardinelmondo', 6004), ('sarahchong', 6003), ('sarah', 6002), ('sar', 6001), ('sandrinehilaire', 6000), ('san', 5999), ('samzenpus', 5998), ('samuel', 5997), ('samsung', 5996), ('sample', 5995), ('sammyfung', 5994), ('sammi', 5993), ('same', 5992), ('salt', 5991), ('sale', 5990), ('salary', 5989), ('salad', 5988), ('saifac', 5987), ('safetyveterinary', 5986), ('safety', 5985), ('safeguard', 5984), ('safe', 5983), ('sadhwanis', 5982), ('sadhwani', 5981), ('sad', 5980), ('sacrifice', 5979), ('sacramental', 5978), ('sabbatical', 5977), ('sa', 5976), ('s33x', 5975), ('ryryyyyy', 5974), ('ryanmarino', 5973), ('ryan', 5972), ('rworldnews', 5971), ('rvc', 5970), ('ruto', 5969), ('russellrhoads', 5968), ('russellcrowe', 5967), ('ruquan', 5966), ('ruqaiya', 5965), ('rupture', 5964), ('rupert', 5963), ('runrunshawcreativemediacenter', 5962), ('runrunshaw', 5961), ('runnerup', 5960), ('runner', 5959), ('rundown', 5958), ('run', 5957), ('rumour', 5956), ('rumataartspace', 5955), ('rule', 5954), ('ruiping', 5953), ('rugbyasia', 5952), ('rudehk', 5951), ('ruby', 5950), ('rthk', 5949), ('rt', 5948), ('rsvp', 5947), ('rsuniversity', 5946), ('rsadesign', 5945), ('rsa', 5944), ('rrii', 5943), ('roy', 5942), ('row', 5941), ('rov', 5940), ('routledgecurzon', 5939), ('routledgecity', 5938), ('route', 5937), ('roundtable', 5936), ('rounds', 5935), ('round', 5934), ('rotaractors', 5933), ('rotaract', 5932), ('rosa', 5931), ('root', 5930), ('room', 5929), ('rooftop', 5928), ('roof', 5927), ('rome', 5926), ('romania', 5925), ('roll', 5924), ('role', 5923), ('roi', 5922), ('roger', 5921), ('rogaworkshop', 5920), ('rodriguez', 5919), ('rodrigo', 5918), ('rocky', 5917), ('rock', 5916), ('roche', 5915), ('robust', 5914), ('robotics', 5913), ('robothusiast', 5912), ('robot', 5911), ('robin', 5910), ('robert', 5909), ('roast', 5908), ('roam', 5907), ('roadworthy', 5906), ('roadmap', 5905), ('road', 5904), ('ro', 5903), ('rmb40', 5902), ('rm208', 5901), ('rlb', 5900), ('ritual', 5899), ('risrocks', 5898), ('risk', 5897), ('rishsbkk', 5896), ('rise', 5895), ('ririlovexxx', 5894), ('rip', 5893), ('riot', 5892), ('rio2016', 5891), ('ringo', 5890), ('ring', 5889), ('rightwingblack2', 5888), ('right', 5887), ('rift', 5886), ('ridiculous', 5885), ('ride', 5884), ('rics', 5883), ('rickyden', 5882), ('ricky', 5881), ('richards', 5880), ('richard', 5879), ('rice', 5878), ('rhetoric', 5877), ('rfidsec2016', 5876), ('rfi', 5875), ('rfa', 5874), ('reward', 5873), ('revolutionize', 5872), ('revolution', 5871), ('revision', 5870), ('review', 5869), ('reversible', 5868), ('revenue', 5867), ('revelation', 5866), ('reveal', 5865), ('reuters', 5864), ('reunite', 5863), ('reuben', 5862), ('retweeting', 5861), ('retweeted', 5860), ('retweet', 5859), ('return', 5858), ('retreat', 5857), ('retort', 5856), ('retirement', 5855), ('retire', 5854), ('rethink', 5853), ('resurgence', 5852), ('resultshttptcokd8cybsx', 5851), ('result', 5850), ('restech', 5849), ('restaurant', 5848), ('rest', 5847), ('responsible', 5846), ('responsibility', 5845), ('responsibilit', 5844), ('response', 5843), ('respond', 5842), ('respect', 5841), ('resourcefully', 5840), ('resource', 5839), ('resonate', 5838), ('reslifeabroad', 5837), ('resident', 5836), ('residency', 5835), ('residence', 5834), ('reserve', 5833), ('researcher', 5832), ('research', 5831), ('reseach', 5830), ('requirement', 5829), ('require', 5828), ('request', 5827), ('reputation', 5826), ('representative', 5825), ('representation', 5824), ('represent', 5823), ('reporter', 5822), ('reportedly', 5821), ('report', 5820), ('replication', 5819), ('replacement', 5818), ('reorganise', 5817), ('reopen', 5816), ('rentgaps', 5815), ('renowned', 5814), ('renewale', 5813), ('renewal', 5812), ('rencontrez', 5811), ('ren', 5810), ('remuneration', 5809), ('removed', 5808), ('remove', 5807), ('remotely', 5806), ('reminder', 5805), ('remind', 5804), ('remembrance', 5803), ('remarkable', 5802), ('remark', 5801), ('remain', 5800), ('reluceo', 5799), ('religious', 5798), ('religiosity', 5797), ('reliable', 5796), ('relevant', 5795), ('relentless', 5794), ('release', 5793), ('rele', 5792), ('relaxation', 5791), ('relaunch', 5790), ('relatively', 5789), ('relationship', 5788), ('relation', 5787), ('relate', 5786), ('reject', 5785), ('reinvent', 5784), ('reinert', 5783), ('reimagineyourpotential', 5782), ('reimagined', 5781), ('reignlee', 5780), ('rehttpstcod6fcrmkqd6', 5779), ('rehab', 5778), ('regulatory', 5777), ('regulation', 5776), ('regs', 5775), ('regret', 5774), ('registration', 5773), ('register', 5772), ('regional', 5771), ('region', 5770), ('regenerativemedicine', 5769), ('regardless', 5768), ('regard', 5767), ('reformism', 5766), ('reform', 5765), ('reflections', 5764), ('reflectionbio', 5763), ('reflection', 5762), ('referendum', 5761), ('reference', 5760), ('refections', 5759), ('ref', 5758), ('redwine', 5757), ('redundancy', 5756), ('reduce', 5755), ('rediscover', 5754), ('red', 5753), ('recycle', 5752), ('recruitment', 5751), ('recruit', 5750), ('recordbreaking', 5749), ('record', 5748), ('reconciliation', 5747), ('recommend', 5746), ('recognition', 5745), ('recognise', 5744), ('recipe', 5743), ('rechargeable', 5742), ('receptionbaby', 5741), ('reception', 5740), ('recently', 5739), ('recent', 5738), ('receive', 5737), ('recap', 5736), ('recall', 5735), ('rec', 5734), ('reborn', 5733), ('rebecca', 5732), ('reaxium', 5731), ('reasonable', 5730), ('reason', 5729), ('reannon', 5728), ('realtime', 5727), ('really', 5726), ('reallife', 5725), ('realize', 5724), ('reality', 5723), ('realise', 5722), ('realdonaldtrump', 5721), ('real', 5720), ('ready', 5719), ('readwriteteach', 5718), ('read', 5717), ('reach', 5716), ('re', 5715), ('rd', 5714), ('rc43', 5713), ('rbuzzy1111', 5712), ('rayputram', 5711), ('raylong', 5710), ('ray', 5709), ('ravstnyoni', 5708), ('rational', 5707), ('ratio', 5706), ('ratinghttptcoou7caxplsp', 5705), ('rated', 5704), ('rate', 5703), ('rat', 5702), ('rasulzoda', 5701), ('rare', 5700), ('rao', 5699), ('rank', 5698), ('ranepa', 5697), ('randman2011', 5696), ('ramp', 5695), ('ramkishen', 5694), ('ralph', 5693), ('rally', 5692), ('rajan', 5691), ('rajajipuram', 5690), ('raizalram', 5689), ('raissa', 5688), ('raisoni', 5687), ('raise', 5686), ('rainy', 5685), ('rainstorm', 5684), ('rainbow', 5683), ('raina', 5682), ('rain', 5681), ('rag', 5680), ('raengfellows', 5679), ('radware', 5678), ('radio', 5677), ('radical', 5676), ('racer', 5675), ('race', 5674), ('ra', 5673), ('r2a', 5672), ('quote', 5671), ('quite', 5670), ('quit', 5669), ('quickfact', 5668), ('quick', 5667), ('queue', 5666), ('question', 5665), ('quest', 5664), ('queq', 5663), ('queeten', 5662), ('queensway', 5661), ('queenslandmelbournesydney', 5660), ('queenlywu', 5659), ('que', 5658), ('quasielastic', 5657), ('quash', 5656), ('quarterfinal', 5655), ('quarter', 5654), ('quand', 5653), ('qualitytime', 5652), ('quality', 5651), ('qualitative', 5650), ('quacquarelli', 5649), ('qswur', 5648), ('qsapple', 5647), ('qs', 5646), ('qq', 5645), ('qmeecs', 5644), ('qingfu', 5643), ('qing', 5642), ('qikipedia', 5641), ('qianyi', 5640), ('qfs', 5639), ('qfre9gxhqc', 5638), ('qenswins', 5637), ('qc', 5636), ('qa', 5635), ('q4', 5634), ('python', 5633), ('pyconhk', 5632), ('pycon', 5631), ('pw', 5630), ('putriranissaa', 5629), ('put', 5628), ('pustaka', 5627), ('push', 5626), ('pursue', 5625), ('purpose', 5624), ('purple', 5623), ('pure', 5622), ('purdue', 5621), ('purchase', 5620), ('pupil', 5619), ('punishment', 5618), ('puneet', 5617), ('pun', 5616), ('pulliphk', 5615), ('pullip', 5614), ('publish', 5613), ('publiclyfunded', 5612), ('publiclyfund', 5611), ('publichealth', 5610), ('publicart', 5609), ('public', 5608), ('publi', 5607), ('publ', 5606), ('pubadminidea', 5605), ('pu', 5604), ('ptjobs', 5603), ('ptcouncil', 5602), ('ptc18', 5601), ('pt2', 5600), ('pt', 5599), ('psychology', 5598), ('psychologica', 5597), ('psa', 5596), ('proxy', 5595), ('provost', 5594), ('provincial', 5593), ('province', 5592), ('provide', 5591), ('prove', 5590), ('proudmom', 5589), ('proud', 5588), ('prototype', 5587), ('protest', 5586), ('protein', 5585), ('protect', 5584), ('prospective', 5583), ('prospect', 5582), ('prosecution', 5581), ('propose', 5580), ('proposal', 5579), ('property', 5578), ('pronto', 5577), ('promotional', 5576), ('promotion', 5575), ('promote', 5574), ('promise', 5573), ('projection', 5572), ('projectcrazy', 5571), ('projectcity', 5570), ('projectbernie16', 5569), ('project', 5568), ('progressive', 5567), ('progress', 5566), ('programmer', 5565), ('programme', 5564), ('program', 5563), ('profprofassoc', 5562), ('profile', 5561), ('professorvisiting', 5560), ('professorprofessorassociate', 5559), ('professorprofessor', 5558), ('professorassociate', 5557), ('professorassoc', 5556), ('professorassistant', 5555), ('professorassistan', 5554), ('professor', 5553), ('professional', 5552), ('professer', 5551), ('profe', 5550), ('profasst', 5549), ('profassoc', 5548), ('profassist', 5547), ('prof', 5546), ('produktfang', 5545), ('productive', 5544), ('production', 5543), ('product', 5542), ('producer', 5541), ('produce', 5540), ('prodemocracy', 5539), ('prode', 5538), ('prochancellor', 5537), ('process', 5536), ('proceedin', 5535), ('proceedi', 5534), ('proceed', 5533), ('procee', 5532), ('procedure', 5531), ('proc', 5530), ('problematic', 5529), ('problem', 5528), ('probe', 5527), ('proactive', 5526), ('pro', 5525), ('prize', 5524), ('privilege', 5523), ('privateequity', 5522), ('private', 5521), ('privacy', 5520), ('priority', 5519), ('prioritize', 5518), ('printer', 5517), ('print', 5516), ('principals', 5515), ('principal', 5514), ('princeton', 5513), ('prime', 5512), ('price', 5511), ('prez', 5510), ('previously', 5509), ('previous', 5508), ('prevent', 5507), ('pretentious', 5506), ('pretend', 5505), ('prestigious', 5504), ('pressrelease', 5503), ('press', 5502), ('presidential', 5501), ('president', 5500), ('preside', 5499), ('preserve', 5498), ('preservation', 5497), ('presenter', 5496), ('presentation', 5495), ('present', 5494), ('presence', 5493), ('prepare', 5492), ('premiere', 5491), ('prefer', 5490), ('predisposition', 5489), ('predicability', 5488), ('precise', 5487), ('prc', 5486), ('pragyan', 5485), ('practice', 5484), ('practical', 5483), ('pr', 5482), ('ppt', 5481), ('pppforcities', 5480), ('ppp', 5479), ('ppl', 5478), ('ppd', 5477), ('ppc2000', 5476), ('ppc', 5475), ('powerful', 5474), ('power', 5473), ('pour', 5472), ('potus', 5471), ('pottscharlie', 5470), ('potong', 5469), ('potentially', 5468), ('potential', 5467), ('postrooftop', 5466), ('postprotest', 5465), ('postponement', 5464), ('postmortem', 5463), ('postlama', 5462), ('postin', 5461), ('postgraduate', 5460), ('postgradu', 5459), ('postgrads', 5458), ('poster', 5457), ('postdoctoral', 5456), ('postdoc', 5455), ('postcard', 5454), ('post', 5453), ('possible', 5452), ('positivethinking', 5451), ('positive', 5450), ('position', 5449), ('posit', 5448), ('posi', 5447), ('posco', 5446), ('portparkcity', 5445), ('portofbaku', 5444), ('portland', 5443), ('portfolio', 5442), ('port', 5441), ('porfiri', 5440), ('por', 5439), ('popvote', 5438), ('populism', 5437), ('popular', 5436), ('poppy', 5435), ('popcurc9vs', 5434), ('pop', 5433), ('poor', 5432), ('pool', 5431), ('ponudilo', 5430), ('pongto', 5429), ('pomshk', 5428), ('pommeret', 5427), ('polyu', 5426), ('polytechnic', 5425), ('polymer', 5424), ('poly', 5423), ('pollution', 5422), ('poll', 5421), ('politicspolitical', 5420), ('politics', 5419), ('political', 5418), ('policylabs', 5417), ('policy', 5416), ('policom', 5415), ('police', 5414), ('poli', 5413), ('polaroid', 5412), ('point', 5411), ('poetry', 5410), ('poet', 5409), ('poem', 5408), ('podiumleaflet', 5407), ('podium', 5406), ('podcast', 5405), ('pocover', 5404), ('po', 5403), ('pmra1991', 5402), ('pm200', 5401), ('pm', 5400), ('plus', 5399), ('plumb', 5398), ('pls', 5397), ('plo', 5396), ('plenary', 5395), ('pledge', 5394), ('pleasure', 5393), ('please', 5392), ('pleasant', 5391), ('plead', 5390), ('plaza', 5389), ('playstation', 5388), ('playlist', 5387), ('playground', 5386), ('playful', 5385), ('player', 5384), ('play', 5383), ('platinum', 5382), ('platformbased', 5381), ('platform', 5380), ('plate', 5379), ('plasticdoe', 5378), ('plastic', 5377), ('plas', 5376), ('plantlevel', 5375), ('plant', 5374), ('plane', 5373), ('plan', 5372), ('plainly', 5371), ('plainfield', 5370), ('plai', 5369), ('place', 5368), ('pl', 5367), ('pkin', 5366), ('pizza', 5365), ('pixar', 5364), ('pivot', 5363), ('pity', 5362), ('pitcheswara', 5361), ('pioneer', 5360), ('pinterest', 5359), ('pink', 5358), ('pingwest', 5357), ('ping', 5356), ('pinch', 5355), ('pig', 5354), ('piece', 5353), ('picture', 5352), ('picstitch', 5351), ('picoftheday', 5350), ('pick', 5349), ('pic', 5348), ('physiology', 5347), ('physicsjobs', 5346), ('physicist', 5345), ('physic', 5344), ('phy', 5343), ('photoset', 5342), ('photonics', 5341), ('photography', 5340), ('photographer', 5339), ('photograph', 5338), ('photoftheday', 5337), ('photoartists', 5336), ('photo', 5335), ('phonology', 5334), ('phone', 5333), ('phishing', 5332), ('phishers', 5331), ('phir', 5330), ('philosophy', 5329), ('philippine', 5328), ('philippe', 5327), ('philip', 5326), ('phenomenal', 5325), ('phdship', 5324), ('phd2published', 5323), ('phd', 5322), ('pharmanemesis', 5321), ('pharmaconferences', 5320), ('pharmaceutical', 5319), ('petition', 5318), ('petershankman', 5317), ('petersen', 5316), ('peterjblack', 5315), ('peter', 5314), ('pet', 5313), ('pesbukerspdkt', 5312), ('pertama', 5311), ('persuing', 5310), ('perspective', 5309), ('personalise', 5308), ('personal', 5307), ('person', 5306), ('persistence', 5305), ('perseusneh', 5304), ('permanent', 5303), ('permaculture', 5302), ('perjovschi', 5301), ('periscope', 5300), ('performer', 5299), ('performativity', 5298), ('performance', 5297), ('perform', 5296), ('percy', 5295), ('peranakan', 5294), ('perak', 5293), ('per', 5292), ('pepper', 5291), ('pepetrick', 5290), ('people4bernie', 5289), ('people', 5288), ('pengsheng', 5287), ('peng', 5286), ('penal', 5285), ('pen', 5284), ('pembicaranya', 5283), ('pemberton', 5282), ('pelawat', 5281), ('pelajarada', 5280), ('peking', 5279), ('peer', 5278), ('pedith', 5277), ('pedigree', 5276), ('pedagogy', 5275), ('pedagogical', 5274), ('pearl', 5273), ('peace', 5272), ('pdf', 5271), ('pdes', 5270), ('pcll', 5269), ('pccw', 5268), ('pbhyjcrueb', 5267), ('pbhyjc9spb', 5266), ('paypal', 5265), ('payment', 5264), ('pay', 5263), ('pave', 5262), ('paul', 5261), ('patton', 5260), ('pattern', 5259), ('patrivenuvinod', 5258), ('patriotism', 5257), ('patricktam', 5256), ('patrickheller1', 5255), ('patrick', 5254), ('patio', 5253), ('patientsafety', 5252), ('patient', 5251), ('pathologist', 5250), ('pathobiology', 5249), ('path', 5248), ('patent', 5247), ('pastor', 5246), ('past', 5245), ('passion', 5244), ('passage', 5243), ('pass', 5242), ('pas', 5241), ('partycentric', 5240), ('party', 5239), ('parttime', 5238), ('partnership', 5237), ('partner', 5236), ('partime', 5235), ('particularly', 5234), ('participei', 5233), ('participe', 5232), ('participator', 5231), ('participation', 5230), ('participate', 5229), ('participant', 5228), ('part', 5227), ('parry', 5226), ('park', 5225), ('parisienne', 5224), ('parisdauphine', 5223), ('paris', 5222), ('parent', 5221), ('parasitology', 5220), ('parameter', 5219), ('parallel', 5218), ('paradox', 5217), ('parade', 5216), ('parabolic', 5215), ('par', 5214), ('paperless', 5213), ('paper', 5212), ('pap', 5211), ('panoramic', 5210), ('panmicrobiome', 5209), ('pang', 5208), ('panelist', 5207), ('panel', 5206), ('panda', 5205), ('pan', 5204), ('pale', 5203), ('pakkuen', 5202), ('pakistan', 5201), ('pajobs', 5200), ('paintsandsings', 5199), ('pain', 5198), ('pai', 5197), ('page', 5196), ('package', 5195), ('pack', 5194), ('pacific', 5193), ('pacar', 5192), ('pabsec', 5191), ('pa0j95sdwe', 5190), ('pa', 5189), ('p5ai4tncjx', 5188), ('p1628', 5187), ('oxidation', 5186), ('oxfordlawfac', 5185), ('oxfordbrookes', 5184), ('oxford', 5183), ('owner', 5182), ('owe', 5181), ('oversee', 5180), ('overseas', 5179), ('overpopulation', 5178), ('overlook', 5177), ('overload', 5176), ('overheardkampus', 5175), ('overheardinfounpad', 5174), ('overground', 5173), ('overcome', 5172), ('overbodig', 5171), ('overall', 5170), ('over', 5169), ('ov', 5168), ('ouvrage', 5167), ('outstanding', 5166), ('outside', 5165), ('outreach', 5164), ('outrage', 5163), ('outlook', 5162), ('outline', 5161), ('outdoors', 5160), ('outcomebased', 5159), ('outcome', 5158), ('out', 5157), ('oust', 5156), ('ouranu', 5155), ('our', 5154), ('oughtnt', 5153), ('ouchhh', 5152), ('others', 5151), ('ot', 5150), ('osaka', 5149), ('osage', 5148), ('orz', 5147), ('ortmann', 5146), ('orourke', 5145), ('orjob', 5144), ('orizzontecina', 5143), ('originate', 5142), ('origami', 5141), ('oriente', 5140), ('orientation', 5139), ('orient', 5138), ('organizer', 5137), ('organize', 5136), ('organizational', 5135), ('organization', 5134), ('organiserhong', 5133), ('organise', 5132), ('organisation', 5131), ('organ', 5130), ('ordinance', 5129), ('order', 5128), ('orcid', 5127), ('orchid', 5126), ('orchestra', 5125), ('orbit', 5124), ('orangutan', 5123), ('orange', 5122), ('oral', 5121), ('optoelectronic', 5120), ('option', 5119), ('optimization', 5118), ('opticallyinduced', 5117), ('optic', 5116), ('opps', 5115), ('opposition', 5114), ('opportunity', 5113), ('opp', 5112), ('opinion', 5111), ('opine', 5110), ('operational', 5109), ('operation', 5108), ('operate', 5107), ('opera', 5106), ('opensource', 5105), ('openrank', 5104), ('openness', 5103), ('opening', 5102), ('opendataday', 5101), ('open', 5100), ('op', 5099), ('ooops', 5098), ('onvoorstelbaar', 5097), ('onto', 5096), ('ontheroad', 5095), ('onsite', 5094), ('onrmpbpi5c', 5093), ('only', 5092), ('onlinefraud', 5091), ('online', 5090), ('ones', 5089), ('onemba', 5088), ('onedwiputri', 5087), ('one', 5086), ('on', 5085), ('omg', 5084), ('oma', 5083), ('olympic', 5082), ('olli', 5081), ('oliviajennyhu', 5080), ('olessia', 5079), ('oleh2', 5078), ('oleh', 5077), ('oldgregg710', 5076), ('old', 5075), ('ol18', 5074), ('okviru', 5073), ('okay', 5072), ('oif', 5071), ('ohtheplacesyouwillgo', 5070), ('ohio', 5069), ('ohhh', 5068), ('oh', 5067), ('often', 5066), ('offshore', 5065), ('officially', 5064), ('official', 5063), ('officertechnical', 5062), ('officer', 5061), ('office', 5060), ('offically', 5059), ('offer', 5058), ('offense', 5057), ('off', 5056), ('ofertadeempleo', 5055), ('of', 5054), ('odbwbyylb', 5053), ('oday', 5052), ('october', 5051), ('oct', 5050), ('ocm', 5049), ('oclphk', 5048), ('oclock', 5047), ('occupyly1', 5046), ('occupycentral', 5045), ('occupy', 5044), ('occupant', 5043), ('ocamp', 5042), ('obviously', 5041), ('obstacle', 5040), ('observer', 5039), ('observe', 5038), ('obor', 5037), ('oblige', 5036), ('object', 5035), ('objavljen', 5034), ('obituary', 5033), ('obe', 5032), ('obducat', 5031), ('obdcf', 5030), ('obama', 5029), ('oak', 5028), ('nyc', 5027), ('ny', 5026), ('nxdvx3mfb', 5025), ('nutanix', 5024), ('nuskin', 5023), ('nurture', 5022), ('nurse', 5021), ('nuonsolarteam', 5020), ('number', 5019), ('nuit', 5018), ('nude', 5017), ('nuclear', 5016), ('nuckie80', 5015), ('nuaa', 5014), ('nu', 5013), ('ntu', 5012), ('ntnx', 5011), ('ntdtv', 5010), ('nt', 5009), ('nsf', 5008), ('npg', 5007), ('npc', 5006), ('nowtime', 5005), ('nowhere', 5004), ('now', 5003), ('november', 5002), ('novelist', 5001), ('novel', 5000), ('nov', 4999), ('nouvelle', 4998), ('nouveau', 4997), ('nourish', 4996), ('notwithstanding', 4995), ('notice', 4994), ('nothing', 4993), ('note', 4992), ('not', 4991), ('northwestern', 4990), ('northwest', 4989), ('northern', 4988), ('north', 4987), ('norbert', 4986), ('nora', 4985), ('nope', 4984), ('noon', 4983), ('noodle', 4982), ('nonsense', 4981), ('nonmember', 4980), ('nonlinear', 4979), ('nonjudicial', 4978), ('non', 4977), ('nomination', 4976), ('nominate', 4975), ('nomikikonst', 4974), ('nofilter', 4973), ('noe', 4972), ('node', 4971), ('noddle', 4970), ('nobrainer', 4969), ('nobodycares', 4968), ('no', 4967), ('nnkasiditnightinhongkong', 4966), ('nn', 4965), ('nmr', 4964), ('nlh13', 4963), ('njuexpress', 4962), ('niversitelerthe', 4961), ('nirfanarian', 4960), ('ningbo', 4959), ('ning', 4958), ('nine', 4957), ('ninaturner', 4956), ('ninaandtito', 4955), ('nil', 4954), ('nikolaus', 4953), ('nike', 4952), ('nightmare', 4951), ('night', 4950), ('nigeria', 4949), ('nigels', 4948), ('nig', 4947), ('nickjohnstone', 4946), ('nickiebey', 4945), ('nick', 4944), ('nicholas', 4943), ('niche', 4942), ('nice', 4941), ('ni', 4940), ('nh', 4939), ('ngo', 4938), ('ngan', 4937), ('ngaiming', 4936), ('ng', 4935), ('nextgeneration', 4934), ('next', 4933), ('newyorker', 4932), ('newyorkcity', 4931), ('newyork', 4930), ('newswire', 4929), ('newsroof', 4928), ('newspaper', 4927), ('newslocker', 4926), ('newsdesk', 4925), ('newscentre', 4924), ('newsbit', 4923), ('newsandinformation', 4922), ('newsa', 4921), ('news', 4920), ('newprodemocracy', 4919), ('newjob', 4918), ('newhondaamaze', 4917), ('newest', 4916), ('newcolomboplan', 4915), ('new', 4914), ('nevergetbored', 4913), ('never', 4912), ('neutron', 4911), ('neuroscience', 4910), ('neuroplasticity', 4909), ('neuronalmigration', 4908), ('neuronal', 4907), ('neural', 4906), ('network', 4905), ('nemo', 4904), ('nelson', 4903), ('neighbor', 4902), ('negrete', 4901), ('negotiation', 4900), ('needlelike', 4899), ('needle', 4898), ('need', 4897), ('near', 4896), ('ne', 4895), ('ncstate', 4894), ('ncp', 4893), ('naval', 4892), ('nature', 4891), ('natjeaj', 4890), ('nationwide', 4889), ('nations', 4888), ('nationalpopcornday', 4887), ('nationalism', 4886), ('nationaleducation', 4885), ('national', 4884), ('nation', 4883), ('natio', 4882), ('nathan', 4881), ('naspaa', 4880), ('nasdaqnmsntnx', 4879), ('nasa', 4878), ('narrowly', 4877), ('narrow', 4876), ('narrative', 4875), ('narcissistic', 4874), ('napoleon', 4873), ('napier', 4872), ('naomi', 4871), ('nanyang', 4870), ('nantes', 4869), ('nanotechnology', 4868), ('nanotech', 4867), ('nanosystems', 4866), ('nanostructured', 4865), ('nanoparticles', 4864), ('nanomedicine', 4863), ('nanomaterials', 4862), ('nanoletters', 4861), ('nanocrystals', 4860), ('nanobiotechnology', 4859), ('nanoalumina', 4858), ('nano2018', 4857), ('nano', 4856), ('nanjing', 4855), ('nanhai', 4854), ('nancy', 4853), ('namelist', 4852), ('name', 4851), ('nair', 4850), ('nae', 4849), ('nadinelustre', 4848), ('naar', 4847), ('na', 4846), ('n4e', 4845), ('mystery', 4844), ('myself', 4843), ('mynamexu', 4842), ('mykindofschool', 4841), ('mydubai', 4840), ('myddle', 4839), ('mycud', 4838), ('myanmar', 4837), ('my', 4836), ('mwa2013', 4835), ('mw', 4834), ('mvenpick', 4833), ('mustlearnchinese', 4832), ('must', 4831), ('musique', 4830), ('musician', 4829), ('musicale', 4828), ('music', 4827), ('museweb', 4826), ('museum', 4825), ('museu', 4824), ('murdoch', 4823), ('mun', 4822), ('mum', 4821), ('multisensory', 4820), ('multipurpose', 4819), ('multiple', 4818), ('multiobjective', 4817), ('multimodality', 4816), ('multilegs', 4815), ('multifunct', 4814), ('multieducation', 4813), ('multidimensional', 4812), ('multicultural', 4811), ('multicomponent', 4810), ('multi', 4809), ('mui', 4808), ('mugabes', 4807), ('mugabe', 4806), ('mufungetrabaka', 4805), ('much', 4804), ('muah', 4803), ('mtuxcjjqs8', 4802), ('mstrixter', 4801), ('msf', 4800), ('msemmen', 4799), ('mse', 4798), ('msc', 4797), ('ms', 4796), ('mrskim1992', 4795), ('mrflu2', 4794), ('mr', 4793), ('mq', 4792), ('mpi', 4791), ('mpaemba', 4790), ('movie', 4789), ('movement', 4788), ('move', 4787), ('mouth', 4786), ('mouse', 4785), ('mountainous', 4784), ('mountain', 4783), ('mount', 4782), ('mould', 4781), ('mou', 4780), ('motorsaw', 4779), ('motor', 4778), ('motivation', 4777), ('motion', 4776), ('mostly', 4775), ('most', 4774), ('mosey', 4773), ('morris00', 4772), ('morning', 4771), ('mornin', 4770), ('morgan', 4769), ('morefunz', 4768), ('more', 4767), ('morden', 4766), ('mor', 4765), ('moot', 4764), ('mooncake', 4763), ('month', 4762), ('monster', 4761), ('money', 4760), ('mondejar', 4759), ('monday', 4758), ('monaharb', 4757), ('mon', 4756), ('momogarden81', 4755), ('moment', 4754), ('mom', 4753), ('molotch', 4752), ('molecule', 4751), ('mok', 4750), ('mojojohanna', 4749), ('mogao', 4748), ('module', 4747), ('modulator', 4746), ('modest', 4745), ('modernization', 4744), ('modernity', 4743), ('moderncontemporary', 4742), ('modern', 4741), ('moderate', 4740), ('moderat', 4739), ('modeller', 4738), ('model', 4737), ('mod', 4736), ('mobility', 4735), ('mobile', 4734), ('mo', 4733), ('mn', 4732), ('mmw2470', 4731), ('mmtindo', 4730), ('mm', 4729), ('mlib14', 4728), ('mktg', 4727), ('mkswritersfest', 4726), ('mix', 4725), ('miwf2012', 4724), ('mitzvah', 4723), ('mit', 4722), ('misunderstand', 4721), ('missneminly', 4720), ('mississippi', 4719), ('missionday', 4718), ('mission', 4717), ('missen', 4716), ('miss', 4715), ('misrstars', 4714), ('mislead', 4713), ('misdirect', 4712), ('misconduct', 4711), ('mis', 4710), ('minute', 4709), ('minority', 4708), ('minor', 4707), ('minnesota', 4706), ('minister', 4705), ('minimum', 4704), ('mini', 4703), ('mingqing', 4702), ('mingpao', 4701), ('mingkou', 4700), ('ming', 4699), ('mineral', 4698), ('mine', 4697), ('mindfulness', 4696), ('mind', 4695), ('min', 4694), ('mimosaceae', 4693), ('mimosa', 4692), ('mimic', 4691), ('mimi', 4690), ('milweekarm18', 4689), ('milton', 4688), ('millitary', 4687), ('millirobot', 4686), ('million', 4685), ('mill', 4684), ('milk', 4683), ('military', 4682), ('mile2', 4681), ('milan', 4680), ('migratory', 4679), ('migration', 4678), ('migrant', 4677), ('might', 4676), ('miffest2018', 4675), ('mie', 4674), ('midterm', 4673), ('midnight', 4672), ('middle', 4671), ('mics', 4670), ('microsoft', 4669), ('microscopic', 4668), ('microscope', 4667), ('microrobots', 4666), ('microfund', 4665), ('microchip', 4664), ('microbots', 4663), ('microbiology', 4662), ('microarrayed', 4661), ('microarray', 4660), ('michigan', 4659), ('michelini', 4658), ('michaelkhleung', 4657), ('michaelgravener', 4656), ('michael', 4655), ('mia', 4654), ('mi', 4653), ('mgt', 4652), ('mgga2018', 4651), ('mgga', 4650), ('mfacreative', 4649), ('mfacm', 4648), ('mfa', 4647), ('mexican', 4646), ('mewcy', 4645), ('metropolis', 4644), ('metre', 4643), ('methode', 4642), ('method', 4641), ('meteorology', 4640), ('metallic', 4639), ('metal', 4638), ('met', 4637), ('message', 4636), ('mervyn', 4635), ('mers', 4634), ('merchant', 4633), ('menu', 4632), ('mentalhealthtips', 4631), ('mental', 4630), ('menlyn', 4629), ('mengsu', 4628), ('men', 4627), ('memory', 4626), ('memoir', 4625), ('membership', 4624), ('member', 4623), ('melt', 4622), ('melody', 4621), ('mellon', 4620), ('melbourne', 4619), ('mei', 4618), ('meganpratana', 4617), ('mega', 4616), ('meeyuhfstr', 4615), ('meetup', 4614), ('meetourspeakers', 4613), ('meet', 4612), ('meego', 4611), ('medtech', 4610), ('medplusunsolved', 4609), ('medium', 4608), ('mediterranean', 4607), ('medicinesurgery', 4606), ('medicine', 4605), ('medication', 4604), ('medicaltech', 4603), ('medical', 4602), ('mediation', 4601), ('mediate', 4600), ('mediaschool', 4599), ('medias', 4598), ('mediaiplaw', 4597), ('mediaart', 4596), ('media', 4595), ('meded', 4594), ('medal', 4593), ('med', 4592), ('mechanically', 4591), ('mechanical', 4590), ('meanwhile', 4589), ('meant', 4588), ('meaningful', 4587), ('meal', 4586), ('me', 4585), ('mdpimetals', 4584), ('mcu', 4583), ('mcp', 4582), ('mcnelsoninxs', 4581), ('mcgillu', 4580), ('mcg', 4579), ('mcfunny', 4578), ('mccann', 4577), ('mbrsc', 4576), ('mbenayoun', 4575), ('mba', 4574), ('mayuzo', 4573), ('mayor', 4572), ('maybe', 4571), ('mayandes', 4570), ('maya784', 4569), ('may', 4568), ('maxhattler', 4567), ('mavisxdd', 4566), ('maurice', 4565), ('mau', 4564), ('matthew', 4563), ('matter', 4562), ('mathmatters', 4561), ('mathematics', 4560), ('mathematician', 4559), ('mathematical', 4558), ('math', 4557), ('materialsscience', 4556), ('material', 4555), ('mate', 4554), ('matchingtattoo', 4553), ('match', 4552), ('masterofscience', 4551), ('masterinfinance', 4550), ('masterclass', 4549), ('master', 4548), ('massey', 4547), ('massage', 4546), ('massacre', 4545), ('mass', 4544), ('marxist', 4543), ('marxism', 4542), ('marvisdotcom', 4541), ('martyn', 4540), ('martin', 4539), ('martial', 4538), ('markshu', 4537), ('marketwire', 4536), ('marketwatch', 4535), ('marketwa', 4534), ('marketingresearchlect', 4533), ('marketforces', 4532), ('marketer', 4531), ('market', 4530), ('mark', 4529), ('maritime', 4528), ('mariott', 4527), ('marine', 4526), ('marie', 4525), ('mariagalindo82', 4524), ('marek', 4523), ('marcolibrary', 4522), ('marcohenry', 4521), ('marco', 4520), ('marciestewart', 4519), ('marchthe', 4518), ('march', 4517), ('marathon', 4516), ('maraschi', 4515), ('mar', 4514), ('map', 4513), ('mao', 4512), ('manylegged', 4511), ('many', 4510), ('manufacture', 4509), ('manufactur', 4508), ('manuel', 4507), ('manoeuvre', 4506), ('manila', 4505), ('maneuver', 4504), ('mandarin', 4503), ('manchester', 4502), ('manager', 4501), ('management', 4500), ('manage', 4499), ('managament', 4498), ('man', 4497), ('mamabear11011', 4496), ('malpractice', 4495), ('malprac', 4494), ('mall', 4493), ('male', 4492), ('malaysian', 4491), ('malaysia', 4490), ('maker', 4489), ('makemoneyonline', 4488), ('makeitcount', 4487), ('make', 4486), ('makassar', 4485), ('mak', 4484), ('majumdar', 4483), ('major', 4482), ('maintain', 4481), ('mainly', 4480), ('mainlanders', 4479), ('mainland', 4478), ('mail', 4477), ('magom1', 4476), ('magnificent', 4475), ('magnetics', 4474), ('magnetically', 4473), ('magnetic', 4472), ('magnesium', 4471), ('magician', 4470), ('magic', 4469), ('maghera', 4468), ('maggio', 4467), ('magazine', 4466), ('mag', 4465), ('mafsu', 4464), ('madeleine', 4463), ('macnm', 4462), ('maclennan', 4461), ('machinelearning', 4460), ('machine', 4459), ('macdonaldeggers', 4458), ('macau', 4457), ('maana', 4456), ('maa', 4455), ('ma', 4454), ('m6058', 4453), ('m5050', 4452), ('m2', 4451), ('m1enqtgbjc', 4450), ('lzaro', 4449), ('lyric', 4448), ('lyotayagis', 4447), ('lyota', 4446), ('lynch', 4445), ('lymphoma', 4444), ('lydia', 4443), ('lxy', 4442), ('lwy', 4441), ('lupa', 4440), ('lund', 4439), ('lunchtime', 4438), ('lunch', 4437), ('lun', 4436), ('luma923', 4435), ('lululyyana', 4434), ('luk', 4433), ('lueneburg', 4432), ('lucky', 4431), ('luckiest', 4430), ('luck', 4429), ('lu', 4428), ('lt9', 4427), ('lt6', 4426), ('lt5', 4425), ('lt4', 4424), ('lt17', 4423), ('lt1507', 4422), ('lt13', 4421), ('lt10', 4420), ('lrsubmissions', 4419), ('lp', 4418), ('loyola', 4417), ('lowresidency', 4416), ('lowres', 4415), ('lowincome', 4414), ('lower', 4413), ('low', 4412), ('lovely', 4411), ('loveit', 4410), ('love', 4409), ('louisa', 4408), ('louis96hk', 4407), ('lot', 4406), ('loss', 4405), ('loser', 4404), ('lose', 4403), ('los', 4402), ('lorraine', 4401), ('lorenz', 4400), ('looser', 4399), ('loong', 4398), ('lookup', 4397), ('look', 4396), ('longxi', 4395), ('longtime', 4394), ('longer', 4393), ('long', 4392), ('lonely', 4391), ('london', 4390), ('lol', 4389), ('lokmant', 4388), ('lokman', 4387), ('logo', 4386), ('location', 4385), ('locate', 4384), ('locally', 4383), ('localism', 4382), ('local', 4381), ('loan', 4380), ('loaf', 4379), ('load', 4378), ('lo', 4377), ('lmt', 4376), ('lmao', 4375), ('lm', 4374), ('lloydblankfein', 4373), ('lliandenzel', 4372), ('llevaron', 4371), ('liwangyang', 4370), ('living', 4369), ('livewirerecords', 4368), ('livewire', 4367), ('lively', 4366), ('live', 4365), ('liu', 4364), ('little', 4363), ('literaturethanks', 4362), ('literature', 4361), ('literati', 4360), ('literaryfocused', 4359), ('literary', 4358), ('literacy', 4357), ('listen', 4356), ('list', 4355), ('lisjobs', 4354), ('lisalslim', 4353), ('lisalee89', 4352), ('lisadukesarl', 4351), ('lisa', 4350), ('liquid', 4349), ('liqiud', 4348), ('lion', 4347), ('lintervista', 4346), ('links', 4345), ('link', 4344), ('linguisticsprofessor', 4343), ('linguistics', 4342), ('linguist', 4341), ('lingnan', 4340), ('ling', 4339), ('linemeetscorner', 4338), ('line', 4337), ('lin', 4336), ('limit', 4335), ('limage', 4334), ('lim', 4333), ('lilearthling369', 4332), ('lil', 4331), ('likely', 4330), ('likelihood', 4329), ('likecoin', 4328), ('like', 4327), ('lighthearted', 4326), ('light', 4325), ('lift', 4324), ('lifestyle', 4323), ('lifesaving', 4322), ('lifes', 4321), ('lifeinhk', 4320), ('life', 4319), ('liebeskind', 4318), ('lie', 4317), ('license', 4316), ('libraryjobs', 4315), ('library', 4314), ('librarian', 4313), ('libjobs', 4312), ('libeskinds', 4311), ('libeskind', 4310), ('liberty', 4309), ('liberaldemocratic', 4308), ('liberal', 4307), ('liao', 4306), ('liansu', 4305), ('liaison', 4304), ('liable', 4303), ('li', 4302), ('lgbti', 4301), ('lewins', 4300), ('levy1994', 4299), ('leverage', 4298), ('level', 4297), ('leuphana', 4296), ('leung', 4295), ('letter', 4294), ('let', 4293), ('lestari', 4292), ('lesson', 4291), ('leonthelion', 4290), ('leong', 4289), ('leo', 4288), ('lend', 4287), ('lena', 4286), ('leino', 4285), ('leigh', 4284), ('lei', 4283), ('legradys', 4282), ('lego', 4281), ('legislature', 4280), ('legislative', 4279), ('legislation', 4278), ('legend', 4277), ('legcos', 4276), ('legco', 4275), ('legally', 4274), ('legaled', 4273), ('legal', 4272), ('leg', 4271), ('leftover', 4270), ('lefrenchmay', 4269), ('leehowie', 4268), ('lee', 4267), ('leda', 4266), ('lectureship', 4265), ('lecturer', 4264), ('lecturepresention', 4263), ('lecture', 4262), ('lect', 4261), ('lec08', 4260), ('leave', 4259), ('leastmy', 4258), ('least', 4257), ('learner', 4256), ('learn', 4255), ('leap', 4254), ('lean', 4253), ('league', 4252), ('leaf', 4251), ('leadership', 4250), ('leader', 4249), ('lead', 4248), ('le', 4247), ('lcq6', 4246), ('lcq2', 4245), ('lcq10', 4244), ('lc', 4243), ('lborouniversity', 4242), ('lborosbe', 4241), ('lboroias', 4240), ('lawsuit', 4239), ('lawsofinterface', 4238), ('lawsalary', 4237), ('lawrence', 4236), ('lawmcgill', 4235), ('lawmaker', 4234), ('lawcity', 4233), ('law012', 4232), ('law', 4231), ('lavalvirtual2018', 4230), ('launch', 4229), ('laude', 4228), ('lau', 4227), ('latest', 4226), ('latergram', 4225), ('later', 4224), ('lateline', 4223), ('late', 4222), ('lastnight', 4221), ('last', 4220), ('laser', 4219), ('lasalle', 4218), ('larry', 4217), ('largest', 4216), ('lara', 4215), ('laptop', 4214), ('lansing', 4213), ('langugage', 4212), ('language', 4211), ('langshiningexhibitmultimedia', 4210), ('landscape', 4209), ('landmark', 4208), ('land', 4207), ('lancsss16', 4206), ('lan', 4205), ('lamp', 4204), ('lam', 4203), ('lai', 4202), ('lag', 4201), ('lady', 4200), ('lack', 4199), ('lachs', 4198), ('labour', 4197), ('laboratory', 4196), ('laboirege', 4195), ('labday', 4194), ('lab', 4193), ('la', 4192), ('kyungsung', 4191), ('kyuhyun', 4190), ('kyoto', 4189), ('kyle', 4188), ('kwong', 4187), ('kwok', 4186), ('kwan', 4185), ('kwai', 4184), ('kw', 4183), ('kuyohei', 4182), ('kuo', 4181), ('kunqu', 4180), ('kung', 4179), ('kuleuven', 4178), ('kuen', 4177), ('kudos', 4176), ('kudasai', 4175), ('kuang', 4174), ('kuan', 4173), ('ku', 4172), ('ktphanesi', 4171), ('ktphane', 4170), ('kstate2025', 4169), ('kstate', 4168), ('krum', 4167), ('krislc', 4166), ('krimar', 4165), ('krakow', 4164), ('kowloontong', 4163), ('kowloon', 4162), ('kow', 4161), ('kovac', 4160), ('kotlikoff', 4159), ('koreaus', 4158), ('korean', 4157), ('korea', 4156), ('kool', 4155), ('konguniversity', 4154), ('kongtyre', 4153), ('kongtaiwan', 4152), ('kongso', 4151), ('kongshanghai', 4150), ('kongs', 4149), ('kongproject', 4148), ('kongplz', 4147), ('konglooking', 4146), ('kongkeynote', 4145), ('kongiphonefacebook', 4144), ('kongidk', 4143), ('konghong', 4142), ('kongfhc', 4141), ('kongers', 4140), ('kongdik', 4139), ('kongcornish', 4138), ('kongcommunity', 4137), ('kongcityu', 4136), ('kongchinaalhamdulillah', 4135), ('kongchair', 4134), ('kongb', 4133), ('kongamerica', 4132), ('kongaccounting', 4131), ('kong2', 4130), ('kong', 4129), ('konferenz', 4128), ('kon', 4127), ('koltsova', 4126), ('kohnle', 4125), ('knowledge', 4124), ('know', 4123), ('knockemdeadmala', 4122), ('kmerian', 4121), ('klstudentcon', 4120), ('klose', 4119), ('klein', 4118), ('kkk', 4117), ('kitchen', 4116), ('kitabm', 4115), ('kiss', 4114), ('kishke', 4113), ('kisd', 4112), ('kingson138', 4111), ('kings', 4110), ('kingchi', 4109), ('king', 4108), ('kind', 4107), ('kin', 4106), ('kimberley', 4105), ('kim', 4104), ('kill', 4103), ('kids4kids', 4102), ('kidoctr', 4101), ('kid', 4100), ('kick', 4099), ('kiano', 4098), ('ki', 4097), ('khor', 4096), ('kgvcyoj5ur', 4095), ('keynote', 4094), ('key', 4093), ('kevindowning', 4092), ('kevin', 4091), ('kes2015', 4090), ('kerry', 4089), ('kenyatta', 4088), ('kenya', 4087), ('kenny', 4086), ('kenneth', 4085), ('kennedy', 4084), ('kenji', 4083), ('kendrick', 4082), ('kenderdine', 4081), ('kelvin', 4080), ('kelmansteve', 4079), ('kellogg', 4078), ('keke', 4077), ('keith', 4076), ('keep', 4075), ('ke', 4074), ('kchen0428', 4073), ('kcapinoystar', 4072), ('kc', 4071), ('kazuaki', 4070), ('kazimierz', 4069), ('katemcgk', 4068), ('kate', 4067), ('kaspersky', 4066), ('karya', 4065), ('karsonshekcityueduhk', 4064), ('karson', 4063), ('karmictimes', 4062), ('karissa0826', 4061), ('karen', 4060), ('kantinekost', 4059), ('kangcheng', 4058), ('kampar', 4057), ('kamineni', 4056), ('kali', 4055), ('kaist', 4054), ('kaidi', 4053), ('kahoyu', 4052), ('kagak', 4051), ('kadoorie', 4050), ('kachun', 4049), ('ka', 4048), ('k4riffuvsa', 4047), ('jypeach', 4046), ('jwjanice', 4045), ('jwc', 4044), ('juvenile', 4043), ('justin', 4042), ('justice', 4041), ('just4thecause', 4040), ('just', 4039), ('jury', 4038), ('jurusan', 4037), ('jupas', 4036), ('junket', 4035), ('junior', 4034), ('junhe', 4033), ('jung', 4032), ('june', 4031), ('jun', 4030), ('jumper', 4029), ('jumatberkah', 4028), ('july', 4027), ('julho', 4026), ('juju', 4025), ('juicios', 4024), ('judy', 4023), ('judiciary', 4022), ('judges', 4021), ('judge', 4020), ('juans', 4019), ('juan', 4018), ('ju', 4017), ('jsspnews2133fullyfunded', 4016), ('jryz9uvpvc', 4015), ('jqqbfrmmkk', 4014), ('jp', 4013), ('joy', 4012), ('journey', 4011), ('journalism', 4010), ('journal', 4009), ('jospeh', 4008), ('joseph', 4007), ('jos', 4006), ('jong', 4005), ('jones', 4004), ('jonbuford', 4003), ('jonathan', 4002), ('jombalikmalaysia', 4001), ('joluv', 4000), ('jokowi', 3999), ('joke', 3998), ('jojo', 3997), ('jointly', 3996), ('joint', 3995), ('join', 3994), ('johnson', 3993), ('johnny', 3992), ('johnhowardiii', 3991), ('johnflowerdew', 3990), ('john', 3989), ('johannes', 3988), ('johan', 3987), ('joey', 3986), ('jockey', 3985), ('jobsww', 3984), ('jobsacuk', 3983), ('jobajomas', 3982), ('jobable', 3981), ('job', 3980), ('joan', 3979), ('jnj', 3978), ('jmcjobs', 3977), ('jmblanquer', 3976), ('jmartinalm', 3975), ('jlperryspea', 3974), ('jlh', 3973), ('jkdiamondsinstitute', 3972), ('jk', 3971), ('jjucey', 3970), ('jjm', 3969), ('jjboillot', 3968), ('jinyan', 3967), ('jing', 3966), ('jincheng', 3965), ('jimmy', 3964), ('jimirro', 3963), ('jiang', 3962), ('jian', 3961), ('jia', 3960), ('ji', 3959), ('jho', 3958), ('jgn', 3957), ('jeune', 3956), ('jet', 3955), ('jessupwhitecase', 3954), ('jessup', 3953), ('jesselivermore', 3952), ('jess', 3951), ('jeromyu', 3950), ('jeremygutsche', 3949), ('jeongbon', 3948), ('jenga', 3947), ('jellyfish', 3946), ('jeffrey', 3945), ('jeanne', 3944), ('jealous', 3943), ('je', 3942), ('jd', 3941), ('jbaqua', 3940), ('jazz', 3939), ('jawoord', 3938), ('java', 3937), ('jason', 3936), ('jarrive', 3935), ('japanese', 3934), ('japan', 3933), ('januarymay', 3932), ('january2018', 3931), ('january', 3930), ('januari', 3929), ('janice', 3928), ('janes', 3927), ('jan', 3926), ('jamshoro', 3925), ('jamestanton', 3924), ('jamedibiasio', 3923), ('jam', 3922), ('jalan', 3921), ('jakarta', 3920), ('jak', 3919), ('jail', 3918), ('jaijagat', 3917), ('jadinelove', 3916), ('jadi', 3915), ('jacquespx', 3914), ('jackson', 3913), ('jackpot', 3912), ('jackjenkins', 3911), ('jack', 3910), ('jaar', 3909), ('jaan', 3908), ('ivy', 3907), ('ivory', 3906), ('ive', 3905), ('ivanhoe', 3904), ('ivandsp', 3903), ('ius', 3902), ('itunes', 3901), ('itsmepanda1', 3900), ('itself', 3899), ('itsecurity', 3898), ('itsaboutthechildren', 3897), ('its', 3896), ('itrack', 3895), ('itbook', 3894), ('italy', 3893), ('italian', 3892), ('it', 3891), ('isvee15', 3890), ('istv', 3889), ('issue', 3888), ('issmoscow', 3887), ('ispald', 3886), ('isp', 3885), ('isme15', 3884), ('island', 3883), ('islamicfinance', 3882), ('islamic', 3881), ('ishihara', 3880), ('isea2016hk', 3879), ('isea2016', 3878), ('isea', 3877), ('iscma2019', 3876), ('iscma', 3875), ('isceahk', 3874), ('iscea', 3873), ('isanmusic', 3872), ('isaiahberlin', 3871), ('isaac', 3870), ('isa', 3869), ('is', 3868), ('irvinecubesat', 3867), ('irspm16', 3866), ('irspm', 3865), ('iron', 3864), ('irmacscentre', 3863), ('irishfestasia', 3862), ('ipv4', 3861), ('ipsfinfo', 3860), ('ipodhavent', 3859), ('ipmn', 3858), ('iphone', 3857), ('ipads', 3856), ('ipad', 3855), ('iot', 3854), ('ion', 3853), ('iomnews', 3852), ('iomasiapacific', 3851), ('iom', 3850), ('io', 3849), ('involve', 3848), ('invite', 3847), ('invitation', 3846), ('invisible', 3845), ('investment', 3844), ('investigator', 3843), ('investigation', 3842), ('investigate', 3841), ('investigacin', 3840), ('invest', 3839), ('invention', 3838), ('invent', 3837), ('invaluable', 3836), ('intrusion', 3835), ('introductory', 3834), ('introduction', 3833), ('introduce', 3832), ('intro', 3831), ('intocity', 3830), ('into', 3829), ('intlcrimcourt', 3828), ('intl', 3827), ('intimacy', 3826), ('interview', 3825), ('interuniversity', 3824), ('intersection', 3823), ('interreligious', 3822), ('interpretation', 3821), ('internship', 3820), ('internetless', 3819), ('internet', 3818), ('internationalservice', 3817), ('internationalresearch', 3816), ('internationally', 3815), ('internationalization', 3814), ('internationaleducation', 3813), ('international', 3812), ('internat', 3811), ('internal', 3810), ('internacional', 3809), ('intern', 3808), ('intermetallics', 3807), ('intermediation', 3806), ('interlinear', 3805), ('interior', 3804), ('intergovernmental', 3803), ('interface', 3802), ('interest', 3801), ('interdisciplinary', 3800), ('intercultural', 3799), ('intercontinental', 3798), ('interactive', 3797), ('interact', 3796), ('inter', 3795), ('intensify', 3794), ('intense', 3793), ('intend', 3792), ('intelligent', 3791), ('intelligence', 3790), ('intellectualweekend', 3789), ('intellectual', 3788), ('intellect', 3787), ('integrity', 3786), ('integrative', 3785), ('integrate', 3784), ('inte', 3783), ('intangible', 3782), ('intake', 3781), ('int123c', 3780), ('int', 3779), ('insurance', 3778), ('insult', 3777), ('instrumental', 3776), ('instructor', 3775), ('instructional', 3774), ('instruction', 3773), ('institution', 3772), ('institute', 3771), ('instapic', 3770), ('instantly', 3769), ('instant', 3768), ('installation', 3767), ('install', 3766), ('instal', 3765), ('instagram', 3764), ('instagood', 3763), ('instabul', 3762), ('instability', 3761), ('inspire', 3760), ('inspection', 3759), ('insolvency', 3758), ('insist', 3757), ('insight', 3756), ('inside', 3755), ('insh', 3754), ('insert', 3753), ('inscrevase', 3752), ('inquiry', 3751), ('input', 3750), ('innovative', 3749), ('innovation', 3748), ('innovate', 3747), ('innochemos', 3746), ('innocentre', 3745), ('ink', 3744), ('injustice', 3743), ('injure', 3742), ('injection', 3741), ('inject', 3740), ('initiator', 3739), ('initiative', 3738), ('initialcoinofferings', 3737), ('initial', 3736), ('inhabit', 3735), ('ingres', 3734), ('ingredient', 3733), ('ingls', 3732), ('ing', 3731), ('infrastructure', 3730), ('infrastructhttptco8um9iaxq5l', 3729), ('infounpad', 3728), ('infosecurity', 3727), ('infosec', 3726), ('informedconsent', 3725), ('information', 3724), ('informal', 3723), ('inform', 3722), ('infographics', 3721), ('infoday', 3720), ('info', 3719), ('influence', 3718), ('inflection', 3717), ('infectious', 3716), ('inequality', 3715), ('inelastic', 3714), ('industry', 3713), ('industrialise', 3712), ('industrial', 3711), ('induction', 3710), ('induce', 3709), ('indranil', 3708), ('indomitable', 3707), ('indomengglobal', 3706), ('indigenous', 3705), ('indie', 3704), ('indicate', 3703), ('indica', 3702), ('indic', 3701), ('indias', 3700), ('indiana', 3699), ('indian', 3698), ('indiaartndesign', 3697), ('india', 3696), ('independentistas', 3695), ('independent', 3694), ('independence', 3693), ('incredibly', 3692), ('incredible', 3691), ('increase', 3690), ('incorrect', 3689), ('include', 3688), ('incl', 3687), ('incident', 3686), ('incentive', 3685), ('inbound', 3684), ('inauguration', 3683), ('inaugural', 3682), ('in2', 3681), ('in', 3680), ('improve', 3679), ('impressivetimh01', 3678), ('impressive', 3677), ('imposition', 3676), ('important', 3675), ('importance', 3674), ('implementation', 3673), ('implement', 3672), ('impact', 3671), ('immunity', 3670), ('immigrationessays', 3669), ('immersiveinnovation', 3668), ('immersive', 3667), ('immersion', 3666), ('immediate', 3665), ('imlaurie', 3664), ('imfjyeys0', 3663), ('imc', 3662), ('imagine', 3661), ('imagination', 3660), ('imaginary', 3659), ('image', 3658), ('im', 3657), ('ilnu', 3656), ('illustration', 3655), ('illgrenoble', 3654), ('ill', 3653), ('ilas', 3652), ('il', 3651), ('ik', 3650), ('iit', 3649), ('iistl', 3648), ('iiparttime', 3647), ('iin', 3646), ('iim', 3645), ('iikkakorhonen', 3644), ('iii', 3643), ('ii', 3642), ('ihec2018', 3641), ('iglam', 3640), ('igala9', 3639), ('igala', 3638), ('ig', 3637), ('ifeelspecial', 3636), ('if', 3635), ('ietmate', 3634), ('iethk', 3633), ('iet', 3632), ('ieeeusa', 3631), ('ieee', 3630), ('idome', 3629), ('idolize', 3628), ('idiot', 3627), ('identity', 3626), ('ideal', 3625), ('idea', 3624), ('id', 3623), ('icsnn2016', 3622), ('icsd', 3621), ('icrcjakarta', 3620), ('icosa', 3619), ('icos', 3618), ('icore', 3617), ('iconsenteu', 3616), ('icon', 3615), ('icoban2018', 3614), ('icmr2012', 3613), ('icm2018rio', 3612), ('icis', 3611), ('ich2018', 3610), ('icgs', 3609), ('icecream', 3608), ('ice', 3607), ('iccmw', 3606), ('icc', 3605), ('icapsrilanka', 3604), ('ibsitalks', 3603), ('ibm', 3602), ('ib', 3601), ('iawe2012', 3600), ('iawe', 3599), ('iaw', 3598), ('iaveinaugsburg', 3597), ('iaphbaku2018', 3596), ('iancarrollhk', 3595), ('iamwingzing', 3594), ('iam', 3593), ('iag2017', 3592), ('ia', 3591), ('i3e2016', 3590), ('i2cat', 3589), ('hyper', 3588), ('hw', 3587), ('hv', 3586), ('huta9', 3585), ('hurt', 3584), ('huracanes', 3583), ('hunter', 3582), ('hunt', 3581), ('hungry', 3580), ('hundred', 3579), ('hunanuniv', 3578), ('hunan', 3577), ('humor', 3576), ('humid', 3575), ('humboldt', 3574), ('humbly', 3573), ('humble', 3572), ('humanity', 3571), ('human', 3570), ('hulluniict', 3569), ('huizhou', 3568), ('huicity', 3567), ('hui', 3566), ('hugocentre', 3565), ('hughes', 3564), ('hugely', 3563), ('huge', 3562), ('hug', 3561), ('huen', 3560), ('hubgenomics', 3559), ('hubbucket360', 3558), ('hubbucket', 3557), ('hubbiotech', 3556), ('hub', 3555), ('huang', 3554), ('hu', 3553), ('httptcoyto4jk6dgx', 3552), ('httptcox5cdg3ci', 3551), ('httptcooab5uzfu', 3550), ('httptcoggc3q6x', 3549), ('httpstcowkryypmknj', 3548), ('httpstcofa7lzpkcby', 3547), ('httpstco0oloyclwg7', 3546), ('https', 3545), ('http', 3544), ('ht', 3543), ('hsienyung', 3542), ('hsien', 3541), ('hsbc', 3540), ('hric2014', 3539), ('hri', 3538), ('hr', 3537), ('hows', 3536), ('howie', 3535), ('however', 3534), ('howdyasayniamh', 3533), ('howdumb', 3532), ('how', 3531), ('houston', 3530), ('house', 3529), ('hour', 3528), ('hou', 3527), ('hotnets', 3526), ('hotel', 3525), ('hot', 3524), ('hostel', 3523), ('hostage', 3522), ('host', 3521), ('hospitality', 3520), ('hospital', 3519), ('horizontal', 3518), ('horace', 3517), ('hope', 3516), ('hootsuite', 3515), ('hookem', 3514), ('hook', 3513), ('honshiang', 3512), ('hons', 3511), ('honour', 3510), ('honoree', 3509), ('honorary', 3508), ('honor', 3507), ('honk', 3506), ('hongs', 3505), ('hongkongs', 3504), ('hongkongplg', 3503), ('hongkongjob', 3502), ('hongkonghttpcindywapsitemephotocity', 3501), ('hongkongheraldcom', 3500), ('hongkongfp', 3499), ('hongkongers', 3498), ('hongkonger', 3497), ('hongkongconf', 3496), ('hongkongcityuniversity', 3495), ('hongkong', 3494), ('hong', 3493), ('honest', 3492), ('hon', 3491), ('homesick', 3490), ('homecoming', 3489), ('home', 3488), ('holy', 3487), ('hologram', 3486), ('hold', 3485), ('hoje', 3484), ('hoi', 3483), ('hoho0yin', 3482), ('hoffmannla', 3481), ('hoefer', 3480), ('hockey', 3479), ('ho', 3478), ('hnzthu6r9n', 3477), ('hnlu', 3476), ('hnet', 3475), ('hn', 3474), ('hmm', 3473), ('hm', 3472), ('hkust', 3471), ('hkuniversity', 3470), ('hku', 3469), ('hktom', 3468), ('hktechathon', 3467), ('hkt', 3466), ('hkstp', 3465), ('hksq', 3464), ('hksoccer7s', 3463), ('hksar', 3462), ('hks', 3461), ('hkpsa', 3460), ('hkiitfest', 3459), ('hkigers', 3458), ('hkig', 3457), ('hkied', 3456), ('hkhist', 3455), ('hkhaiyou', 3454), ('hkguangzhou', 3453), ('hkg', 3452), ('hkfp', 3451), ('hkdo', 3450), ('hkd', 3449), ('hkcim', 3448), ('hkcert', 3447), ('hkboy', 3446), ('hkac', 3445), ('hk9m', 3444), ('hk9', 3443), ('hk7000', 3442), ('hk380', 3441), ('hk32', 3440), ('hk200', 3439), ('hk', 3438), ('hiv', 3437), ('hiutungxdd', 3436), ('hitterz', 3435), ('hitech', 3434), ('hit', 3433), ('history', 3432), ('historical', 3431), ('historian', 3430), ('hispanic', 3429), ('his', 3428), ('hirt', 3427), ('hire', 3426), ('hir', 3425), ('hiphop', 3424), ('hip', 3423), ('hindu', 3422), ('himemeizhi', 3421), ('him', 3420), ('hilton', 3419), ('hike', 3418), ('hii', 3417), ('highstrength', 3416), ('highrise', 3415), ('highly', 3414), ('highlights', 3413), ('highlight', 3412), ('highest', 3411), ('highered', 3410), ('higher', 3409), ('high', 3408), ('hieulocbk', 3407), ('hier', 3406), ('hibrainnet', 3405), ('hi', 3404), ('hhttpstco0qb0hrkrzf', 3403), ('hha', 3402), ('heywoods', 3401), ('heyimytwlol', 3400), ('heyday', 3399), ('het', 3398), ('heschool', 3397), ('herstmonceux', 3396), ('heritageyangzhou', 3395), ('heritage', 3394), ('here', 3393), ('herbert', 3392), ('herald', 3391), ('heqian', 3390), ('henry', 3389), ('henningtveit', 3388), ('henna', 3387), ('heng', 3386), ('helpful', 3385), ('helper', 3384), ('helpbarbour', 3383), ('help', 3382), ('helloiam', 3381), ('hello', 3380), ('hellcan', 3379), ('hell', 3378), ('helicopter', 3377), ('heipingchuek', 3376), ('hehe', 3375), ('hegoingglobal', 3374), ('hegemonic', 3373), ('heel', 3372), ('hec', 3371), ('heavy', 3370), ('hearty', 3369), ('heart', 3368), ('hear', 3367), ('healthit', 3366), ('healthier', 3365), ('healthcare', 3364), ('health', 3363), ('healer', 3362), ('headsup', 3361), ('headdepartment', 3360), ('head', 3359), ('hea', 3358), ('he', 3357), ('hcmmmarco', 3356), ('hci', 3355), ('hbuddhism', 3354), ('hawk', 3353), ('having', 3352), ('havent', 3351), ('have', 3350), ('hav', 3349), ('hate', 3348), ('haslem', 3347), ('hashtag', 3346), ('hasan', 3345), ('has', 3344), ('harvey', 3343), ('harvest', 3342), ('harvard', 3341), ('hartford', 3340), ('harry', 3339), ('haroon', 3338), ('harmonization', 3337), ('harmoniously', 3336), ('hardware', 3335), ('hardtoreach', 3334), ('hardtoclimb', 3333), ('harding', 3332), ('hardimanalex', 3331), ('hardest', 3330), ('harder', 3329), ('harden', 3328), ('hard', 3327), ('harbour', 3326), ('haptics', 3325), ('happyhalloween', 3324), ('happy', 3323), ('happiness', 3322), ('happier', 3321), ('happeningnow', 3320), ('happening', 3319), ('happen', 3318), ('happ', 3317), ('hanover', 3316), ('hang', 3315), ('handover', 3314), ('handout', 3313), ('handbook', 3312), ('hand', 3311), ('hanarun', 3310), ('han', 3309), ('halo', 3308), ('halloween', 3307), ('halliday', 3306), ('hall', 3305), ('halfway', 3304), ('halfcentury', 3303), ('half', 3302), ('hal', 3301), ('hajiyev', 3300), ('hair', 3299), ('hai', 3298), ('hahahahaaaaa', 3297), ('hahahaha', 3296), ('hahaha', 3295), ('haha', 3294), ('hah', 3293), ('haeco', 3292), ('hack', 3291), ('haar', 3290), ('ha', 3289), ('h1n1', 3288), ('gzdxxd', 3287), ('gym', 3286), ('guy', 3285), ('guv', 3284), ('guoshu', 3283), ('guinness', 3282), ('guiguo', 3281), ('guideline', 3280), ('guide', 3279), ('guestlecture', 3278), ('guest', 3277), ('guess', 3276), ('gue', 3275), ('guardianeco', 3274), ('guardianbooks', 3273), ('guardian', 3272), ('guarantee', 3271), ('guanrong', 3270), ('guanhao', 3269), ('guan', 3268), ('gtas', 3267), ('gruber', 3266), ('growyourdreams', 3265), ('growth', 3264), ('grow', 3263), ('groupmeatsi', 3262), ('groupmate', 3261), ('group', 3260), ('groundbreaking', 3259), ('grotto', 3258), ('gross', 3257), ('groland', 3256), ('grind', 3255), ('grill', 3254), ('griffithuni', 3253), ('griffithbiz', 3252), ('griffith', 3251), ('gremmler', 3250), ('greet', 3249), ('greenwalls', 3248), ('greenroofs', 3247), ('greenroof', 3246), ('greenpeacestyle', 3245), ('greencorp', 3244), ('greenbuilding', 3243), ('greenbelt', 3242), ('green', 3241), ('greatest', 3240), ('greater', 3239), ('great', 3238), ('grazia', 3237), ('gratify', 3236), ('grateful', 3235), ('grate', 3234), ('graphic', 3233), ('graphene', 3232), ('grant', 3231), ('grammer', 3230), ('gramedia', 3229), ('graham', 3228), ('graf', 3227), ('graduationwhich', 3226), ('graduation', 3225), ('graduates', 3224), ('graduate', 3223), ('grade', 3222), ('grad', 3221), ('grab', 3220), ('gr', 3219), ('gpwren', 3218), ('gpl', 3217), ('gpa', 3216), ('govt', 3215), ('governor', 3214), ('government', 3213), ('governmen', 3212), ('governance', 3211), ('gove', 3210), ('gov', 3209), ('gotuwsk', 3208), ('gorgeous', 3207), ('gop', 3206), ('googlyfish', 3205), ('googlealerts', 3204), ('google', 3203), ('goog', 3202), ('goody', 3201), ('goodnighthongk', 3200), ('goodluck', 3199), ('goodd', 3198), ('goodbye', 3197), ('good', 3196), ('gonna', 3195), ('goliath', 3194), ('golfergirl2018', 3193), ('golf', 3192), ('goldmansachs', 3191), ('golden', 3190), ('gold', 3189), ('gogogo', 3188), ('goglobal', 3187), ('goff', 3186), ('godine', 3185), ('goddess', 3184), ('god', 3183), ('goal', 3182), ('go2', 3181), ('go', 3180), ('gnxi', 3179), ('gnre', 3178), ('gnomeubuntu2012gnomeasia', 3177), ('gnome50002012gn', 3176), ('gnome', 3175), ('gmez', 3174), ('gmeering', 3173), ('gmat1937', 3172), ('gmail', 3171), ('gm1tmwcgc6', 3170), ('glorious', 3169), ('globe', 3168), ('globally', 3167), ('globalization', 3166), ('globalhighered', 3165), ('globalcampus', 3164), ('global', 3163), ('glm', 3162), ('glenn', 3161), ('glen4ont', 3160), ('glass', 3159), ('glasgow', 3158), ('glamzians', 3157), ('gladys', 3156), ('glad', 3155), ('gl', 3154), ('give2asia', 3153), ('give', 3152), ('gitttt', 3151), ('gittaaketawa', 3150), ('gitta', 3149), ('githa', 3148), ('girl', 3147), ('ginny', 3146), ('giglio', 3145), ('gig', 3144), ('gift', 3143), ('gibson', 3142), ('giap', 3141), ('giaosqjjvw', 3140), ('giant', 3139), ('gh', 3138), ('gggarrido', 3137), ('gfellowship', 3136), ('gfaxal7fpy', 3135), ('gf', 3134), ('gew76zn134', 3133), ('getting', 3132), ('getreads', 3131), ('get', 3130), ('gerardrolanducb', 3129), ('georgia', 3128), ('george', 3127), ('geomestry', 3126), ('geoklin', 3125), ('geography', 3124), ('geoffschuler', 3123), ('geocodes', 3122), ('geocode', 3121), ('genuine', 3120), ('genre12', 3119), ('genomics', 3118), ('genome', 3117), ('genius', 3116), ('genious', 3115), ('genetic', 3114), ('genetherapy', 3113), ('genesis', 3112), ('generationhk', 3111), ('generation', 3110), ('generate', 3109), ('generalist', 3108), ('general', 3107), ('gene', 3106), ('genashowalter', 3105), ('gena', 3104), ('gen', 3103), ('geliecek', 3102), ('gel', 3101), ('gekregen', 3100), ('geiger', 3099), ('gedisaeditorial', 3098), ('ge3202', 3097), ('ge13', 3096), ('ge', 3095), ('gdp', 3094), ('gdgfest2016', 3093), ('gdg', 3092), ('gcso', 3091), ('gchq', 3090), ('gb730', 3089), ('gayi', 3088), ('gaybird', 3087), ('gayaunikvfresh', 3086), ('gather', 3085), ('gate', 3084), ('gastheer', 3083), ('gartner', 3082), ('garrett', 3081), ('gardner', 3080), ('garden', 3079), ('gap', 3078), ('gao', 3077), ('gansterer', 3076), ('gan', 3075), ('gamification', 3074), ('gamestudies', 3073), ('gamejobs', 3072), ('gameeg', 3071), ('gamedev', 3070), ('gamedesign', 3069), ('game', 3068), ('gambler', 3067), ('gamble', 3066), ('gallery', 3065), ('gallade0475', 3064), ('galert', 3063), ('galerkin', 3062), ('galaxy001', 3061), ('gala', 3060), ('gakuin', 3059), ('gain', 3058), ('gaemgyu', 3057), ('gadget', 3056), ('ga', 3055), ('g58', 3054), ('fyp', 3053), ('fw', 3052), ('futurism', 3051), ('futurelearn', 3050), ('futuregovasia', 3049), ('future', 3048), ('fusetools', 3047), ('furnace', 3046), ('fung', 3045), ('fundus', 3044), ('fundraise', 3043), ('funding', 3042), ('fundedzdif', 3041), ('fundamental', 3040), ('fund', 3039), ('function', 3038), ('fun', 3037), ('fullyfunded', 3036), ('fully', 3035), ('fulltime', 3034), ('fullparallax', 3033), ('full', 3032), ('fulbright', 3031), ('fuk', 3030), ('fuel', 3029), ('fudan', 3028), ('fuck', 3027), ('fu', 3026), ('ft', 3025), ('fsu', 3024), ('fsocial', 3023), ('fry', 3022), ('fruitful', 3021), ('front', 3020), ('fromm', 3019), ('from', 3018), ('frm', 3017), ('friendshipgoals', 3016), ('friendly', 3015), ('friend', 3014), ('fridayfeeling', 3013), ('friday', 3012), ('fri', 3011), ('freshman', 3010), ('fresher', 3009), ('fresh', 3008), ('frenchmay', 3007), ('fren', 3006), ('freetibet', 3005), ('freestyleacadem', 3004), ('freenet002', 3003), ('freemalaysiatoday', 3002), ('freedom', 3001), ('freebie', 3000), ('freebassel', 2999), ('free', 2998), ('freak', 2997), ('frds', 2996), ('fraudulent', 2995), ('fraudsters', 2994), ('fraud', 2993), ('frankly', 2992), ('frank', 2991), ('frand', 2990), ('francisfong', 2989), ('francisco', 2988), ('francis', 2987), ('francehong', 2986), ('france', 2985), ('framework', 2984), ('frame', 2983), ('fragmentation', 2982), ('fragile', 2981), ('fr', 2980), ('fpzghr', 2979), ('foyer', 2978), ('foxeogames', 2977), ('fourthtiananmen', 2976), ('fourth', 2975), ('foursquare', 2974), ('fourdimensional', 2973), ('four', 2972), ('founder', 2971), ('foundation', 2970), ('found', 2969), ('foton', 2968), ('foster', 2967), ('forward', 2966), ('forum', 2965), ('forty', 2964), ('forthcoming', 2963), ('forrest', 2962), ('formerly', 2961), ('former', 2960), ('formation', 2959), ('formal', 2958), ('form', 2957), ('forget', 2956), ('forex', 2955), ('forever', 2954), ('forest', 2953), ('forensiccpa', 2952), ('foreign', 2951), ('forecast', 2950), ('fordhamnyc', 2949), ('fordhamny', 2948), ('fordham', 2947), ('force', 2946), ('forbesbusiness', 2945), ('forbes', 2944), ('for', 2943), ('foound', 2942), ('footprint', 2941), ('foothill', 2940), ('footage', 2939), ('foolish', 2938), ('fool', 2937), ('food', 2936), ('fontf', 2935), ('font', 2934), ('fong', 2933), ('fonder', 2932), ('fon', 2931), ('following', 2930), ('follower', 2929), ('follow2me1', 2928), ('follow', 2927), ('follo', 2926), ('folk', 2925), ('fold', 2924), ('fol', 2923), ('focus', 2922), ('fns', 2921), ('flybirdkk', 2920), ('fly', 2919), ('fluorescent', 2918), ('flu', 2917), ('flower', 2916), ('flow', 2915), ('florida', 2914), ('floor', 2913), ('flood', 2912), ('flight', 2911), ('flexible', 2910), ('fleetstories', 2909), ('flat', 2908), ('flanders', 2907), ('fk', 2906), ('five', 2905), ('fiulaw', 2904), ('fitness', 2903), ('fish', 2902), ('fiscal', 2901), ('firstworldproblems', 2900), ('firstever', 2899), ('first', 2898), ('firm', 2897), ('fire', 2896), ('fioxsrtofz', 2895), ('fiorentino', 2894), ('fionapxl', 2893), ('fintech', 2892), ('fins', 2891), ('finovate', 2890), ('finish', 2889), ('fine', 2888), ('findgreatness', 2887), ('find', 2886), ('financialconsulting', 2885), ('financial', 2884), ('finance', 2883), ('finalyear', 2882), ('finalsweek', 2881), ('finally', 2880), ('finalist', 2879), ('finalise', 2878), ('final', 2877), ('fimuhk', 2876), ('fimkanacestach', 2875), ('fim', 2874), ('filter', 2873), ('filmscoring', 2872), ('filmmaking', 2871), ('filmmaker', 2870), ('film', 2869), ('fill', 2868), ('files', 2867), ('file', 2866), ('figure', 2865), ('fightfordemocracy', 2864), ('fight', 2863), ('fifth', 2862), ('fif2014', 2861), ('field', 2860), ('fiedler', 2859), ('fidelity', 2858), ('fiction', 2857), ('ficd', 2856), ('fibre', 2855), ('fib', 2854), ('fi3ldhock3y', 2853), ('ffc', 2852), ('fewer', 2851), ('festival', 2850), ('ferrell', 2849), ('ferocious', 2848), ('feng', 2847), ('fence', 2846), ('fen', 2845), ('fems', 2844), ('female', 2843), ('felt', 2842), ('fellowship201516', 2841), ('fellowship', 2840), ('fellows', 2839), ('fellowresearch', 2838), ('fellowpostdoctoral', 2837), ('fellow', 2836), ('feld', 2835), ('feint', 2834), ('feinerman', 2833), ('feelin', 2832), ('feel', 2831), ('fee', 2830), ('federation', 2829), ('federalism', 2828), ('february', 2827), ('feb', 2826), ('feature', 2825), ('fear', 2824), ('fdlx', 2823), ('fdc', 2822), ('fd', 2821), ('fb', 2820), ('fax', 2819), ('favorite', 2818), ('fave', 2817), ('fat', 2816), ('fastgrowing', 2815), ('fastgrow', 2814), ('faster', 2813), ('fast', 2812), ('fashion', 2811), ('fascination', 2810), ('fascinate', 2809), ('farrell', 2808), ('farmer', 2807), ('faridamalia', 2806), ('farewell', 2805), ('far', 2804), ('fantastically', 2803), ('fantastic', 2802), ('fangyuan', 2801), ('fancy', 2800), ('fan', 2799), ('famous', 2798), ('family', 2797), ('familial', 2796), ('famed', 2795), ('false', 2794), ('fallenbergs', 2793), ('fall', 2792), ('fakedemocracy', 2791), ('fake', 2790), ('fair', 2789), ('failures', 2788), ('failure', 2787), ('fail', 2786), ('faculty', 2785), ('factor', 2784), ('fact', 2783), ('facility', 2782), ('facilitate', 2781), ('facetoface', 2780), ('facelift', 2779), ('facebook', 2778), ('face', 2777), ('facade', 2776), ('fabrications', 2775), ('fabricate', 2774), ('fabric', 2773), ('fa', 2772), ('f6zwvjusep', 2771), ('f2', 2770), ('f12mrs', 2769), ('ezglisgklj', 2768), ('eyewitness', 2767), ('eyebrow', 2766), ('eye', 2765), ('ey', 2764), ('extremely', 2763), ('extraordinary', 2762), ('extra', 2761), ('external', 2760), ('extender', 2759), ('extend', 2758), ('expression', 2757), ('expresscouk', 2756), ('express', 2755), ('exposition', 2754), ('expo', 2753), ('explosive', 2752), ('explore', 2751), ('exploration', 2750), ('explode', 2749), ('explicit', 2748), ('explain', 2747), ('expertise', 2746), ('expert', 2745), ('experimental', 2744), ('experiment', 2743), ('experience', 2742), ('expensive', 2741), ('expehttpstconwojrme6hm', 2740), ('expedition', 2739), ('expectation', 2738), ('expect', 2737), ('expand', 2736), ('exotic', 2735), ('exits', 2734), ('existin', 2733), ('exist', 2732), ('exhibition', 2731), ('exhibit', 2730), ('exhaust', 2729), ('executive', 2728), ('exclusive', 2727), ('excitingads', 2726), ('excited', 2725), ('excite', 2724), ('exchangestudent', 2723), ('exchange', 2722), ('excessive', 2721), ('excerpt', 2720), ('exceptiohttpstcoybx1trdr4h', 2719), ('excellent', 2718), ('excellence', 2717), ('excell', 2716), ('excel', 2715), ('exceed', 2714), ('example', 2713), ('examiner', 2712), ('examination', 2711), ('exam', 2710), ('ex', 2709), ('ewallet', 2708), ('ew', 2707), ('evolve', 2706), ('evolutionary', 2705), ('evolution', 2704), ('eviipc', 2703), ('evidencebased', 2702), ('everywhere', 2701), ('everything', 2700), ('everyone', 2699), ('everydayteam', 2698), ('everydayhongkong', 2697), ('everyday', 2696), ('evergrowing', 2695), ('ever', 2694), ('eventsjobs', 2693), ('event', 2692), ('evenliu', 2691), ('even', 2690), ('evans', 2689), ('evan', 2688), ('evaluation', 2687), ('evaberlin2018', 2686), ('eva', 2685), ('european', 2684), ('europe', 2683), ('eurekalert', 2682), ('eur', 2681), ('eu', 2680), ('etsetb', 2679), ('ethnic', 2678), ('ethic', 2677), ('etc', 2676), ('etaiwan', 2675), ('et', 2674), ('estudiar', 2673), ('esther', 2672), ('esteem', 2671), ('estate', 2670), ('establishment', 2669), ('establish', 2668), ('esta', 2667), ('est', 2666), ('essneutron', 2665), ('essex', 2664), ('essential', 2663), ('essec', 2662), ('essay', 2661), ('especially', 2660), ('esp', 2659), ('esl', 2658), ('esisar', 2657), ('esf', 2656), ('escp', 2655), ('escalator', 2654), ('esade', 2653), ('es', 2652), ('errrrrr', 2651), ('erich', 2650), ('eric', 2649), ('erfor', 2648), ('erfolgsfaktoren', 2647), ('erect', 2646), ('erasure', 2645), ('equip', 2644), ('equine', 2643), ('equalityforall', 2642), ('eportfolios', 2641), ('eportfolio', 2640), ('epoch', 2639), ('episode', 2638), ('epfl', 2637), ('eowynivey', 2636), ('envision', 2635), ('environmental', 2634), ('environment', 2633), ('enveryucel', 2632), ('entry', 2631), ('entrepreneurship', 2630), ('entrepreneur', 2629), ('entrance', 2628), ('entity', 2627), ('entitle', 2626), ('enthusiastic', 2625), ('enterprisecloud', 2624), ('enterprise', 2623), ('enter', 2622), ('entail', 2621), ('enrollment', 2620), ('enricocoiera', 2619), ('enquire', 2618), ('enough', 2617), ('enjoyment', 2616), ('enjoy', 2615), ('enhancement', 2614), ('enhance', 2613), ('englund', 2612), ('englishchinese', 2611), ('english', 2610), ('engliishes', 2609), ('engineer', 2608), ('engine', 2607), ('engg', 2606), ('engd', 2605), ('engagement', 2604), ('engage', 2603), ('eng', 2602), ('enforcement', 2601), ('energysaving', 2600), ('energyconference', 2599), ('energyannualmeetingsnet', 2598), ('energy', 2597), ('energiesmdpi', 2596), ('endofthesemester', 2595), ('end', 2594), ('encyclopedia', 2593), ('encouragement', 2592), ('encontraron', 2591), ('enable', 2590), ('en', 2589), ('employment', 2588), ('employer', 2587), ('empleoidagro', 2586), ('empleoeao', 2585), ('empirical', 2584), ('empire', 2583), ('emotionally', 2582), ('emotional', 2581), ('emory', 2580), ('emois', 2579), ('emmagpaley', 2578), ('emission', 2577), ('emergence', 2576), ('emerge', 2575), ('emerald', 2574), ('emcee', 2573), ('emc', 2572), ('embroider', 2571), ('embodiment', 2570), ('embark', 2569), ('emba', 2568), ('email', 2567), ('em', 2566), ('else', 2565), ('elli', 2564), ('elizabeth', 2563), ('eliot', 2562), ('elifnazdemirdag', 2561), ('eleven', 2560), ('element', 2559), ('electronics', 2558), ('electronic', 2557), ('electron', 2556), ('electrolyte', 2555), ('electrokineticsmar1134pmqnc1501', 2554), ('electroiq', 2553), ('electricity', 2552), ('electrical', 2551), ('electric', 2550), ('electr', 2549), ('electoral', 2548), ('elections', 2547), ('election2016', 2546), ('election', 2545), ('elect', 2544), ('elearning', 2543), ('eldertreks', 2542), ('elderly', 2541), ('elcolmex', 2540), ('elc', 2539), ('elaine', 2538), ('ela', 2537), ('el', 2536), ('ejinsighthk', 2535), ('either', 2534), ('einsteinmed', 2533), ('eindelijk', 2532), ('eid', 2531), ('egg', 2530), ('efgemc18', 2529), ('effort', 2528), ('efficient', 2527), ('efficiency', 2526), ('effectively', 2525), ('effective', 2524), ('effect', 2523), ('efe', 2522), ('een', 2521), ('ee2301', 2520), ('ee', 2519), ('eduwebinar', 2518), ('edusum', 2517), ('eduroam', 2516), ('edukcircle', 2515), ('eduit', 2514), ('educationnews', 2513), ('educational', 2512), ('education', 2511), ('educatio', 2510), ('edtech', 2509), ('editorassistant', 2508), ('editor', 2507), ('edition', 2506), ('edit', 2505), ('edinburgh', 2504), ('edgeaware', 2503), ('edge', 2502), ('edgar', 2501), ('eddie31', 2500), ('edchat', 2499), ('ed', 2498), ('ecrea2018lugano', 2497), ('ecrchat', 2496), ('ecosystem', 2495), ('economyinstitutionsparticipation', 2494), ('economy', 2493), ('economics', 2492), ('economic', 2491), ('eco', 2490), ('eclipse', 2489), ('echo360', 2488), ('eccouncil', 2487), ('ebook', 2486), ('ebmdr', 2485), ('eat', 2484), ('easybranches', 2483), ('easy', 2482), ('eastern', 2481), ('eastasiaforum', 2480), ('east', 2479), ('easonchan', 2478), ('easier', 2477), ('ease', 2476), ('earth', 2475), ('earn', 2474), ('earmark', 2473), ('early', 2472), ('earlier', 2471), ('eap', 2470), ('eager', 2469), ('eaf', 2468), ('e12107', 2467), ('dyyyuuud', 2466), ('dynasty', 2465), ('dynastic', 2464), ('dynamic', 2463), ('dyna', 2462), ('dy', 2461), ('dwf15', 2460), ('dwchinese', 2459), ('dw', 2458), ('dvcs', 2457), ('duterteled', 2456), ('duterte', 2455), ('dutch', 2454), ('duta', 2453), ('during', 2452), ('durable', 2451), ('duplicate', 2450), ('dunno', 2449), ('dunhuang', 2448), ('dun', 2447), ('dulaboo', 2446), ('due', 2445), ('dude', 2444), ('ductile', 2443), ('dubai', 2442), ('dualdegree', 2441), ('dual', 2440), ('du', 2439), ('dtude', 2438), ('dtn', 2437), ('dse', 2436), ('drugdiscovery', 2435), ('drugdeliverytechnologies', 2434), ('drugdeliverychallenges', 2433), ('drugdelivery', 2432), ('drug', 2431), ('dropout', 2430), ('droplet', 2429), ('drop', 2428), ('drone', 2427), ('drlawrencewong', 2426), ('drive', 2425), ('drill', 2424), ('dri', 2423), ('dressedinblack', 2422), ('dreamtrips', 2421), ('dreampact', 2420), ('dreamingbig', 2419), ('dream', 2418), ('drdimplem', 2417), ('drcarol', 2416), ('draw', 2415), ('dramsoc', 2414), ('drain', 2413), ('dragonboat', 2412), ('dragon', 2411), ('draft', 2410), ('dr', 2409), ('doxais', 2408), ('downtoners', 2407), ('downside', 2406), ('downpour', 2405), ('download', 2404), ('down', 2403), ('dough', 2402), ('doubleedged', 2401), ('double', 2400), ('dot', 2399), ('dorm', 2398), ('doritmi', 2397), ('dope', 2396), ('doorstep', 2395), ('doorbrengen', 2394), ('door', 2393), ('dont', 2392), ('dong', 2391), ('done', 2390), ('donation', 2389), ('donate', 2388), ('donald', 2387), ('dominate', 2386), ('domestic', 2385), ('dollxd', 2384), ('dollar', 2383), ('doll', 2382), ('doesnt', 2381), ('doe', 2380), ('dodge', 2379), ('documentum', 2378), ('doctorofinfo', 2377), ('doctorate', 2376), ('doctoral', 2375), ('doctor', 2374), ('dochterlief', 2373), ('do', 2372), ('dnyadaki', 2371), ('dmuprsa', 2370), ('dmupolitics', 2369), ('dmupals', 2368), ('dmuleicester', 2367), ('dmuintoffice', 2366), ('dmuglobal', 2365), ('dmudvc', 2364), ('dmucity', 2363), ('dmubal', 2362), ('dmualumni', 2361), ('dmu', 2360), ('dmd', 2359), ('dmch', 2358), ('dm', 2357), ('dltm', 2356), ('dl', 2355), ('djsniff', 2354), ('diyorlar', 2353), ('diwali', 2352), ('division', 2351), ('diversity', 2350), ('diversify', 2349), ('diverse', 2348), ('divercity', 2347), ('district', 2346), ('distribute', 2345), ('distort', 2344), ('distinguished', 2343), ('distinguish', 2342), ('distance', 2341), ('dissident', 2340), ('dissertation', 2339), ('disrupt', 2338), ('dispute', 2337), ('disposable', 2336), ('display', 2335), ('disorder', 2334), ('disintegrate', 2333), ('disillusion', 2332), ('dishonest', 2331), ('diseased', 2330), ('disease', 2329), ('discussion', 2328), ('discuss', 2327), ('discus', 2326), ('discoveryenriched', 2325), ('discovery', 2324), ('discoverinnovatecreate', 2323), ('discover', 2322), ('discourse', 2321), ('discount', 2320), ('disconnect', 2319), ('discipline', 2318), ('disciplinary', 2317), ('disaster', 2316), ('disappoint', 2315), ('disable', 2314), ('dis', 2313), ('dirig', 2312), ('director', 2311), ('direct', 2310), ('diplomatic', 2309), ('diplomatapac', 2308), ('diploma', 2307), ('dioxide', 2306), ('dinner', 2305), ('dingxuan', 2304), ('diner', 2303), ('din', 2302), ('dimsum', 2301), ('dilemma', 2300), ('digra17', 2299), ('dignity', 2298), ('digitalmaverick', 2297), ('digitaldatafunerals', 2296), ('digitalbank', 2295), ('digitalart', 2294), ('digitalacademic', 2293), ('digital', 2292), ('digit', 2291), ('dig', 2290), ('different', 2289), ('difference', 2288), ('difang', 2287), ('diesch', 2286), ('diego', 2285), ('die', 2284), ('dictionary', 2283), ('dicovery', 2282), ('dibuka', 2281), ('dibia', 2280), ('diaspora', 2279), ('diaoyu', 2278), ('diao', 2277), ('diamond', 2276), ('dialogue', 2275), ('dialect', 2274), ('diagonalpalmshift', 2273), ('diagnostic', 2272), ('diageo', 2271), ('di', 2270), ('dhknews', 2269), ('device', 2268), ('devfest18', 2267), ('devfest16', 2266), ('devfest', 2265), ('development', 2264), ('developer', 2263), ('develop', 2262), ('devel', 2261), ('deve', 2260), ('deva', 2259), ('detergentswhich', 2258), ('detergent', 2257), ('deter', 2256), ('detection', 2255), ('detect', 2254), ('detail', 2253), ('destination', 2252), ('dessert', 2251), ('despite', 2250), ('despair', 2249), ('desk', 2248), ('desisclub', 2247), ('desire', 2246), ('designer', 2245), ('design', 2244), ('desember', 2243), ('description', 2242), ('describe', 2241), ('desconstrction', 2240), ('derisively', 2239), ('derek', 2238), ('depts', 2237), ('dept', 2236), ('depression', 2235), ('deposition', 2234), ('depoliticization', 2233), ('deployment', 2232), ('deploy', 2231), ('dependency', 2230), ('departof', 2229), ('departmentprofessor', 2228), ('department', 2227), ('departement', 2226), ('depa', 2225), ('dep', 2224), ('deny', 2223), ('dental', 2222), ('demote', 2221), ('demonstration', 2220), ('demonstrate', 2219), ('demolish', 2218), ('democracy', 2217), ('demo', 2216), ('demise', 2215), ('dementia', 2214), ('demand', 2213), ('dem', 2212), ('delta', 2211), ('deloitte', 2210), ('della', 2209), ('deliveryrobot', 2208), ('delivery', 2207), ('deliver', 2206), ('delinquency', 2205), ('delight', 2204), ('delicious', 2203), ('delicate', 2202), ('delegation', 2201), ('delegate', 2200), ('deledda', 2199), ('delay', 2198), ('delasalleworlds', 2197), ('del', 2196), ('degree', 2195), ('define', 2194), ('defensepro', 2193), ('defense', 2192), ('defend', 2191), ('defcononeug', 2190), ('default', 2189), ('deeply', 2188), ('deeper', 2187), ('deep', 2186), ('dedicate', 2185), ('decomposition', 2184), ('decision', 2183), ('decide', 2182), ('decent', 2181), ('december', 2180), ('decade', 2179), ('dec', 2178), ('debut', 2177), ('debugliesnews', 2176), ('debt', 2175), ('debater', 2174), ('debate', 2173), ('debatabase', 2172), ('death', 2171), ('dearjane', 2170), ('dear', 2169), ('dean', 2168), ('deal', 2167), ('deadline', 2166), ('deadass', 2165), ('dead', 2164), ('de', 2163), ('dda', 2162), ('dcxmj3zxus', 2161), ('dc', 2160), ('dba', 2159), ('db', 2158), ('dazhe', 2157), ('days', 2156), ('daymiss', 2155), ('daydream', 2154), ('day206', 2153), ('day20', 2152), ('day1', 2151), ('day', 2150), ('dawn', 2149), ('davutpaa', 2148), ('davison', 2147), ('davis', 2146), ('davidtoop', 2145), ('davidrmillar', 2144), ('davidbuck', 2143), ('david', 2142), ('dave', 2141), ('daughter', 2140), ('date', 2139), ('datascience', 2138), ('dataprotection', 2137), ('datamining', 2136), ('datacentric', 2135), ('database', 2134), ('data', 2133), ('darussalam', 2132), ('dartmouth', 2131), ('darling', 2130), ('dark', 2129), ('danube', 2128), ('dannytcchan', 2127), ('danielmbuck', 2126), ('daniellibsekind', 2125), ('daniellibeskind', 2124), ('daniel', 2123), ('danger', 2122), ('dancer', 2121), ('dance', 2120), ('dan', 2119), ('damn', 2118), ('dalian', 2117), ('dalfcs', 2116), ('daily', 2115), ('dai', 2114), ('dahai', 2113), ('dagelijkse', 2112), ('daftar', 2111), ('dacheng', 2110), ('dab', 2109), ('da', 2108), ('d16909', 2107), ('d1', 2106), ('cz', 2105), ('cyuhk', 2104), ('cyprus', 2103), ('cynthia', 2102), ('cycle', 2101), ('cyberbullying', 2100), ('cyberatings', 2099), ('cy', 2098), ('cutest', 2097), ('cute', 2096), ('cut', 2095), ('custom', 2094), ('curtin', 2093), ('currie', 2092), ('curriculum', 2091), ('currently', 2090), ('current', 2089), ('currency', 2088), ('curledup', 2087), ('curiosity', 2086), ('curb', 2085), ('curatorial', 2084), ('curated', 2083), ('cur', 2082), ('cunyit', 2081), ('cuny', 2080), ('cum', 2079), ('cultureheritagehistory', 2078), ('culture', 2077), ('culturalheritage', 2076), ('cultural', 2075), ('cuhkservatives', 2074), ('cuhk', 2073), ('cudubai', 2072), ('cuduae', 2071), ('cttc', 2070), ('csyquqkjww', 2069), ('cstonlinetv', 2068), ('cssa', 2067), ('css29', 2066), ('csr', 2065), ('cso40', 2064), ('csit', 2063), ('cshi2017', 2062), ('csgl', 2061), ('csc', 2060), ('cs3382', 2059), ('cs3161', 2058), ('cs1102', 2057), ('cs', 2056), ('crystal', 2055), ('cryptography', 2054), ('cryptocurrencies', 2053), ('crypto', 2052), ('cry', 2051), ('crush', 2050), ('crumble', 2049), ('cruise', 2048), ('crucial', 2047), ('crpd', 2046), ('croydon', 2045), ('crown', 2044), ('crowd', 2043), ('croucher', 2042), ('crossroad', 2041), ('crosslinguistic', 2040), ('crossingriver', 2039), ('crossborder', 2038), ('cross', 2037), ('crop', 2036), ('criticism', 2035), ('critical', 2034), ('critgeogforum', 2033), ('crisprcas', 2032), ('crispr', 2031), ('crisis', 2030), ('criminology', 2029), ('criminal', 2028), ('crime', 2027), ('cri', 2026), ('crescs', 2025), ('creme', 2024), ('creepy', 2023), ('credit', 2022), ('creativity', 2021), ('creativewriting', 2020), ('creativemediacentre', 2019), ('creative', 2018), ('creation', 2017), ('createatsalford', 2016), ('create', 2015), ('cream', 2014), ('crdit', 2013), ('crazy', 2012), ('crawl', 2011), ('crash', 2010), ('crappy', 2009), ('crandieri', 2008), ('craigchoy', 2007), ('craft', 2006), ('crackdown', 2005), ('cquired', 2004), ('cppcc', 2003), ('cpe', 2002), ('cpcsharing', 2001), ('cpa', 2000), ('coz', 1999), ('cox', 1998), ('cow', 1997), ('covtlc', 1996), ('cover', 1995), ('covenant', 1994), ('cousin', 1993), ('courtknee18', 1992), ('courtesy', 1991), ('court', 1990), ('courses', 1989), ('coursehang', 1988), ('course', 1987), ('couple', 1986), ('country', 1985), ('counter', 1984), ('counsellor', 1983), ('council', 1982), ('could', 1981), ('cost', 1980), ('cosplaying', 1979), ('cosplayer', 1978), ('cosplay', 1977), ('coskunince', 1976), ('cortexregeneration', 1975), ('corte', 1974), ('corrupt', 1973), ('correspondent', 1972), ('correction', 1971), ('corpusesp', 1970), ('corpus', 1969), ('corporation', 1968), ('corporate', 1967), ('cornwall', 1966), ('corner', 1965), ('cornellvet', 1964), ('cornell', 1963), ('core', 1962), ('cordon', 1961), ('cordoba', 1960), ('coral', 1959), ('cora', 1958), ('copyright', 1957), ('copy', 1956), ('copenhagen', 1955), ('coorganizing', 1954), ('coorganized', 1953), ('coorganised', 1952), ('coordinator', 1951), ('coordinate', 1950), ('cooperative', 1949), ('cooperation', 1948), ('coop', 1947), ('coolthink', 1946), ('coolinfobook', 1945), ('cool', 1944), ('convolutional', 1943), ('convocation', 1942), ('conversion', 1941), ('conversation', 1940), ('convergence', 1939), ('conventional', 1938), ('convention', 1937), ('convenor', 1936), ('controversy', 1935), ('control', 1934), ('contribution', 1933), ('contribute', 1932), ('contractor', 1931), ('contractlaw', 1930), ('contract', 1929), ('continue', 1928), ('contingent', 1927), ('contin', 1926), ('context', 1925), ('contestant', 1924), ('contest', 1923), ('content', 1922), ('contemporaryart', 1921), ('contemporary', 1920), ('contemplation', 1919), ('contain', 1918), ('contact', 1917), ('cont', 1916), ('consumption', 1915), ('consumer', 1914), ('consultancy', 1913), ('consult', 1912), ('consulate', 1911), ('consul', 1910), ('constructionmanagement', 1909), ('construction', 1908), ('constitutional', 1907), ('constituent', 1906), ('consortium', 1905), ('consideration', 1904), ('consider', 1903), ('consent', 1902), ('conquistador', 1901), ('connect4climate', 1900), ('connect', 1899), ('conjunction', 1898), ('congregationcityu', 1897), ('congregation', 1896), ('congregati', 1895), ('congratz', 1894), ('congratulations', 1893), ('congratulation', 1892), ('congrats', 1891), ('congrat', 1890), ('confuses', 1889), ('confuse', 1888), ('confucianism', 1887), ('confucian', 1886), ('conflict', 1885), ('confirm', 1884), ('confidence', 1883), ('conferencing', 1882), ('conference', 1881), ('confer', 1880), ('conf', 1879), ('cone', 1878), ('conduct', 1877), ('condition', 1876), ('condensedmatter', 1875), ('concordia', 1874), ('conclusion', 1873), ('concert', 1872), ('concern', 1871), ('conceptualism', 1870), ('concept', 1869), ('concentrate', 1868), ('con', 1867), ('computerworld', 1866), ('computerscientists', 1865), ('computer', 1864), ('compute', 1863), ('computational', 1862), ('computation', 1861), ('comprise', 1860), ('compositionenglish', 1859), ('composition', 1858), ('composite', 1857), ('composer', 1856), ('complex', 1855), ('completephd', 1854), ('completely', 1853), ('complete', 1852), ('competitive', 1851), ('competition', 1850), ('competencia', 1849), ('compete', 1848), ('compare', 1847), ('comparative', 1846), ('company', 1845), ('community', 1844), ('communist', 1843), ('communication', 1842), ('communicatie', 1841), ('commspace', 1840), ('common', 1839), ('committee', 1838), ('commit', 1837), ('commission', 1836), ('comming', 1835), ('commercializa', 1834), ('commercial', 1833), ('commerce', 1832), ('commentator', 1831), ('comment', 1830), ('commend', 1829), ('commemorate', 1828), ('comme', 1827), ('comm', 1826), ('comfy', 1825), ('comfortable', 1824), ('comfort', 1823), ('come', 1822), ('combo', 1821), ('combination', 1820), ('combat', 1819), ('com5101', 1818), ('com', 1817), ('column', 1816), ('columbus', 1815), ('columbiaup', 1814), ('columbiaspec', 1813), ('columbia', 1812), ('colorful', 1811), ('colombo', 1810), ('colloquium', 1809), ('collins', 1808), ('collett', 1807), ('collegiate', 1806), ('collegefor', 1805), ('collegeadmissions', 1804), ('college', 1803), ('colleg', 1802), ('collectors', 1801), ('collectivist', 1800), ('collectively', 1799), ('collective', 1798), ('collection', 1797), ('collectif', 1796), ('collect', 1795), ('colleauge', 1794), ('colleaques', 1793), ('colleague', 1792), ('collapse', 1791), ('collap', 1790), ('collaborative', 1789), ('collaboration', 1788), ('collaborate', 1787), ('coll', 1786), ('coldday', 1785), ('cold', 1784), ('coin', 1783), ('cohort', 1782), ('coherent', 1781), ('cogeorg', 1780), ('cofounder', 1779), ('coffee', 1778), ('cof', 1777), ('coedit', 1776), ('codetheory', 1775), ('codebased', 1774), ('code', 1773), ('cod', 1772), ('cochinaonline', 1771), ('coc', 1770), ('coauthored', 1769), ('coat', 1768), ('coaster', 1767), ('coalition', 1766), ('co', 1765), ('cnrs', 1764), ('cnng', 1763), ('cnn', 1762), ('cnbrknews', 1761), ('cnbp', 1760), ('cnblueon', 1759), ('cn', 1758), ('cmsriresearch', 1757), ('cmio', 1756), ('cmg', 1755), ('cmcafe', 1754), ('cmc', 1753), ('cm', 1752), ('cluster', 1751), ('clubgroup', 1750), ('club', 1749), ('clouds', 1748), ('cloudcomputing', 1747), ('cloudclouds', 1746), ('cloud', 1745), ('clothe', 1744), ('cloth', 1743), ('closure', 1742), ('closer', 1741), ('close', 1740), ('clockenflap', 1739), ('clinical', 1738), ('climb', 1737), ('climate', 1736), ('client', 1735), ('click', 1734), ('cleverboy', 1733), ('clerk', 1732), ('clerical', 1731), ('clemson', 1730), ('clearwater', 1729), ('clearly', 1728), ('clear', 1727), ('clean', 1726), ('classroom', 1725), ('classmate', 1724), ('classify', 1723), ('classicalchinese', 1722), ('classical', 1721), ('class', 1720), ('clash', 1719), ('clareai', 1718), ('clanfurt', 1717), ('clan', 1716), ('clamp', 1715), ('claim', 1714), ('claes', 1713), ('cl', 1712), ('ckuziemsky', 1711), ('ck', 1710), ('cjrc', 1709), ('cjminor', 1708), ('cjedu', 1707), ('civilization', 1706), ('civilisation', 1705), ('civil', 1704), ('ciudades', 1703), ('cityusu', 1702), ('cityushittybusinesscollegenicelobbysoproud', 1701), ('cityushakespearefest', 1700), ('cityus', 1699), ('cityupress', 1698), ('cityuofhongkong', 1697), ('cityunivesrity', 1696), ('cityuniversitytraining', 1695), ('cityuniversityofhongkong', 1694), ('cityuniversityhongkong', 1693), ('cityuniversity', 1692), ('cityuliberes', 1691), ('cityujzhu', 1690), ('cityuhongkong', 1689), ('cityuhkigem', 1688), ('cityuhk', 1687), ('cityucss', 1686), ('cityucs', 1685), ('cityucio', 1684), ('cityu', 1683), ('citytalk', 1682), ('citys', 1681), ('cityness', 1680), ('citymontessorischool', 1679), ('citycollegeofsanfrancisco', 1678), ('citycollegeinflorida', 1677), ('city', 1676), ('citizen', 1675), ('citigroup', 1674), ('citicorp', 1673), ('cite', 1672), ('citadinit', 1671), ('cit', 1670), ('circle', 1669), ('ciphe', 1668), ('cio', 1667), ('cinema', 1666), ('cineasia', 1665), ('ciling', 1664), ('cientficos', 1663), ('ciarlet', 1662), ('ciahin', 1661), ('ci', 1660), ('chvyi17uv', 1659), ('chutzpah', 1658), ('churpuniadel', 1657), ('chunying', 1656), ('chunhua', 1655), ('chung', 1654), ('chuncio', 1653), ('chunchung', 1652), ('chun', 1651), ('chuen', 1650), ('chuah', 1649), ('chua', 1648), ('chu', 1647), ('chttpstcofnjokxrmbc', 1646), ('chrysanthemum', 1645), ('chronicle', 1644), ('chrisvcsefalvay', 1643), ('christmas', 1642), ('christinefong', 1641), ('christian', 1640), ('chrissales', 1639), ('chriss', 1638), ('chrisjohnsonmd', 1637), ('chrisderpscity', 1636), ('chris', 1635), ('choy', 1634), ('chow', 1633), ('choose', 1632), ('chongqing', 1631), ('chole', 1630), ('choir', 1629), ('choice', 1628), ('choi', 1627), ('cho', 1626), ('chn', 1625), ('chiutaipei', 1624), ('chiucity', 1623), ('chiu', 1622), ('chirp', 1621), ('chip', 1620), ('ching', 1619), ('chinesestyle', 1618), ('chinesesimplified', 1617), ('chineseruled', 1616), ('chinesegk', 1615), ('chineseenglish', 1614), ('chinesecontemporaryart', 1613), ('chinese247', 1612), ('chinese', 1611), ('chinathe', 1610), ('chinas', 1609), ('chinanow', 1608), ('chinanews', 1607), ('chinanationalnewscom', 1606), ('chinan', 1605), ('china', 1604), ('chin', 1603), ('chimera', 1602), ('childbearing', 1601), ('child', 1600), ('chief', 1599), ('chicoralife', 1598), ('chicom', 1597), ('chicago', 1596), ('chi', 1595), ('chew', 1594), ('cheung', 1593), ('chesterbao', 1592), ('cher', 1591), ('cheol', 1590), ('chennai', 1589), ('chengduhttpwww48hnewscom20170513chengduinstituteo', 1588), ('chengdu', 1587), ('cheng', 1586), ('chen', 1585), ('chemotaxis', 1584), ('chemotacticassays', 1583), ('chemmater', 1582), ('chemistryfair2014', 1581), ('chemistry', 1580), ('chemicalstimulus', 1579), ('cheerfully', 1578), ('chee', 1577), ('check', 1576), ('cheapercjmedia', 1575), ('cheap', 1574), ('chatbot', 1573), ('chat', 1572), ('chase', 1571), ('charter', 1570), ('chart', 1569), ('charlton', 1568), ('charlottefrost', 1567), ('chari', 1566), ('charge', 1565), ('charbon', 1564), ('character', 1563), ('characeristics', 1562), ('chapter', 1561), ('chapeauxx', 1560), ('chanvinci', 1559), ('channelsfeeddigestcomnewsid6473389826', 1558), ('channelsfeeddigestcomnewsid5237252560', 1557), ('channelnewsasia', 1556), ('changsha', 1555), ('changping', 1554), ('changecu', 1553), ('change', 1552), ('changabriel', 1551), ('chang', 1550), ('chandran', 1549), ('chandra', 1548), ('chance', 1547), ('chan', 1546), ('champion', 1545), ('chamber', 1544), ('chalmerstme', 1543), ('challenger', 1542), ('challenge', 1541), ('chali', 1540), ('chakrvyuh', 1539), ('chakravarty', 1538), ('chairwoman', 1537), ('chairs', 1536), ('chairphotonics', 1535), ('chairman', 1534), ('chair', 1533), ('chainsawriot', 1532), ('chain', 1531), ('cha', 1530), ('cgm', 1529), ('cgi', 1528), ('cgfewston', 1527), ('cgf', 1526), ('cg', 1525), ('cfui2014', 1524), ('cfp', 1523), ('cfglevy', 1522), ('cfa', 1521), ('cervical', 1520), ('certification', 1519), ('cern', 1518), ('cerisciencespo', 1517), ('ceremony', 1516), ('ceramic', 1515), ('cepbelgrade', 1514), ('ceo', 1513), ('century', 1512), ('centrechine', 1511), ('centre', 1510), ('centralesupelec', 1509), ('central', 1508), ('center', 1507), ('centeno', 1506), ('censorship', 1505), ('cenkuygur', 1504), ('celsion', 1503), ('cellist', 1502), ('cell', 1501), ('celinea43', 1500), ('celebration', 1499), ('celebrate', 1498), ('ceilingzzzzzzzzzzzz', 1497), ('cedem2014', 1496), ('cedem', 1495), ('cecmc', 1494), ('cdt', 1493), ('cdnews', 1492), ('cd634', 1491), ('ccp', 1490), ('cchk12', 1489), ('cccu', 1488), ('cc', 1487), ('cb', 1486), ('cavein', 1485), ('cave', 1484), ('caution', 1483), ('cause', 1482), ('cathyyang', 1481), ('catherine', 1480), ('caterpillarlike', 1479), ('caterpillar', 1478), ('category', 1477), ('catedral', 1476), ('catch', 1475), ('catalyst', 1474), ('catalog', 1473), ('cataconfvegas', 1472), ('cat', 1471), ('casualty', 1470), ('castle', 1469), ('cast', 1468), ('cashmere', 1467), ('cash', 1466), ('casey', 1465), ('caseapac', 1464), ('case', 1463), ('cartoon', 1462), ('carteles', 1461), ('carry', 1460), ('carrier', 1459), ('carrie', 1458), ('carolyngolz', 1457), ('caroline', 1456), ('carolepaley', 1455), ('carol', 1454), ('carnegie', 1453), ('carmenwong0818', 1452), ('carmen', 1451), ('carltonbooks', 1450), ('carlstone', 1449), ('carlin', 1448), ('carl', 1447), ('carigan', 1446), ('caricature', 1445), ('carethey', 1444), ('careful', 1443), ('careertalk', 1442), ('careercityu', 1441), ('careerarc', 1440), ('career', 1439), ('care', 1438), ('card', 1437), ('carbon', 1436), ('caramel', 1435), ('car', 1434), ('capture', 1433), ('captiva', 1432), ('capstone', 1431), ('cappuccino', 1430), ('capital', 1429), ('capable', 1428), ('cao', 1427), ('canvaslms', 1426), ('canvas', 1425), ('cantonese', 1424), ('canteen', 1423), ('cant', 1422), ('canon', 1421), ('cannot', 1420), ('cannabis', 1419), ('canis', 1418), ('candidate', 1417), ('cancernews', 1416), ('cancer', 1415), ('cancel', 1414), ('canberra', 1413), ('canadian', 1412), ('canada', 1411), ('can', 1410), ('campus', 1409), ('camper', 1408), ('campaign', 1407), ('camp', 1406), ('cameron', 1405), ('cambridge', 1404), ('cambodia', 1403), ('cam', 1402), ('calm', 1401), ('caller', 1400), ('call', 1399), ('california', 1398), ('calestous', 1397), ('calendarw', 1396), ('calcutta', 1395), ('calcium', 1394), ('cake', 1393), ('caitlin', 1392), ('cais', 1391), ('caff', 1390), ('cafe', 1389), ('cabo', 1388), ('cabinet', 1387), ('ca', 1386), ('c4c', 1385), ('c20', 1384), ('bysamro', 1383), ('byeee', 1382), ('byebye', 1381), ('bye', 1380), ('by', 1379), ('buzz', 1378), ('buy', 1377), ('buukqmsbvo', 1376), ('but', 1375), ('busydoinggoodthings', 1374), ('busy', 1373), ('business', 1372), ('bush', 1371), ('bus', 1370), ('burn', 1369), ('burmas', 1368), ('buneng', 1367), ('bumpy', 1366), ('bummer', 1365), ('bullet', 1364), ('builtenvironment', 1363), ('buildingstructure', 1362), ('build', 1361), ('bui', 1360), ('bug', 1359), ('budget', 1358), ('buddy', 1357), ('buddhist', 1356), ('buddha', 1355), ('bud', 1354), ('bucktwins', 1353), ('buat', 1352), ('btw', 1351), ('btech', 1350), ('bst', 1349), ('bslbi4orev', 1348), ('bryantermulo', 1347), ('brutality', 1346), ('brush', 1345), ('brunei', 1344), ('bruce', 1343), ('bru', 1342), ('brownuniversity', 1341), ('brown', 1340), ('brother', 1339), ('brooksbrothers', 1338), ('brooklyn', 1337), ('brombal', 1336), ('brokennature', 1335), ('broer', 1334), ('brockuniversity', 1333), ('brocku', 1332), ('brockbadgers', 1331), ('broaden', 1330), ('broadband', 1329), ('broad', 1328), ('bro', 1327), ('british', 1326), ('britain', 1325), ('brisbane', 1324), ('bring', 1323), ('brilliant', 1322), ('brightest', 1321), ('bright', 1320), ('brief', 1319), ('bridget', 1318), ('bridge', 1317), ('brick', 1316), ('brianfong', 1315), ('brian', 1314), ('brew', 1313), ('brett', 1312), ('breezeway', 1311), ('breeze', 1310), ('breathtaking', 1309), ('breast', 1308), ('breakthrough', 1307), ('breakingnews', 1306), ('breakfast', 1305), ('break', 1304), ('bread', 1303), ('brcskan6s1', 1302), ('bravely', 1301), ('brave', 1300), ('brass', 1299), ('brandee', 1298), ('brand', 1297), ('branch', 1296), ('brain', 1295), ('br302', 1294), ('br', 1293), ('bpa', 1292), ('boycott', 1291), ('boy', 1290), ('boxer', 1289), ('boundaries', 1288), ('bottom', 1287), ('botswana', 1286), ('both', 1285), ('boston', 1284), ('bose', 1283), ('bos', 1282), ('borra', 1281), ('boredom', 1280), ('bore', 1279), ('border', 1278), ('borazjani', 1277), ('booth', 1276), ('boot', 1275), ('boost', 1274), ('bookyourtrip', 1273), ('bookstore', 1272), ('bookshop', 1271), ('book3', 1270), ('book', 1269), ('bond', 1268), ('bonas', 1267), ('bona', 1266), ('bombomboracay', 1265), ('bollywood', 1264), ('boiler', 1263), ('bofitresearch', 1262), ('bofit', 1261), ('body', 1260), ('bod', 1259), ('bobshacochis', 1258), ('bobby', 1257), ('bob', 1256), ('boast', 1255), ('boardgame', 1254), ('board', 1253), ('bna', 1252), ('bn', 1251), ('blueprint', 1250), ('blue', 1249), ('blow', 1248), ('bloomingflowerstreescityu', 1247), ('blooming', 1246), ('bloomberg', 1245), ('bloomber', 1244), ('bloom', 1243), ('bloody', 1242), ('blog', 1241), ('blockchainjobs', 1240), ('blockchain', 1239), ('block', 1238), ('blip', 1237), ('blink', 1236), ('blend', 1235), ('bleed', 1234), ('bldg', 1233), ('blaze', 1232), ('blanco', 1231), ('blame', 1230), ('blade', 1229), ('blackboard', 1228), ('blackandwhite', 1227), ('black', 1226), ('bl', 1225), ('bizjournalscom', 1224), ('bizad', 1223), ('biz', 1222), ('biweekly', 1221), ('bitte', 1220), ('bite', 1219), ('bitchin', 1218), ('bisoftware', 1217), ('biru', 1216), ('birthday', 1215), ('birmingham', 1214), ('biotechnology', 1213), ('biosensors', 1212), ('biorefinery', 1211), ('bionics', 1210), ('biomimicry', 1209), ('biomimetic', 1208), ('biomedical', 1207), ('biomedevicehttpowlyvfoe30mvjuo', 1206), ('biomaterials', 1205), ('biology', 1204), ('biologicalclock', 1203), ('biological', 1202), ('bioinspired', 1201), ('bioinformaticsjob', 1200), ('bioinformatics', 1199), ('biofuel', 1198), ('bioethics', 1197), ('bioengineering', 1196), ('bioenergy', 1195), ('biodegradable', 1194), ('biochip', 1193), ('biochemistry', 1192), ('biobutanol', 1191), ('bio', 1190), ('binusuniv', 1189), ('bind2011', 1188), ('bind', 1187), ('billion', 1186), ('bill', 1185), ('bilingual', 1184), ('bilchitz', 1183), ('bikin', 1182), ('bijeenkomst', 1181), ('bigtopapps', 1180), ('bigi', 1179), ('biggest', 1178), ('bigger', 1177), ('bigdata', 1176), ('big', 1175), ('biennale', 1174), ('bieng', 1173), ('biegenzahn', 1172), ('bie', 1171), ('bidang', 1170), ('bid', 1169), ('bicocca', 1168), ('bicob', 1167), ('bianco', 1166), ('bian', 1165), ('bi', 1164), ('bhoga', 1163), ('bhive', 1162), ('bhatia', 1161), ('bgnecylnpk', 1160), ('bff', 1159), ('beyzaaltikardes', 1158), ('beyondthirty9', 1157), ('beyond2016', 1156), ('beyond', 1155), ('between', 1154), ('better', 1153), ('bet', 1152), ('besttop', 1151), ('best', 1150), ('beset', 1149), ('berniesanders', 1148), ('bernienina2020', 1147), ('bernieartists', 1146), ('bernard', 1145), ('beremarkable', 1144), ('ber', 1143), ('benter', 1142), ('benny', 1141), ('benjealous', 1140), ('benefit', 1139), ('beneath', 1138), ('bendle', 1137), ('bend', 1136), ('benchmarking', 1135), ('benayouns', 1134), ('benayoun', 1133), ('ben', 1132), ('beltrain', 1131), ('beltandroad1', 1130), ('beltandroad', 1129), ('belt', 1128), ('below', 1127), ('beloved', 1126), ('belong', 1125), ('belly', 1124), ('belle', 1123), ('bell', 1122), ('belinda', 1121), ('believe', 1120), ('belief', 1119), ('belarusian', 1118), ('beijings', 1117), ('beijing', 1116), ('beidaijin', 1115), ('behindthescene', 1114), ('behind', 1113), ('behaviour', 1112), ('behavioral', 1111), ('behavior', 1110), ('behave', 1109), ('behalf', 1108), ('begin', 1107), ('beehivestrategy', 1106), ('beef', 1105), ('bed', 1104), ('become', 1103), ('because', 1102), ('bec', 1101), ('beauty', 1100), ('beautronics', 1099), ('beautiful', 1098), ('beatty', 1097), ('bear', 1096), ('beam', 1095), ('beacon', 1094), ('beach', 1093), ('be', 1092), ('bdnews24', 1091), ('bday', 1090), ('bcuic', 1089), ('bbs', 1088), ('bbqpork', 1087), ('bbnaijamoments', 1086), ('bbicc', 1085), ('bbday', 1084), ('bbcworld', 1083), ('bbcnewsasia', 1082), ('bbc', 1081), ('bb', 1080), ('bay', 1079), ('bauhongkong', 1078), ('bauglobalprg', 1077), ('bauglobal', 1076), ('bau', 1075), ('battle', 1074), ('battery', 1073), ('batman', 1072), ('bathroom', 1071), ('bat', 1070), ('basketball', 1069), ('basically', 1068), ('basic', 1067), ('base', 1066), ('baruch', 1065), ('barth', 1064), ('bart', 1063), ('barrister', 1062), ('barrier', 1061), ('barricade', 1060), ('barnhart', 1059), ('bark', 1058), ('barger', 1057), ('bargain', 1056), ('barfblog', 1055), ('barcode', 1054), ('barclays', 1053), ('barcelona', 1052), ('barcamphk11', 1051), ('barcamphk', 1050), ('barcamp', 1049), ('barbour', 1048), ('bar', 1047), ('baptist', 1046), ('banquet', 1045), ('banner', 1044), ('banks', 1043), ('bank', 1042), ('banga', 1041), ('band', 1040), ('banana', 1039), ('ban', 1038), ('baloon', 1037), ('bald', 1036), ('balance', 1035), ('bakken', 1034), ('bakery', 1033), ('baker', 1032), ('baithi', 1031), ('bail', 1030), ('bahons', 1029), ('bahcesehir', 1028), ('bag', 1027), ('bafta', 1026), ('badminton', 1025), ('badgerpride', 1024), ('bad', 1023), ('backpacker', 1022), ('backdrop', 1021), ('back', 1020), ('bachelor', 1019), ('baca', 1018), ('babysitting', 1017), ('babyburnn', 1016), ('ba', 1015), ('b90049', 1014), ('b313', 1013), ('b2', 1012), ('b1985', 1011), ('b17509', 1010), ('b16303', 1009), ('b13909', 1008), ('azx312', 1007), ('az3115', 1006), ('aydinhk', 1005), ('axe', 1004), ('ax', 1003), ('aww', 1002), ('awparocks', 1001), ('awesomeship', 1000), ('awesome', 999), ('away', 998), ('award', 997), ('awar', 996), ('awake', 995), ('await', 994), ('avtweeps', 993), ('avoidance', 992), ('avoid', 991), ('aviv', 990), ('avisreeves', 989), ('aviation', 988), ('avenue', 987), ('ave', 986), ('available', 985), ('autumn', 984), ('automation', 983), ('automatically', 982), ('auto', 981), ('autism', 980), ('authorize', 979), ('authority', 978), ('authoritarianism', 977), ('authoritarian', 976), ('author', 975), ('australian', 974), ('australia', 973), ('australasian', 972), ('austcham', 971), ('aurelio', 970), ('aur', 969), ('august', 968), ('augurst', 967), ('augment', 966), ('aug', 965), ('auditorium', 964), ('audit', 963), ('audio', 962), ('audience', 961), ('aude', 960), ('auckland', 959), ('auck', 958), ('aublebanon', 957), ('au', 956), ('attractive', 955), ('attract', 954), ('attn', 953), ('attmrqevty', 952), ('attitude', 951), ('attentively', 950), ('attentionrobot', 949), ('attention', 948), ('attend', 947), ('attack', 946), ('atraen', 945), ('atositchallenge', 944), ('atmospheric', 943), ('atmosphere', 942), ('atlona', 941), ('atiner', 940), ('athletes', 939), ('athlete', 938), ('athens', 937), ('aterm', 936), ('ateneoupra', 935), ('at', 934), ('asymptotics', 933), ('asylum', 932), ('asxdma', 931), ('asupresoffice', 930), ('asu', 929), ('astronautics', 928), ('assurance', 927), ('asstassoc', 926), ('asst', 925), ('association', 924), ('associatesenior', 923), ('associateresearch', 922), ('associateassistant', 921), ('associate', 920), ('associat', 919), ('assocasst', 918), ('assistantresearch', 917), ('assistantassociate', 916), ('assistant', 915), ('assistance', 914), ('assist', 913), ('assis', 912), ('assignment', 911), ('assign', 910), ('asset', 909), ('assessor', 908), ('assessment', 907), ('assault', 906), ('ass', 905), ('aspire', 904), ('aspanational', 903), ('asleep', 902), ('ask', 901), ('asiastportal', 900), ('asiaspain', 899), ('asiapacific', 898), ('asiaone', 897), ('asianow', 896), ('asianlover', 895), ('asian', 894), ('asia', 893), ('asi', 892), ('ashleysoinlove', 891), ('ash', 890), ('asf', 889), ('ascchinamedia', 888), ('asaf', 887), ('asa', 886), ('as', 885), ('artsuniversity', 884), ('artiste', 883), ('artist', 882), ('artinuni', 881), ('artikel', 880), ('artificial', 879), ('article', 878), ('arthur', 877), ('artforartssake', 876), ('artasiapacific', 875), ('art', 874), ('arsonist', 873), ('arrive', 872), ('arrival', 871), ('arqui', 870), ('around', 869), ('arou', 868), ('arm', 867), ('arlandianto', 866), ('arizona', 865), ('ariel', 864), ('argument', 863), ('arent', 862), ('area', 861), ('arduino', 860), ('archmoods', 859), ('archiving', 858), ('archive', 857), ('architecture', 856), ('architectural', 855), ('architect', 854), ('arc', 853), ('arbitration', 852), ('arb', 851), ('arazoo', 850), ('ar', 849), ('aquinos', 848), ('aquino', 847), ('aquatic', 846), ('aquaculture', 845), ('aqr', 844), ('apt', 843), ('aps', 842), ('aprs', 841), ('aprilhttptcooyvnxyrrtd', 840), ('april', 839), ('apr', 838), ('appstore', 837), ('apps', 836), ('approve', 835), ('approach', 834), ('apprehension', 833), ('appreciation', 832), ('appreciate', 831), ('appointment', 830), ('appoint', 829), ('apply', 828), ('application', 827), ('applicatio', 826), ('applicant', 825), ('applic', 824), ('applestore', 823), ('appledailyhk', 822), ('apple', 821), ('appetizer', 820), ('appear', 819), ('apparel', 818), ('appal', 817), ('app', 816), ('apology', 815), ('aplic18', 814), ('apicta', 813), ('apgc', 812), ('apartment', 811), ('ap16hong', 810), ('ap', 809), ('aotearoa', 808), ('aomff', 807), ('aoisola', 806), ('ao', 805), ('anywhere', 804), ('anyway', 803), ('anytime', 802), ('anything', 801), ('anyone', 800), ('anybody', 799), ('anxiety', 798), ('anx', 797), ('anu', 796), ('antony', 795), ('antonio', 794), ('antonia', 793), ('antoni', 792), ('antiphishing', 791), ('anticolonial', 790), ('anticipate', 789), ('antichina', 788), ('antibrainwash', 787), ('anti', 786), ('anthropology', 785), ('anthology', 784), ('antenna', 783), ('antarctic', 782), ('answer', 781), ('ansto', 780), ('anson117', 779), ('anothercalled', 778), ('another', 777), ('anonyops', 776), ('anonymouspress', 775), ('anonymous', 774), ('annually', 773), ('annual', 772), ('announcement', 771), ('announce', 770), ('anniversary', 769), ('anniver', 768), ('annive', 767), ('annis', 766), ('anniesingcityueduhk', 765), ('anne', 764), ('anna', 763), ('ann', 762), ('anmate', 761), ('animation', 760), ('animal', 759), ('ani', 758), ('angeles', 757), ('angel', 756), ('anew', 755), ('andy', 754), ('androidapp', 753), ('android', 752), ('andrewnyquist', 751), ('andrewnjhawkins', 750), ('andrewjgraham', 749), ('andrew', 748), ('andreotti', 747), ('andhttpstcokn4pnfeker', 746), ('and', 745), ('anatomy', 744), ('anatomic', 743), ('analyze', 742), ('analytics', 741), ('analyst', 740), ('analysis', 739), ('an', 738), ('amy', 737), ('amount', 736), ('amongst', 735), ('among', 734), ('amogharakali', 733), ('amid', 732), ('american', 731), ('america', 730), ('amer', 729), ('amenity', 728), ('amenities', 727), ('amendment', 726), ('ame', 725), ('ambritish', 724), ('ambition', 723), ('ambassador', 722), ('amazon', 721), ('amazingexperiencecoming', 720), ('amaze', 719), ('amateur', 718), ('amandapompili', 717), ('amandafuturedoctor', 716), ('am4rts5xc7', 715), ('am30', 714), ('always', 713), ('alvin', 712), ('alumnus', 711), ('although', 710), ('alternative', 709), ('alstom', 708), ('also', 707), ('alrite', 706), ('alrightprofessional', 705), ('already', 704), ('alr', 703), ('alps18', 702), ('alphago', 701), ('alongside', 700), ('along', 699), ('alone', 698), ('almost', 697), ('alm', 696), ('alltime', 695), ('allthe', 694), ('allstar', 693), ('allray', 692), ('alloy', 691), ('allow', 690), ('alliance', 689), ('allian', 688), ('allen', 687), ('allelic', 686), ('allegedly', 685), ('allege', 684), ('allegation', 683), ('allan', 682), ('allah', 681), ('all', 680), ('alive', 679), ('alison', 678), ('alicia', 677), ('alice', 676), ('alibabagroup', 675), ('alibaba', 674), ('alias', 673), ('ali', 672), ('alguma', 671), ('algebra', 670), ('alfredtvbcomivy', 669), ('alfred', 668), ('alex', 667), ('alert', 666), ('alderson', 665), ('alcohol', 664), ('album', 663), ('alberta', 662), ('alasdairblair', 661), ('alan', 660), ('al', 659), ('akintayo', 658), ('aki', 657), ('akhtar', 656), ('akayellow', 655), ('akathisiarx', 654), ('akademske', 653), ('aka', 652), ('aja', 651), ('aishirt08', 650), ('airport', 649), ('aircon', 648), ('air', 647), ('aims', 646), ('aimlabtech', 645), ('aim', 644), ('aiko', 643), ('aieseccityu', 642), ('aiesec', 641), ('aid', 640), ('aia', 639), ('ai', 638), ('ahwatukee', 637), ('ahmad', 636), ('ahhhhh', 635), ('ahhhh', 634), ('ahh', 633), ('ahead', 632), ('ahaha', 631), ('agricole', 630), ('agreement', 629), ('agreeme', 628), ('agrawal', 627), ('ago', 626), ('agm', 625), ('aggression', 624), ('agent', 623), ('agency', 622), ('age', 621), ('against', 620), ('again', 619), ('afuvmsjnoo', 618), ('afu', 617), ('afternoon', 616), ('aftermath', 615), ('after', 614), ('africanswinefever', 613), ('african', 612), ('africa', 611), ('afghanistan', 610), ('affordable', 609), ('affordability', 608), ('afford', 607), ('affiliate', 606), ('affect', 605), ('affair', 604), ('af', 603), ('aeronautics', 602), ('aejmc', 601), ('aegean', 600), ('ady', 599), ('advocate', 598), ('advisory', 597), ('advisor', 596), ('adviser', 595), ('advertisement', 594), ('advertise', 593), ('advert', 592), ('adverse', 591), ('adventure', 590), ('adventist', 589), ('advancimg', 588), ('advancement', 587), ('advance', 586), ('adrija', 585), ('adreamcometrue', 584), ('adr', 583), ('adoption', 582), ('adonatimd', 581), ('admitido', 580), ('admit', 579), ('admission', 578), ('admiralty', 577), ('administrator', 576), ('administrative', 575), ('administration', 574), ('admin', 573), ('adluri', 572), ('adjunct', 571), ('adjudication', 570), ('adhyayan', 569), ('adesola', 568), ('ademiloye', 567), ('adelaide', 566), ('ade', 565), ('addthis', 564), ('address', 563), ('addition', 562), ('adding', 561), ('addict', 560), ('addi', 559), ('add', 558), ('adaptable', 557), ('adapt', 556), ('adaa', 555), ('ada', 554), ('ad', 553), ('acwrimo', 552), ('acwri', 551), ('acuhoi', 550), ('actually', 549), ('activity', 548), ('activist', 547), ('activism', 546), ('activelearning', 545), ('active', 544), ('activation', 543), ('activate', 542), ('action', 541), ('acting', 540), ('actief', 539), ('acte', 538), ('act', 537), ('acsphilly', 536), ('acsnano', 535), ('acsanm', 534), ('acsami', 533), ('acsaem', 532), ('across', 531), ('acquire', 530), ('acq', 529), ('acp', 528), ('acmc', 527), ('acknowledge', 526), ('acidbase', 525), ('achievement', 524), ('achieve', 523), ('acham', 522), ('ach5f', 521), ('acdhcoll', 520), ('accutronicsltd', 519), ('accuse', 518), ('accusation', 517), ('accus', 516), ('accu', 515), ('accountcan', 514), ('accountant', 513), ('accountancy', 512), ('account', 511), ('accord', 510), ('accomplishment', 509), ('accompany', 508), ('accommodation', 507), ('acclaim', 506), ('accidental', 505), ('accessible', 504), ('access', 503), ('acceptance', 502), ('accept', 501), ('accelerate', 500), ('accademia', 499), ('acca', 498), ('acamemy2', 497), ('academy', 496), ('academic', 495), ('academia', 494), ('academi', 493), ('acaciaconfusa', 492), ('ac3', 491), ('ac23614', 490), ('ac2', 489), ('ac1', 488), ('abstraction', 487), ('abstract', 486), ('absoluteartscom', 485), ('abruptly', 484), ('abrupt', 483), ('abroad', 482), ('abrn', 481), ('about', 480), ('abou', 479), ('aborad', 478), ('abolude', 477), ('abn', 476), ('able', 475), ('ability', 474), ('abelliscityueduhk', 473), ('abe', 472), ('abcmiami', 471), ('abc1', 470), ('abbreviation', 469), ('ab', 468), ('aav', 467), ('aas2017', 466), ('aaptjobs', 465), ('aan', 464), ('aajaasia', 463), ('aaepc', 462), ('aacuho14', 461), ('aacsb', 460), ('aaaah', 459), ('aa63rswwzv', 458), ('aa', 457), ('a386598038', 456), ('a1', 455), ('a08709', 454), ('9th', 453), ('99c', 452), ('99', 451), ('98', 450), ('9649', 449), ('96', 448), ('95th', 447), ('957', 446), ('95', 445), ('94', 444), ('920930', 443), ('920', 442), ('919', 441), ('914', 440), ('912', 439), ('911corlebra777', 438), ('911', 437), ('910', 436), ('900', 435), ('90', 434), ('8th', 433), ('8pm', 432), ('8gb', 431), ('8f', 430), ('8817', 429), ('8810', 428), ('853367555', 427), ('85266425675', 426), ('852', 425), ('830930', 424), ('830920', 423), ('83', 422), ('8262013', 421), ('82316', 420), ('81', 419), ('80th', 418), ('8098', 417), ('800', 416), ('80', 415), ('7thspace', 414), ('7thspac', 413), ('7th', 412), ('7kbw', 411), ('7gbps', 410), ('79', 409), ('7849', 408), ('7784', 407), ('7743', 406), ('77000', 405), ('76', 404), ('7588', 403), ('75', 402), ('7489', 401), ('7475', 400), ('7417', 399), ('7409', 398), ('73', 397), ('715', 396), ('714501', 395), ('71315', 394), ('7117', 393), ('709', 392), ('700', 391), ('6th', 390), ('6f', 389), ('6958', 388), ('69', 387), ('6855', 386), ('68', 385), ('67', 384), ('6662', 383), ('66425675', 382), ('65000', 381), ('65', 380), ('64', 379), ('637', 378), ('6318', 377), ('630pm', 376), ('63016', 375), ('62nd', 374), ('6244', 373), ('61', 372), ('60th', 371), ('60ghz', 370), ('600', 369), ('60', 368), ('5th', 367), ('5t', 366), ('5story', 365), ('5pm', 364), ('5g', 363), ('5f', 362), ('59', 361), ('589', 360), ('5872', 359), ('571', 358), ('56pm', 357), ('5630pm', 356), ('5622', 355), ('5525', 354), ('55', 353), ('547', 352), ('54493458', 351), ('53', 350), ('527', 349), ('52016', 348), ('5182012associate', 347), ('513', 346), ('51', 345), ('5050', 344), ('500px', 343), ('500k', 342), ('5003', 341), ('500', 340), ('50', 339), ('4year', 338), ('4x', 337), ('4th', 336), ('4pm', 335), ('4p', 334), ('4f', 333), ('4dprinting', 332), ('4dprintedceramics', 331), ('4d', 330), ('49th', 329), ('4999', 328), ('49', 327), ('4842', 326), ('48', 325), ('47', 324), ('46', 323), ('45th', 322), ('4573', 321), ('45', 320), ('430', 319), ('43', 318), ('42', 317), ('4168', 316), ('4110', 315), ('40year', 314), ('405', 313), ('40404', 312), ('400', 311), ('40', 310), ('3s', 309), ('3rd', 308), ('3pm530pm', 307), ('3pm', 306), ('3p', 305), ('3noviceswatch', 304), ('3novices', 303), ('3h', 302), ('3g', 301), ('3f', 300), ('3dprinting', 299), ('3dprinted', 298), ('3d', 297), ('3cdi', 296), ('39', 295), ('38', 294), ('373', 293), ('37', 292), ('3679', 291), ('365things', 290), ('365', 289), ('364', 288), ('3617', 287), ('360video', 286), ('36', 285), ('3522', 284), ('351', 283), ('3500', 282), ('350', 281), ('35', 280), ('34th', 279), ('3442', 278), ('34', 277), ('33', 276), ('32nd', 275), ('323', 274), ('32', 273), ('31st', 272), ('31514', 271), ('315', 270), ('31080483', 269), ('3103', 268), ('31', 267), ('30th', 266), ('305', 265), ('3031', 264), ('3020city', 263), ('300cubits', 262), ('300', 261), ('30', 260), ('2pm', 259), ('2nd', 258), ('2monthleftnotreadytosaygoodbyeyetcityufinalyear', 257), ('2full', 256), ('2f', 255), ('2b', 254), ('29june', 253), ('2935', 252), ('29', 251), ('28th', 250), ('2802', 249), ('28', 248), ('27day', 247), ('2710', 246), ('270', 245), ('27', 244), ('26th', 243), ('2664', 242), ('264472', 241), ('2640', 240), ('2628', 239), ('26032018', 238), ('2603', 237), ('26', 236), ('25th', 235), ('25june', 234), ('255231', 233), ('254', 232), ('2528', 231), ('2527', 230), ('2526', 229), ('252353', 228), ('2500km', 227), ('25000sq', 226), ('25000', 225), ('250', 224), ('25', 223), ('24th', 222), ('24oct', 221), ('2469', 220), ('24606', 219), ('24578', 218), ('24557', 217), ('24556', 216), ('2429', 215), ('2425', 214), ('241245', 213), ('24', 212), ('23rd', 211), ('2389', 210), ('235178', 209), ('233914', 208), ('2333', 207), ('233', 206), ('232997', 205), ('232996', 204), ('232979', 203), ('232978', 202), ('232977', 201), ('230', 200), ('23', 199), ('22nd24th', 198), ('22nd', 197), ('22e', 196), ('22627', 195), ('2225', 194), ('2211', 193), ('2206', 192), ('220', 191), ('22', 190), ('21st', 189), ('213city', 188), ('2123', 187), ('211', 186), ('21000', 185), ('21', 184), ('20year', 183), ('20th', 182), ('20storey', 181), ('20dec', 180), ('2092', 179), ('208', 178), ('2019', 177), ('2018s', 176), ('20182019', 175), ('201819', 174), ('2018', 173), ('201718', 172), ('20171202', 171), ('2017', 170), ('201617', 169), ('20161223', 168), ('2016', 167), ('20152016', 166), ('201516', 165), ('20151004', 164), ('2015', 163), ('2014', 162), ('2013', 161), ('2012gnomeasia', 160), ('20121114', 159), ('2012', 158), ('20112012', 157), ('2011', 156), ('20102011', 155), ('2010', 154), ('201', 153), ('2009', 152), ('2007', 151), ('2006', 150), ('2003', 149), ('2002', 148), ('2001', 147), ('200', 146), ('20', 145), ('1st', 144), ('1pm', 143), ('1krown', 142), ('1kokhir', 141), ('1dhongkong', 140), ('19thpartycongress', 139), ('19th', 138), ('19f', 137), ('1997', 136), ('1996', 135), ('1995', 134), ('1993', 133), ('1990', 132), ('1989', 131), ('1988', 130), ('1987', 129), ('1985', 128), ('1984', 127), ('1981', 126), ('1980', 125), ('198', 124), ('1967', 123), ('1965', 122), ('1951', 121), ('1950', 120), ('1948', 119), ('193', 118), ('1921', 117), ('1920', 116), ('192', 115), ('19112018', 114), ('190117', 113), ('19', 112), ('18year', 111), ('18th', 110), ('1821', 109), ('1819', 108), ('18122018', 107), ('1800', 106), ('180', 105), ('18', 104), ('17515974242', 103), ('174', 102), ('1700s', 101), ('1700', 100), ('17', 99), ('16th', 98), ('1650', 97), ('162491km', 96), ('162', 95), ('160student', 94), ('1600', 93), ('16', 92), ('15th', 91), ('15m', 90), ('1591', 89), ('154', 88), ('1500', 87), ('150', 86), ('15', 85), ('14th', 84), ('1485', 83), ('14421437251', 82), ('14421425153', 81), ('14062017', 80), ('14001800', 79), ('1400', 78), ('14', 77), ('13th', 76), ('13e', 75), ('1372', 74), ('13500', 73), ('130pm', 72), ('13084372850', 71), ('1300', 70), ('130', 69), ('13', 68), ('12th', 67), ('1293', 66), ('129', 65), ('12764', 64), ('12617', 63), ('125', 62), ('124', 61), ('1230pm', 60), ('123', 59), ('1220', 58), ('1215', 57), ('1214', 56), ('1213', 55), ('12117', 54), ('121', 53), ('1204', 52), ('1202012assistant', 51), ('1200pm', 50), ('1200', 49), ('12', 48), ('11th', 47), ('11am', 46), ('11715', 45), ('1159pm', 44), ('1159', 43), ('1138', 42), ('113', 41), ('11214', 40), ('1120', 39), ('111516', 38), ('1112', 37), ('11042018', 36), ('110000', 35), ('11', 34), ('10year', 33), ('10x', 32), ('10th', 31), ('10student', 30), ('10am', 29), ('104', 28), ('1030', 27), ('1012', 26), ('101116', 25), ('1010', 24), ('100k', 23), ('1006', 22), ('100325', 21), ('1000pm', 20), ('100', 19), ('10', 18), ('0900', 17), ('09', 16), ('08', 15), ('0718pm', 14), ('06100710', 13), ('061', 12), ('0600am', 11), ('06', 10), ('05', 9), ('04052018', 8), ('04', 7), ('0306', 6), ('03022013', 5), ('02', 4), ('01', 3), ('001', 2), ('000000000000000000000000000000', 1), ('00', 0)]\n"
     ]
    }
   ],
   "source": [
    "## we are going to do bag of word model!\n",
    "import operator\n",
    "vectorizer = CountVectorizer()\n",
    "##train the vectorizer with our tweet_total data and name the matrix as total_count_X\n",
    "total_count_X=\n",
    "##get vectorizer vocabulary dictionary\n",
    "vocab_dic=\n",
    "## sort the vocabulary by their frequency\n",
    "sorted_vocab_dic = sorted(vocab_dic.items(), key=operator.itemgetter(1),reverse=True)\n",
    "print (sorted_vocab_dic)"
   ]
  },
  {
   "cell_type": "code",
   "execution_count": 56,
   "metadata": {},
   "outputs": [
    {
     "data": {
      "text/plain": [
       "12357"
      ]
     },
     "execution_count": 56,
     "metadata": {},
     "output_type": "execute_result"
    }
   ],
   "source": [
    "feature_names = vectorizer.get_feature_names()\n",
    "len(feature_names)"
   ]
  },
  {
   "cell_type": "code",
   "execution_count": 206,
   "metadata": {},
   "outputs": [
    {
     "name": "stdout",
     "output_type": "stream",
     "text": [
      "(6770, 12357)\n"
     ]
    }
   ],
   "source": [
    "##we are going to transform our data into tfidf score\n",
    "transformer = TfidfTransformer()\n",
    "##transform the term frequency matrix into tfidf matrix\n",
    "tfidf_X = \n",
    "print(tfidf_X.toarray().shape)"
   ]
  },
  {
   "cell_type": "markdown",
   "metadata": {},
   "source": [
    "<p>**3.Topic Modeling **</p> \n",
    "- LDA (Latent Dirichlet Analysis)\n",
    "- Mixed Membership Model\n",
    " * Word is in multiple topics\n",
    " * Document contains multiple topics <br>\n",
    " * For each document:Pick a mix of topics for this document (e.g. 75% economy, 25% politics)<br>\n",
    "\n",
    " <img src=\"images/IntroToLDA.png\" width=\"80%\" style=\"float: left\"> "
   ]
  },
  {
   "cell_type": "markdown",
   "metadata": {},
   "source": [
    "Fitting an LDA model\n",
    "- Find the parameters that best explain the data\n",
    "- Iterative process\n",
    " * Start with random assignments\n",
    " * Improve assignments in every iteration\n",
    " * Distributions force documents to have few topics, topics to have few words\n",
    "- Known as 'gibbs sampler'\n",
    " * See: Steyvers & Griffith, 2007, Probabilistic Topic Models"
   ]
  },
  {
   "cell_type": "markdown",
   "metadata": {},
   "source": [
    "#### Hyperparameters (see documentation https://scikit-learn.org/stable/modules/generated/sklearn.decomposition.LatentDirichletAllocation.html)\n",
    "- K: number of topics\n",
    "- alpha: dispersion parameter\n",
    " * Lower alpha means fewer topics per document\n",
    " * defaults to 1 / n_components\n",
    "- (Maximum number of iterations): Large dataset with high dimensions of features may cost long time to converge.\n"
   ]
  },
  {
   "cell_type": "markdown",
   "metadata": {},
   "source": [
    "Determining number of topic (K)\n",
    "- Compute 'perplexity' of different options (goodness-of-fit measure) (model.perplexity())\n",
    "- Manually inspect outcomes"
   ]
  },
  {
   "cell_type": "markdown",
   "metadata": {},
   "source": [
    "Sklearn Library, LatentDirichletAllocation function"
   ]
  },
  {
   "cell_type": "code",
   "execution_count": 207,
   "metadata": {},
   "outputs": [
    {
     "name": "stderr",
     "output_type": "stream",
     "text": [
      "C:\\Users\\lguan3\\AppData\\Local\\Continuum\\anaconda3\\lib\\site-packages\\sklearn\\decomposition\\online_lda.py:294: DeprecationWarning: n_topics has been renamed to n_components in version 0.19 and will be removed in 0.21\n",
      "  DeprecationWarning)\n",
      "C:\\Users\\lguan3\\AppData\\Local\\Continuum\\anaconda3\\lib\\site-packages\\sklearn\\decomposition\\online_lda.py:536: DeprecationWarning: The default value for 'learning_method' will be changed from 'online' to 'batch' in the release 0.20. This warning was introduced in 0.18.\n",
      "  DeprecationWarning)\n"
     ]
    },
    {
     "data": {
      "text/plain": [
       "array([[0.70603968, 0.0037037 , 0.00370372, ..., 0.00370374, 0.00370372,\n",
       "        0.0037037 ],\n",
       "       [0.08294478, 0.03522031, 0.00322584, ..., 0.09381131, 0.00322581,\n",
       "        0.00322581],\n",
       "       [0.0028575 , 0.00285714, 0.00285716, ..., 0.29271061, 0.00285715,\n",
       "        0.00285714],\n",
       "       ...,\n",
       "       [0.01111111, 0.89999973, 0.01111111, ..., 0.01111111, 0.01111111,\n",
       "        0.01111111],\n",
       "       [0.00769231, 0.69999861, 0.00769231, ..., 0.00769231, 0.00769231,\n",
       "        0.23846159],\n",
       "       [0.01      , 0.80999915, 0.01      , ..., 0.01      , 0.01      ,\n",
       "        0.11000014]])"
      ]
     },
     "execution_count": 207,
     "metadata": {},
     "output_type": "execute_result"
    }
   ],
   "source": [
    "## we firstly train the lda model with bag-of-word matrix\n",
    "from sklearn.decomposition import LatentDirichletAllocation\n",
    "lda = LatentDirichletAllocation(n_topics=10,random_state=0)\n",
    "id_topic  = lda.fit_transform(total_count_X)\n",
    "id_topic"
   ]
  },
  {
   "cell_type": "code",
   "execution_count": 208,
   "metadata": {},
   "outputs": [
    {
     "name": "stdout",
     "output_type": "stream",
     "text": [
      "Topic 0:\n",
      "香港城市大学 science 香港 六四 教授 郑宇硕 中国 20 学生 报道 讲座 纪念馆 24 新闻 政治学 爆发 表示 城大 30 2011\n",
      "Topic 1:\n",
      "hong kong university city im kowloon tong collapse the roof chee tat ave 81 professor china student medium creative post\n",
      "Topic 2:\n",
      "大学 香港 mfa 香港城市大学 一名 内地 女生 副教授 发现 2010 一个 城市 毕业 研究生 万元 中新网 香港大学 被判 mba 香港科技大学\n",
      "Topic 3:\n",
      "cityu 2001 international run july computer hall 36 香港城市大学 cgi graphic shaw kongs 学生 invite proceedin 通过 sport latest leave\n",
      "Topic 4:\n",
      "kongs hong university college business course new research veterinary visit cheng politics southeast talk boost routledgecity joseph nutanix get state\n",
      "Topic 5:\n",
      "香港 香港城市大学 教授 学生 郑宇硕 内地 中国 城市 六四 大学 研讨会 民主 参与 独立 运动 中文 授课 15 表示 笔会\n",
      "Topic 6:\n",
      "香港城市大学 2018 中国 2013 co 2016 香港 党支部 中共 反恐 法官 升级 校方 维稳 https 成立 研究 新疆 讲座 临时\n",
      "Topic 7:\n",
      "香港城市大学 2017 read 调查 10 中国 at 开心 大学 发现 指数 香港 台湾 录取 13 招生 博士 北京 26 appstore\n",
      "Topic 8:\n",
      "program 屋顶 倒塌 highlight paper add danger energy misdirect call vegetation sign 绿化 connect competition 天台 icc mba alex car\n",
      "Topic 9:\n",
      "hongkong robot place time reduce lcq6 intake selffinancing degree tiny programme author follow topup policy lee human friend sport attack\n"
     ]
    }
   ],
   "source": [
    "def display_topics(model, feature_names, n_top_words):\n",
    "    for topic_idx, topic in enumerate(model.components_):\n",
    "        print (\"Topic %d:\" % (topic_idx))\n",
    "        print (\" \".join([feature_names[i]\n",
    "                        for i in topic.argsort()[:-n_top_words - 1:-1]]))\n",
    "\n",
    "n_top_words = 20\n",
    "display_topics(lda, feature_names, n_top_words)"
   ]
  },
  {
   "cell_type": "code",
   "execution_count": 209,
   "metadata": {},
   "outputs": [
    {
     "name": "stderr",
     "output_type": "stream",
     "text": [
      "C:\\Users\\lguan3\\AppData\\Local\\Continuum\\anaconda3\\lib\\site-packages\\sklearn\\decomposition\\online_lda.py:294: DeprecationWarning: n_topics has been renamed to n_components in version 0.19 and will be removed in 0.21\n",
      "  DeprecationWarning)\n",
      "C:\\Users\\lguan3\\AppData\\Local\\Continuum\\anaconda3\\lib\\site-packages\\sklearn\\decomposition\\online_lda.py:536: DeprecationWarning: The default value for 'learning_method' will be changed from 'online' to 'batch' in the release 0.20. This warning was introduced in 0.18.\n",
      "  DeprecationWarning)\n"
     ]
    },
    {
     "data": {
      "text/plain": [
       "array([[0.84728549, 0.01696789, 0.01696795, ..., 0.01696821, 0.01696789,\n",
       "        0.0169681 ],\n",
       "       [0.19083976, 0.01643032, 0.01643443, ..., 0.01643005, 0.01642981,\n",
       "        0.01642982],\n",
       "       [0.01713369, 0.01712898, 0.01712901, ..., 0.01712918, 0.01712893,\n",
       "        0.01712894],\n",
       "       ...,\n",
       "       [0.02971369, 0.7325761 , 0.02971369, ..., 0.02971369, 0.02971421,\n",
       "        0.02971369],\n",
       "       [0.02498989, 0.69285758, 0.02498989, ..., 0.02498989, 0.02499327,\n",
       "        0.02498989],\n",
       "       [0.02816214, 0.74653854, 0.02816214, ..., 0.02816214, 0.02816422,\n",
       "        0.02816214]])"
      ]
     },
     "execution_count": 209,
     "metadata": {},
     "output_type": "execute_result"
    }
   ],
   "source": [
    "## then, we are going to train the lda model with tf-idf matrix\n",
    "from sklearn.decomposition import LatentDirichletAllocation\n",
    "tfidf_lda = LatentDirichletAllocation(n_topics=10,random_state=0)\n",
    "id_topic  = tfidf_lda.fit_transform(tfidf_X)\n",
    "id_topic"
   ]
  },
  {
   "cell_type": "code",
   "execution_count": 210,
   "metadata": {},
   "outputs": [
    {
     "name": "stdout",
     "output_type": "stream",
     "text": [
      "Topic 0:\n",
      "香港城市大学 六四 香港 通过 学联 退出 纪念馆 graduation 郑宇硕 学生 公投 投诉 教授 报道 大学 学术 联会 多年 担任 政治学\n",
      "Topic 1:\n",
      "hong kong university city im kowloon tong chee tat ave 81 collapse post roof photo professor medium kongs the student\n",
      "Topic 2:\n",
      "mfa 2015 write do 1984 protest program full found hi 2010 内地 greencorp career 500 招生 closure know namelist sp\n",
      "Topic 3:\n",
      "free what old course 2011 授课 online 内地 学生 virtual best 24 tradition 26 world start blog 爆发 2017 who\n",
      "Topic 4:\n",
      "boost nutanix efficiency operational enterprise security challenge waste cloud result tackle platform remove administrative deployment enhancement university city hong major\n",
      "Topic 5:\n",
      "香港 香港城市大学 中国 教授 大学 郑宇硕 学生 北京 城市 研讨会 参与 深圳 运动 co 民主 独立 中文 活动 我们 表示\n",
      "Topic 6:\n",
      "20 香港城市大学 1997 prosecution wenyunchao no 13 17 天台 12 倒塌 目前 nice 反恐 nadinelustre kcapinoystar jadinelove 2009 香港 twitter\n",
      "Topic 7:\n",
      "香港城市大学 tfb group so fyp foursquare mayor 开心 oust much proud aejmc legal champion fuck accept wow fantastic popular googlyfish\n",
      "Topic 8:\n",
      "kong university hong city place open reduce lcq6 selffinancing intake energy social master follow art robot roof topup degree asian\n",
      "Topic 9:\n",
      "录取 成都 students article 该校 29 香港城市大学 75 battery 最新 hahaha isea2016 xd oh plastic 比率 研究院 一家 reuben mondejar\n"
     ]
    }
   ],
   "source": [
    "def display_topics(model, feature_names, n_top_words):\n",
    "    for topic_idx, topic in enumerate(model.components_):\n",
    "        print (\"Topic %d:\" % (topic_idx))\n",
    "        print (\" \".join([feature_names[i]\n",
    "                        for i in topic.argsort()[:-n_top_words - 1:-1]]))\n",
    "\n",
    "n_top_words = 20\n",
    "display_topics(tfidf_lda, feature_names, n_top_words)"
   ]
  },
  {
   "cell_type": "code",
   "execution_count": 90,
   "metadata": {},
   "outputs": [],
   "source": [
    "def write_down_topics(model, feature_names, n_top_words, path):\n",
    "    with open(path, 'w', encoding='utf-8') as p:\n",
    "        for topic_idx, topic in enumerate(model.components_):\n",
    "            p.write('Topic '+str(topic_idx)+',')\n",
    "            p.write(\" \".join([feature_names[i] for i in topic.argsort()[:-n_top_words - 1:-1]]))\n",
    "            p.write('\\n')\n",
    "\n",
    "n_top_words = 20\n",
    "write_down_topics(tfidf_lda, feature_names, n_top_words,'topic_words.csv')"
   ]
  },
  {
   "cell_type": "code",
   "execution_count": 211,
   "metadata": {},
   "outputs": [
    {
     "data": {
      "text/html": [
       "<div>\n",
       "<style scoped>\n",
       "    .dataframe tbody tr th:only-of-type {\n",
       "        vertical-align: middle;\n",
       "    }\n",
       "\n",
       "    .dataframe tbody tr th {\n",
       "        vertical-align: top;\n",
       "    }\n",
       "\n",
       "    .dataframe thead th {\n",
       "        text-align: right;\n",
       "    }\n",
       "</style>\n",
       "<table border=\"1\" class=\"dataframe\">\n",
       "  <thead>\n",
       "    <tr style=\"text-align: right;\">\n",
       "      <th></th>\n",
       "      <th>index</th>\n",
       "      <th>GUID</th>\n",
       "      <th>Date (HKT)</th>\n",
       "      <th>URL</th>\n",
       "      <th>Contents</th>\n",
       "      <th>Country</th>\n",
       "      <th>State/Region</th>\n",
       "      <th>City/Urban Area</th>\n",
       "      <th>Category</th>\n",
       "      <th>Emotion</th>\n",
       "      <th>...</th>\n",
       "      <th>topic0</th>\n",
       "      <th>topic1</th>\n",
       "      <th>topic2</th>\n",
       "      <th>topic3</th>\n",
       "      <th>topic4</th>\n",
       "      <th>topic5</th>\n",
       "      <th>topic6</th>\n",
       "      <th>topic7</th>\n",
       "      <th>topic8</th>\n",
       "      <th>topic9</th>\n",
       "    </tr>\n",
       "  </thead>\n",
       "  <tbody>\n",
       "    <tr>\n",
       "      <th>0</th>\n",
       "      <td>4</td>\n",
       "      <td>323828809482784768</td>\n",
       "      <td>2013-04-16 00:02:59</td>\n",
       "      <td>http://twitter.com/voaweishi/status/3238288094...</td>\n",
       "      <td>香港市民支援爱国民主运动联合会和香港城市大学合办的第二届六四临时纪念馆，星期一在城大校园内开...</td>\n",
       "      <td>United States of America</td>\n",
       "      <td>District of Columbia</td>\n",
       "      <td>Washington, D.C.</td>\n",
       "      <td>Neutral</td>\n",
       "      <td>Unclassified</td>\n",
       "      <td>...</td>\n",
       "      <td>0.847285</td>\n",
       "      <td>0.016968</td>\n",
       "      <td>0.016968</td>\n",
       "      <td>0.016968</td>\n",
       "      <td>0.016968</td>\n",
       "      <td>0.016970</td>\n",
       "      <td>0.016968</td>\n",
       "      <td>0.016968</td>\n",
       "      <td>0.016968</td>\n",
       "      <td>0.016968</td>\n",
       "    </tr>\n",
       "    <tr>\n",
       "      <th>1</th>\n",
       "      <td>7</td>\n",
       "      <td>652543999119630336</td>\n",
       "      <td>2015-10-10 01:59:47</td>\n",
       "      <td>http://twitter.com/TheNewsChina2/status/652543...</td>\n",
       "      <td>BBC 中文网 视频讨论：从“占中”一周年看香港民主路 BBC 中文网 讨论会嘉宾：学民思潮...</td>\n",
       "      <td>NaN</td>\n",
       "      <td>NaN</td>\n",
       "      <td>NaN</td>\n",
       "      <td>Neutral</td>\n",
       "      <td>Unclassified</td>\n",
       "      <td>...</td>\n",
       "      <td>0.190840</td>\n",
       "      <td>0.016430</td>\n",
       "      <td>0.016434</td>\n",
       "      <td>0.016431</td>\n",
       "      <td>0.016430</td>\n",
       "      <td>0.617020</td>\n",
       "      <td>0.077125</td>\n",
       "      <td>0.016430</td>\n",
       "      <td>0.016430</td>\n",
       "      <td>0.016430</td>\n",
       "    </tr>\n",
       "    <tr>\n",
       "      <th>2</th>\n",
       "      <td>8</td>\n",
       "      <td>337392479538139072</td>\n",
       "      <td>2013-05-23 10:20:10</td>\n",
       "      <td>http://twitter.com/wangjinbo/status/3373924795...</td>\n",
       "      <td>邀请函：独立中文笔会颁奖礼暨文学研讨会 http://t.co/Tquh725Toz 独立中...</td>\n",
       "      <td>NaN</td>\n",
       "      <td>NaN</td>\n",
       "      <td>NaN</td>\n",
       "      <td>Neutral</td>\n",
       "      <td>Unclassified</td>\n",
       "      <td>...</td>\n",
       "      <td>0.017134</td>\n",
       "      <td>0.017129</td>\n",
       "      <td>0.017129</td>\n",
       "      <td>0.017129</td>\n",
       "      <td>0.017129</td>\n",
       "      <td>0.538986</td>\n",
       "      <td>0.323978</td>\n",
       "      <td>0.017129</td>\n",
       "      <td>0.017129</td>\n",
       "      <td>0.017129</td>\n",
       "    </tr>\n",
       "    <tr>\n",
       "      <th>3</th>\n",
       "      <td>9</td>\n",
       "      <td>1068570626665804032</td>\n",
       "      <td>2018-12-01 02:21:05</td>\n",
       "      <td>http://twitter.com/Rick0v0/status/106857062666...</td>\n",
       "      <td>City University of Hong Kong 香港城市大學 香港城市大学 htt...</td>\n",
       "      <td>Hong Kong S.A.R.</td>\n",
       "      <td>Kowloon City</td>\n",
       "      <td>Hong Kong</td>\n",
       "      <td>Neutral</td>\n",
       "      <td>Unclassified</td>\n",
       "      <td>...</td>\n",
       "      <td>0.588741</td>\n",
       "      <td>0.164556</td>\n",
       "      <td>0.030835</td>\n",
       "      <td>0.030835</td>\n",
       "      <td>0.030837</td>\n",
       "      <td>0.030845</td>\n",
       "      <td>0.030836</td>\n",
       "      <td>0.030840</td>\n",
       "      <td>0.030841</td>\n",
       "      <td>0.030834</td>\n",
       "    </tr>\n",
       "    <tr>\n",
       "      <th>4</th>\n",
       "      <td>15</td>\n",
       "      <td>361383540182626304</td>\n",
       "      <td>2013-07-28 15:12:04</td>\n",
       "      <td>http://twitter.com/hu_jia/status/3613835401826...</td>\n",
       "      <td>有道义担当的四所大学：香港大学、中文大学、浸会大学以及城市大学。RT@queeten 港四所...</td>\n",
       "      <td>China</td>\n",
       "      <td>Beijing</td>\n",
       "      <td>NaN</td>\n",
       "      <td>Neutral</td>\n",
       "      <td>Unclassified</td>\n",
       "      <td>...</td>\n",
       "      <td>0.021563</td>\n",
       "      <td>0.021564</td>\n",
       "      <td>0.124473</td>\n",
       "      <td>0.021561</td>\n",
       "      <td>0.021562</td>\n",
       "      <td>0.703033</td>\n",
       "      <td>0.021562</td>\n",
       "      <td>0.021561</td>\n",
       "      <td>0.021561</td>\n",
       "      <td>0.021561</td>\n",
       "    </tr>\n",
       "  </tbody>\n",
       "</table>\n",
       "<p>5 rows × 29 columns</p>\n",
       "</div>"
      ],
      "text/plain": [
       "   index                 GUID          Date (HKT)  \\\n",
       "0      4   323828809482784768 2013-04-16 00:02:59   \n",
       "1      7   652543999119630336 2015-10-10 01:59:47   \n",
       "2      8   337392479538139072 2013-05-23 10:20:10   \n",
       "3      9  1068570626665804032 2018-12-01 02:21:05   \n",
       "4     15   361383540182626304 2013-07-28 15:12:04   \n",
       "\n",
       "                                                 URL  \\\n",
       "0  http://twitter.com/voaweishi/status/3238288094...   \n",
       "1  http://twitter.com/TheNewsChina2/status/652543...   \n",
       "2  http://twitter.com/wangjinbo/status/3373924795...   \n",
       "3  http://twitter.com/Rick0v0/status/106857062666...   \n",
       "4  http://twitter.com/hu_jia/status/3613835401826...   \n",
       "\n",
       "                                            Contents  \\\n",
       "0  香港市民支援爱国民主运动联合会和香港城市大学合办的第二届六四临时纪念馆，星期一在城大校园内开...   \n",
       "1  BBC 中文网 视频讨论：从“占中”一周年看香港民主路 BBC 中文网 讨论会嘉宾：学民思潮...   \n",
       "2  邀请函：独立中文笔会颁奖礼暨文学研讨会 http://t.co/Tquh725Toz 独立中...   \n",
       "3  City University of Hong Kong 香港城市大學 香港城市大学 htt...   \n",
       "4  有道义担当的四所大学：香港大学、中文大学、浸会大学以及城市大学。RT@queeten 港四所...   \n",
       "\n",
       "                    Country          State/Region   City/Urban Area Category  \\\n",
       "0  United States of America  District of Columbia  Washington, D.C.  Neutral   \n",
       "1                       NaN                   NaN               NaN  Neutral   \n",
       "2                       NaN                   NaN               NaN  Neutral   \n",
       "3          Hong Kong S.A.R.          Kowloon City         Hong Kong  Neutral   \n",
       "4                     China               Beijing               NaN  Neutral   \n",
       "\n",
       "        Emotion    ...       topic0    topic1    topic2    topic3    topic4  \\\n",
       "0  Unclassified    ...     0.847285  0.016968  0.016968  0.016968  0.016968   \n",
       "1  Unclassified    ...     0.190840  0.016430  0.016434  0.016431  0.016430   \n",
       "2  Unclassified    ...     0.017134  0.017129  0.017129  0.017129  0.017129   \n",
       "3  Unclassified    ...     0.588741  0.164556  0.030835  0.030835  0.030837   \n",
       "4  Unclassified    ...     0.021563  0.021564  0.124473  0.021561  0.021562   \n",
       "\n",
       "     topic5    topic6    topic7    topic8    topic9  \n",
       "0  0.016970  0.016968  0.016968  0.016968  0.016968  \n",
       "1  0.617020  0.077125  0.016430  0.016430  0.016430  \n",
       "2  0.538986  0.323978  0.017129  0.017129  0.017129  \n",
       "3  0.030845  0.030836  0.030840  0.030841  0.030834  \n",
       "4  0.703033  0.021562  0.021561  0.021561  0.021561  \n",
       "\n",
       "[5 rows x 29 columns]"
      ]
     },
     "execution_count": 211,
     "metadata": {},
     "output_type": "execute_result"
    }
   ],
   "source": [
    "##write down the topic distribution for each document\n",
    "tweet_total1=tweet_total.reset_index()\n",
    "topic_percentage=pd.DataFrame(id_topic, columns=['topic0','topic1','topic2','topic3','topic4','topic5','topic6','topic7','topic8','topic9'])\n",
    "tweet_total_topic=pd.concat([tweet_total1, topic_percentage], axis=1)\n",
    "tweet_total_topic.head()"
   ]
  },
  {
   "cell_type": "code",
   "execution_count": null,
   "metadata": {},
   "outputs": [],
   "source": [
    "tweet_total_topic.to_excel('tweet_to_topic.xlsx')"
   ]
  },
  {
   "cell_type": "code",
   "execution_count": 212,
   "metadata": {},
   "outputs": [
    {
     "data": {
      "text/html": [
       "<div>\n",
       "<style scoped>\n",
       "    .dataframe tbody tr th:only-of-type {\n",
       "        vertical-align: middle;\n",
       "    }\n",
       "\n",
       "    .dataframe tbody tr th {\n",
       "        vertical-align: top;\n",
       "    }\n",
       "\n",
       "    .dataframe thead th {\n",
       "        text-align: right;\n",
       "    }\n",
       "</style>\n",
       "<table border=\"1\" class=\"dataframe\">\n",
       "  <thead>\n",
       "    <tr style=\"text-align: right;\">\n",
       "      <th></th>\n",
       "      <th>author_anonymous</th>\n",
       "      <th>topic0</th>\n",
       "      <th>topic1</th>\n",
       "      <th>topic2</th>\n",
       "      <th>topic3</th>\n",
       "      <th>topic4</th>\n",
       "      <th>topic5</th>\n",
       "      <th>topic6</th>\n",
       "      <th>topic7</th>\n",
       "      <th>topic8</th>\n",
       "      <th>topic9</th>\n",
       "    </tr>\n",
       "  </thead>\n",
       "  <tbody>\n",
       "    <tr>\n",
       "      <th>0</th>\n",
       "      <td>4</td>\n",
       "      <td>0.847285</td>\n",
       "      <td>0.016968</td>\n",
       "      <td>0.016968</td>\n",
       "      <td>0.016968</td>\n",
       "      <td>0.016968</td>\n",
       "      <td>0.016970</td>\n",
       "      <td>0.016968</td>\n",
       "      <td>0.016968</td>\n",
       "      <td>0.016968</td>\n",
       "      <td>0.016968</td>\n",
       "    </tr>\n",
       "    <tr>\n",
       "      <th>1</th>\n",
       "      <td>7</td>\n",
       "      <td>0.154038</td>\n",
       "      <td>0.018627</td>\n",
       "      <td>0.143444</td>\n",
       "      <td>0.043922</td>\n",
       "      <td>0.047383</td>\n",
       "      <td>0.383703</td>\n",
       "      <td>0.076723</td>\n",
       "      <td>0.021666</td>\n",
       "      <td>0.017360</td>\n",
       "      <td>0.093133</td>\n",
       "    </tr>\n",
       "    <tr>\n",
       "      <th>2</th>\n",
       "      <td>8</td>\n",
       "      <td>0.017134</td>\n",
       "      <td>0.017129</td>\n",
       "      <td>0.017129</td>\n",
       "      <td>0.017129</td>\n",
       "      <td>0.017129</td>\n",
       "      <td>0.538986</td>\n",
       "      <td>0.323978</td>\n",
       "      <td>0.017129</td>\n",
       "      <td>0.017129</td>\n",
       "      <td>0.017129</td>\n",
       "    </tr>\n",
       "    <tr>\n",
       "      <th>3</th>\n",
       "      <td>9</td>\n",
       "      <td>0.588741</td>\n",
       "      <td>0.164556</td>\n",
       "      <td>0.030835</td>\n",
       "      <td>0.030835</td>\n",
       "      <td>0.030837</td>\n",
       "      <td>0.030845</td>\n",
       "      <td>0.030836</td>\n",
       "      <td>0.030840</td>\n",
       "      <td>0.030841</td>\n",
       "      <td>0.030834</td>\n",
       "    </tr>\n",
       "    <tr>\n",
       "      <th>4</th>\n",
       "      <td>10</td>\n",
       "      <td>0.209943</td>\n",
       "      <td>0.160206</td>\n",
       "      <td>0.017691</td>\n",
       "      <td>0.017694</td>\n",
       "      <td>0.017693</td>\n",
       "      <td>0.017692</td>\n",
       "      <td>0.017691</td>\n",
       "      <td>0.017691</td>\n",
       "      <td>0.330541</td>\n",
       "      <td>0.193158</td>\n",
       "    </tr>\n",
       "  </tbody>\n",
       "</table>\n",
       "</div>"
      ],
      "text/plain": [
       "   author_anonymous    topic0    topic1    topic2    topic3    topic4  \\\n",
       "0                 4  0.847285  0.016968  0.016968  0.016968  0.016968   \n",
       "1                 7  0.154038  0.018627  0.143444  0.043922  0.047383   \n",
       "2                 8  0.017134  0.017129  0.017129  0.017129  0.017129   \n",
       "3                 9  0.588741  0.164556  0.030835  0.030835  0.030837   \n",
       "4                10  0.209943  0.160206  0.017691  0.017694  0.017693   \n",
       "\n",
       "     topic5    topic6    topic7    topic8    topic9  \n",
       "0  0.016970  0.016968  0.016968  0.016968  0.016968  \n",
       "1  0.383703  0.076723  0.021666  0.017360  0.093133  \n",
       "2  0.538986  0.323978  0.017129  0.017129  0.017129  \n",
       "3  0.030845  0.030836  0.030840  0.030841  0.030834  \n",
       "4  0.017692  0.017691  0.017691  0.330541  0.193158  "
      ]
     },
     "execution_count": 212,
     "metadata": {},
     "output_type": "execute_result"
    }
   ],
   "source": [
    "user_to_topic=tweet_total_topic[['topic0','topic1','topic2','topic3','topic4','topic5','topic6','topic7','topic8','topic9']].groupby(tweet_total_topic['author_anonymous']).mean().reset_index()\n",
    "user_to_topic.head()"
   ]
  },
  {
   "cell_type": "code",
   "execution_count": null,
   "metadata": {},
   "outputs": [],
   "source": [
    "\n",
    "user_to_topic.to_excel('user_to_topic.xlsx')"
   ]
  }
 ],
 "metadata": {
  "kernelspec": {
   "display_name": "Python 3",
   "language": "python",
   "name": "python3"
  },
  "language_info": {
   "codemirror_mode": {
    "name": "ipython",
    "version": 3
   },
   "file_extension": ".py",
   "mimetype": "text/x-python",
   "name": "python",
   "nbconvert_exporter": "python",
   "pygments_lexer": "ipython3",
   "version": "3.6.5"
  }
 },
 "nbformat": 4,
 "nbformat_minor": 2
}
