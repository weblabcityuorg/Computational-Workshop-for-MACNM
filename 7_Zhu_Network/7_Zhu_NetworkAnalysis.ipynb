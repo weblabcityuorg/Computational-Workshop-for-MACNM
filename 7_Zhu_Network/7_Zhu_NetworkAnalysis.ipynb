{
 "cells": [
  {
   "cell_type": "markdown",
   "metadata": {},
   "source": [
    "<h2 align='center'>MACNM Computational Workshop No. 7 (Jan. 13 Morning) <br>Social Network Analysis by Jonathan Zhu</h2>"
   ]
  },
  {
   "cell_type": "markdown",
   "metadata": {},
   "source": [
    "### NOTES/CODE/PRACTICE:\n",
    "1. Basics<br>\n",
    "    1a. Network/Graph<br>\n",
    "    1b. Node<br>\n",
    "    1c. Edge<br>\n",
    "2. Graph-level Analysis<br>\n",
    "    2a. Density<br>\n",
    "    2b. Mean Degree<br>\n",
    "    2c. Path Length<br>\n",
    "    2d. Clustering<br>\n",
    "3. Node-level Analysis\n",
    "    3a. Degree Centrality<br>\n",
    "    3b. Closeness Centrality<br>\n",
    "    3c. Betweenness Centrality<br>\n",
    "    3d. Eigenvector Centrality<br>\n",
    "4. Community-level Analysis<br>\n",
    "    4a. Component<br>\n",
    "    4b. Community<br>\n",
    "    4c. Ego Network<br>\n",
    "5. Advanced Topics<br>\n",
    "    5a. iGraph (faster algorithms)<br>\n",
    "    5b. Gephi (better visualization)<br>\n",
    "\n",
    "### DATA:\n",
    "1. node_following.csv (structural connection)\n",
    "2. Profile Homophily\n",
    "3. Semantic Similarity"
   ]
  },
  {
   "cell_type": "markdown",
   "metadata": {},
   "source": [
    "<h2>**1. Basics:**</h2>\n",
    "\n",
    "#### CONCEPTS:\n",
    "\n",
    "    1a. Network/Graph: \n",
    "       i. Node  \n",
    "       ii. Edge \n",
    "    1b. Node:\n",
    "       i. Person\n",
    "       ii. Organization, City, etc.\n",
    "       iii. Concepts, Products, Ideas, etc.\n",
    "    1c. Edge:\n",
    "       i. Undirected vs. Directed\n",
    "       ii. Observable vs. Hidden\n",
    "       iii. Unweighted vs. Weighted\n",
    "       iv. etc.\n",
    "\n",
    "<h4 align=\"center\">Classification of Social Networks</h4>\n",
    "<table border=\"1\" width=\"80%\">\n",
    "    <tr>\n",
    "        <td align=\"left\">Edge</td>\n",
    "        <td align=\"center\">Undirected</td>\n",
    "        <td align=\"center\">Directed</td>\n",
    "    </tr>\n",
    "    <tr>\n",
    "        <td align=\"left\">Observed</td>\n",
    "        <td align=\"center\">Friendship Networks<br> (Facebook, Wechat, etc.)</td>\n",
    "        <td align=\"center\">News Networks<br> (Twitter, Weibo, etc.)</td>\n",
    "    </tr>\n",
    "    <tr>\n",
    "        <td align=\"left\">Hidden</td>\n",
    "        <td align=\"center\">Semantic Networks<br> (Words Cooccurrence, etc.)</td>\n",
    "        <td align=\"center\">Hyperlink Networks</td>\n",
    "    </tr>\n",
    "</table>\n",
    "        "
   ]
  },
  {
   "cell_type": "markdown",
   "metadata": {},
   "source": [
    "#### CODE:"
   ]
  },
  {
   "cell_type": "code",
   "execution_count": 1,
   "metadata": {
    "collapsed": true
   },
   "outputs": [],
   "source": [
    "# Import tools:\n",
    "import pandas as pd               # for data manipulation\n",
    "import networkx as nx             # for network analysis\n",
    "import matplotlib.pyplot as plt   # for visualization\n",
    "from networkx.algorithms import community   # for community detection\n",
    "%matplotlib inline                "
   ]
  },
  {
   "cell_type": "code",
   "execution_count": 2,
   "metadata": {
    "collapsed": true
   },
   "outputs": [
    {
     "name": "stdout",
     "output_type": "stream",
     "text": [
      "   ego  alter  c_e\n",
      "0    1     97    1\n",
      "1    1     97    1\n",
      "2    1    114    1\n",
      "        ego  alter  c_e\n",
      "32506  2321   3282    2\n",
      "32507  2062   3282    2\n",
      "32508  3283   3069    2\n"
     ]
    }
   ],
   "source": [
    "# Import an edgelist into a dataframe (named as \"df_edges\"):\n",
    "df_edges = pd.read_csv('edgelist_following.csv')    # Column \"c_e\" indicates the edo's language\n",
    "print (df_edges.head(3))\n",
    "print (df_edges.tail(3))"
   ]
  },
  {
   "cell_type": "code",
   "execution_count": 3,
   "metadata": {
    "collapsed": true
   },
   "outputs": [
    {
     "data": {
      "text/plain": [
       "'Name: \\nType: Graph\\nNumber of nodes: 2492\\nNumber of edges: 21692\\nAverage degree:  17.4093'"
      ]
     },
     "execution_count": 3,
     "metadata": {},
     "output_type": "execute_result"
    }
   ],
   "source": [
    "# Import Edges into networkX as a graph (named as \"G\"): \n",
    "G = nx.from_pandas_edgelist(df_edges,'ego','alter',edge_attr='c_e')\n",
    "nx.info(G)"
   ]
  },
  {
   "cell_type": "code",
   "execution_count": 4,
   "metadata": {
    "collapsed": true
   },
   "outputs": [
    {
     "name": "stdout",
     "output_type": "stream",
     "text": [
      "2492 21692\n"
     ]
    }
   ],
   "source": [
    "# Hand-calculate N of edges and N of nodes in G:\n",
    "edges_n = nx.number_of_edges(G)\n",
    "nodes_n = nx.number_of_nodes(G)\n",
    "print (nodes_n, edges_n)"
   ]
  },
  {
   "cell_type": "code",
   "execution_count": 5,
   "metadata": {
    "collapsed": true
   },
   "outputs": [
    {
     "data": {
      "text/plain": [
       "False"
      ]
     },
     "execution_count": 5,
     "metadata": {},
     "output_type": "execute_result"
    }
   ],
   "source": [
    "# Check if G is a directed graph:\n",
    "nx.is_directed(G)"
   ]
  },
  {
   "cell_type": "code",
   "execution_count": 6,
   "metadata": {
    "collapsed": true
   },
   "outputs": [
    {
     "data": {
      "text/plain": [
       "True"
      ]
     },
     "execution_count": 6,
     "metadata": {},
     "output_type": "execute_result"
    }
   ],
   "source": [
    "# Create a directed graph (\"G2\") based on G:\n",
    "G2 = nx.to_directed(G)\n",
    "nx.is_directed(G2)"
   ]
  },
  {
   "cell_type": "code",
   "execution_count": 7,
   "metadata": {
    "collapsed": true
   },
   "outputs": [
    {
     "name": "stderr",
     "output_type": "stream",
     "text": [
      "C:\\Users\\Jonathan\\Anaconda3\\lib\\site-packages\\networkx\\drawing\\nx_pylab.py:611: MatplotlibDeprecationWarning: isinstance(..., numbers.Number)\n",
      "  if cb.is_numlike(alpha):\n"
     ]
    },
    {
     "data": {
      "image/png": "[encoded data removed]",
      "text/plain": [
       "<Figure size 432x288 with 1 Axes>"
      ]
     },
     "metadata": {
      "needs_background": "light"
     },
     "output_type": "display_data"
    }
   ],
   "source": [
    "# Draw a simple (and ugly) plot of G (*time consuming*):\n",
    "nx.draw_networkx(G)"
   ]
  },
  {
   "cell_type": "markdown",
   "metadata": {},
   "source": [
    "#### PRACTICE:\n",
    "\n",
    "1a. Import edgelist_en.csv into a graph (named as \"Gen\"):"
   ]
  },
  {
   "cell_type": "code",
   "execution_count": null,
   "metadata": {
    "collapsed": true
   },
   "outputs": [],
   "source": []
  },
  {
   "cell_type": "markdown",
   "metadata": {},
   "source": [
    "1b. Plot Gen with customized colors of nodes and edges:"
   ]
  },
  {
   "cell_type": "code",
   "execution_count": null,
   "metadata": {
    "collapsed": true
   },
   "outputs": [],
   "source": []
  },
  {
   "cell_type": "markdown",
   "metadata": {},
   "source": [
    "<h2>**2. Graph-level Analysis (examining global properties of G):**</h2>\n",
    "\n",
    "#### CONCEPTS:\n",
    "    2a. Density \n",
    "    2b. Mean Degree and Degree Distribution  \n",
    "    2c. Path Length \n",
    "    2d. Clustering   \n",
    "    2e. Other Graph-level Metrics\n",
    "\n",
    "#### CODE:"
   ]
  },
  {
   "cell_type": "code",
   "execution_count": 8,
   "metadata": {
    "collapsed": true
   },
   "outputs": [
    {
     "name": "stdout",
     "output_type": "stream",
     "text": [
      "Hand-calculated density = 0.006988883898567749 ; Function-calculated density = 0.006988883898567749\n"
     ]
    }
   ],
   "source": [
    "# Calculate the Density (\"d\") of G:\n",
    "graph_d1 = edges_n*2 / (nodes_n*(nodes_n-1))    # See NetworkX documentation for the formulae\n",
    "graph_d2 = nx.density(G)\n",
    "print ('Hand-calculated density =', graph_d1, \n",
    "       '; Function-calculated density =', graph_d2)"
   ]
  },
  {
   "cell_type": "code",
   "execution_count": 9,
   "metadata": {
    "collapsed": true
   },
   "outputs": [
    {
     "name": "stdout",
     "output_type": "stream",
     "text": [
      "Mean Degree = 8.704654895666131\n"
     ]
    },
    {
     "data": {
      "text/html": [
       "<div>\n",
       "<style scoped>\n",
       "    .dataframe tbody tr th:only-of-type {\n",
       "        vertical-align: middle;\n",
       "    }\n",
       "\n",
       "    .dataframe tbody tr th {\n",
       "        vertical-align: top;\n",
       "    }\n",
       "\n",
       "    .dataframe thead th {\n",
       "        text-align: right;\n",
       "    }\n",
       "</style>\n",
       "<table border=\"1\" class=\"dataframe\">\n",
       "  <thead>\n",
       "    <tr style=\"text-align: right;\">\n",
       "      <th></th>\n",
       "      <th>degree</th>\n",
       "    </tr>\n",
       "  </thead>\n",
       "  <tbody>\n",
       "    <tr>\n",
       "      <th>0</th>\n",
       "      <td>(1, 6)</td>\n",
       "    </tr>\n",
       "    <tr>\n",
       "      <th>1</th>\n",
       "      <td>(97, 332)</td>\n",
       "    </tr>\n",
       "    <tr>\n",
       "      <th>2</th>\n",
       "      <td>(114, 123)</td>\n",
       "    </tr>\n",
       "    <tr>\n",
       "      <th>3</th>\n",
       "      <td>(15, 279)</td>\n",
       "    </tr>\n",
       "    <tr>\n",
       "      <th>4</th>\n",
       "      <td>(8, 142)</td>\n",
       "    </tr>\n",
       "  </tbody>\n",
       "</table>\n",
       "</div>"
      ],
      "text/plain": [
       "       degree\n",
       "0      (1, 6)\n",
       "1   (97, 332)\n",
       "2  (114, 123)\n",
       "3   (15, 279)\n",
       "4    (8, 142)"
      ]
     },
     "execution_count": 9,
     "metadata": {},
     "output_type": "execute_result"
    }
   ],
   "source": [
    "# Calculate and plot the Mean Degree of g:\n",
    "d_mean = edges_n / nodes_n     # Multiply 2 for directed graph\n",
    "print ('Mean Degree =', d_mean)\n",
    "df_nodes = pd.DataFrame()      # Create a node-level dataframe for subsequent uses\n",
    "x = nx.degree(G)               # Extract the value of degree for each node from G\n",
    "df_nodes['degree'] = x         # Save degree value to the dataframe\n",
    "df_nodes.head()"
   ]
  },
  {
   "cell_type": "code",
   "execution_count": 10,
   "metadata": {
    "collapsed": true
   },
   "outputs": [
    {
     "data": {
      "image/png": "[encoded data removed]",
      "text/plain": [
       "<Figure size 432x288 with 1 Axes>"
      ]
     },
     "metadata": {
      "needs_background": "light"
     },
     "output_type": "display_data"
    }
   ],
   "source": [
    "# Plot the distribution of degree to see if it is a \"Power-law\" shape:\n",
    "def plot_degree_dist(G):\n",
    "    degrees = [G.degree(n) for n in G.nodes()]\n",
    "    plt.hist(degrees)\n",
    "    plt.show()\n",
    "plot_degree_dist(G)"
   ]
  },
  {
   "cell_type": "code",
   "execution_count": 11,
   "metadata": {
    "collapsed": true
   },
   "outputs": [
    {
     "name": "stdout",
     "output_type": "stream",
     "text": [
      "3.70\n",
      "1.50\n",
      "1.00\n",
      "1.50\n",
      "1.60\n",
      "1.00\n",
      "1.67\n",
      "1.33\n",
      "1.00\n",
      "1.33\n",
      "1.00\n",
      "1.33\n",
      "1.00\n",
      "1.57\n",
      "1.00\n",
      "1.00\n",
      "1.00\n",
      "1.00\n",
      "1.00\n",
      "1.33\n",
      "1.00\n",
      "1.00\n",
      "1.00\n"
     ]
    }
   ],
   "source": [
    "# Calculate the (Average Shortest) Path Length (\"ASPl\") of G (*time consuming*):\n",
    "for C in nx.connected_component_subgraphs(G):\n",
    "    print('%.2f' % nx.average_shortest_path_length(C))"
   ]
  },
  {
   "cell_type": "code",
   "execution_count": 12,
   "metadata": {
    "collapsed": true
   },
   "outputs": [
    {
     "data": {
      "text/plain": [
       "0.2835920405302018"
      ]
     },
     "execution_count": 12,
     "metadata": {},
     "output_type": "execute_result"
    }
   ],
   "source": [
    "# Calculate the Average Clustering Coefficient (ACC) of G:\n",
    "nx.average_clustering(G)"
   ]
  },
  {
   "cell_type": "markdown",
   "metadata": {},
   "source": [
    "#### PRACTICE:"
   ]
  },
  {
   "cell_type": "markdown",
   "metadata": {},
   "source": [
    "2a. Examine the density, mean degreem, and average clustering of Gen:"
   ]
  },
  {
   "cell_type": "code",
   "execution_count": null,
   "metadata": {
    "collapsed": true
   },
   "outputs": [],
   "source": []
  },
  {
   "cell_type": "markdown",
   "metadata": {},
   "source": [
    "2b. Plot the degree distribution of Gen:"
   ]
  },
  {
   "cell_type": "code",
   "execution_count": null,
   "metadata": {
    "collapsed": true
   },
   "outputs": [],
   "source": []
  },
  {
   "cell_type": "markdown",
   "metadata": {},
   "source": [
    "<h2>**3. Node-level Analysis (examining individual properties of nodes):**</h2>\n",
    "\n",
    "#### CONCEPTS:\n",
    "    3a. Degree Centrality (popularity)\n",
    "    3b. Closeness Centrality (approximity)\n",
    "    3c. Betweenness Centrality (bridging/structural hole)\n",
    "    3d. Eigenvector Centrality (association with popular nodes)\n",
    "    3e. Other Node-level Metrics\n",
    "\n",
    "#### CODE:"
   ]
  },
  {
   "cell_type": "code",
   "execution_count": 13,
   "metadata": {
    "collapsed": true
   },
   "outputs": [
    {
     "data": {
      "text/html": [
       "<div>\n",
       "<style scoped>\n",
       "    .dataframe tbody tr th:only-of-type {\n",
       "        vertical-align: middle;\n",
       "    }\n",
       "\n",
       "    .dataframe tbody tr th {\n",
       "        vertical-align: top;\n",
       "    }\n",
       "\n",
       "    .dataframe thead th {\n",
       "        text-align: right;\n",
       "    }\n",
       "</style>\n",
       "<table border=\"1\" class=\"dataframe\">\n",
       "  <thead>\n",
       "    <tr style=\"text-align: right;\">\n",
       "      <th></th>\n",
       "      <th>node_ID</th>\n",
       "    </tr>\n",
       "  </thead>\n",
       "  <tbody>\n",
       "    <tr>\n",
       "      <th>0</th>\n",
       "      <td>1</td>\n",
       "    </tr>\n",
       "    <tr>\n",
       "      <th>1</th>\n",
       "      <td>97</td>\n",
       "    </tr>\n",
       "    <tr>\n",
       "      <th>2</th>\n",
       "      <td>114</td>\n",
       "    </tr>\n",
       "    <tr>\n",
       "      <th>3</th>\n",
       "      <td>15</td>\n",
       "    </tr>\n",
       "    <tr>\n",
       "      <th>4</th>\n",
       "      <td>8</td>\n",
       "    </tr>\n",
       "  </tbody>\n",
       "</table>\n",
       "</div>"
      ],
      "text/plain": [
       "   node_ID\n",
       "0        1\n",
       "1       97\n",
       "2      114\n",
       "3       15\n",
       "4        8"
      ]
     },
     "execution_count": 13,
     "metadata": {},
     "output_type": "execute_result"
    }
   ],
   "source": [
    "# Extract a nodelist from G and save it to a dataframe (\"df_nodes\"):\n",
    "df_nodes = pd.DataFrame()\n",
    "x = nx.nodes(G)\n",
    "df_nodes['node_ID'] = x\n",
    "df_nodes.head()"
   ]
  },
  {
   "cell_type": "code",
   "execution_count": 14,
   "metadata": {
    "collapsed": true
   },
   "outputs": [],
   "source": [
    "# Calculate Degree Centrality of each node:\n",
    "degree_c = pd.DataFrame.from_dict(dict(nx.degree_centrality(G)),orient='index')"
   ]
  },
  {
   "cell_type": "code",
   "execution_count": 15,
   "metadata": {
    "collapsed": true
   },
   "outputs": [],
   "source": [
    "# Calculate Eigenvector Centrality of each node:\n",
    "eigen_c = pd.DataFrame.from_dict(dict(nx.eigenvector_centrality(G)),orient='index')"
   ]
  },
  {
   "cell_type": "code",
   "execution_count": 16,
   "metadata": {
    "collapsed": true
   },
   "outputs": [],
   "source": [
    "# Calculate Betweenness Centrality of each node:  *time consuming*\n",
    "between_c = pd.DataFrame.from_dict(dict(nx.betweenness_centrality(G)),orient='index')"
   ]
  },
  {
   "cell_type": "code",
   "execution_count": 17,
   "metadata": {
    "collapsed": true
   },
   "outputs": [],
   "source": [
    "# Calculate Closeness Centrality of each node:  *time consuming*\n",
    "close_c = pd.DataFrame.from_dict(dict(nx.closeness_centrality(G)),orient='index')"
   ]
  },
  {
   "cell_type": "code",
   "execution_count": 18,
   "metadata": {
    "collapsed": true
   },
   "outputs": [],
   "source": [
    "# Calculate the Clustering Coefficient (\"cc\") of each node:\n",
    "cc = pd.DataFrame.from_dict(dict(nx.clustering(G)),orient='index')"
   ]
  },
  {
   "cell_type": "code",
   "execution_count": 19,
   "metadata": {
    "collapsed": true
   },
   "outputs": [
    {
     "data": {
      "text/html": [
       "<div>\n",
       "<style scoped>\n",
       "    .dataframe tbody tr th:only-of-type {\n",
       "        vertical-align: middle;\n",
       "    }\n",
       "\n",
       "    .dataframe tbody tr th {\n",
       "        vertical-align: top;\n",
       "    }\n",
       "\n",
       "    .dataframe thead th {\n",
       "        text-align: right;\n",
       "    }\n",
       "</style>\n",
       "<table border=\"1\" class=\"dataframe\">\n",
       "  <thead>\n",
       "    <tr style=\"text-align: right;\">\n",
       "      <th></th>\n",
       "      <th>degree_centrality</th>\n",
       "      <th>eigenvector_centrality</th>\n",
       "      <th>betweenness_centrality</th>\n",
       "      <th>closeness_centrality</th>\n",
       "      <th>clustering</th>\n",
       "    </tr>\n",
       "  </thead>\n",
       "  <tbody>\n",
       "    <tr>\n",
       "      <th>1</th>\n",
       "      <td>0.002409</td>\n",
       "      <td>0.005984</td>\n",
       "      <td>1.264108e-08</td>\n",
       "      <td>0.290273</td>\n",
       "      <td>0.866667</td>\n",
       "    </tr>\n",
       "    <tr>\n",
       "      <th>97</th>\n",
       "      <td>0.133280</td>\n",
       "      <td>0.123199</td>\n",
       "      <td>1.088475e-01</td>\n",
       "      <td>0.401662</td>\n",
       "      <td>0.140829</td>\n",
       "    </tr>\n",
       "    <tr>\n",
       "      <th>114</th>\n",
       "      <td>0.049378</td>\n",
       "      <td>0.078374</td>\n",
       "      <td>9.410104e-04</td>\n",
       "      <td>0.313664</td>\n",
       "      <td>0.411169</td>\n",
       "    </tr>\n",
       "    <tr>\n",
       "      <th>15</th>\n",
       "      <td>0.112003</td>\n",
       "      <td>0.131819</td>\n",
       "      <td>6.455772e-03</td>\n",
       "      <td>0.325663</td>\n",
       "      <td>0.222609</td>\n",
       "    </tr>\n",
       "    <tr>\n",
       "      <th>8</th>\n",
       "      <td>0.057005</td>\n",
       "      <td>0.087556</td>\n",
       "      <td>3.642389e-04</td>\n",
       "      <td>0.305682</td>\n",
       "      <td>0.387174</td>\n",
       "    </tr>\n",
       "  </tbody>\n",
       "</table>\n",
       "</div>"
      ],
      "text/plain": [
       "     degree_centrality  eigenvector_centrality  betweenness_centrality  \\\n",
       "1             0.002409                0.005984            1.264108e-08   \n",
       "97            0.133280                0.123199            1.088475e-01   \n",
       "114           0.049378                0.078374            9.410104e-04   \n",
       "15            0.112003                0.131819            6.455772e-03   \n",
       "8             0.057005                0.087556            3.642389e-04   \n",
       "\n",
       "     closeness_centrality  clustering  \n",
       "1                0.290273    0.866667  \n",
       "97               0.401662    0.140829  \n",
       "114              0.313664    0.411169  \n",
       "15               0.325663    0.222609  \n",
       "8                0.305682    0.387174  "
      ]
     },
     "execution_count": 19,
     "metadata": {},
     "output_type": "execute_result"
    }
   ],
   "source": [
    "# Add the above node-level metrics to df_nodes:\n",
    "df_nodes = pd.concat([degree_c,eigen_c,between_c,close_c,cc],axis=1)\n",
    "df_nodes.columns = ['degree_centrality','eigenvector_centrality','betweenness_centrality',\n",
    "                    'closeness_centrality','clustering']\n",
    "df_nodes.head()"
   ]
  },
  {
   "cell_type": "code",
   "execution_count": 20,
   "metadata": {
    "collapsed": true
   },
   "outputs": [
    {
     "data": {
      "text/html": [
       "<div>\n",
       "<style scoped>\n",
       "    .dataframe tbody tr th:only-of-type {\n",
       "        vertical-align: middle;\n",
       "    }\n",
       "\n",
       "    .dataframe tbody tr th {\n",
       "        vertical-align: top;\n",
       "    }\n",
       "\n",
       "    .dataframe thead th {\n",
       "        text-align: right;\n",
       "    }\n",
       "</style>\n",
       "<table border=\"1\" class=\"dataframe\">\n",
       "  <thead>\n",
       "    <tr style=\"text-align: right;\">\n",
       "      <th></th>\n",
       "      <th>degree_centrality</th>\n",
       "      <th>eigenvector_centrality</th>\n",
       "      <th>betweenness_centrality</th>\n",
       "      <th>closeness_centrality</th>\n",
       "      <th>clustering</th>\n",
       "    </tr>\n",
       "  </thead>\n",
       "  <tbody>\n",
       "    <tr>\n",
       "      <th>degree_centrality</th>\n",
       "      <td>1.000000</td>\n",
       "      <td>0.857598</td>\n",
       "      <td>0.447715</td>\n",
       "      <td>0.376703</td>\n",
       "      <td>0.119407</td>\n",
       "    </tr>\n",
       "    <tr>\n",
       "      <th>eigenvector_centrality</th>\n",
       "      <td>0.857598</td>\n",
       "      <td>1.000000</td>\n",
       "      <td>0.086238</td>\n",
       "      <td>0.250556</td>\n",
       "      <td>0.183073</td>\n",
       "    </tr>\n",
       "    <tr>\n",
       "      <th>betweenness_centrality</th>\n",
       "      <td>0.447715</td>\n",
       "      <td>0.086238</td>\n",
       "      <td>1.000000</td>\n",
       "      <td>0.165540</td>\n",
       "      <td>-0.054438</td>\n",
       "    </tr>\n",
       "    <tr>\n",
       "      <th>closeness_centrality</th>\n",
       "      <td>0.376703</td>\n",
       "      <td>0.250556</td>\n",
       "      <td>0.165540</td>\n",
       "      <td>1.000000</td>\n",
       "      <td>0.159207</td>\n",
       "    </tr>\n",
       "    <tr>\n",
       "      <th>clustering</th>\n",
       "      <td>0.119407</td>\n",
       "      <td>0.183073</td>\n",
       "      <td>-0.054438</td>\n",
       "      <td>0.159207</td>\n",
       "      <td>1.000000</td>\n",
       "    </tr>\n",
       "  </tbody>\n",
       "</table>\n",
       "</div>"
      ],
      "text/plain": [
       "                        degree_centrality  eigenvector_centrality  \\\n",
       "degree_centrality                1.000000                0.857598   \n",
       "eigenvector_centrality           0.857598                1.000000   \n",
       "betweenness_centrality           0.447715                0.086238   \n",
       "closeness_centrality             0.376703                0.250556   \n",
       "clustering                       0.119407                0.183073   \n",
       "\n",
       "                        betweenness_centrality  closeness_centrality  \\\n",
       "degree_centrality                     0.447715              0.376703   \n",
       "eigenvector_centrality                0.086238              0.250556   \n",
       "betweenness_centrality                1.000000              0.165540   \n",
       "closeness_centrality                  0.165540              1.000000   \n",
       "clustering                           -0.054438              0.159207   \n",
       "\n",
       "                        clustering  \n",
       "degree_centrality         0.119407  \n",
       "eigenvector_centrality    0.183073  \n",
       "betweenness_centrality   -0.054438  \n",
       "closeness_centrality      0.159207  \n",
       "clustering                1.000000  "
      ]
     },
     "execution_count": 20,
     "metadata": {},
     "output_type": "execute_result"
    }
   ],
   "source": [
    "# Examine the correlation between Centralities and Clustering across nodes:\n",
    "df_nodes.corr()"
   ]
  },
  {
   "cell_type": "code",
   "execution_count": 21,
   "metadata": {
    "collapsed": true
   },
   "outputs": [
    {
     "data": {
      "text/plain": [
       "<matplotlib.axes._subplots.AxesSubplot at 0x199c1efd940>"
      ]
     },
     "execution_count": 21,
     "metadata": {},
     "output_type": "execute_result"
    },
    {
     "data": {
      "image/png": "[encoded data removed]",
      "text/plain": [
       "<Figure size 432x288 with 1 Axes>"
      ]
     },
     "metadata": {
      "needs_background": "light"
     },
     "output_type": "display_data"
    }
   ],
   "source": [
    "# Plot degree centrality vs. clustering coefficient:\n",
    "df_nodes.plot.scatter('degree_centrality','clustering')"
   ]
  },
  {
   "cell_type": "markdown",
   "metadata": {},
   "source": [
    "#### PRACTICE:\n",
    "\n",
    "3a. Extract nodes from Gen and save into a dataframe (named \"df_nodes_en\"):"
   ]
  },
  {
   "cell_type": "code",
   "execution_count": null,
   "metadata": {
    "collapsed": true
   },
   "outputs": [],
   "source": []
  },
  {
   "cell_type": "markdown",
   "metadata": {},
   "source": [
    "3b. Calculate degree centrality, closeness centrality, betweenness centrality, and clustering coefficient of each node and save the results to df_nodes_en, and examine the correlation among the node characteristics:"
   ]
  },
  {
   "cell_type": "code",
   "execution_count": null,
   "metadata": {
    "collapsed": true
   },
   "outputs": [],
   "source": []
  },
  {
   "cell_type": "markdown",
   "metadata": {},
   "source": [
    "<h2>**4. Community-level Analysis (detecting and examining communities):**</h2>\n",
    "\n",
    "#### CONCEPTS:\n",
    "\n",
    "    4a. Component (with members connected only within and not outside)\n",
    "    4b. Community (with members connected strongly within and weakly outside) \n",
    "    4c. Ego-centric Network (including an ego and all its neighbors)\n",
    "\n",
    "#### CODE:"
   ]
  },
  {
   "cell_type": "code",
   "execution_count": 22,
   "metadata": {
    "collapsed": true
   },
   "outputs": [
    {
     "data": {
      "text/plain": [
       "23"
      ]
     },
     "execution_count": 22,
     "metadata": {},
     "output_type": "execute_result"
    }
   ],
   "source": [
    "# Detect components in G:\n",
    "nx.number_connected_components(G)"
   ]
  },
  {
   "cell_type": "code",
   "execution_count": 23,
   "metadata": {
    "collapsed": true
   },
   "outputs": [
    {
     "data": {
      "text/plain": [
       "2429"
      ]
     },
     "execution_count": 23,
     "metadata": {},
     "output_type": "execute_result"
    }
   ],
   "source": [
    "# Extract the largest component from G:\n",
    "comp_max = max(nx.connected_components(G), key=len)\n",
    "len(comp_max)"
   ]
  },
  {
   "cell_type": "code",
   "execution_count": 24,
   "metadata": {
    "collapsed": true
   },
   "outputs": [
    {
     "data": {
      "text/html": [
       "<div>\n",
       "<style scoped>\n",
       "    .dataframe tbody tr th:only-of-type {\n",
       "        vertical-align: middle;\n",
       "    }\n",
       "\n",
       "    .dataframe tbody tr th {\n",
       "        vertical-align: top;\n",
       "    }\n",
       "\n",
       "    .dataframe thead th {\n",
       "        text-align: right;\n",
       "    }\n",
       "</style>\n",
       "<table border=\"1\" class=\"dataframe\">\n",
       "  <thead>\n",
       "    <tr style=\"text-align: right;\">\n",
       "      <th></th>\n",
       "      <th>members</th>\n",
       "    </tr>\n",
       "  </thead>\n",
       "  <tbody>\n",
       "    <tr>\n",
       "      <th>0</th>\n",
       "      <td>(6144, 6145, 2052, 6150, 2055, 4104, 4105, 10,...</td>\n",
       "    </tr>\n",
       "    <tr>\n",
       "      <th>1</th>\n",
       "      <td>(1, 4, 6, 8, 14, 15, 17, 18, 19, 20, 21, 22, 2...</td>\n",
       "    </tr>\n",
       "    <tr>\n",
       "      <th>2</th>\n",
       "      <td>(4098, 2051, 6148, 2053, 6151, 6155, 4107, 615...</td>\n",
       "    </tr>\n",
       "    <tr>\n",
       "      <th>3</th>\n",
       "      <td>(4611, 1541, 6158, 2579, 2071, 3613, 6177, 617...</td>\n",
       "    </tr>\n",
       "    <tr>\n",
       "      <th>4</th>\n",
       "      <td>(4484, 2824, 3208, 1813, 4118, 1815, 3609, 643...</td>\n",
       "    </tr>\n",
       "  </tbody>\n",
       "</table>\n",
       "</div>"
      ],
      "text/plain": [
       "                                             members\n",
       "0  (6144, 6145, 2052, 6150, 2055, 4104, 4105, 10,...\n",
       "1  (1, 4, 6, 8, 14, 15, 17, 18, 19, 20, 21, 22, 2...\n",
       "2  (4098, 2051, 6148, 2053, 6151, 6155, 4107, 615...\n",
       "3  (4611, 1541, 6158, 2579, 2071, 3613, 6177, 617...\n",
       "4  (4484, 2824, 3208, 1813, 4118, 1815, 3609, 643..."
      ]
     },
     "execution_count": 24,
     "metadata": {},
     "output_type": "execute_result"
    }
   ],
   "source": [
    "# Detect and extract communities in G and save into a dataframe (\"df_communities\"):  *time consuming*\n",
    "df_communities = pd.DataFrame()\n",
    "x = community.greedy_modularity_communities(G)\n",
    "df_communities['members'] = x\n",
    "df_communities.head()"
   ]
  },
  {
   "cell_type": "code",
   "execution_count": 25,
   "metadata": {
    "collapsed": true
   },
   "outputs": [
    {
     "name": "stdout",
     "output_type": "stream",
     "text": [
      "                                             members  size\n",
      "0  (6144, 6145, 2052, 6150, 2055, 4104, 4105, 10,...  1119\n",
      "1  (1, 4, 6, 8, 14, 15, 17, 18, 19, 20, 21, 22, 2...   529\n",
      "2  (4098, 2051, 6148, 2053, 6151, 6155, 4107, 615...   460\n",
      "3  (4611, 1541, 6158, 2579, 2071, 3613, 6177, 617...   120\n",
      "4  (4484, 2824, 3208, 1813, 4118, 1815, 3609, 643...    21\n",
      "5  (1410, 2694, 4775, 4123, 4041, 1929, 2857, 317...    17\n",
      "6  (3680, 3808, 2271, 1864, 3369, 1484, 6190, 453...    15\n",
      "7  (4640, 4292, 4102, 2246, 2662, 4236, 3662, 321...    14\n",
      "8  (6211, 2340, 4901, 75, 6347, 1007, 4527, 3698,...    13\n",
      "9  (3396, 4324, 6280, 4329, 2474, 2252, 2001, 395...    11\n",
      "         members  size\n",
      "61  (4602, 2860)     2\n",
      "62  (4902, 4126)     2\n",
      "63  (6310, 6295)     2\n"
     ]
    }
   ],
   "source": [
    "# Calculate N of members (size) of each community:\n",
    "df_communities['size'] = df_communities['members'].apply(lambda x: len(x))\n",
    "print(df_communities.head(10))\n",
    "print(df_communities.tail(3))"
   ]
  },
  {
   "cell_type": "code",
   "execution_count": 26,
   "metadata": {
    "collapsed": true
   },
   "outputs": [
    {
     "data": {
      "text/html": [
       "<div>\n",
       "<style scoped>\n",
       "    .dataframe tbody tr th:only-of-type {\n",
       "        vertical-align: middle;\n",
       "    }\n",
       "\n",
       "    .dataframe tbody tr th {\n",
       "        vertical-align: top;\n",
       "    }\n",
       "\n",
       "    .dataframe thead th {\n",
       "        text-align: right;\n",
       "    }\n",
       "</style>\n",
       "<table border=\"1\" class=\"dataframe\">\n",
       "  <thead>\n",
       "    <tr style=\"text-align: right;\">\n",
       "      <th></th>\n",
       "      <th>members</th>\n",
       "    </tr>\n",
       "  </thead>\n",
       "  <tbody>\n",
       "    <tr>\n",
       "      <th>0</th>\n",
       "      <td>(6144, 6145, 2052, 6150, 2055, 4104, 4105, 10,...</td>\n",
       "    </tr>\n",
       "  </tbody>\n",
       "</table>\n",
       "</div>"
      ],
      "text/plain": [
       "                                             members\n",
       "0  (6144, 6145, 2052, 6150, 2055, 4104, 4105, 10,..."
      ]
     },
     "execution_count": 26,
     "metadata": {},
     "output_type": "execute_result"
    }
   ],
   "source": [
    "# Select the largest community:\n",
    "cm_max = df_communities[['members']][df_communities['size'] > 1000]\n",
    "cm_max"
   ]
  },
  {
   "cell_type": "code",
   "execution_count": 28,
   "metadata": {
    "collapsed": true
   },
   "outputs": [
    {
     "name": "stdout",
     "output_type": "stream",
     "text": [
      "           members\n",
      "count  1119.000000\n",
      "mean   3492.515639\n",
      "std    1468.025009\n",
      "min      10.000000\n",
      "25%    2327.000000\n",
      "50%    3309.000000\n",
      "75%    4441.500000\n",
      "max    6509.000000\n",
      "     members\n",
      "0 0     6144\n",
      "  1     6145\n",
      "  2     2052\n",
      "  3     6150\n",
      "  4     2055\n"
     ]
    }
   ],
   "source": [
    "# Save the largest community into a dataframe (\"df_cmmax\"):\n",
    "df_cm_max = cm_max.apply(lambda x: pd.DataFrame(x.tolist(),index=x.index).stack().rename(x.name))\n",
    "print(df_cm_max.describe())\n",
    "print(df_cm_max.head())"
   ]
  },
  {
   "cell_type": "code",
   "execution_count": 29,
   "metadata": {
    "collapsed": true
   },
   "outputs": [],
   "source": [
    "# Export above df files in csv format for future use:\n",
    "df_nodes.to_csv('df_nodes.csv',encoding='utf-8')\n",
    "df_communities.to_csv('df_communities.csv',encoding='utf-8')\n",
    "df_cm_max.to_csv('df_largest_community.csv',encoding='utf-8')"
   ]
  },
  {
   "cell_type": "markdown",
   "metadata": {
    "collapsed": true
   },
   "source": [
    "#### PRACTICE:\n",
    "\n",
    "4a. Examine the number of components and the size of the largest component in Gen:"
   ]
  },
  {
   "cell_type": "code",
   "execution_count": null,
   "metadata": {
    "collapsed": true
   },
   "outputs": [],
   "source": []
  },
  {
   "cell_type": "markdown",
   "metadata": {},
   "source": [
    "4b. Detect and extract communities from Gen:"
   ]
  },
  {
   "cell_type": "code",
   "execution_count": null,
   "metadata": {
    "collapsed": true
   },
   "outputs": [],
   "source": []
  },
  {
   "cell_type": "markdown",
   "metadata": {},
   "source": [
    "4c. Examine the typological properties (mean degree, average clustering, and average path length) of each community (take home if necessary):"
   ]
  },
  {
   "cell_type": "markdown",
   "metadata": {
    "collapsed": true
   },
   "source": [
    "<h2>**5. Advanced Tools:**</h2>\n",
    "\n",
    "   5a. [python-igraph](https://igraph.org/python/) (more powerful than NetworkX)<br>\n",
    "   5b. [graph-tool](https://graph-tool.skewed.de/) (fatest of all)<br>\n",
    "   5c. [Gephi](https://gephi.org/) (more sophisticated visualization)"
   ]
  }
 ],
 "metadata": {
  "kernelspec": {
   "display_name": "Python 3",
   "language": "python",
   "name": "python3"
  },
  "language_info": {
   "codemirror_mode": {
    "name": "ipython",
    "version": 3
   },
   "file_extension": ".py",
   "mimetype": "text/x-python",
   "name": "python",
   "nbconvert_exporter": "python",
   "pygments_lexer": "ipython3",
   "version": "3.7.1"
  }
 },
 "nbformat": 4,
 "nbformat_minor": 2
}
