{
 "cells": [
  {
   "cell_type": "markdown",
   "metadata": {},
   "source": [
    "<H1 align=\"center\">Welcome Homecoming!</H1>\n",
    "<h2 align=\"center\">Computational Workshop for MACNM Alumni</h2>\n",
    "<p style=\"text-align:center;\">Sponsored by <a href=\"http://www6.cityu.edu.hk/ccr/\">Centre for Communication Research</a> and <a href=\"http://weblab.com.cityu.edu.hk\">Web Mining Lab</a>,<br>Department of Media and Communication, City University of Hong Kong</p>\n",
    "<p style=\"text-align:center\"><a href=\"http://weblab.com.cityu.edu.hk/blog/workshops/19-macnm-computational-workshop/\">Course Website</a></p>\n",
    "\n",
    "<h3 align=\"center\">0. Introduction to the Workshop (Jonathan Zhu)</h3>\n",
    "\n",
    "### Teaching Team:\n",
    "<ul><li>Lu Guan</li>\n",
    "    <li>Zhicong Chen</li>\n",
    "    <li>Jie Lan</li>\n",
    "    <li>Jonathan Zhu</li>\n",
    "</ul>\n",
    "\n",
    "### Main Topics:\n",
    "<ul>\n",
    "    <li>Python Basics (<a href=\"http://www.cityu.edu.hk/pg/201718/course/COM5507.htm\">COM5507)</a></li>\n",
    "    <li>Text Mining (<a href=\"http://www.cityu.edu.hk/pg/201718/course/COM5507.htm\">COM5507</a>)</li>\n",
    "    <li>User Analytics (<a href=\"http://www.cityu.edu.hk/pg/201718/course/COM5508.htm\">COM5508</a>)</li>\n",
    "    <li>Online Experiment</li>\n",
    "    <li>Social Network Analysis (<a href=\"http://www.cityu.edu.hk/pg/201718/course/COM5506.htm\">COM5506</a>)</li>\n",
    "    <li>Visualization</li>\n",
    "</ul>\n",
    "\n",
    "### Teaching Components:\n",
    "<ul><li>Concepts</li>\n",
    "    <li>Coding</li>\n",
    "    <li>Hands-on\n",
    "        <ol>\n",
    "            <li>Instructor Demo</li>\n",
    "            <li>Student in class/take home practices</li>\n",
    "            <li>Student weekly exercises</li> \n",
    "        </ol>\n",
    "    </li>\n",
    "</ul>\n",
    "\n",
    "### Teaching Materials (available from course website):\n",
    "<ul>\n",
    "    <li>Jupyter Notebooks</li>\n",
    "    <li>Data (\"CityU on twitter\")</li>\n",
    "    <li>Readings</li>\n",
    "</ul>\n",
    "\n",
    "### Learning Environment:\n",
    "<ul>\n",
    "    <li>Python</li>\n",
    "    <li>Jupyter Notebook</li>\n",
    "    <li>Live Broadcast (http://www.douyu.com/6226461)</li>\n",
    "</ul>\n",
    "\n",
    "### Learning Ojectives: \n",
    "<ul>\n",
    "    <li>WHAT is computational method/media data analytics?</li>\n",
    "    <li>WHY to use computational method?</li>\n",
    "    <li>HOW how to use computational methods?</li>\n",
    "</ul>\n",
    "\n",
    "## Let's go and have fun!"
   ]
  },
  {
   "cell_type": "code",
   "execution_count": null,
   "metadata": {
    "collapsed": true
   },
   "outputs": [],
   "source": []
  }
 ],
 "metadata": {
  "kernelspec": {
   "display_name": "Python 3",
   "language": "python",
   "name": "python3"
  },
  "language_info": {
   "codemirror_mode": {
    "name": "ipython",
    "version": 3
   },
   "file_extension": ".py",
   "mimetype": "text/x-python",
   "name": "python",
   "nbconvert_exporter": "python",
   "pygments_lexer": "ipython3",
   "version": "3.6.3"
  }
 },
 "nbformat": 4,
 "nbformat_minor": 2
}
